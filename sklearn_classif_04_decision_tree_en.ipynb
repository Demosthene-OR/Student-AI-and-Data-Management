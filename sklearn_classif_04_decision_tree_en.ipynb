{
 "cells": [
  {
   "cell_type": "markdown",
   "metadata": {
    "deletable": false,
    "editable": false,
    "run_control": {
     "frozen": true
    },
    "tags": []
   },
   "source": [
    "\n",
    "<img src=\"https://prof.totalenergies.com/wp-content/uploads/2024/09/TotalEnergies_TPA_picto_DegradeRouge_RVB-1024x1024.png\" style=\"height:150px\"> \n",
    "<hr style=\"border-width:2px;border-color:#75DFC1\">\n",
    "<h1 style = \"text-align:center\" >Scikit-Learn: classification models</h1> \n",
    "<h2 style = \"text-align:center\">Decision trees</h2> \n",
    "<hr style=\"border-width:2px;border-color:#75DFC1\">\n",
    "\n",
    ">In this exercise we will study an example of using decision trees under Python.<br>\n",
    "> The packages used will be **pandas**, **scikit-learn** and his sub-packages, in particular **tree** and **model_selection**.\n",
    "\n",
    "><div class=\"alert alert-success\">\n",
    "<i class=\"fa fa-question-circle\"></i> &emsp; \n",
    "A major advantage of decision trees is that they can be calculated automatically from databases by supervised learning algorithms.<br>\n",
    "These algorithms automatically select the discriminating variables from unstructured and potentially bulky data. They can thus make it possible to extract logic rules of cause and effect (determinisms) which did not initially appear in raw data.\n",
    "</div>\n",
    "\n",
    "<hr style=\"border-width:2px;border-color:#75DFC1\">\n",
    "<h3 style = \"text-align:center\">0. Introduction to dataset</h3> \n",
    "<hr style=\"border-width:2px;border-color:#75DFC1\">\n",
    "\n",
    ">The database used in this exercise comes from the [UCI ML Restitry](https://archive.ics.uci.edu/ml/datasets/Breast+Cancer+Wisconsin+(Diagnostic)) and contains data calculated from digitized images of breast masses.<br>\n",
    "> They describe the characteristics of the cell nuclei present in each image (radius, perimeter, texture, etc.)\n",
    "La première colonne donne le résultat du diagnostic de chaque masse cellulaire : 'B' for *benign*, 'M' for *malignant*. <br>\n",
    "> The objective of the exercise is to build a model in the form of a decision tree, to predict whether a cellular mass is benign or smart, depending on the characteristics calculated from the image of its biopsy.\n",
    "\n",
    "<hr style=\"border-width:2px;border-color:#75DFC1\">\n",
    "<h3 style = \"text-align:center\">1. Data preparation and modeling</h3> \n",
    "<hr style=\"border-width:2px;border-color:#75DFC1\">\n",
    "\n",
    "* **(a)** Load the function **train_test_split** from the under module **sklearn.model_selection**.\n",
    "\n",
    "\n",
    "* **(b)** Load the class **DecisionTreeClassifier** From the submodle **sklearn.tree**.\n",
    "\n",
    "\n",
    "* **(c)** Load the library **pandas** under the name **`pd`**.\n",
    "\n",
    "\n",
    "* **(d)** Read the file *Breast_cancer.csv* in a dataframe named **`bc_data`**.\n",
    "\n",
    "<div class=\"alert alert-info\">\n",
    "<i class=\"fa fa-info-circle\"></i> &emsp; \n",
    "Remember that before looking at the solution, you can always access the official Python help by typing <code style = \"background-color: transparent ; color : inherit\"><b>help(name_function)</b></code> in the console.\n",
    "</div>"
   ]
  },
  {
   "cell_type": "code",
   "execution_count": 6,
   "metadata": {},
   "outputs": [],
   "source": [
    "from sklearn.model_selection import train_test_split\n",
    "from sklearn.tree import DecisionTreeClassifier\n",
    "import pandas as pd\n",
    "\n",
    "bc_data = pd.read_csv('breast_cancer.csv')\n",
    "\n",
    "\n",
    "\n",
    "\n",
    "\n"
   ]
  },
  {
   "cell_type": "code",
   "execution_count": null,
   "metadata": {
    "deletable": false,
    "editable": false,
    "function": "solution"
   },
   "outputs": [],
   "source": [
    "from sklearn.model_selection import train_test_split\n",
    "from sklearn.tree import DecisionTreeClassifier\n",
    "import pandas as pd\n",
    "\n",
    "bc_data = pd.read_csv('breast_cancer.csv', index_col=0)\n"
   ]
  },
  {
   "cell_type": "markdown",
   "metadata": {
    "deletable": false,
    "editable": false,
    "run_control": {
     "frozen": true
    },
    "tags": []
   },
   "source": [
    "\n",
    "* **(e)** Show information from Data Frame **bc_data**.\n",
    "\n"
   ]
  },
  {
   "cell_type": "code",
   "execution_count": 7,
   "metadata": {},
   "outputs": [
    {
     "name": "stdout",
     "output_type": "stream",
     "text": [
      "<class 'pandas.core.frame.DataFrame'>\n",
      "RangeIndex: 569 entries, 0 to 568\n",
      "Data columns (total 32 columns):\n",
      " #   Column                   Non-Null Count  Dtype  \n",
      "---  ------                   --------------  -----  \n",
      " 0   id                       569 non-null    int64  \n",
      " 1   diagnosis                569 non-null    object \n",
      " 2   radius_mean              569 non-null    float64\n",
      " 3   texture_mean             569 non-null    float64\n",
      " 4   perimeter_mean           569 non-null    float64\n",
      " 5   area_mean                569 non-null    float64\n",
      " 6   smoothness_mean          569 non-null    float64\n",
      " 7   compactness_mean         569 non-null    float64\n",
      " 8   concavity_mean           569 non-null    float64\n",
      " 9   concave points_mean      569 non-null    float64\n",
      " 10  symmetry_mean            569 non-null    float64\n",
      " 11  fractal_dimension_mean   569 non-null    float64\n",
      " 12  radius_se                569 non-null    float64\n",
      " 13  texture_se               569 non-null    float64\n",
      " 14  perimeter_se             569 non-null    float64\n",
      " 15  area_se                  569 non-null    float64\n",
      " 16  smoothness_se            569 non-null    float64\n",
      " 17  compactness_se           569 non-null    float64\n",
      " 18  concavity_se             569 non-null    float64\n",
      " 19  concave points_se        569 non-null    float64\n",
      " 20  symmetry_se              569 non-null    float64\n",
      " 21  fractal_dimension_se     569 non-null    float64\n",
      " 22  radius_worst             569 non-null    float64\n",
      " 23  texture_worst            569 non-null    float64\n",
      " 24  perimeter_worst          569 non-null    float64\n",
      " 25  area_worst               569 non-null    float64\n",
      " 26  smoothness_worst         569 non-null    float64\n",
      " 27  compactness_worst        569 non-null    float64\n",
      " 28  concavity_worst          569 non-null    float64\n",
      " 29  concave points_worst     569 non-null    float64\n",
      " 30  symmetry_worst           569 non-null    float64\n",
      " 31  fractal_dimension_worst  569 non-null    float64\n",
      "dtypes: float64(30), int64(1), object(1)\n",
      "memory usage: 142.4+ KB\n",
      "None\n"
     ]
    },
    {
     "data": {
      "text/html": [
       "<div>\n",
       "<style scoped>\n",
       "    .dataframe tbody tr th:only-of-type {\n",
       "        vertical-align: middle;\n",
       "    }\n",
       "\n",
       "    .dataframe tbody tr th {\n",
       "        vertical-align: top;\n",
       "    }\n",
       "\n",
       "    .dataframe thead th {\n",
       "        text-align: right;\n",
       "    }\n",
       "</style>\n",
       "<table border=\"1\" class=\"dataframe\">\n",
       "  <thead>\n",
       "    <tr style=\"text-align: right;\">\n",
       "      <th></th>\n",
       "      <th>id</th>\n",
       "      <th>diagnosis</th>\n",
       "      <th>radius_mean</th>\n",
       "      <th>texture_mean</th>\n",
       "      <th>perimeter_mean</th>\n",
       "      <th>area_mean</th>\n",
       "      <th>smoothness_mean</th>\n",
       "      <th>compactness_mean</th>\n",
       "      <th>concavity_mean</th>\n",
       "      <th>concave points_mean</th>\n",
       "      <th>...</th>\n",
       "      <th>radius_worst</th>\n",
       "      <th>texture_worst</th>\n",
       "      <th>perimeter_worst</th>\n",
       "      <th>area_worst</th>\n",
       "      <th>smoothness_worst</th>\n",
       "      <th>compactness_worst</th>\n",
       "      <th>concavity_worst</th>\n",
       "      <th>concave points_worst</th>\n",
       "      <th>symmetry_worst</th>\n",
       "      <th>fractal_dimension_worst</th>\n",
       "    </tr>\n",
       "  </thead>\n",
       "  <tbody>\n",
       "    <tr>\n",
       "      <th>0</th>\n",
       "      <td>842302</td>\n",
       "      <td>M</td>\n",
       "      <td>17.99</td>\n",
       "      <td>10.38</td>\n",
       "      <td>122.80</td>\n",
       "      <td>1001.0</td>\n",
       "      <td>0.11840</td>\n",
       "      <td>0.27760</td>\n",
       "      <td>0.30010</td>\n",
       "      <td>0.14710</td>\n",
       "      <td>...</td>\n",
       "      <td>25.380</td>\n",
       "      <td>17.33</td>\n",
       "      <td>184.60</td>\n",
       "      <td>2019.0</td>\n",
       "      <td>0.16220</td>\n",
       "      <td>0.66560</td>\n",
       "      <td>0.7119</td>\n",
       "      <td>0.2654</td>\n",
       "      <td>0.4601</td>\n",
       "      <td>0.11890</td>\n",
       "    </tr>\n",
       "    <tr>\n",
       "      <th>1</th>\n",
       "      <td>842517</td>\n",
       "      <td>M</td>\n",
       "      <td>20.57</td>\n",
       "      <td>17.77</td>\n",
       "      <td>132.90</td>\n",
       "      <td>1326.0</td>\n",
       "      <td>0.08474</td>\n",
       "      <td>0.07864</td>\n",
       "      <td>0.08690</td>\n",
       "      <td>0.07017</td>\n",
       "      <td>...</td>\n",
       "      <td>24.990</td>\n",
       "      <td>23.41</td>\n",
       "      <td>158.80</td>\n",
       "      <td>1956.0</td>\n",
       "      <td>0.12380</td>\n",
       "      <td>0.18660</td>\n",
       "      <td>0.2416</td>\n",
       "      <td>0.1860</td>\n",
       "      <td>0.2750</td>\n",
       "      <td>0.08902</td>\n",
       "    </tr>\n",
       "    <tr>\n",
       "      <th>2</th>\n",
       "      <td>84300903</td>\n",
       "      <td>M</td>\n",
       "      <td>19.69</td>\n",
       "      <td>21.25</td>\n",
       "      <td>130.00</td>\n",
       "      <td>1203.0</td>\n",
       "      <td>0.10960</td>\n",
       "      <td>0.15990</td>\n",
       "      <td>0.19740</td>\n",
       "      <td>0.12790</td>\n",
       "      <td>...</td>\n",
       "      <td>23.570</td>\n",
       "      <td>25.53</td>\n",
       "      <td>152.50</td>\n",
       "      <td>1709.0</td>\n",
       "      <td>0.14440</td>\n",
       "      <td>0.42450</td>\n",
       "      <td>0.4504</td>\n",
       "      <td>0.2430</td>\n",
       "      <td>0.3613</td>\n",
       "      <td>0.08758</td>\n",
       "    </tr>\n",
       "    <tr>\n",
       "      <th>3</th>\n",
       "      <td>84348301</td>\n",
       "      <td>M</td>\n",
       "      <td>11.42</td>\n",
       "      <td>20.38</td>\n",
       "      <td>77.58</td>\n",
       "      <td>386.1</td>\n",
       "      <td>0.14250</td>\n",
       "      <td>0.28390</td>\n",
       "      <td>0.24140</td>\n",
       "      <td>0.10520</td>\n",
       "      <td>...</td>\n",
       "      <td>14.910</td>\n",
       "      <td>26.50</td>\n",
       "      <td>98.87</td>\n",
       "      <td>567.7</td>\n",
       "      <td>0.20980</td>\n",
       "      <td>0.86630</td>\n",
       "      <td>0.6869</td>\n",
       "      <td>0.2575</td>\n",
       "      <td>0.6638</td>\n",
       "      <td>0.17300</td>\n",
       "    </tr>\n",
       "    <tr>\n",
       "      <th>4</th>\n",
       "      <td>84358402</td>\n",
       "      <td>M</td>\n",
       "      <td>20.29</td>\n",
       "      <td>14.34</td>\n",
       "      <td>135.10</td>\n",
       "      <td>1297.0</td>\n",
       "      <td>0.10030</td>\n",
       "      <td>0.13280</td>\n",
       "      <td>0.19800</td>\n",
       "      <td>0.10430</td>\n",
       "      <td>...</td>\n",
       "      <td>22.540</td>\n",
       "      <td>16.67</td>\n",
       "      <td>152.20</td>\n",
       "      <td>1575.0</td>\n",
       "      <td>0.13740</td>\n",
       "      <td>0.20500</td>\n",
       "      <td>0.4000</td>\n",
       "      <td>0.1625</td>\n",
       "      <td>0.2364</td>\n",
       "      <td>0.07678</td>\n",
       "    </tr>\n",
       "    <tr>\n",
       "      <th>...</th>\n",
       "      <td>...</td>\n",
       "      <td>...</td>\n",
       "      <td>...</td>\n",
       "      <td>...</td>\n",
       "      <td>...</td>\n",
       "      <td>...</td>\n",
       "      <td>...</td>\n",
       "      <td>...</td>\n",
       "      <td>...</td>\n",
       "      <td>...</td>\n",
       "      <td>...</td>\n",
       "      <td>...</td>\n",
       "      <td>...</td>\n",
       "      <td>...</td>\n",
       "      <td>...</td>\n",
       "      <td>...</td>\n",
       "      <td>...</td>\n",
       "      <td>...</td>\n",
       "      <td>...</td>\n",
       "      <td>...</td>\n",
       "      <td>...</td>\n",
       "    </tr>\n",
       "    <tr>\n",
       "      <th>564</th>\n",
       "      <td>926424</td>\n",
       "      <td>M</td>\n",
       "      <td>21.56</td>\n",
       "      <td>22.39</td>\n",
       "      <td>142.00</td>\n",
       "      <td>1479.0</td>\n",
       "      <td>0.11100</td>\n",
       "      <td>0.11590</td>\n",
       "      <td>0.24390</td>\n",
       "      <td>0.13890</td>\n",
       "      <td>...</td>\n",
       "      <td>25.450</td>\n",
       "      <td>26.40</td>\n",
       "      <td>166.10</td>\n",
       "      <td>2027.0</td>\n",
       "      <td>0.14100</td>\n",
       "      <td>0.21130</td>\n",
       "      <td>0.4107</td>\n",
       "      <td>0.2216</td>\n",
       "      <td>0.2060</td>\n",
       "      <td>0.07115</td>\n",
       "    </tr>\n",
       "    <tr>\n",
       "      <th>565</th>\n",
       "      <td>926682</td>\n",
       "      <td>M</td>\n",
       "      <td>20.13</td>\n",
       "      <td>28.25</td>\n",
       "      <td>131.20</td>\n",
       "      <td>1261.0</td>\n",
       "      <td>0.09780</td>\n",
       "      <td>0.10340</td>\n",
       "      <td>0.14400</td>\n",
       "      <td>0.09791</td>\n",
       "      <td>...</td>\n",
       "      <td>23.690</td>\n",
       "      <td>38.25</td>\n",
       "      <td>155.00</td>\n",
       "      <td>1731.0</td>\n",
       "      <td>0.11660</td>\n",
       "      <td>0.19220</td>\n",
       "      <td>0.3215</td>\n",
       "      <td>0.1628</td>\n",
       "      <td>0.2572</td>\n",
       "      <td>0.06637</td>\n",
       "    </tr>\n",
       "    <tr>\n",
       "      <th>566</th>\n",
       "      <td>926954</td>\n",
       "      <td>M</td>\n",
       "      <td>16.60</td>\n",
       "      <td>28.08</td>\n",
       "      <td>108.30</td>\n",
       "      <td>858.1</td>\n",
       "      <td>0.08455</td>\n",
       "      <td>0.10230</td>\n",
       "      <td>0.09251</td>\n",
       "      <td>0.05302</td>\n",
       "      <td>...</td>\n",
       "      <td>18.980</td>\n",
       "      <td>34.12</td>\n",
       "      <td>126.70</td>\n",
       "      <td>1124.0</td>\n",
       "      <td>0.11390</td>\n",
       "      <td>0.30940</td>\n",
       "      <td>0.3403</td>\n",
       "      <td>0.1418</td>\n",
       "      <td>0.2218</td>\n",
       "      <td>0.07820</td>\n",
       "    </tr>\n",
       "    <tr>\n",
       "      <th>567</th>\n",
       "      <td>927241</td>\n",
       "      <td>M</td>\n",
       "      <td>20.60</td>\n",
       "      <td>29.33</td>\n",
       "      <td>140.10</td>\n",
       "      <td>1265.0</td>\n",
       "      <td>0.11780</td>\n",
       "      <td>0.27700</td>\n",
       "      <td>0.35140</td>\n",
       "      <td>0.15200</td>\n",
       "      <td>...</td>\n",
       "      <td>25.740</td>\n",
       "      <td>39.42</td>\n",
       "      <td>184.60</td>\n",
       "      <td>1821.0</td>\n",
       "      <td>0.16500</td>\n",
       "      <td>0.86810</td>\n",
       "      <td>0.9387</td>\n",
       "      <td>0.2650</td>\n",
       "      <td>0.4087</td>\n",
       "      <td>0.12400</td>\n",
       "    </tr>\n",
       "    <tr>\n",
       "      <th>568</th>\n",
       "      <td>92751</td>\n",
       "      <td>B</td>\n",
       "      <td>7.76</td>\n",
       "      <td>24.54</td>\n",
       "      <td>47.92</td>\n",
       "      <td>181.0</td>\n",
       "      <td>0.05263</td>\n",
       "      <td>0.04362</td>\n",
       "      <td>0.00000</td>\n",
       "      <td>0.00000</td>\n",
       "      <td>...</td>\n",
       "      <td>9.456</td>\n",
       "      <td>30.37</td>\n",
       "      <td>59.16</td>\n",
       "      <td>268.6</td>\n",
       "      <td>0.08996</td>\n",
       "      <td>0.06444</td>\n",
       "      <td>0.0000</td>\n",
       "      <td>0.0000</td>\n",
       "      <td>0.2871</td>\n",
       "      <td>0.07039</td>\n",
       "    </tr>\n",
       "  </tbody>\n",
       "</table>\n",
       "<p>569 rows × 32 columns</p>\n",
       "</div>"
      ],
      "text/plain": [
       "           id diagnosis  radius_mean  texture_mean  perimeter_mean  area_mean  \\\n",
       "0      842302         M        17.99         10.38          122.80     1001.0   \n",
       "1      842517         M        20.57         17.77          132.90     1326.0   \n",
       "2    84300903         M        19.69         21.25          130.00     1203.0   \n",
       "3    84348301         M        11.42         20.38           77.58      386.1   \n",
       "4    84358402         M        20.29         14.34          135.10     1297.0   \n",
       "..        ...       ...          ...           ...             ...        ...   \n",
       "564    926424         M        21.56         22.39          142.00     1479.0   \n",
       "565    926682         M        20.13         28.25          131.20     1261.0   \n",
       "566    926954         M        16.60         28.08          108.30      858.1   \n",
       "567    927241         M        20.60         29.33          140.10     1265.0   \n",
       "568     92751         B         7.76         24.54           47.92      181.0   \n",
       "\n",
       "     smoothness_mean  compactness_mean  concavity_mean  concave points_mean  \\\n",
       "0            0.11840           0.27760         0.30010              0.14710   \n",
       "1            0.08474           0.07864         0.08690              0.07017   \n",
       "2            0.10960           0.15990         0.19740              0.12790   \n",
       "3            0.14250           0.28390         0.24140              0.10520   \n",
       "4            0.10030           0.13280         0.19800              0.10430   \n",
       "..               ...               ...             ...                  ...   \n",
       "564          0.11100           0.11590         0.24390              0.13890   \n",
       "565          0.09780           0.10340         0.14400              0.09791   \n",
       "566          0.08455           0.10230         0.09251              0.05302   \n",
       "567          0.11780           0.27700         0.35140              0.15200   \n",
       "568          0.05263           0.04362         0.00000              0.00000   \n",
       "\n",
       "     ...  radius_worst  texture_worst  perimeter_worst  area_worst  \\\n",
       "0    ...        25.380          17.33           184.60      2019.0   \n",
       "1    ...        24.990          23.41           158.80      1956.0   \n",
       "2    ...        23.570          25.53           152.50      1709.0   \n",
       "3    ...        14.910          26.50            98.87       567.7   \n",
       "4    ...        22.540          16.67           152.20      1575.0   \n",
       "..   ...           ...            ...              ...         ...   \n",
       "564  ...        25.450          26.40           166.10      2027.0   \n",
       "565  ...        23.690          38.25           155.00      1731.0   \n",
       "566  ...        18.980          34.12           126.70      1124.0   \n",
       "567  ...        25.740          39.42           184.60      1821.0   \n",
       "568  ...         9.456          30.37            59.16       268.6   \n",
       "\n",
       "     smoothness_worst  compactness_worst  concavity_worst  \\\n",
       "0             0.16220            0.66560           0.7119   \n",
       "1             0.12380            0.18660           0.2416   \n",
       "2             0.14440            0.42450           0.4504   \n",
       "3             0.20980            0.86630           0.6869   \n",
       "4             0.13740            0.20500           0.4000   \n",
       "..                ...                ...              ...   \n",
       "564           0.14100            0.21130           0.4107   \n",
       "565           0.11660            0.19220           0.3215   \n",
       "566           0.11390            0.30940           0.3403   \n",
       "567           0.16500            0.86810           0.9387   \n",
       "568           0.08996            0.06444           0.0000   \n",
       "\n",
       "     concave points_worst  symmetry_worst  fractal_dimension_worst  \n",
       "0                  0.2654          0.4601                  0.11890  \n",
       "1                  0.1860          0.2750                  0.08902  \n",
       "2                  0.2430          0.3613                  0.08758  \n",
       "3                  0.2575          0.6638                  0.17300  \n",
       "4                  0.1625          0.2364                  0.07678  \n",
       "..                    ...             ...                      ...  \n",
       "564                0.2216          0.2060                  0.07115  \n",
       "565                0.1628          0.2572                  0.06637  \n",
       "566                0.1418          0.2218                  0.07820  \n",
       "567                0.2650          0.4087                  0.12400  \n",
       "568                0.0000          0.2871                  0.07039  \n",
       "\n",
       "[569 rows x 32 columns]"
      ]
     },
     "metadata": {},
     "output_type": "display_data"
    }
   ],
   "source": [
    "print(bc_data.info())\n",
    "display(bc_data)\n",
    "\n",
    "\n",
    "\n"
   ]
  },
  {
   "cell_type": "code",
   "execution_count": null,
   "metadata": {
    "deletable": false,
    "editable": false,
    "function": "solution"
   },
   "outputs": [],
   "source": [
    "bc_data.info()\n"
   ]
  },
  {
   "cell_type": "markdown",
   "metadata": {
    "deletable": false,
    "editable": false,
    "run_control": {
     "frozen": true
    },
    "tags": []
   },
   "source": [
    "\n",
    ">No variable contains missing values.<br>\n",
    ">All the variables, with the exception of 'diagnosis' are continuous variables, but the decisions of decisions work as well with discreet or qualitative variables (after dichotomization on *scikit-learn*).<br>\n",
    "> A glance at the first lines of the data frame shows us that the different variables are not on the same scale, but very little \"preprocessing\" is necessary during a classification by decision tree.\n",
    "\n",
    "* **(f)** Create the data frame **data** containing the different *features* and the vector **target** containing the target variable **'diagnosis'**.\n",
    "\n"
   ]
  },
  {
   "cell_type": "code",
   "execution_count": 8,
   "metadata": {},
   "outputs": [],
   "source": [
    "data = bc_data.drop(columns=['diagnosis'])\n",
    "target = bc_data['diagnosis']\n"
   ]
  },
  {
   "cell_type": "code",
   "execution_count": null,
   "metadata": {
    "deletable": false,
    "editable": false,
    "function": "solution"
   },
   "outputs": [],
   "source": [
    "data = bc_data.drop('diagnosis', axis=1)\n",
    "target = bc_data.diagnosis\n"
   ]
  },
  {
   "cell_type": "markdown",
   "metadata": {
    "deletable": false,
    "run_control": {
     "frozen": true
    },
    "tags": []
   },
   "source": [
    "\n",
    "<hr style=\"border-width:2px;border-color:#75DFC1\">\n",
    "<h3 style = \"text-align:center\">2. Building a decision tree</h3> \n",
    "<hr style=\"border-width:2px;border-color:#75DFC1\">\n",
    "\n",
    ">In machine learning, a decision tree can be described as a visual representation of a data classification algorithm according to different criteria called decisions (or nodes).<br>Each node corresponds to a test on a learning variable, and each of the following branches represents a result of this test. Each leaf of the tree (terminal nodes) contains a value of the target variable (a label in the case of a classification).\n",
    ">\n",
    "> During the training of the model, the nodes are created from \"optimal\" tests compared to the training set, and the latter ends when the leaves of the trees are homogeneous or check a certain stop criterion.\n",
    ">\n",
    "> This decision tree therefore allows, after training on a set of data, to easily carry out predictions in the form of successive logic rules of classification. The results are thus easily interpretable and therefore exploitable, communication around easier modeling. It is therefore a very appreciated classifier used in business.\n",
    ">\n",
    "> The construction of a decision tree is done in principle in 2 phases:\n",
    ">\n",
    "> The **First phase** consists of building nodes:\n",
    ">> * From a learning set is engaged in a recursive process of division of the space of data in samples increasingly pure in terms of classes, on the basis of a predefined criterion.\n",
    ">>\n",
    ">>\n",
    ">> * The classification problem is thus broken down into a sequence of (nested) tests relating to a variable, type \"`x> = threshold`\".\n",
    ">>\n",
    ">>\n",
    ">> * On each node, the best test is selected from a certain criterion (often based on the theory of\n",
    "Information, and in particular on the concept of entropy), the objective of which is to reduce the mixture of classes as much as possible within each subset created by the different alternatives of the test.\n",
    ">>\n",
    ">>\n",
    ">> * follows a succession of classifications in the form of a tree, each end of which (or \"leaf\") indicates belonging to a class.\n",
    ">>\n",
    ">>\n",
    ">> * The class allocated to a sheet is determined by the class mainly represented among the data of the learning set which \"fall\" in this sheet.\n",
    ">>\n",
    ">>\n",
    ">> The objective of this phase is to generate a hierarchical sequence of tests, as short as possible, which successively divides all the learning data into disjoint sub-assemblies, such as cases of cases belonging to the same class are quickly detected.\n",
    ">\n",
    "> The **second phase** is pruning :\n",
    ">> * It consists of removing branches that are not very representative in order to maintain good predictive performance. This step requires the creation of a criterion/metric to designate the branches to be pruned, which will depend on the algorithm used.\n",
    ">>\n",
    ">>\n",
    ">> * After pruning, the branches are replaced by terminal nodes, labeled on the basis of the distribution of learning data (majority class).\n",
    ">>\n",
    ">>\n",
    ">> * In general, the pruningis from the bottom to the top of the tree (\"Bottom-up\"). It is based on an estimate (crossed validation, new sample, statistical estimate, ...) of the classification error rate: a tree is pruned to a certain node if the error rate estimated at this node (by allocating the majority class) is lower than the error rate obtained by considering the terminal subarbres.\n",
    ">>\n",
    ">>\n",
    ">> * The pruning is successively extended (from the ends) until all the remaining subarbres satisfy the condition on classification error rates.\n",
    "\n",
    "\n",
    "<hr style=\"border-width:2px;border-color:#75DFC1\">\n",
    "<h3 style = \"text-align:center\">3. Data learning</h3> \n",
    "<hr style=\"border-width:2px;border-color:#75DFC1\">\n",
    "\n",
    "> The function [`DecisionTreeClassifier`](http://scikit-learn.org/stable/modles/generated/sklearn.tree.decisionreeClassify.html) allows to create a classifier based on a decision tree. Many parameters can be specified, such as the 'criterion' for evaluating partitions, the maximum depth of the tree, the number of *features* to consider at each node, etc.\n",
    "\n",
    "* **(a)** Run the following cell to visualize the influence of hyperparameters on a decision tree model.\n",
    "\n",
    "<div class=\"alert alert-info\">\n",
    "<i class=\"fa fa-info-circle\"></i> &emsp;\n",
    "The datasets contain two classes (red dots/blue dots) with <b>x0</b> and <b>x1</b> as features. The background color represents the probability of belonging to one of the classes. The redder the color, the greater the probability of belonging to class 2.\n",
    "</div>\n",
    "\n"
   ]
  },
  {
   "cell_type": "code",
   "execution_count": 9,
   "metadata": {
    "deletable": false,
    "editable": false
   },
   "outputs": [
    {
     "data": {
      "application/vnd.jupyter.widget-view+json": {
       "model_id": "0142528b22ca40ecb2f4e8c877c8d537",
       "version_major": 2,
       "version_minor": 0
      },
      "text/plain": [
       "VBox(children=(Output(), HBox(children=(VBox(children=(HTML(value='<b>Hyperparameters</b>'), HTML(value=''), D…"
      ]
     },
     "metadata": {},
     "output_type": "display_data"
    }
   ],
   "source": [
    "%matplotlib inline\n",
    "from interactions import show_tree\n",
    "show_tree()\n"
   ]
  },
  {
   "cell_type": "markdown",
   "metadata": {
    "deletable": false,
    "run_control": {
     "frozen": true
    },
    "tags": []
   },
   "source": [
    "\n",
    "* **(b)** separate the data set into learning and testing sets, so that the test set represents 20% of the total data.\n",
    "Add the argument `random_state =123` in the function **`train_test_split`** for the reproducibility of the choice of random.\n",
    "\n",
    "\n",
    "* **(c)** Create a DecisionTreeClassifier instance named **dt_clf**, with the criterion `criterion='entropy'` and the argument `max_Depth = 4` to specify the maximum number of separation points possible before reaching a leaf node.\n",
    "Again, add the argument `random_state =123` for the reproducibility of the results.\n",
    "\n",
    "\n",
    "* **(d)** Train the classifier on the training set.\n",
    "\n"
   ]
  },
  {
   "cell_type": "code",
   "execution_count": 10,
   "metadata": {},
   "outputs": [
    {
     "data": {
      "text/html": [
       "<style>#sk-container-id-1 {color: black;background-color: white;}#sk-container-id-1 pre{padding: 0;}#sk-container-id-1 div.sk-toggleable {background-color: white;}#sk-container-id-1 label.sk-toggleable__label {cursor: pointer;display: block;width: 100%;margin-bottom: 0;padding: 0.3em;box-sizing: border-box;text-align: center;}#sk-container-id-1 label.sk-toggleable__label-arrow:before {content: \"▸\";float: left;margin-right: 0.25em;color: #696969;}#sk-container-id-1 label.sk-toggleable__label-arrow:hover:before {color: black;}#sk-container-id-1 div.sk-estimator:hover label.sk-toggleable__label-arrow:before {color: black;}#sk-container-id-1 div.sk-toggleable__content {max-height: 0;max-width: 0;overflow: hidden;text-align: left;background-color: #f0f8ff;}#sk-container-id-1 div.sk-toggleable__content pre {margin: 0.2em;color: black;border-radius: 0.25em;background-color: #f0f8ff;}#sk-container-id-1 input.sk-toggleable__control:checked~div.sk-toggleable__content {max-height: 200px;max-width: 100%;overflow: auto;}#sk-container-id-1 input.sk-toggleable__control:checked~label.sk-toggleable__label-arrow:before {content: \"▾\";}#sk-container-id-1 div.sk-estimator input.sk-toggleable__control:checked~label.sk-toggleable__label {background-color: #d4ebff;}#sk-container-id-1 div.sk-label input.sk-toggleable__control:checked~label.sk-toggleable__label {background-color: #d4ebff;}#sk-container-id-1 input.sk-hidden--visually {border: 0;clip: rect(1px 1px 1px 1px);clip: rect(1px, 1px, 1px, 1px);height: 1px;margin: -1px;overflow: hidden;padding: 0;position: absolute;width: 1px;}#sk-container-id-1 div.sk-estimator {font-family: monospace;background-color: #f0f8ff;border: 1px dotted black;border-radius: 0.25em;box-sizing: border-box;margin-bottom: 0.5em;}#sk-container-id-1 div.sk-estimator:hover {background-color: #d4ebff;}#sk-container-id-1 div.sk-parallel-item::after {content: \"\";width: 100%;border-bottom: 1px solid gray;flex-grow: 1;}#sk-container-id-1 div.sk-label:hover label.sk-toggleable__label {background-color: #d4ebff;}#sk-container-id-1 div.sk-serial::before {content: \"\";position: absolute;border-left: 1px solid gray;box-sizing: border-box;top: 0;bottom: 0;left: 50%;z-index: 0;}#sk-container-id-1 div.sk-serial {display: flex;flex-direction: column;align-items: center;background-color: white;padding-right: 0.2em;padding-left: 0.2em;position: relative;}#sk-container-id-1 div.sk-item {position: relative;z-index: 1;}#sk-container-id-1 div.sk-parallel {display: flex;align-items: stretch;justify-content: center;background-color: white;position: relative;}#sk-container-id-1 div.sk-item::before, #sk-container-id-1 div.sk-parallel-item::before {content: \"\";position: absolute;border-left: 1px solid gray;box-sizing: border-box;top: 0;bottom: 0;left: 50%;z-index: -1;}#sk-container-id-1 div.sk-parallel-item {display: flex;flex-direction: column;z-index: 1;position: relative;background-color: white;}#sk-container-id-1 div.sk-parallel-item:first-child::after {align-self: flex-end;width: 50%;}#sk-container-id-1 div.sk-parallel-item:last-child::after {align-self: flex-start;width: 50%;}#sk-container-id-1 div.sk-parallel-item:only-child::after {width: 0;}#sk-container-id-1 div.sk-dashed-wrapped {border: 1px dashed gray;margin: 0 0.4em 0.5em 0.4em;box-sizing: border-box;padding-bottom: 0.4em;background-color: white;}#sk-container-id-1 div.sk-label label {font-family: monospace;font-weight: bold;display: inline-block;line-height: 1.2em;}#sk-container-id-1 div.sk-label-container {text-align: center;}#sk-container-id-1 div.sk-container {/* jupyter's `normalize.less` sets `[hidden] { display: none; }` but bootstrap.min.css set `[hidden] { display: none !important; }` so we also need the `!important` here to be able to override the default hidden behavior on the sphinx rendered scikit-learn.org. See: https://github.com/scikit-learn/scikit-learn/issues/21755 */display: inline-block !important;position: relative;}#sk-container-id-1 div.sk-text-repr-fallback {display: none;}</style><div id=\"sk-container-id-1\" class=\"sk-top-container\"><div class=\"sk-text-repr-fallback\"><pre>DecisionTreeClassifier(criterion=&#x27;entropy&#x27;, max_depth=4, random_state=123)</pre><b>In a Jupyter environment, please rerun this cell to show the HTML representation or trust the notebook. <br />On GitHub, the HTML representation is unable to render, please try loading this page with nbviewer.org.</b></div><div class=\"sk-container\" hidden><div class=\"sk-item\"><div class=\"sk-estimator sk-toggleable\"><input class=\"sk-toggleable__control sk-hidden--visually\" id=\"sk-estimator-id-1\" type=\"checkbox\" checked><label for=\"sk-estimator-id-1\" class=\"sk-toggleable__label sk-toggleable__label-arrow\">DecisionTreeClassifier</label><div class=\"sk-toggleable__content\"><pre>DecisionTreeClassifier(criterion=&#x27;entropy&#x27;, max_depth=4, random_state=123)</pre></div></div></div></div></div>"
      ],
      "text/plain": [
       "DecisionTreeClassifier(criterion='entropy', max_depth=4, random_state=123)"
      ]
     },
     "execution_count": 10,
     "metadata": {},
     "output_type": "execute_result"
    }
   ],
   "source": [
    "X_train, X_test, y_train, y_test = train_test_split(data, target, test_size = 0.2, random_state = 123)\n",
    "dt_clf = DecisionTreeClassifier(criterion ='entropy', max_depth=4, random_state=123)\n",
    "dt_clf.fit(X_train, y_train)\n",
    "\n",
    "\n",
    "\n"
   ]
  },
  {
   "cell_type": "code",
   "execution_count": null,
   "metadata": {
    "deletable": false,
    "editable": false,
    "function": "solution"
   },
   "outputs": [],
   "source": [
    "X_train, X_test, y_train, y_test = train_test_split(data, target, test_size=0.2, random_state=123)\n",
    "\n",
    "dt_clf = DecisionTreeClassifier(criterion ='entropy', max_depth=4, random_state=123)\n",
    "dt_clf.fit(X_train, y_train)\n"
   ]
  },
  {
   "cell_type": "markdown",
   "metadata": {
    "deletable": false,
    "run_control": {
     "frozen": true
    },
    "tags": []
   },
   "source": [
    "\n",
    "* **(e)** Apply the model to the data set data and store the predictions obtained in the variable **`y_pred`**.\n",
    "\n",
    "\n",
    "* **(f)** Show a confusion matrix to compare the real and predicted classes.\n",
    "\n"
   ]
  },
  {
   "cell_type": "code",
   "execution_count": 11,
   "metadata": {},
   "outputs": [
    {
     "data": {
      "text/html": [
       "<div>\n",
       "<style scoped>\n",
       "    .dataframe tbody tr th:only-of-type {\n",
       "        vertical-align: middle;\n",
       "    }\n",
       "\n",
       "    .dataframe tbody tr th {\n",
       "        vertical-align: top;\n",
       "    }\n",
       "\n",
       "    .dataframe thead th {\n",
       "        text-align: right;\n",
       "    }\n",
       "</style>\n",
       "<table border=\"1\" class=\"dataframe\">\n",
       "  <thead>\n",
       "    <tr style=\"text-align: right;\">\n",
       "      <th>y prédit</th>\n",
       "      <th>B</th>\n",
       "      <th>M</th>\n",
       "    </tr>\n",
       "    <tr>\n",
       "      <th>y réel</th>\n",
       "      <th></th>\n",
       "      <th></th>\n",
       "    </tr>\n",
       "  </thead>\n",
       "  <tbody>\n",
       "    <tr>\n",
       "      <th>B</th>\n",
       "      <td>72</td>\n",
       "      <td>1</td>\n",
       "    </tr>\n",
       "    <tr>\n",
       "      <th>M</th>\n",
       "      <td>2</td>\n",
       "      <td>39</td>\n",
       "    </tr>\n",
       "  </tbody>\n",
       "</table>\n",
       "</div>"
      ],
      "text/plain": [
       "y prédit   B   M\n",
       "y réel          \n",
       "B         72   1\n",
       "M          2  39"
      ]
     },
     "metadata": {},
     "output_type": "display_data"
    }
   ],
   "source": [
    "y_pred = dt_clf.predict(X_test)\n",
    "cm = pd.crosstab(y_test,y_pred,rownames=['y réel'],colnames=['y prédit'])\n",
    "display(cm)\n"
   ]
  },
  {
   "cell_type": "code",
   "execution_count": null,
   "metadata": {
    "deletable": false,
    "editable": false,
    "function": "solution"
   },
   "outputs": [],
   "source": [
    "y_pred = dt_clf.predict(X_test)\n",
    "\n",
    "pd.crosstab(y_test, y_pred, rownames=['Classe réelle'], colnames=['Classe prédite'])\n"
   ]
  },
  {
   "cell_type": "markdown",
   "metadata": {
    "deletable": false,
    "run_control": {
     "frozen": true
    },
    "tags": []
   },
   "source": [
    "\n",
    ">The predictions made on the test sample are encouraging.<br>\n",
    ">To find out which variables have the most determined the 'diagnosis' of each cell mass, the attribute **`feature_importance_`** returns the ***importance*** normalized of each variable in the construction of the tree.<br>\n",
    "> In *scikit-learn* the **importance** is defined as the total decrease of the impurity criterion between a node and the next two nodes used to split the node. The greater the difference between the impurity calculated for a node and its ‘child’ nodes, the greater the variable used to divide the node.\n",
    "\n",
    "* **(g)** Show the 8 most important variables for **`dt_clf`** , as well as their respective importance.\n",
    "\n"
   ]
  },
  {
   "cell_type": "code",
   "execution_count": 12,
   "metadata": {},
   "outputs": [
    {
     "data": {
      "text/html": [
       "<div>\n",
       "<style scoped>\n",
       "    .dataframe tbody tr th:only-of-type {\n",
       "        vertical-align: middle;\n",
       "    }\n",
       "\n",
       "    .dataframe tbody tr th {\n",
       "        vertical-align: top;\n",
       "    }\n",
       "\n",
       "    .dataframe thead th {\n",
       "        text-align: right;\n",
       "    }\n",
       "</style>\n",
       "<table border=\"1\" class=\"dataframe\">\n",
       "  <thead>\n",
       "    <tr style=\"text-align: right;\">\n",
       "      <th></th>\n",
       "      <th>Importance</th>\n",
       "    </tr>\n",
       "  </thead>\n",
       "  <tbody>\n",
       "    <tr>\n",
       "      <th>radius_worst</th>\n",
       "      <td>0.620770</td>\n",
       "    </tr>\n",
       "    <tr>\n",
       "      <th>concave points_worst</th>\n",
       "      <td>0.177674</td>\n",
       "    </tr>\n",
       "    <tr>\n",
       "      <th>concavity_mean</th>\n",
       "      <td>0.060736</td>\n",
       "    </tr>\n",
       "    <tr>\n",
       "      <th>texture_mean</th>\n",
       "      <td>0.051408</td>\n",
       "    </tr>\n",
       "    <tr>\n",
       "      <th>texture_worst</th>\n",
       "      <td>0.041369</td>\n",
       "    </tr>\n",
       "    <tr>\n",
       "      <th>perimeter_se</th>\n",
       "      <td>0.020865</td>\n",
       "    </tr>\n",
       "    <tr>\n",
       "      <th>area_worst</th>\n",
       "      <td>0.016107</td>\n",
       "    </tr>\n",
       "    <tr>\n",
       "      <th>smoothness_worst</th>\n",
       "      <td>0.011072</td>\n",
       "    </tr>\n",
       "  </tbody>\n",
       "</table>\n",
       "</div>"
      ],
      "text/plain": [
       "                      Importance\n",
       "radius_worst            0.620770\n",
       "concave points_worst    0.177674\n",
       "concavity_mean          0.060736\n",
       "texture_mean            0.051408\n",
       "texture_worst           0.041369\n",
       "perimeter_se            0.020865\n",
       "area_worst              0.016107\n",
       "smoothness_worst        0.011072"
      ]
     },
     "metadata": {},
     "output_type": "display_data"
    }
   ],
   "source": [
    "feats = {}\n",
    "for feature, importance in zip(data.columns, dt_clf.feature_importances_):\n",
    "    feats[feature] = importance \n",
    "    \n",
    "importances = pd.DataFrame.from_dict(feats, orient='index').rename(columns={0: 'Importance'})\n",
    "display(importances.sort_values(by='Importance', ascending=False).head(8))\n"
   ]
  },
  {
   "cell_type": "code",
   "execution_count": 16,
   "metadata": {},
   "outputs": [
    {
     "data": {
      "image/png": "[encoded data removed]",
      "text/plain": [
       "<Figure size 2500x1200 with 1 Axes>"
      ]
     },
     "metadata": {},
     "output_type": "display_data"
    }
   ],
   "source": [
    "import matplotlib.pyplot as plt\n",
    "%matplotlib inline\n",
    "plt.figure(figsize=(25,12))\n",
    "\n",
    "from sklearn import tree\n",
    "tree.plot_tree(dt_clf,feature_names=data.columns);"
   ]
  },
  {
   "cell_type": "code",
   "execution_count": 14,
   "metadata": {},
   "outputs": [
    {
     "data": {
      "image/svg+xml": [
       "<?xml version=\"1.0\" encoding=\"UTF-8\" standalone=\"no\"?>\n",
       "<!DOCTYPE svg PUBLIC \"-//W3C//DTD SVG 1.1//EN\"\n",
       " \"http://www.w3.org/Graphics/SVG/1.1/DTD/svg11.dtd\">\n",
       "<!-- Generated by graphviz version 2.50.0 (0)\n",
       " -->\n",
       "<!-- Title: Tree Pages: 1 -->\n",
       "<svg width=\"1164pt\" height=\"552pt\"\n",
       " viewBox=\"0.00 0.00 1164.00 552.00\" xmlns=\"http://www.w3.org/2000/svg\" xmlns:xlink=\"http://www.w3.org/1999/xlink\">\n",
       "<g id=\"graph0\" class=\"graph\" transform=\"scale(1 1) rotate(0) translate(4 548)\">\n",
       "<title>Tree</title>\n",
       "<polygon fill=\"white\" stroke=\"transparent\" points=\"-4,4 -4,-548 1160,-548 1160,4 -4,4\"/>\n",
       "<!-- 0 -->\n",
       "<g id=\"node1\" class=\"node\">\n",
       "<title>0</title>\n",
       "<path fill=\"#f5cdb0\" stroke=\"black\" d=\"M631.5,-544C631.5,-544 506.5,-544 506.5,-544 500.5,-544 494.5,-538 494.5,-532 494.5,-532 494.5,-473 494.5,-473 494.5,-467 500.5,-461 506.5,-461 506.5,-461 631.5,-461 631.5,-461 637.5,-461 643.5,-467 643.5,-473 643.5,-473 643.5,-532 643.5,-532 643.5,-538 637.5,-544 631.5,-544\"/>\n",
       "<text text-anchor=\"start\" x=\"502.5\" y=\"-528.8\" font-family=\"Helvetica,sans-Serif\" font-size=\"14.00\">radius_worst ≤ 16.795</text>\n",
       "<text text-anchor=\"start\" x=\"521.5\" y=\"-513.8\" font-family=\"Helvetica,sans-Serif\" font-size=\"14.00\">entropy = 0.955</text>\n",
       "<text text-anchor=\"start\" x=\"524\" y=\"-498.8\" font-family=\"Helvetica,sans-Serif\" font-size=\"14.00\">samples = 455</text>\n",
       "<text text-anchor=\"start\" x=\"514.5\" y=\"-483.8\" font-family=\"Helvetica,sans-Serif\" font-size=\"14.00\">value = [284, 171]</text>\n",
       "<text text-anchor=\"start\" x=\"539.5\" y=\"-468.8\" font-family=\"Helvetica,sans-Serif\" font-size=\"14.00\">class = M</text>\n",
       "</g>\n",
       "<!-- 1 -->\n",
       "<g id=\"node2\" class=\"node\">\n",
       "<title>1</title>\n",
       "<path fill=\"#e88d4c\" stroke=\"black\" d=\"M512.5,-425C512.5,-425 341.5,-425 341.5,-425 335.5,-425 329.5,-419 329.5,-413 329.5,-413 329.5,-354 329.5,-354 329.5,-348 335.5,-342 341.5,-342 341.5,-342 512.5,-342 512.5,-342 518.5,-342 524.5,-348 524.5,-354 524.5,-354 524.5,-413 524.5,-413 524.5,-419 518.5,-425 512.5,-425\"/>\n",
       "<text text-anchor=\"start\" x=\"337.5\" y=\"-409.8\" font-family=\"Helvetica,sans-Serif\" font-size=\"14.00\">concave points_worst ≤ 0.136</text>\n",
       "<text text-anchor=\"start\" x=\"379.5\" y=\"-394.8\" font-family=\"Helvetica,sans-Serif\" font-size=\"14.00\">entropy = 0.434</text>\n",
       "<text text-anchor=\"start\" x=\"382\" y=\"-379.8\" font-family=\"Helvetica,sans-Serif\" font-size=\"14.00\">samples = 302</text>\n",
       "<text text-anchor=\"start\" x=\"376.5\" y=\"-364.8\" font-family=\"Helvetica,sans-Serif\" font-size=\"14.00\">value = [275, 27]</text>\n",
       "<text text-anchor=\"start\" x=\"397.5\" y=\"-349.8\" font-family=\"Helvetica,sans-Serif\" font-size=\"14.00\">class = M</text>\n",
       "</g>\n",
       "<!-- 0&#45;&gt;1 -->\n",
       "<g id=\"edge1\" class=\"edge\">\n",
       "<title>0&#45;&gt;1</title>\n",
       "<path fill=\"none\" stroke=\"black\" d=\"M519.73,-460.91C508.28,-451.47 495.99,-441.34 484.22,-431.65\"/>\n",
       "<polygon fill=\"black\" stroke=\"black\" points=\"486.12,-428.68 476.18,-425.02 481.67,-434.08 486.12,-428.68\"/>\n",
       "<text text-anchor=\"middle\" x=\"478.58\" y=\"-446.21\" font-family=\"Helvetica,sans-Serif\" font-size=\"14.00\">True</text>\n",
       "</g>\n",
       "<!-- 12 -->\n",
       "<g id=\"node13\" class=\"node\">\n",
       "<title>12</title>\n",
       "<path fill=\"#45a3e7\" stroke=\"black\" d=\"M809,-425C809,-425 669,-425 669,-425 663,-425 657,-419 657,-413 657,-413 657,-354 657,-354 657,-348 663,-342 669,-342 669,-342 809,-342 809,-342 815,-342 821,-348 821,-354 821,-354 821,-413 821,-413 821,-419 815,-425 809,-425\"/>\n",
       "<text text-anchor=\"start\" x=\"665\" y=\"-409.8\" font-family=\"Helvetica,sans-Serif\" font-size=\"14.00\">concavity_mean ≤ 0.072</text>\n",
       "<text text-anchor=\"start\" x=\"691.5\" y=\"-394.8\" font-family=\"Helvetica,sans-Serif\" font-size=\"14.00\">entropy = 0.323</text>\n",
       "<text text-anchor=\"start\" x=\"694\" y=\"-379.8\" font-family=\"Helvetica,sans-Serif\" font-size=\"14.00\">samples = 153</text>\n",
       "<text text-anchor=\"start\" x=\"692\" y=\"-364.8\" font-family=\"Helvetica,sans-Serif\" font-size=\"14.00\">value = [9, 144]</text>\n",
       "<text text-anchor=\"start\" x=\"711\" y=\"-349.8\" font-family=\"Helvetica,sans-Serif\" font-size=\"14.00\">class = B</text>\n",
       "</g>\n",
       "<!-- 0&#45;&gt;12 -->\n",
       "<g id=\"edge12\" class=\"edge\">\n",
       "<title>0&#45;&gt;12</title>\n",
       "<path fill=\"none\" stroke=\"black\" d=\"M627.98,-460.91C642.09,-451.2 657.26,-440.76 671.71,-430.81\"/>\n",
       "<polygon fill=\"black\" stroke=\"black\" points=\"673.87,-433.57 680.12,-425.02 669.9,-427.81 673.87,-433.57\"/>\n",
       "<text text-anchor=\"middle\" x=\"675.58\" y=\"-445.91\" font-family=\"Helvetica,sans-Serif\" font-size=\"14.00\">False</text>\n",
       "</g>\n",
       "<!-- 2 -->\n",
       "<g id=\"node3\" class=\"node\">\n",
       "<title>2</title>\n",
       "<path fill=\"#e5833c\" stroke=\"black\" d=\"M264,-306C264,-306 132,-306 132,-306 126,-306 120,-300 120,-294 120,-294 120,-235 120,-235 120,-229 126,-223 132,-223 132,-223 264,-223 264,-223 270,-223 276,-229 276,-235 276,-235 276,-294 276,-294 276,-300 270,-306 264,-306\"/>\n",
       "<text text-anchor=\"start\" x=\"128\" y=\"-290.8\" font-family=\"Helvetica,sans-Serif\" font-size=\"14.00\">texture_mean ≤ 21.435</text>\n",
       "<text text-anchor=\"start\" x=\"151\" y=\"-275.8\" font-family=\"Helvetica,sans-Serif\" font-size=\"14.00\">entropy = 0.113</text>\n",
       "<text text-anchor=\"start\" x=\"153\" y=\"-260.8\" font-family=\"Helvetica,sans-Serif\" font-size=\"14.00\">samples = 264</text>\n",
       "<text text-anchor=\"start\" x=\"151\" y=\"-245.8\" font-family=\"Helvetica,sans-Serif\" font-size=\"14.00\">value = [260, 4]</text>\n",
       "<text text-anchor=\"start\" x=\"168.5\" y=\"-230.8\" font-family=\"Helvetica,sans-Serif\" font-size=\"14.00\">class = M</text>\n",
       "</g>\n",
       "<!-- 1&#45;&gt;2 -->\n",
       "<g id=\"edge2\" class=\"edge\">\n",
       "<title>1&#45;&gt;2</title>\n",
       "<path fill=\"none\" stroke=\"black\" d=\"M347.55,-341.91C327.41,-331.62 305.66,-320.51 285.16,-310.03\"/>\n",
       "<polygon fill=\"black\" stroke=\"black\" points=\"286.65,-306.86 276.15,-305.43 283.46,-313.09 286.65,-306.86\"/>\n",
       "</g>\n",
       "<!-- 7 -->\n",
       "<g id=\"node8\" class=\"node\">\n",
       "<title>7</title>\n",
       "<path fill=\"#baddf6\" stroke=\"black\" d=\"M484.5,-306C484.5,-306 369.5,-306 369.5,-306 363.5,-306 357.5,-300 357.5,-294 357.5,-294 357.5,-235 357.5,-235 357.5,-229 363.5,-223 369.5,-223 369.5,-223 484.5,-223 484.5,-223 490.5,-223 496.5,-229 496.5,-235 496.5,-235 496.5,-294 496.5,-294 496.5,-300 490.5,-306 484.5,-306\"/>\n",
       "<text text-anchor=\"start\" x=\"365.5\" y=\"-290.8\" font-family=\"Helvetica,sans-Serif\" font-size=\"14.00\">texture_worst ≤ 26.9</text>\n",
       "<text text-anchor=\"start\" x=\"379.5\" y=\"-275.8\" font-family=\"Helvetica,sans-Serif\" font-size=\"14.00\">entropy = 0.968</text>\n",
       "<text text-anchor=\"start\" x=\"386\" y=\"-260.8\" font-family=\"Helvetica,sans-Serif\" font-size=\"14.00\">samples = 38</text>\n",
       "<text text-anchor=\"start\" x=\"380\" y=\"-245.8\" font-family=\"Helvetica,sans-Serif\" font-size=\"14.00\">value = [15, 23]</text>\n",
       "<text text-anchor=\"start\" x=\"399\" y=\"-230.8\" font-family=\"Helvetica,sans-Serif\" font-size=\"14.00\">class = B</text>\n",
       "</g>\n",
       "<!-- 1&#45;&gt;7 -->\n",
       "<g id=\"edge7\" class=\"edge\">\n",
       "<title>1&#45;&gt;7</title>\n",
       "<path fill=\"none\" stroke=\"black\" d=\"M427,-341.91C427,-333.65 427,-324.86 427,-316.3\"/>\n",
       "<polygon fill=\"black\" stroke=\"black\" points=\"430.5,-316.02 427,-306.02 423.5,-316.02 430.5,-316.02\"/>\n",
       "</g>\n",
       "<!-- 3 -->\n",
       "<g id=\"node4\" class=\"node\">\n",
       "<title>3</title>\n",
       "<path fill=\"#e58139\" stroke=\"black\" d=\"M98,-179.5C98,-179.5 12,-179.5 12,-179.5 6,-179.5 0,-173.5 0,-167.5 0,-167.5 0,-123.5 0,-123.5 0,-117.5 6,-111.5 12,-111.5 12,-111.5 98,-111.5 98,-111.5 104,-111.5 110,-117.5 110,-123.5 110,-123.5 110,-167.5 110,-167.5 110,-173.5 104,-179.5 98,-179.5\"/>\n",
       "<text text-anchor=\"start\" x=\"15\" y=\"-164.3\" font-family=\"Helvetica,sans-Serif\" font-size=\"14.00\">entropy = 0.0</text>\n",
       "<text text-anchor=\"start\" x=\"10\" y=\"-149.3\" font-family=\"Helvetica,sans-Serif\" font-size=\"14.00\">samples = 212</text>\n",
       "<text text-anchor=\"start\" x=\"8\" y=\"-134.3\" font-family=\"Helvetica,sans-Serif\" font-size=\"14.00\">value = [212, 0]</text>\n",
       "<text text-anchor=\"start\" x=\"25.5\" y=\"-119.3\" font-family=\"Helvetica,sans-Serif\" font-size=\"14.00\">class = M</text>\n",
       "</g>\n",
       "<!-- 2&#45;&gt;3 -->\n",
       "<g id=\"edge3\" class=\"edge\">\n",
       "<title>2&#45;&gt;3</title>\n",
       "<path fill=\"none\" stroke=\"black\" d=\"M148.39,-222.91C133.82,-210.99 117.91,-197.98 103.42,-186.12\"/>\n",
       "<polygon fill=\"black\" stroke=\"black\" points=\"105.49,-183.29 95.54,-179.67 101.06,-188.71 105.49,-183.29\"/>\n",
       "</g>\n",
       "<!-- 4 -->\n",
       "<g id=\"node5\" class=\"node\">\n",
       "<title>4</title>\n",
       "<path fill=\"#e78c49\" stroke=\"black\" d=\"M256,-187C256,-187 140,-187 140,-187 134,-187 128,-181 128,-175 128,-175 128,-116 128,-116 128,-110 134,-104 140,-104 140,-104 256,-104 256,-104 262,-104 268,-110 268,-116 268,-116 268,-175 268,-175 268,-181 262,-187 256,-187\"/>\n",
       "<text text-anchor=\"start\" x=\"136\" y=\"-171.8\" font-family=\"Helvetica,sans-Serif\" font-size=\"14.00\">area_worst ≤ 646.45</text>\n",
       "<text text-anchor=\"start\" x=\"150.5\" y=\"-156.8\" font-family=\"Helvetica,sans-Serif\" font-size=\"14.00\">entropy = 0.391</text>\n",
       "<text text-anchor=\"start\" x=\"157\" y=\"-141.8\" font-family=\"Helvetica,sans-Serif\" font-size=\"14.00\">samples = 52</text>\n",
       "<text text-anchor=\"start\" x=\"155\" y=\"-126.8\" font-family=\"Helvetica,sans-Serif\" font-size=\"14.00\">value = [48, 4]</text>\n",
       "<text text-anchor=\"start\" x=\"168.5\" y=\"-111.8\" font-family=\"Helvetica,sans-Serif\" font-size=\"14.00\">class = M</text>\n",
       "</g>\n",
       "<!-- 2&#45;&gt;4 -->\n",
       "<g id=\"edge4\" class=\"edge\">\n",
       "<title>2&#45;&gt;4</title>\n",
       "<path fill=\"none\" stroke=\"black\" d=\"M198,-222.91C198,-214.65 198,-205.86 198,-197.3\"/>\n",
       "<polygon fill=\"black\" stroke=\"black\" points=\"201.5,-197.02 198,-187.02 194.5,-197.02 201.5,-197.02\"/>\n",
       "</g>\n",
       "<!-- 5 -->\n",
       "<g id=\"node6\" class=\"node\">\n",
       "<title>5</title>\n",
       "<path fill=\"#e58139\" stroke=\"black\" d=\"M127,-68C127,-68 49,-68 49,-68 43,-68 37,-62 37,-56 37,-56 37,-12 37,-12 37,-6 43,0 49,0 49,0 127,0 127,0 133,0 139,-6 139,-12 139,-12 139,-56 139,-56 139,-62 133,-68 127,-68\"/>\n",
       "<text text-anchor=\"start\" x=\"48\" y=\"-52.8\" font-family=\"Helvetica,sans-Serif\" font-size=\"14.00\">entropy = 0.0</text>\n",
       "<text text-anchor=\"start\" x=\"47\" y=\"-37.8\" font-family=\"Helvetica,sans-Serif\" font-size=\"14.00\">samples = 34</text>\n",
       "<text text-anchor=\"start\" x=\"45\" y=\"-22.8\" font-family=\"Helvetica,sans-Serif\" font-size=\"14.00\">value = [34, 0]</text>\n",
       "<text text-anchor=\"start\" x=\"58.5\" y=\"-7.8\" font-family=\"Helvetica,sans-Serif\" font-size=\"14.00\">class = M</text>\n",
       "</g>\n",
       "<!-- 4&#45;&gt;5 -->\n",
       "<g id=\"edge5\" class=\"edge\">\n",
       "<title>4&#45;&gt;5</title>\n",
       "<path fill=\"none\" stroke=\"black\" d=\"M157.04,-103.73C147.79,-94.51 137.96,-84.74 128.72,-75.53\"/>\n",
       "<polygon fill=\"black\" stroke=\"black\" points=\"131.01,-72.87 121.45,-68.3 126.07,-77.84 131.01,-72.87\"/>\n",
       "</g>\n",
       "<!-- 6 -->\n",
       "<g id=\"node7\" class=\"node\">\n",
       "<title>6</title>\n",
       "<path fill=\"#eca572\" stroke=\"black\" d=\"M256.5,-68C256.5,-68 169.5,-68 169.5,-68 163.5,-68 157.5,-62 157.5,-56 157.5,-56 157.5,-12 157.5,-12 157.5,-6 163.5,0 169.5,0 169.5,0 256.5,0 256.5,0 262.5,0 268.5,-6 268.5,-12 268.5,-12 268.5,-56 268.5,-56 268.5,-62 262.5,-68 256.5,-68\"/>\n",
       "<text text-anchor=\"start\" x=\"165.5\" y=\"-52.8\" font-family=\"Helvetica,sans-Serif\" font-size=\"14.00\">entropy = 0.764</text>\n",
       "<text text-anchor=\"start\" x=\"172\" y=\"-37.8\" font-family=\"Helvetica,sans-Serif\" font-size=\"14.00\">samples = 18</text>\n",
       "<text text-anchor=\"start\" x=\"170\" y=\"-22.8\" font-family=\"Helvetica,sans-Serif\" font-size=\"14.00\">value = [14, 4]</text>\n",
       "<text text-anchor=\"start\" x=\"183.5\" y=\"-7.8\" font-family=\"Helvetica,sans-Serif\" font-size=\"14.00\">class = M</text>\n",
       "</g>\n",
       "<!-- 4&#45;&gt;6 -->\n",
       "<g id=\"edge6\" class=\"edge\">\n",
       "<title>4&#45;&gt;6</title>\n",
       "<path fill=\"none\" stroke=\"black\" d=\"M203.59,-103.73C204.72,-95.43 205.92,-86.67 207.07,-78.28\"/>\n",
       "<polygon fill=\"black\" stroke=\"black\" points=\"210.55,-78.68 208.44,-68.3 203.61,-77.73 210.55,-78.68\"/>\n",
       "</g>\n",
       "<!-- 8 -->\n",
       "<g id=\"node9\" class=\"node\">\n",
       "<title>8</title>\n",
       "<path fill=\"#f1bc95\" stroke=\"black\" d=\"M469.5,-187C469.5,-187 298.5,-187 298.5,-187 292.5,-187 286.5,-181 286.5,-175 286.5,-175 286.5,-116 286.5,-116 286.5,-110 292.5,-104 298.5,-104 298.5,-104 469.5,-104 469.5,-104 475.5,-104 481.5,-110 481.5,-116 481.5,-116 481.5,-175 481.5,-175 481.5,-181 475.5,-187 469.5,-187\"/>\n",
       "<text text-anchor=\"start\" x=\"294.5\" y=\"-171.8\" font-family=\"Helvetica,sans-Serif\" font-size=\"14.00\">concave points_worst ≤ 0.181</text>\n",
       "<text text-anchor=\"start\" x=\"336.5\" y=\"-156.8\" font-family=\"Helvetica,sans-Serif\" font-size=\"14.00\">entropy = 0.902</text>\n",
       "<text text-anchor=\"start\" x=\"343\" y=\"-141.8\" font-family=\"Helvetica,sans-Serif\" font-size=\"14.00\">samples = 22</text>\n",
       "<text text-anchor=\"start\" x=\"341\" y=\"-126.8\" font-family=\"Helvetica,sans-Serif\" font-size=\"14.00\">value = [15, 7]</text>\n",
       "<text text-anchor=\"start\" x=\"354.5\" y=\"-111.8\" font-family=\"Helvetica,sans-Serif\" font-size=\"14.00\">class = M</text>\n",
       "</g>\n",
       "<!-- 7&#45;&gt;8 -->\n",
       "<g id=\"edge8\" class=\"edge\">\n",
       "<title>7&#45;&gt;8</title>\n",
       "<path fill=\"none\" stroke=\"black\" d=\"M412.08,-222.91C408.95,-214.38 405.6,-205.28 402.36,-196.46\"/>\n",
       "<polygon fill=\"black\" stroke=\"black\" points=\"405.63,-195.2 398.89,-187.02 399.06,-197.61 405.63,-195.2\"/>\n",
       "</g>\n",
       "<!-- 11 -->\n",
       "<g id=\"node12\" class=\"node\">\n",
       "<title>11</title>\n",
       "<path fill=\"#399de5\" stroke=\"black\" d=\"M590,-179.5C590,-179.5 512,-179.5 512,-179.5 506,-179.5 500,-173.5 500,-167.5 500,-167.5 500,-123.5 500,-123.5 500,-117.5 506,-111.5 512,-111.5 512,-111.5 590,-111.5 590,-111.5 596,-111.5 602,-117.5 602,-123.5 602,-123.5 602,-167.5 602,-167.5 602,-173.5 596,-179.5 590,-179.5\"/>\n",
       "<text text-anchor=\"start\" x=\"511\" y=\"-164.3\" font-family=\"Helvetica,sans-Serif\" font-size=\"14.00\">entropy = 0.0</text>\n",
       "<text text-anchor=\"start\" x=\"510\" y=\"-149.3\" font-family=\"Helvetica,sans-Serif\" font-size=\"14.00\">samples = 16</text>\n",
       "<text text-anchor=\"start\" x=\"508\" y=\"-134.3\" font-family=\"Helvetica,sans-Serif\" font-size=\"14.00\">value = [0, 16]</text>\n",
       "<text text-anchor=\"start\" x=\"523\" y=\"-119.3\" font-family=\"Helvetica,sans-Serif\" font-size=\"14.00\">class = B</text>\n",
       "</g>\n",
       "<!-- 7&#45;&gt;11 -->\n",
       "<g id=\"edge11\" class=\"edge\">\n",
       "<title>7&#45;&gt;11</title>\n",
       "<path fill=\"none\" stroke=\"black\" d=\"M470.02,-222.91C482.42,-211.21 495.93,-198.46 508.31,-186.78\"/>\n",
       "<polygon fill=\"black\" stroke=\"black\" points=\"510.98,-189.08 515.85,-179.67 506.17,-183.98 510.98,-189.08\"/>\n",
       "</g>\n",
       "<!-- 9 -->\n",
       "<g id=\"node10\" class=\"node\">\n",
       "<title>9</title>\n",
       "<path fill=\"#ea9a61\" stroke=\"black\" d=\"M409,-68C409,-68 329,-68 329,-68 323,-68 317,-62 317,-56 317,-56 317,-12 317,-12 317,-6 323,0 329,0 329,0 409,0 409,0 415,0 421,-6 421,-12 421,-12 421,-56 421,-56 421,-62 415,-68 409,-68\"/>\n",
       "<text text-anchor=\"start\" x=\"325\" y=\"-52.8\" font-family=\"Helvetica,sans-Serif\" font-size=\"14.00\">entropy = 0.65</text>\n",
       "<text text-anchor=\"start\" x=\"328\" y=\"-37.8\" font-family=\"Helvetica,sans-Serif\" font-size=\"14.00\">samples = 18</text>\n",
       "<text text-anchor=\"start\" x=\"326\" y=\"-22.8\" font-family=\"Helvetica,sans-Serif\" font-size=\"14.00\">value = [15, 3]</text>\n",
       "<text text-anchor=\"start\" x=\"339.5\" y=\"-7.8\" font-family=\"Helvetica,sans-Serif\" font-size=\"14.00\">class = M</text>\n",
       "</g>\n",
       "<!-- 8&#45;&gt;9 -->\n",
       "<g id=\"edge9\" class=\"edge\">\n",
       "<title>8&#45;&gt;9</title>\n",
       "<path fill=\"none\" stroke=\"black\" d=\"M378.41,-103.73C377.28,-95.43 376.08,-86.67 374.93,-78.28\"/>\n",
       "<polygon fill=\"black\" stroke=\"black\" points=\"378.39,-77.73 373.56,-68.3 371.45,-78.68 378.39,-77.73\"/>\n",
       "</g>\n",
       "<!-- 10 -->\n",
       "<g id=\"node11\" class=\"node\">\n",
       "<title>10</title>\n",
       "<path fill=\"#399de5\" stroke=\"black\" d=\"M523,-68C523,-68 451,-68 451,-68 445,-68 439,-62 439,-56 439,-56 439,-12 439,-12 439,-6 445,0 451,0 451,0 523,0 523,0 529,0 535,-6 535,-12 535,-12 535,-56 535,-56 535,-62 529,-68 523,-68\"/>\n",
       "<text text-anchor=\"start\" x=\"447\" y=\"-52.8\" font-family=\"Helvetica,sans-Serif\" font-size=\"14.00\">entropy = 0.0</text>\n",
       "<text text-anchor=\"start\" x=\"449.5\" y=\"-37.8\" font-family=\"Helvetica,sans-Serif\" font-size=\"14.00\">samples = 4</text>\n",
       "<text text-anchor=\"start\" x=\"447.5\" y=\"-22.8\" font-family=\"Helvetica,sans-Serif\" font-size=\"14.00\">value = [0, 4]</text>\n",
       "<text text-anchor=\"start\" x=\"459\" y=\"-7.8\" font-family=\"Helvetica,sans-Serif\" font-size=\"14.00\">class = B</text>\n",
       "</g>\n",
       "<!-- 8&#45;&gt;10 -->\n",
       "<g id=\"edge10\" class=\"edge\">\n",
       "<title>8&#45;&gt;10</title>\n",
       "<path fill=\"none\" stroke=\"black\" d=\"M422.35,-103.73C430.93,-94.61 440.03,-84.93 448.61,-75.81\"/>\n",
       "<polygon fill=\"black\" stroke=\"black\" points=\"451.37,-77.98 455.68,-68.3 446.28,-73.19 451.37,-77.98\"/>\n",
       "</g>\n",
       "<!-- 13 -->\n",
       "<g id=\"node14\" class=\"node\">\n",
       "<title>13</title>\n",
       "<path fill=\"#ffffff\" stroke=\"black\" d=\"M805,-306C805,-306 673,-306 673,-306 667,-306 661,-300 661,-294 661,-294 661,-235 661,-235 661,-229 667,-223 673,-223 673,-223 805,-223 805,-223 811,-223 817,-229 817,-235 817,-235 817,-294 817,-294 817,-300 811,-306 805,-306\"/>\n",
       "<text text-anchor=\"start\" x=\"669\" y=\"-290.8\" font-family=\"Helvetica,sans-Serif\" font-size=\"14.00\">texture_mean ≤ 18.835</text>\n",
       "<text text-anchor=\"start\" x=\"699\" y=\"-275.8\" font-family=\"Helvetica,sans-Serif\" font-size=\"14.00\">entropy = 1.0</text>\n",
       "<text text-anchor=\"start\" x=\"698\" y=\"-260.8\" font-family=\"Helvetica,sans-Serif\" font-size=\"14.00\">samples = 16</text>\n",
       "<text text-anchor=\"start\" x=\"699.5\" y=\"-245.8\" font-family=\"Helvetica,sans-Serif\" font-size=\"14.00\">value = [8, 8]</text>\n",
       "<text text-anchor=\"start\" x=\"709.5\" y=\"-230.8\" font-family=\"Helvetica,sans-Serif\" font-size=\"14.00\">class = M</text>\n",
       "</g>\n",
       "<!-- 12&#45;&gt;13 -->\n",
       "<g id=\"edge13\" class=\"edge\">\n",
       "<title>12&#45;&gt;13</title>\n",
       "<path fill=\"none\" stroke=\"black\" d=\"M739,-341.91C739,-333.65 739,-324.86 739,-316.3\"/>\n",
       "<polygon fill=\"black\" stroke=\"black\" points=\"742.5,-316.02 739,-306.02 735.5,-316.02 742.5,-316.02\"/>\n",
       "</g>\n",
       "<!-- 18 -->\n",
       "<g id=\"node19\" class=\"node\">\n",
       "<title>18</title>\n",
       "<path fill=\"#3a9ee5\" stroke=\"black\" d=\"M1040.5,-306C1040.5,-306 919.5,-306 919.5,-306 913.5,-306 907.5,-300 907.5,-294 907.5,-294 907.5,-235 907.5,-235 907.5,-229 913.5,-223 919.5,-223 919.5,-223 1040.5,-223 1040.5,-223 1046.5,-223 1052.5,-229 1052.5,-235 1052.5,-235 1052.5,-294 1052.5,-294 1052.5,-300 1046.5,-306 1040.5,-306\"/>\n",
       "<text text-anchor=\"start\" x=\"915.5\" y=\"-290.8\" font-family=\"Helvetica,sans-Serif\" font-size=\"14.00\">perimeter_se ≤ 1.373</text>\n",
       "<text text-anchor=\"start\" x=\"932.5\" y=\"-275.8\" font-family=\"Helvetica,sans-Serif\" font-size=\"14.00\">entropy = 0.062</text>\n",
       "<text text-anchor=\"start\" x=\"935\" y=\"-260.8\" font-family=\"Helvetica,sans-Serif\" font-size=\"14.00\">samples = 137</text>\n",
       "<text text-anchor=\"start\" x=\"933\" y=\"-245.8\" font-family=\"Helvetica,sans-Serif\" font-size=\"14.00\">value = [1, 136]</text>\n",
       "<text text-anchor=\"start\" x=\"952\" y=\"-230.8\" font-family=\"Helvetica,sans-Serif\" font-size=\"14.00\">class = B</text>\n",
       "</g>\n",
       "<!-- 12&#45;&gt;18 -->\n",
       "<g id=\"edge18\" class=\"edge\">\n",
       "<title>12&#45;&gt;18</title>\n",
       "<path fill=\"none\" stroke=\"black\" d=\"M821.26,-342.56C846.16,-330.48 873.49,-317.21 898.34,-305.14\"/>\n",
       "<polygon fill=\"black\" stroke=\"black\" points=\"899.91,-308.27 907.38,-300.76 896.85,-301.97 899.91,-308.27\"/>\n",
       "</g>\n",
       "<!-- 14 -->\n",
       "<g id=\"node15\" class=\"node\">\n",
       "<title>14</title>\n",
       "<path fill=\"#e58139\" stroke=\"black\" d=\"M704,-179.5C704,-179.5 632,-179.5 632,-179.5 626,-179.5 620,-173.5 620,-167.5 620,-167.5 620,-123.5 620,-123.5 620,-117.5 626,-111.5 632,-111.5 632,-111.5 704,-111.5 704,-111.5 710,-111.5 716,-117.5 716,-123.5 716,-123.5 716,-167.5 716,-167.5 716,-173.5 710,-179.5 704,-179.5\"/>\n",
       "<text text-anchor=\"start\" x=\"628\" y=\"-164.3\" font-family=\"Helvetica,sans-Serif\" font-size=\"14.00\">entropy = 0.0</text>\n",
       "<text text-anchor=\"start\" x=\"630.5\" y=\"-149.3\" font-family=\"Helvetica,sans-Serif\" font-size=\"14.00\">samples = 7</text>\n",
       "<text text-anchor=\"start\" x=\"628.5\" y=\"-134.3\" font-family=\"Helvetica,sans-Serif\" font-size=\"14.00\">value = [7, 0]</text>\n",
       "<text text-anchor=\"start\" x=\"638.5\" y=\"-119.3\" font-family=\"Helvetica,sans-Serif\" font-size=\"14.00\">class = M</text>\n",
       "</g>\n",
       "<!-- 13&#45;&gt;14 -->\n",
       "<g id=\"edge14\" class=\"edge\">\n",
       "<title>13&#45;&gt;14</title>\n",
       "<path fill=\"none\" stroke=\"black\" d=\"M714.37,-222.91C707.6,-211.76 700.26,-199.66 693.45,-188.44\"/>\n",
       "<polygon fill=\"black\" stroke=\"black\" points=\"696.31,-186.4 688.13,-179.67 690.32,-190.03 696.31,-186.4\"/>\n",
       "</g>\n",
       "<!-- 15 -->\n",
       "<g id=\"node16\" class=\"node\">\n",
       "<title>15</title>\n",
       "<path fill=\"#52a9e8\" stroke=\"black\" d=\"M901.5,-187C901.5,-187 746.5,-187 746.5,-187 740.5,-187 734.5,-181 734.5,-175 734.5,-175 734.5,-116 734.5,-116 734.5,-110 740.5,-104 746.5,-104 746.5,-104 901.5,-104 901.5,-104 907.5,-104 913.5,-110 913.5,-116 913.5,-116 913.5,-175 913.5,-175 913.5,-181 907.5,-187 901.5,-187\"/>\n",
       "<text text-anchor=\"start\" x=\"742.5\" y=\"-171.8\" font-family=\"Helvetica,sans-Serif\" font-size=\"14.00\">smoothness_worst ≤ 0.094</text>\n",
       "<text text-anchor=\"start\" x=\"776.5\" y=\"-156.8\" font-family=\"Helvetica,sans-Serif\" font-size=\"14.00\">entropy = 0.503</text>\n",
       "<text text-anchor=\"start\" x=\"786.5\" y=\"-141.8\" font-family=\"Helvetica,sans-Serif\" font-size=\"14.00\">samples = 9</text>\n",
       "<text text-anchor=\"start\" x=\"784.5\" y=\"-126.8\" font-family=\"Helvetica,sans-Serif\" font-size=\"14.00\">value = [1, 8]</text>\n",
       "<text text-anchor=\"start\" x=\"796\" y=\"-111.8\" font-family=\"Helvetica,sans-Serif\" font-size=\"14.00\">class = B</text>\n",
       "</g>\n",
       "<!-- 13&#45;&gt;15 -->\n",
       "<g id=\"edge15\" class=\"edge\">\n",
       "<title>13&#45;&gt;15</title>\n",
       "<path fill=\"none\" stroke=\"black\" d=\"M768.49,-222.91C774.95,-214.01 781.86,-204.51 788.52,-195.33\"/>\n",
       "<polygon fill=\"black\" stroke=\"black\" points=\"791.52,-197.17 794.56,-187.02 785.85,-193.05 791.52,-197.17\"/>\n",
       "</g>\n",
       "<!-- 16 -->\n",
       "<g id=\"node17\" class=\"node\">\n",
       "<title>16</title>\n",
       "<path fill=\"#e58139\" stroke=\"black\" d=\"M803,-68C803,-68 731,-68 731,-68 725,-68 719,-62 719,-56 719,-56 719,-12 719,-12 719,-6 725,0 731,0 731,0 803,0 803,0 809,0 815,-6 815,-12 815,-12 815,-56 815,-56 815,-62 809,-68 803,-68\"/>\n",
       "<text text-anchor=\"start\" x=\"727\" y=\"-52.8\" font-family=\"Helvetica,sans-Serif\" font-size=\"14.00\">entropy = 0.0</text>\n",
       "<text text-anchor=\"start\" x=\"729.5\" y=\"-37.8\" font-family=\"Helvetica,sans-Serif\" font-size=\"14.00\">samples = 1</text>\n",
       "<text text-anchor=\"start\" x=\"727.5\" y=\"-22.8\" font-family=\"Helvetica,sans-Serif\" font-size=\"14.00\">value = [1, 0]</text>\n",
       "<text text-anchor=\"start\" x=\"737.5\" y=\"-7.8\" font-family=\"Helvetica,sans-Serif\" font-size=\"14.00\">class = M</text>\n",
       "</g>\n",
       "<!-- 15&#45;&gt;16 -->\n",
       "<g id=\"edge16\" class=\"edge\">\n",
       "<title>15&#45;&gt;16</title>\n",
       "<path fill=\"none\" stroke=\"black\" d=\"M802.78,-103.73C798.26,-95.06 793.49,-85.9 788.96,-77.18\"/>\n",
       "<polygon fill=\"black\" stroke=\"black\" points=\"792.06,-75.55 784.33,-68.3 785.85,-78.79 792.06,-75.55\"/>\n",
       "</g>\n",
       "<!-- 17 -->\n",
       "<g id=\"node18\" class=\"node\">\n",
       "<title>17</title>\n",
       "<path fill=\"#399de5\" stroke=\"black\" d=\"M917,-68C917,-68 845,-68 845,-68 839,-68 833,-62 833,-56 833,-56 833,-12 833,-12 833,-6 839,0 845,0 845,0 917,0 917,0 923,0 929,-6 929,-12 929,-12 929,-56 929,-56 929,-62 923,-68 917,-68\"/>\n",
       "<text text-anchor=\"start\" x=\"841\" y=\"-52.8\" font-family=\"Helvetica,sans-Serif\" font-size=\"14.00\">entropy = 0.0</text>\n",
       "<text text-anchor=\"start\" x=\"843.5\" y=\"-37.8\" font-family=\"Helvetica,sans-Serif\" font-size=\"14.00\">samples = 8</text>\n",
       "<text text-anchor=\"start\" x=\"841.5\" y=\"-22.8\" font-family=\"Helvetica,sans-Serif\" font-size=\"14.00\">value = [0, 8]</text>\n",
       "<text text-anchor=\"start\" x=\"853\" y=\"-7.8\" font-family=\"Helvetica,sans-Serif\" font-size=\"14.00\">class = B</text>\n",
       "</g>\n",
       "<!-- 15&#45;&gt;17 -->\n",
       "<g id=\"edge17\" class=\"edge\">\n",
       "<title>15&#45;&gt;17</title>\n",
       "<path fill=\"none\" stroke=\"black\" d=\"M845.22,-103.73C849.74,-95.06 854.51,-85.9 859.04,-77.18\"/>\n",
       "<polygon fill=\"black\" stroke=\"black\" points=\"862.15,-78.79 863.67,-68.3 855.94,-75.55 862.15,-78.79\"/>\n",
       "</g>\n",
       "<!-- 19 -->\n",
       "<g id=\"node20\" class=\"node\">\n",
       "<title>19</title>\n",
       "<path fill=\"#e58139\" stroke=\"black\" d=\"M1016,-179.5C1016,-179.5 944,-179.5 944,-179.5 938,-179.5 932,-173.5 932,-167.5 932,-167.5 932,-123.5 932,-123.5 932,-117.5 938,-111.5 944,-111.5 944,-111.5 1016,-111.5 1016,-111.5 1022,-111.5 1028,-117.5 1028,-123.5 1028,-123.5 1028,-167.5 1028,-167.5 1028,-173.5 1022,-179.5 1016,-179.5\"/>\n",
       "<text text-anchor=\"start\" x=\"940\" y=\"-164.3\" font-family=\"Helvetica,sans-Serif\" font-size=\"14.00\">entropy = 0.0</text>\n",
       "<text text-anchor=\"start\" x=\"942.5\" y=\"-149.3\" font-family=\"Helvetica,sans-Serif\" font-size=\"14.00\">samples = 1</text>\n",
       "<text text-anchor=\"start\" x=\"940.5\" y=\"-134.3\" font-family=\"Helvetica,sans-Serif\" font-size=\"14.00\">value = [1, 0]</text>\n",
       "<text text-anchor=\"start\" x=\"950.5\" y=\"-119.3\" font-family=\"Helvetica,sans-Serif\" font-size=\"14.00\">class = M</text>\n",
       "</g>\n",
       "<!-- 18&#45;&gt;19 -->\n",
       "<g id=\"edge19\" class=\"edge\">\n",
       "<title>18&#45;&gt;19</title>\n",
       "<path fill=\"none\" stroke=\"black\" d=\"M980,-222.91C980,-212.2 980,-200.62 980,-189.78\"/>\n",
       "<polygon fill=\"black\" stroke=\"black\" points=\"983.5,-189.67 980,-179.67 976.5,-189.67 983.5,-189.67\"/>\n",
       "</g>\n",
       "<!-- 20 -->\n",
       "<g id=\"node21\" class=\"node\">\n",
       "<title>20</title>\n",
       "<path fill=\"#399de5\" stroke=\"black\" d=\"M1144,-179.5C1144,-179.5 1058,-179.5 1058,-179.5 1052,-179.5 1046,-173.5 1046,-167.5 1046,-167.5 1046,-123.5 1046,-123.5 1046,-117.5 1052,-111.5 1058,-111.5 1058,-111.5 1144,-111.5 1144,-111.5 1150,-111.5 1156,-117.5 1156,-123.5 1156,-123.5 1156,-167.5 1156,-167.5 1156,-173.5 1150,-179.5 1144,-179.5\"/>\n",
       "<text text-anchor=\"start\" x=\"1061\" y=\"-164.3\" font-family=\"Helvetica,sans-Serif\" font-size=\"14.00\">entropy = 0.0</text>\n",
       "<text text-anchor=\"start\" x=\"1056\" y=\"-149.3\" font-family=\"Helvetica,sans-Serif\" font-size=\"14.00\">samples = 136</text>\n",
       "<text text-anchor=\"start\" x=\"1054\" y=\"-134.3\" font-family=\"Helvetica,sans-Serif\" font-size=\"14.00\">value = [0, 136]</text>\n",
       "<text text-anchor=\"start\" x=\"1073\" y=\"-119.3\" font-family=\"Helvetica,sans-Serif\" font-size=\"14.00\">class = B</text>\n",
       "</g>\n",
       "<!-- 18&#45;&gt;20 -->\n",
       "<g id=\"edge20\" class=\"edge\">\n",
       "<title>18&#45;&gt;20</title>\n",
       "<path fill=\"none\" stroke=\"black\" d=\"M1021.98,-222.91C1034.08,-211.21 1047.27,-198.46 1059.34,-186.78\"/>\n",
       "<polygon fill=\"black\" stroke=\"black\" points=\"1061.94,-189.13 1066.7,-179.67 1057.08,-184.1 1061.94,-189.13\"/>\n",
       "</g>\n",
       "</g>\n",
       "</svg>\n"
      ],
      "text/plain": [
       "<graphviz.sources.Source at 0x21424416100>"
      ]
     },
     "metadata": {},
     "output_type": "display_data"
    }
   ],
   "source": [
    "import graphviz \n",
    "dot_data = tree.export_graphviz(dt_clf, \n",
    "                                out_file=None,\n",
    "                                feature_names=data.columns,\n",
    "                                class_names= target.unique(),\n",
    "                                filled=True, \n",
    "                                rounded=True,\n",
    "                                special_characters=True)  \n",
    "graph = graphviz.Source(dot_data)\n",
    "display(graph)"
   ]
  },
  {
   "cell_type": "code",
   "execution_count": 17,
   "metadata": {
    "deletable": false,
    "editable": false,
    "function": "solution"
   },
   "outputs": [
    {
     "data": {
      "text/html": [
       "<div>\n",
       "<style scoped>\n",
       "    .dataframe tbody tr th:only-of-type {\n",
       "        vertical-align: middle;\n",
       "    }\n",
       "\n",
       "    .dataframe tbody tr th {\n",
       "        vertical-align: top;\n",
       "    }\n",
       "\n",
       "    .dataframe thead th {\n",
       "        text-align: right;\n",
       "    }\n",
       "</style>\n",
       "<table border=\"1\" class=\"dataframe\">\n",
       "  <thead>\n",
       "    <tr style=\"text-align: right;\">\n",
       "      <th></th>\n",
       "      <th>Importance</th>\n",
       "    </tr>\n",
       "  </thead>\n",
       "  <tbody>\n",
       "    <tr>\n",
       "      <th>radius_worst</th>\n",
       "      <td>0.620770</td>\n",
       "    </tr>\n",
       "    <tr>\n",
       "      <th>concave points_worst</th>\n",
       "      <td>0.177674</td>\n",
       "    </tr>\n",
       "    <tr>\n",
       "      <th>concavity_mean</th>\n",
       "      <td>0.060736</td>\n",
       "    </tr>\n",
       "    <tr>\n",
       "      <th>texture_mean</th>\n",
       "      <td>0.051408</td>\n",
       "    </tr>\n",
       "    <tr>\n",
       "      <th>texture_worst</th>\n",
       "      <td>0.041369</td>\n",
       "    </tr>\n",
       "    <tr>\n",
       "      <th>perimeter_se</th>\n",
       "      <td>0.020865</td>\n",
       "    </tr>\n",
       "    <tr>\n",
       "      <th>area_worst</th>\n",
       "      <td>0.016107</td>\n",
       "    </tr>\n",
       "    <tr>\n",
       "      <th>smoothness_worst</th>\n",
       "      <td>0.011072</td>\n",
       "    </tr>\n",
       "  </tbody>\n",
       "</table>\n",
       "</div>"
      ],
      "text/plain": [
       "                      Importance\n",
       "radius_worst            0.620770\n",
       "concave points_worst    0.177674\n",
       "concavity_mean          0.060736\n",
       "texture_mean            0.051408\n",
       "texture_worst           0.041369\n",
       "perimeter_se            0.020865\n",
       "area_worst              0.016107\n",
       "smoothness_worst        0.011072"
      ]
     },
     "execution_count": 17,
     "metadata": {},
     "output_type": "execute_result"
    }
   ],
   "source": [
    "feats = {}\n",
    "for feature, importance in zip(data.columns, dt_clf.feature_importances_):\n",
    "    feats[feature] = importance \n",
    "    \n",
    "importances = pd.DataFrame.from_dict(feats, orient='index').rename(columns={0: 'Importance'})\n",
    "importances.sort_values(by='Importance', ascending=False).head(8)\n"
   ]
  },
  {
   "cell_type": "markdown",
   "metadata": {
    "deletable": false,
    "run_control": {
     "frozen": true
    },
    "tags": []
   },
   "source": [
    "\n",
    "> Two impurity measures can be used for decision trees in *scikit-learn*: *Information Gain* or *Entropy* and the *Gini index* (more details on these measures [here](https://en.wikipedia.org/wiki/Decision_Learning#)).\n",
    ">\n",
    "> In summary, entropy is 0 if all the samples of a node belong to the same class, and entropy is maximum if we have a uniform class distribution (i.e. when all the node classes have an equal probability).\n",
    ">\n",
    "> Gini index is similar to entropy, but the choice of the criterion used sometimes gives different classifications.\n",
    "\n",
    "* **(h)** Create a classifier **`dt_clf_gini`**, having for parameters:`riterion ='gini'`, `max_Depth=4` and` random_state=321'.\n",
    "\n",
    "\n",
    "* **(i)** Train the new model on the training set (**`x_train`** and **` y_train`**).\n",
    "\n",
    "\n",
    "* **(j)** Save the predictions of the model on **`x_test`** in **`y_pred`**.\n",
    "\n",
    "\n",
    "* **(k)** Show the corresponding confusion matrix.\n",
    "\n"
   ]
  },
  {
   "cell_type": "code",
   "execution_count": 18,
   "metadata": {},
   "outputs": [
    {
     "data": {
      "text/html": [
       "<div>\n",
       "<style scoped>\n",
       "    .dataframe tbody tr th:only-of-type {\n",
       "        vertical-align: middle;\n",
       "    }\n",
       "\n",
       "    .dataframe tbody tr th {\n",
       "        vertical-align: top;\n",
       "    }\n",
       "\n",
       "    .dataframe thead th {\n",
       "        text-align: right;\n",
       "    }\n",
       "</style>\n",
       "<table border=\"1\" class=\"dataframe\">\n",
       "  <thead>\n",
       "    <tr style=\"text-align: right;\">\n",
       "      <th>y prédit</th>\n",
       "      <th>B</th>\n",
       "      <th>M</th>\n",
       "    </tr>\n",
       "    <tr>\n",
       "      <th>y réel</th>\n",
       "      <th></th>\n",
       "      <th></th>\n",
       "    </tr>\n",
       "  </thead>\n",
       "  <tbody>\n",
       "    <tr>\n",
       "      <th>B</th>\n",
       "      <td>72</td>\n",
       "      <td>1</td>\n",
       "    </tr>\n",
       "    <tr>\n",
       "      <th>M</th>\n",
       "      <td>2</td>\n",
       "      <td>39</td>\n",
       "    </tr>\n",
       "  </tbody>\n",
       "</table>\n",
       "</div>"
      ],
      "text/plain": [
       "y prédit   B   M\n",
       "y réel          \n",
       "B         72   1\n",
       "M          2  39"
      ]
     },
     "metadata": {},
     "output_type": "display_data"
    }
   ],
   "source": [
    "dt_clf_gini = DecisionTreeClassifier(criterion ='gini', max_depth=4, random_state=321)\n",
    "dt_clf_gini.fit(X_train, y_train)\n",
    "\n",
    "y_pred = dt_clf_gini.predict(X_test)\n",
    "cm = pd.crosstab(y_test,y_pred,rownames=['y réel'],colnames=['y prédit'])\n",
    "display(cm)\n",
    "\n"
   ]
  },
  {
   "cell_type": "code",
   "execution_count": null,
   "metadata": {
    "deletable": false,
    "editable": false,
    "function": "solution"
   },
   "outputs": [],
   "source": [
    "dt_clf_gini = DecisionTreeClassifier(criterion='gini', max_depth=4, random_state=321)\n",
    "dt_clf_gini.fit(X_train, y_train)\n",
    "y_pred = dt_clf_gini.predict(X_test)\n",
    "pd.crosstab(y_test, y_pred, rownames=['Classe réelle'], colnames=['Classe prédite'])\n"
   ]
  },
  {
   "cell_type": "markdown",
   "metadata": {
    "deletable": false,
    "run_control": {
     "frozen": true
    },
    "tags": []
   },
   "source": [
    "\n",
    "* **(l)** Display, as in the previous model, the eight most **important** variables, along with their respective importance scores.\n",
    "\n"
   ]
  },
  {
   "cell_type": "code",
   "execution_count": 19,
   "metadata": {},
   "outputs": [
    {
     "data": {
      "text/html": [
       "<div>\n",
       "<style scoped>\n",
       "    .dataframe tbody tr th:only-of-type {\n",
       "        vertical-align: middle;\n",
       "    }\n",
       "\n",
       "    .dataframe tbody tr th {\n",
       "        vertical-align: top;\n",
       "    }\n",
       "\n",
       "    .dataframe thead th {\n",
       "        text-align: right;\n",
       "    }\n",
       "</style>\n",
       "<table border=\"1\" class=\"dataframe\">\n",
       "  <thead>\n",
       "    <tr style=\"text-align: right;\">\n",
       "      <th></th>\n",
       "      <th>Importance</th>\n",
       "    </tr>\n",
       "  </thead>\n",
       "  <tbody>\n",
       "    <tr>\n",
       "      <th>radius_worst</th>\n",
       "      <td>0.718582</td>\n",
       "    </tr>\n",
       "    <tr>\n",
       "      <th>concave points_worst</th>\n",
       "      <td>0.112821</td>\n",
       "    </tr>\n",
       "    <tr>\n",
       "      <th>texture_worst</th>\n",
       "      <td>0.048798</td>\n",
       "    </tr>\n",
       "    <tr>\n",
       "      <th>concavity_mean</th>\n",
       "      <td>0.033920</td>\n",
       "    </tr>\n",
       "    <tr>\n",
       "      <th>texture_mean</th>\n",
       "      <td>0.030343</td>\n",
       "    </tr>\n",
       "    <tr>\n",
       "      <th>perimeter_se</th>\n",
       "      <td>0.019178</td>\n",
       "    </tr>\n",
       "    <tr>\n",
       "      <th>area_worst</th>\n",
       "      <td>0.016458</td>\n",
       "    </tr>\n",
       "    <tr>\n",
       "      <th>smoothness_mean</th>\n",
       "      <td>0.011231</td>\n",
       "    </tr>\n",
       "  </tbody>\n",
       "</table>\n",
       "</div>"
      ],
      "text/plain": [
       "                      Importance\n",
       "radius_worst            0.718582\n",
       "concave points_worst    0.112821\n",
       "texture_worst           0.048798\n",
       "concavity_mean          0.033920\n",
       "texture_mean            0.030343\n",
       "perimeter_se            0.019178\n",
       "area_worst              0.016458\n",
       "smoothness_mean         0.011231"
      ]
     },
     "metadata": {},
     "output_type": "display_data"
    }
   ],
   "source": [
    "feats = {}\n",
    "for feature, importance in zip(data.columns, dt_clf_gini.feature_importances_):\n",
    "    feats[feature] = importance \n",
    "    \n",
    "importances = pd.DataFrame.from_dict(feats, orient='index').rename(columns={0: 'Importance'})\n",
    "display(importances.sort_values(by='Importance', ascending=False).head(8))\n",
    "\n",
    "\n",
    "\n"
   ]
  },
  {
   "cell_type": "code",
   "execution_count": null,
   "metadata": {
    "deletable": false,
    "editable": false,
    "function": "solution"
   },
   "outputs": [],
   "source": [
    "feats = {}\n",
    "for feature, importance in zip(data.columns, dt_clf_gini.feature_importances_):\n",
    "    feats[feature] = importance \n",
    "\n",
    "importances = pd.DataFrame.from_dict(feats, orient='index').rename(columns={0: 'Gini-importance'})\n",
    "\n",
    "#Affixing of the 8 most important variables\n",
    "importances.sort_values(by='Gini-importance', ascending=False).head(8)\n"
   ]
  },
  {
   "cell_type": "markdown",
   "metadata": {
    "deletable": false,
    "run_control": {
     "frozen": true
    },
    "tags": []
   },
   "source": [
    "\n",
    "> The trees corresponding to the classifiers created can be displayed thanks to the function [`plot_tree`](https://scikit-learn.org/stable/modules/generated/sklearn.tree.plot_tree.html).\n",
    "> Visualizing the tree is important for understanding how the model works and how it can potentially be improved (for example, by removing a variable that promotes overfitting).\n",
    ">\n",
    "> Here are the trees corresponding to the two models created:\n",
    "\n",
    "<hr style=\"border-width:2px;border-color:#75DFC1\">\n",
    "<h3 style = \"text-align:center\">4. Tree with the \"entropy\" criterion</h3> \n",
    "<hr style=\"border-width:2px;border-color:#75DFC1\">\n",
    "\n",
    "><img  src=\"https://datascientest.fr/train/assets/entropytree.jpg\" style = \"height:500px\" />\n",
    "\n",
    "<hr style=\"border-width:2px;border-color:#75DFC1\">\n",
    "<h3 style = \"text-align:center\">5. Tree with the \"Gini\" criterion</h3> \n",
    "<hr style=\"border-width:2px;border-color:#75DFC1\">\n",
    "\n",
    "><img  src=\"https://datascientest.fr/train/assets/ginitree.jpg\" style = \"height:500px\" />\n",
    ">\n",
    ">The first summit is the root of the tree. It is located on the first level. The tree contains the frequency distribution of the variable to be predicted `diagnosis`. 455 variables are used for the construction of the tree.<br>\n",
    "> In both cases, the variable `radius_worst` is the first variable used. It is called the segmentation variable. It therefore produces two wire knots, and so on, until a pure class is obtained, where until the number of nodes created reaches the maximum authorized number (here equal to 4).\n",
    "\n",
    "<hr style=\"border-width:2px;border-color:#75DFC1\">\n",
    "<h3 style = \"text-align:center\">Synthesis</h3> \n",
    "<hr style=\"border-width:2px;border-color:#75DFC1\">\n",
    "\n",
    ">Decision-based algorithms make it possible to respond simply and quickly to a classification problem. They do not formulate hypotheses about data and are not affected by the problems of scales for measuring variables.<br>\n",
    "> They can manage both digital and categorical variables, and are easily interpreted.\n",
    ">\n",
    ">However, decision -making models can be quite unstable: they are sensitive to (even fairly low) variations in the learning set in terms of samples or variables considered.<br>\n",
    "> Sometimes, decision trees are also very complex, and badly generalize the learning set (*overfitting*). Additional pruning procedures are used to get around this problem, certain approaches such as **random forests** allow you to get rid of it.\n",
    "\n"
   ]
  },
  {
   "cell_type": "code",
   "execution_count": null,
   "metadata": {},
   "outputs": [],
   "source": []
  }
 ],
 "metadata": {
  "kernelspec": {
   "display_name": "Python 3 (ipykernel)",
   "language": "python",
   "name": "python3"
  },
  "language_info": {
   "codemirror_mode": {
    "name": "ipython",
    "version": 3
   },
   "file_extension": ".py",
   "mimetype": "text/x-python",
   "name": "python",
   "nbconvert_exporter": "python",
   "pygments_lexer": "ipython3",
   "version": "3.9.16"
  },
  "latex_envs": {
   "LaTeX_envs_menu_present": true,
   "autoclose": false,
   "autocomplete": true,
   "bibliofile": "biblio.bib",
   "cite_by": "apalike",
   "current_citInitial": 1,
   "eqLabelWithNumbers": true,
   "eqNumInitial": 1,
   "hotkeys": {
    "equation": "Ctrl-E",
    "itemize": "Ctrl-I"
   },
   "labels_anchors": false,
   "latex_user_defs": false,
   "report_style_numbering": false,
   "user_envs_cfg": false
  },
  "owner": "DataScientest",
  "widgets": {
   "application/vnd.jupyter.widget-state+json": {
    "state": {
     "00b735422b3f4992800542efccc0be66": {
      "model_module": "@jupyter-widgets/base",
      "model_module_version": "2.0.0",
      "model_name": "LayoutModel",
      "state": {
       "align_items": "center"
      }
     },
     "0142528b22ca40ecb2f4e8c877c8d537": {
      "model_module": "@jupyter-widgets/controls",
      "model_module_version": "2.0.0",
      "model_name": "VBoxModel",
      "state": {
       "children": [
        "IPY_MODEL_e875f426190f47fb963e1ab2f61f714c",
        "IPY_MODEL_b834008454ac43fc90d3e07e87c14c3b"
       ],
       "layout": "IPY_MODEL_0c256d31a16d46fb9ef6a8e13fb3fe0c"
      }
     },
     "0670bee7f40d4371bcb42e15e7ccc44e": {
      "model_module": "@jupyter-widgets/base",
      "model_module_version": "2.0.0",
      "model_name": "LayoutModel",
      "state": {
       "align_items": "center",
       "display": "flex",
       "flex_flow": "column"
      }
     },
     "0c256d31a16d46fb9ef6a8e13fb3fe0c": {
      "model_module": "@jupyter-widgets/base",
      "model_module_version": "2.0.0",
      "model_name": "LayoutModel",
      "state": {
       "align_items": "center"
      }
     },
     "0ca650e1b55345bb8a2f83e04c5f2353": {
      "model_module": "@jupyter-widgets/base",
      "model_module_version": "2.0.0",
      "model_name": "LayoutModel",
      "state": {}
     },
     "17c7bc368092409db54be8f8874242ec": {
      "model_module": "@jupyter-widgets/controls",
      "model_module_version": "2.0.0",
      "model_name": "HTMLModel",
      "state": {
       "layout": "IPY_MODEL_0ca650e1b55345bb8a2f83e04c5f2353",
       "style": "IPY_MODEL_a62eaab6a2a0448696cdb19d65294861"
      }
     },
     "1ff7a5ceb5f34332928123ed3ff2cd04": {
      "model_module": "@jupyter-widgets/base",
      "model_module_version": "2.0.0",
      "model_name": "LayoutModel",
      "state": {
       "align_items": "center"
      }
     },
     "24fbf15a4afe41e298b734deedbc9693": {
      "model_module": "@jupyter-widgets/controls",
      "model_module_version": "2.0.0",
      "model_name": "FloatTextModel",
      "state": {
       "description": "max_depth",
       "layout": "IPY_MODEL_9541d3326cfb49a896a860ad3a108516",
       "step": null,
       "style": "IPY_MODEL_6de9220788ba41809fb306ce8238ac11",
       "value": 3
      }
     },
     "264a4255bd0c4486b79abe157f8c3075": {
      "model_module": "@jupyter-widgets/base",
      "model_module_version": "2.0.0",
      "model_name": "LayoutModel",
      "state": {}
     },
     "2a93c86df2a84ca68685a0955a1cdb88": {
      "model_module": "@jupyter-widgets/base",
      "model_module_version": "2.0.0",
      "model_name": "LayoutModel",
      "state": {}
     },
     "2c884ae5e37a46bdbc5ba0f59d14bdde": {
      "model_module": "@jupyter-widgets/controls",
      "model_module_version": "2.0.0",
      "model_name": "HTMLStyleModel",
      "state": {
       "description_width": "",
       "font_size": null,
       "text_color": null
      }
     },
     "2db00442ecb9477bad5e9e4e3dc3e7c0": {
      "model_module": "@jupyter-widgets/controls",
      "model_module_version": "2.0.0",
      "model_name": "HTMLModel",
      "state": {
       "layout": "IPY_MODEL_9a0989541c654ddbad5e50ce0a9beebe",
       "style": "IPY_MODEL_2c884ae5e37a46bdbc5ba0f59d14bdde"
      }
     },
     "32a5e3cc4d12495a95096a58fd29049f": {
      "model_module": "@jupyter-widgets/controls",
      "model_module_version": "2.0.0",
      "model_name": "DropdownModel",
      "state": {
       "_options_labels": [
        "best",
        "random"
       ],
       "description": "Splitter",
       "index": 0,
       "layout": "IPY_MODEL_c3931bf99cbc4d4ca9f2bb84341d8727",
       "style": "IPY_MODEL_82b9c1e84531463f9d3de2a271b37f91"
      }
     },
     "372c554a739642918d6dab09780211bc": {
      "model_module": "@jupyter-widgets/controls",
      "model_module_version": "2.0.0",
      "model_name": "DropdownModel",
      "state": {
       "_options_labels": [
        "make_classification",
        "make_moons",
        "make_circles"
       ],
       "description": "Dataset",
       "index": 0,
       "layout": "IPY_MODEL_c30b2614867142638f6cace3fc8382d7",
       "style": "IPY_MODEL_e0442c86fa8e45e2b5f4e746ab067a54"
      }
     },
     "446a90771239437b9cc66916683c7564": {
      "model_module": "@jupyter-widgets/controls",
      "model_module_version": "2.0.0",
      "model_name": "HTMLModel",
      "state": {
       "layout": "IPY_MODEL_fc9654c192684c9abae306ff47ef75b5",
       "style": "IPY_MODEL_c65464b432b84151b4515786c79471d6"
      }
     },
     "4a3f7404ea3949b5a2205166ed5e5b5c": {
      "model_module": "@jupyter-widgets/controls",
      "model_module_version": "2.0.0",
      "model_name": "ButtonModel",
      "state": {
       "description": "Generate",
       "layout": "IPY_MODEL_0670bee7f40d4371bcb42e15e7ccc44e",
       "style": "IPY_MODEL_a9f18c8f4c3b4d73bf5977b49c8d174e",
       "tooltip": null
      }
     },
     "4e20913633ee418db515d16ba965c76f": {
      "model_module": "@jupyter-widgets/controls",
      "model_module_version": "2.0.0",
      "model_name": "VBoxModel",
      "state": {
       "children": [
        "IPY_MODEL_f9d4125726ff4028a1fbbd28242007e7",
        "IPY_MODEL_446a90771239437b9cc66916683c7564",
        "IPY_MODEL_c4543decc20c4ffd85833c573471aa98",
        "IPY_MODEL_32a5e3cc4d12495a95096a58fd29049f",
        "IPY_MODEL_24fbf15a4afe41e298b734deedbc9693"
       ],
       "layout": "IPY_MODEL_1ff7a5ceb5f34332928123ed3ff2cd04"
      }
     },
     "6402311c9497466fbc93cb311ea528c0": {
      "model_module": "@jupyter-widgets/base",
      "model_module_version": "2.0.0",
      "model_name": "LayoutModel",
      "state": {
       "align_items": "center"
      }
     },
     "6de9220788ba41809fb306ce8238ac11": {
      "model_module": "@jupyter-widgets/controls",
      "model_module_version": "2.0.0",
      "model_name": "DescriptionStyleModel",
      "state": {
       "description_width": ""
      }
     },
     "7ef79b3f0586481797ab0d4e109afedd": {
      "model_module": "@jupyter-widgets/base",
      "model_module_version": "2.0.0",
      "model_name": "LayoutModel",
      "state": {}
     },
     "82b9c1e84531463f9d3de2a271b37f91": {
      "model_module": "@jupyter-widgets/controls",
      "model_module_version": "2.0.0",
      "model_name": "DescriptionStyleModel",
      "state": {
       "description_width": ""
      }
     },
     "88bd4fcf0dcd423aae545ba247a5e0d6": {
      "model_module": "@jupyter-widgets/base",
      "model_module_version": "2.0.0",
      "model_name": "LayoutModel",
      "state": {}
     },
     "9541d3326cfb49a896a860ad3a108516": {
      "model_module": "@jupyter-widgets/base",
      "model_module_version": "2.0.0",
      "model_name": "LayoutModel",
      "state": {}
     },
     "9a0989541c654ddbad5e50ce0a9beebe": {
      "model_module": "@jupyter-widgets/base",
      "model_module_version": "2.0.0",
      "model_name": "LayoutModel",
      "state": {}
     },
     "9de622724aac4a70af24b6260b13cbc6": {
      "model_module": "@jupyter-widgets/controls",
      "model_module_version": "2.0.0",
      "model_name": "VBoxModel",
      "state": {
       "children": [
        "IPY_MODEL_a6eb7ce8ebea46f195831aa5331b1a4c",
        "IPY_MODEL_2db00442ecb9477bad5e9e4e3dc3e7c0",
        "IPY_MODEL_372c554a739642918d6dab09780211bc",
        "IPY_MODEL_b1716ea0e83c49a1ad3d74ee5d095c1d",
        "IPY_MODEL_17c7bc368092409db54be8f8874242ec",
        "IPY_MODEL_4a3f7404ea3949b5a2205166ed5e5b5c"
       ],
       "layout": "IPY_MODEL_00b735422b3f4992800542efccc0be66"
      }
     },
     "a62eaab6a2a0448696cdb19d65294861": {
      "model_module": "@jupyter-widgets/controls",
      "model_module_version": "2.0.0",
      "model_name": "HTMLStyleModel",
      "state": {
       "description_width": "",
       "font_size": null,
       "text_color": null
      }
     },
     "a6eb7ce8ebea46f195831aa5331b1a4c": {
      "model_module": "@jupyter-widgets/controls",
      "model_module_version": "2.0.0",
      "model_name": "HTMLModel",
      "state": {
       "layout": "IPY_MODEL_c23f3ce569664ecbbb97d73484291120",
       "style": "IPY_MODEL_c0b4195d4c9f4cb98cd670a41f66adbd",
       "value": "<b>Datasets</b>"
      }
     },
     "a9f18c8f4c3b4d73bf5977b49c8d174e": {
      "model_module": "@jupyter-widgets/controls",
      "model_module_version": "2.0.0",
      "model_name": "ButtonStyleModel",
      "state": {
       "font_family": null,
       "font_size": null,
       "font_style": null,
       "font_variant": null,
       "font_weight": null,
       "text_color": null,
       "text_decoration": null
      }
     },
     "b1716ea0e83c49a1ad3d74ee5d095c1d": {
      "model_module": "@jupyter-widgets/controls",
      "model_module_version": "2.0.0",
      "model_name": "HTMLModel",
      "state": {
       "layout": "IPY_MODEL_2a93c86df2a84ca68685a0955a1cdb88",
       "style": "IPY_MODEL_d5d0c556514043c5a7c9364142e9df55"
      }
     },
     "b834008454ac43fc90d3e07e87c14c3b": {
      "model_module": "@jupyter-widgets/controls",
      "model_module_version": "2.0.0",
      "model_name": "HBoxModel",
      "state": {
       "children": [
        "IPY_MODEL_4e20913633ee418db515d16ba965c76f",
        "IPY_MODEL_9de622724aac4a70af24b6260b13cbc6"
       ],
       "layout": "IPY_MODEL_6402311c9497466fbc93cb311ea528c0"
      }
     },
     "c0b4195d4c9f4cb98cd670a41f66adbd": {
      "model_module": "@jupyter-widgets/controls",
      "model_module_version": "2.0.0",
      "model_name": "HTMLStyleModel",
      "state": {
       "description_width": "",
       "font_size": null,
       "text_color": null
      }
     },
     "c23f3ce569664ecbbb97d73484291120": {
      "model_module": "@jupyter-widgets/base",
      "model_module_version": "2.0.0",
      "model_name": "LayoutModel",
      "state": {}
     },
     "c30b2614867142638f6cace3fc8382d7": {
      "model_module": "@jupyter-widgets/base",
      "model_module_version": "2.0.0",
      "model_name": "LayoutModel",
      "state": {}
     },
     "c3931bf99cbc4d4ca9f2bb84341d8727": {
      "model_module": "@jupyter-widgets/base",
      "model_module_version": "2.0.0",
      "model_name": "LayoutModel",
      "state": {}
     },
     "c4543decc20c4ffd85833c573471aa98": {
      "model_module": "@jupyter-widgets/controls",
      "model_module_version": "2.0.0",
      "model_name": "DropdownModel",
      "state": {
       "_options_labels": [
        "gini",
        "entropy"
       ],
       "description": "Criterion",
       "index": 0,
       "layout": "IPY_MODEL_7ef79b3f0586481797ab0d4e109afedd",
       "style": "IPY_MODEL_d2e3e251011a4920a99931614ecc5e67"
      }
     },
     "c65464b432b84151b4515786c79471d6": {
      "model_module": "@jupyter-widgets/controls",
      "model_module_version": "2.0.0",
      "model_name": "HTMLStyleModel",
      "state": {
       "description_width": "",
       "font_size": null,
       "text_color": null
      }
     },
     "d2e3e251011a4920a99931614ecc5e67": {
      "model_module": "@jupyter-widgets/controls",
      "model_module_version": "2.0.0",
      "model_name": "DescriptionStyleModel",
      "state": {
       "description_width": ""
      }
     },
     "d5d0c556514043c5a7c9364142e9df55": {
      "model_module": "@jupyter-widgets/controls",
      "model_module_version": "2.0.0",
      "model_name": "HTMLStyleModel",
      "state": {
       "description_width": "",
       "font_size": null,
       "text_color": null
      }
     },
     "e0442c86fa8e45e2b5f4e746ab067a54": {
      "model_module": "@jupyter-widgets/controls",
      "model_module_version": "2.0.0",
      "model_name": "DescriptionStyleModel",
      "state": {
       "description_width": ""
      }
     },
     "e875f426190f47fb963e1ab2f61f714c": {
      "model_module": "@jupyter-widgets/output",
      "model_module_version": "1.0.0",
      "model_name": "OutputModel",
      "state": {
       "layout": "IPY_MODEL_88bd4fcf0dcd423aae545ba247a5e0d6",
       "outputs": [
        {
         "data": {
          "image/png": "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",
          "text/plain": "<Figure size 1200x400 with 2 Axes>"
         },
         "metadata": {},
         "output_type": "display_data"
        }
       ]
      }
     },
     "f9d4125726ff4028a1fbbd28242007e7": {
      "model_module": "@jupyter-widgets/controls",
      "model_module_version": "2.0.0",
      "model_name": "HTMLModel",
      "state": {
       "layout": "IPY_MODEL_264a4255bd0c4486b79abe157f8c3075",
       "style": "IPY_MODEL_f9ee43ad22ec4a0383b6e9a15085553d",
       "value": "<b>Hyperparameters</b>"
      }
     },
     "f9ee43ad22ec4a0383b6e9a15085553d": {
      "model_module": "@jupyter-widgets/controls",
      "model_module_version": "2.0.0",
      "model_name": "HTMLStyleModel",
      "state": {
       "description_width": "",
       "font_size": null,
       "text_color": null
      }
     },
     "fc9654c192684c9abae306ff47ef75b5": {
      "model_module": "@jupyter-widgets/base",
      "model_module_version": "2.0.0",
      "model_name": "LayoutModel",
      "state": {}
     }
    },
    "version_major": 2,
    "version_minor": 0
   }
  }
 },
 "nbformat": 4,
 "nbformat_minor": 4
}
