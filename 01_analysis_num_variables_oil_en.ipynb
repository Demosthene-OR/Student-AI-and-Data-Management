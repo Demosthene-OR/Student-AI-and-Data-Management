{
 "cells": [
  {
   "cell_type": "markdown",
   "metadata": {},
   "source": [
    "<a href=\"https://colab.research.google.com/github/Demosthene-OR/Student-AI-and-Data-Management/blob/main/01_analysis_num_variables_en.ipynb\" target=\"_parent\"><img src=\"https://colab.research.google.com/assets/colab-badge.svg\" alt=\"Open In Colab\"/></a>"
   ]
  },
  {
   "cell_type": "markdown",
   "metadata": {
    "deletable": false,
    "run_control": {
     "frozen": true
    },
    "tags": []
   },
   "source": [
    "\n",
    "<img src=\"https://prof.totalenergies.com/wp-content/uploads/2024/09/TotalEnergies_TPA_picto_DegradeRouge_RVB-1024x1024.png\" height=\"150\" width=\"150\">\n",
    "<hr style=\"border-width:2px;border-color:#75DFC1\">\n",
    "<h1 style = \"text-align:center\" >Exploratory statistics</h1> \n",
    "<h2 style = \"text-align:center\">Descriptive analysis of the digital variables of a dataset</h2> \n",
    "<hr style=\"border-width:2px;border-color:#75DFC1\">\n",
    "\n",
    "### Background and objective\n",
    "\n",
    "> In Data Science, before starting processing and modeling, it is very important to familiarize yourself with the dataset you have available. Analyzing variables is an essential step in data exploration.\n",
    ">\n",
    ">\n",
    "> The objective of this module is therefore to understand the basics of statistics and go a little further in their interpretation to perform exploratory statistics.\n",
    ">\n",
    ">\n",
    "> In this first notebook, we will focus on **numerical variables**.\n",
    ">\n",
    "> \n",
    "> **`pandas`** , thanks to the `DataFrame` class and its methods, allows us to quickly obtain descriptive statistics for quantitative variables. This will be the main tool used to conduct these studies, presented in the first part of this notebook.\n",
    ">\n",
    ">\n",
    "> In the second part of this notebook, we will introduce some concepts related to probability distributions, in particular the **normal distribution**. First, we will learn how to simulate data from a distribution using the **`numpy`** library.\n",
    ">\n",
    ">\n",
    ">  Then, to check whether a variable has a distribution similar to a normal distribution, we will use a **Quantile-Quantile plot** (*QQ-plot*) with a function from the **`statsmodels.api`** library.\n",
    ">\n",
    ">\n",
    "> To conclude this notebook, we will study the **correlation** between two numerical variables using the correlation coefficient.\n",
    ">\n",
    "> \n",
    "\n",
    "Let's start with the package import phase.\n",
    "\n",
    "* **(a)** Import the **`pandas`** and **`numpy`** packages under their usual aliases.\n",
    "\n",
    "\n",
    "* **(b)** Load the data contained in the **`‘heart.csv’`** file into a **`DataFrame`** named **`df`**.\n",
    "\n",
    "\n",
    "* **(c)** Display the first 5 rows of **`df`**.\n",
    "\n"
   ]
  },
  {
   "cell_type": "code",
   "execution_count": null,
   "metadata": {},
   "outputs": [],
   "source": [
    "\n",
    "\n"
   ]
  },
  {
   "cell_type": "code",
   "execution_count": 1,
   "metadata": {
    "deletable": false,
    "function": "solution",
    "tags": []
   },
   "outputs": [
    {
     "data": {
      "text/html": [
       "<div>\n",
       "<style scoped>\n",
       "    .dataframe tbody tr th:only-of-type {\n",
       "        vertical-align: middle;\n",
       "    }\n",
       "\n",
       "    .dataframe tbody tr th {\n",
       "        vertical-align: top;\n",
       "    }\n",
       "\n",
       "    .dataframe thead th {\n",
       "        text-align: right;\n",
       "    }\n",
       "</style>\n",
       "<table border=\"1\" class=\"dataframe\">\n",
       "  <thead>\n",
       "    <tr style=\"text-align: right;\">\n",
       "      <th></th>\n",
       "      <th>Date</th>\n",
       "      <th>Well_ID</th>\n",
       "      <th>Flow_bbl_day</th>\n",
       "      <th>Pressure_bar</th>\n",
       "      <th>Temperature_C</th>\n",
       "      <th>Vibration_level</th>\n",
       "      <th>Maintenance_done</th>\n",
       "      <th>Maintenance_duration_h</th>\n",
       "      <th>Incident</th>\n",
       "    </tr>\n",
       "  </thead>\n",
       "  <tbody>\n",
       "    <tr>\n",
       "      <th>0</th>\n",
       "      <td>2025-01-01</td>\n",
       "      <td>W2</td>\n",
       "      <td>324</td>\n",
       "      <td>212</td>\n",
       "      <td>82</td>\n",
       "      <td>0.010</td>\n",
       "      <td>Yes</td>\n",
       "      <td>0</td>\n",
       "      <td>No</td>\n",
       "    </tr>\n",
       "    <tr>\n",
       "      <th>1</th>\n",
       "      <td>2025-01-02</td>\n",
       "      <td>W4</td>\n",
       "      <td>424</td>\n",
       "      <td>197</td>\n",
       "      <td>76</td>\n",
       "      <td>0.033</td>\n",
       "      <td>No</td>\n",
       "      <td>0</td>\n",
       "      <td>No</td>\n",
       "    </tr>\n",
       "    <tr>\n",
       "      <th>2</th>\n",
       "      <td>2025-01-03</td>\n",
       "      <td>W3</td>\n",
       "      <td>301</td>\n",
       "      <td>199</td>\n",
       "      <td>79</td>\n",
       "      <td>0.033</td>\n",
       "      <td>No</td>\n",
       "      <td>0</td>\n",
       "      <td>No</td>\n",
       "    </tr>\n",
       "    <tr>\n",
       "      <th>3</th>\n",
       "      <td>2025-01-04</td>\n",
       "      <td>W1</td>\n",
       "      <td>546</td>\n",
       "      <td>256</td>\n",
       "      <td>84</td>\n",
       "      <td>0.034</td>\n",
       "      <td>No</td>\n",
       "      <td>0</td>\n",
       "      <td>No</td>\n",
       "    </tr>\n",
       "    <tr>\n",
       "      <th>4</th>\n",
       "      <td>2025-01-05</td>\n",
       "      <td>W1</td>\n",
       "      <td>570</td>\n",
       "      <td>247</td>\n",
       "      <td>84</td>\n",
       "      <td>0.041</td>\n",
       "      <td>No</td>\n",
       "      <td>0</td>\n",
       "      <td>No</td>\n",
       "    </tr>\n",
       "  </tbody>\n",
       "</table>\n",
       "</div>"
      ],
      "text/plain": [
       "         Date Well_ID  Flow_bbl_day  Pressure_bar  Temperature_C  \\\n",
       "0  2025-01-01      W2           324           212             82   \n",
       "1  2025-01-02      W4           424           197             76   \n",
       "2  2025-01-03      W3           301           199             79   \n",
       "3  2025-01-04      W1           546           256             84   \n",
       "4  2025-01-05      W1           570           247             84   \n",
       "\n",
       "   Vibration_level Maintenance_done  Maintenance_duration_h Incident  \n",
       "0            0.010              Yes                       0       No  \n",
       "1            0.033               No                       0       No  \n",
       "2            0.033               No                       0       No  \n",
       "3            0.034               No                       0       No  \n",
       "4            0.041               No                       0       No  "
      ]
     },
     "execution_count": 1,
     "metadata": {},
     "output_type": "execute_result"
    }
   ],
   "source": [
    "import pandas as pd\n",
    "import numpy as np\n",
    "\n",
    "url = \"https://raw.githubusercontent.com/Demosthene-OR/Student-AI-and-Data-Management/main/data/\"\n",
    "# df = pd.read_csv(url+\"heart.csv\")\n",
    "df = pd.read_csv(url+\"OilWell_Production_Maintenance_1000rows.csv\")\n",
    "df.head()\n"
   ]
  },
  {
   "cell_type": "markdown",
   "metadata": {
    "deletable": false,
    "run_control": {
     "frozen": true
    },
    "tags": []
   },
   "source": [
    "\n",
    "<hr style=\"border-width:2px;border-color:#75DFC1\">\n",
    "<h3 style = \"text-align:center\" >1. Statistical series, position and dispersion indicators</h3> \n",
    "<hr style=\"border-width:2px;border-color:#75DFC1\">\n",
    "\n",
    "> A **statistical series** is a list of values from the same set. The order of the terms is not significant (unlike a **time series**, where the elements depend on their position in time).<br>\n",
    "\n",
    "* **(d)** Display the unique values taken by the **`“tension”`** and **`“sex”`** columns. To do this, we can use the **`unique`** method of `Series` `pandas`. These two results constitute two statistical series (quantitative and qualitative, respectively).\n",
    "\n"
   ]
  },
  {
   "cell_type": "code",
   "execution_count": null,
   "metadata": {},
   "outputs": [],
   "source": [
    "\n",
    "\n"
   ]
  },
  {
   "cell_type": "code",
   "execution_count": 2,
   "metadata": {
    "deletable": false,
    "function": "solution",
    "tags": []
   },
   "outputs": [
    {
     "name": "stdout",
     "output_type": "stream",
     "text": [
      "Possible values for the tension (blood pressure) column :\n",
      " [140 160 130 138 150 120 110 136 115 100 124 113 125 145 112 132 118 170\n",
      " 142 190 135 180 108 155 128 106  92 200 122  98 105 133  95  80 137 185\n",
      " 165 126 152 116   0 144 154 134 104 139 131 141 178 146 158 123 102  96\n",
      " 143 172 156 114 127 101 174  94 148 117 192 129 164]\n",
      "--------------------------------------------------------\n",
      "Possible values for the sex column  :\n",
      " ['M' 'F']\n"
     ]
    }
   ],
   "source": [
    "# Quantitative statistical series:\n",
    "print(\"Possible values for the tension (blood pressure) column :\\n\", df[\"tension\"].unique())\n",
    "print(\"--------------------------------------------------------\")\n",
    "\n",
    "# Qualitative statistical series:\n",
    "print(\"Possible values for the sex column  :\\n\", df[\"sex\"].unique())\n"
   ]
  },
  {
   "cell_type": "markdown",
   "metadata": {
    "deletable": false,
    "editable": false,
    "run_control": {
     "frozen": true
    }
   },
   "source": [
    "\n",
    "> A quick way to distinguish a quantitative variable from a qualitative variable is to look at the number of unique values taken by that variable. If this number is high, we are most likely dealing with a quantitative variable. In what follows, we will focus only on quantitative variables.\n",
    ">\n",
    "> To better visualize the **type** of each column in a `DataFrame` and the **number of non-missing values**, we use the **`info`** method of the `DataFrame` class, which displays a short summary of the **volume of data** contained in a `DataFrame`.\n",
    "\n",
    "* **(e)** Display a summary of the `DataFrame` **`df`** created previously. How many variables are non-numeric? What type are they?\n",
    "\n",
    "\n"
   ]
  },
  {
   "cell_type": "code",
   "execution_count": null,
   "metadata": {},
   "outputs": [],
   "source": [
    "\n",
    "\n"
   ]
  },
  {
   "cell_type": "code",
   "execution_count": 3,
   "metadata": {
    "deletable": false,
    "function": "solution",
    "tags": []
   },
   "outputs": [
    {
     "name": "stdout",
     "output_type": "stream",
     "text": [
      "<class 'pandas.core.frame.DataFrame'>\n",
      "RangeIndex: 918 entries, 0 to 917\n",
      "Data columns (total 8 columns):\n",
      " #   Column         Non-Null Count  Dtype \n",
      "---  ------         --------------  ----- \n",
      " 0   age            918 non-null    int64 \n",
      " 1   sex            918 non-null    object\n",
      " 2   douleur_thor   918 non-null    object\n",
      " 3   tension        918 non-null    int64 \n",
      " 4   cholesterol    918 non-null    int64 \n",
      " 5   glycemie       918 non-null    int64 \n",
      " 6   freq_card_max  918 non-null    int64 \n",
      " 7   angine_effort  918 non-null    object\n",
      "dtypes: int64(5), object(3)\n",
      "memory usage: 57.5+ KB\n"
     ]
    }
   ],
   "source": [
    "df.info()\n",
    "\n",
    "# Three variables are non-numeric. \n",
    "# They are character strings and therefore probably qualitative.\n"
   ]
  },
  {
   "cell_type": "markdown",
   "metadata": {
    "deletable": false,
    "run_control": {
     "frozen": true
    },
    "tags": []
   },
   "source": [
    "\n",
    "> The **`dtypes`** attribute allows us to retrieve the types of variables we have in the form of a `pandas` `Series`. Since this object is a `Series`, it allows us to calculate statistics on these types using methods such as **`value_counts`**.\n",
    "\n",
    "* **(f)** Use the **`dtypes`** attribute and the **`value_counts`** method to count the number of variables of each type present in the **`df`** `DataFrame`. This type of inspection is very common when working with large databases.\n",
    "\n"
   ]
  },
  {
   "cell_type": "code",
   "execution_count": null,
   "metadata": {},
   "outputs": [],
   "source": [
    "\n",
    "\n"
   ]
  },
  {
   "cell_type": "code",
   "execution_count": 4,
   "metadata": {
    "deletable": false,
    "editable": false,
    "function": "solution"
   },
   "outputs": [
    {
     "data": {
      "text/plain": [
       "int64     5\n",
       "object    3\n",
       "dtype: int64"
      ]
     },
     "execution_count": 4,
     "metadata": {},
     "output_type": "execute_result"
    }
   ],
   "source": [
    "df.dtypes.value_counts()\n",
    "\n"
   ]
  },
  {
   "cell_type": "markdown",
   "metadata": {
    "deletable": false,
    "run_control": {
     "frozen": true
    },
    "tags": []
   },
   "source": [
    "\n",
    "> To perform a descriptive analysis of a numerical variable, we use:\n",
    ">\n",
    "> * **Position indicators** (mean, median, quantiles, minimum, maximum, etc.) that allow us to **locate** the values that the variable we are studying should take.\n",
    ">\n",
    ">\n",
    "> * **Dispersion indicators** (standard deviation, variance, etc.) that describe the **variability** of the values taken by the variable we are studying.\n",
    ">\n",
    "> To better understand position indicators, we will refer to the following diagram:\n",
    ">\n",
    "> <br><br>\n",
    ">\n",
    "> <img src=\"https://assets-datascientest.s3.eu-west-1.amazonaws.com/104_stats_explo/indicateurs_positions.png\" style=\"height:300px\"> \n",
    ">\n",
    "> <br><br>\n",
    ">\n",
    ">\n",
    "> The small squares represent the values whose distribution we are studying.\n",
    "> \n",
    "> A **quantile** of order $\\alpha$ corresponds to a numerical value that must be **greater than** a proportion $\\alpha$ of the data.\n",
    ">\n",
    "> For example:\n",
    "> * If the quantile of order 0.10 is 1000, this means that 10% of the data is less than 1000.\n",
    "> * Similarly, if a quantile of order 0.57 is 2500, this means that 57% of the data is less than 2500.\n",
    ">\n",
    ">\n",
    "> **QUARtiles** are three special quantiles that divide a distribution into **four** intervals, each containing 25% of the data. In the diagram above, we note the quantiles $Q_1$, $Q_2$ and $Q_3$ and call them the first, second and third quartiles, respectively. These quartiles have interesting properties:\n",
    ">\n",
    "> * 25% of the data is below $Q_1$.\n",
    ">\n",
    ">\n",
    "> * 50% of the data is below $Q_2$. $Q_2$ corresponds to the **median** of the distribution.\n",
    ">\n",
    ">\n",
    "> * 75% of the data is below $Q_3$.\n",
    ">\n",
    ">\n",
    "> * The interval from $Q_1$ to $Q_3$ contains 50% of the data. The range $(Q_3 - Q_1)$ of this interval is called the **interquartile range**. It is denoted by $IQR$ for *Inter Quartile Range*.\n",
    ">\n",
    ">\n",
    "> * Any value **greater than** $Q_3 + 1.5 * (Q_3 - Q_1)$ (third quartile + 1.5 times the interquartile range) or **less than** $Q_1 - 1.5 * (Q_3 - Q_1)$ (first quartile - 1.5 times the interquartile range). This means that an extreme value can be very large **or** very small compared to the rest of the data.\n",
    ">\n",
    "> **Please note** that it is very common for the terms “extreme value” and “outlier” to be used interchangeably, but there is a clear distinction between the two.\n",
    ">\n",
    "> * An outlier is a value **that should not exist** or **should not be part of the distribution**. For example, if we study the height of individuals in a population, an individual with a height of -10 cm is clearly an outlier. If, by mistake, the dataset contains measurements of the height of dogs or horses (for example), these values are also outliers because they should not be in the distribution we want to study, but these values will not necessarily be extreme.\n",
    ">\n",
    "> \n",
    "> * An extreme value is a value that is **significantly higher or lower than the other values, but is not necessarily an outlier**. In the same example, an adult could be 2.50 m or 1.10 m tall, but these values are possible and realistic.\n",
    ">\n",
    ">\n",
    "> In any case, **we will want to eliminate outliers from our dataset** so as not to skew our statistics. However, in some cases, we will want to keep extreme values because they are real values and removing them would skew our statistics.\n",
    ">\n",
    ">\n",
    "> In a business setting, in an ideal situation, it is the role of the team conducting the analysis to report extreme or outlier values, and it is the role of the team in charge of data collection to determine which values are outliers and which values are extreme (however, in practice, it is difficult to have such a clear distinction between roles).\n",
    ">\n",
    "> The methods of the `Series` class used to calculate these indicators are summarized in the following table:\n",
    ">\n",
    "> | Method | Indicator | Example |\n",
    "> |---:|--|:--|\n",
    "> | **`mean`** | Mean | **`df[‘column’].mean()`** |\n",
    "> | **`min`** | Minimum | **`df[‘column’].min()`** |\n",
    "> | **`max`** | Maximum | **`df[‘column’].max()`** |\n",
    "> | **`median`** | Median | **`df[‘column’].median()`** |\n",
    "> | **`quantile`** | Quantile | **`df[‘column’].quantile(q=0.75)`** (returns the third quartile) <br><br> **`df[‘column’]. quantile(q=[0.1, 0.9])`** (returns the 0.1 quantile **and** the 0.9 quantile) |\n",
    "\n",
    "* **(g)** For the column **`“cholesterol”`**, find the **minimum**, **maximum**, **median**, and **quartiles** of this variable by applying the appropriate methods.\n",
    "\n",
    "\n"
   ]
  },
  {
   "cell_type": "code",
   "execution_count": null,
   "metadata": {},
   "outputs": [],
   "source": [
    "\n",
    "\n",
    "\n"
   ]
  },
  {
   "cell_type": "code",
   "execution_count": 5,
   "metadata": {
    "deletable": false,
    "function": "solution",
    "tags": []
   },
   "outputs": [
    {
     "name": "stdout",
     "output_type": "stream",
     "text": [
      "The minimum value is:  0\n",
      "The maximum value is:  603\n",
      "The median value is:  223.0 \n",
      "\n",
      "The quartiles are: q1 = 173.25 , q2 = 223.0 , q3 = 267.0 \n",
      "\n"
     ]
    }
   ],
   "source": [
    "print(\"The minimum value is: \", df['cholesterol'].min())\n",
    "print(\"The maximum value is: \", df['cholesterol'].max())\n",
    "print(\"The median value is: \", df['cholesterol'].median(), '\\n')\n",
    "\n",
    "q1, q2, q3 = df['cholesterol'].quantile(q=[0.25, 0.5, 0.75])\n",
    "\n",
    "print(\"The quartiles are:\", \"q1 =\", q1, \", q2 =\", q2, \", q3 =\", q3, '\\n')\n"
   ]
  },
  {
   "cell_type": "markdown",
   "metadata": {
    "deletable": false,
    "run_control": {
     "frozen": true
    },
    "tags": []
   },
   "source": [
    "\n",
    "* **(h)** Calculate the range of the **interquartile range** and determine the **thresholds** above which a value will be considered **extreme**.\n",
    "\n",
    "\n",
    "* **(i)** Using these thresholds, filter the `DataFrame` **`df`** to identify all individuals whose cholesterol levels are extreme values. Which levels are outliers? (We assume that a human can have a level of up to approximately 600 mg/dL, but cannot have a level of zero).\n",
    "\n"
   ]
  },
  {
   "cell_type": "code",
   "execution_count": null,
   "metadata": {},
   "outputs": [],
   "source": [
    "\n",
    "\n"
   ]
  },
  {
   "cell_type": "code",
   "execution_count": 6,
   "metadata": {
    "deletable": false,
    "function": "solution",
    "tags": []
   },
   "outputs": [
    {
     "name": "stdout",
     "output_type": "stream",
     "text": [
      "Extreme values are all values less than 32.625 and all values greater than 407.625\n",
      "\n",
      "• Individuals whose cholesterol levels are above the interquartile range \n",
      "have realistic values. \u001b[1mThese are not outliers. \u001b[0m“”\")\n",
      "display(df[df[‘cholesterol’] > threshold_max])\n",
      "\n",
      "\n",
      "• Individuals whose cholesterol levels are below the interquartile range \n",
      "all have cholesterol levels of zero, which is impossible. \n",
      "\u001b[1mThese are therefore outliers.\u001b[0m\n",
      "\n"
     ]
    },
    {
     "data": {
      "text/html": [
       "<div>\n",
       "<style scoped>\n",
       "    .dataframe tbody tr th:only-of-type {\n",
       "        vertical-align: middle;\n",
       "    }\n",
       "\n",
       "    .dataframe tbody tr th {\n",
       "        vertical-align: top;\n",
       "    }\n",
       "\n",
       "    .dataframe thead th {\n",
       "        text-align: right;\n",
       "    }\n",
       "</style>\n",
       "<table border=\"1\" class=\"dataframe\">\n",
       "  <thead>\n",
       "    <tr style=\"text-align: right;\">\n",
       "      <th></th>\n",
       "      <th>age</th>\n",
       "      <th>sex</th>\n",
       "      <th>douleur_thor</th>\n",
       "      <th>tension</th>\n",
       "      <th>cholesterol</th>\n",
       "      <th>glycemie</th>\n",
       "      <th>freq_card_max</th>\n",
       "      <th>angine_effort</th>\n",
       "    </tr>\n",
       "  </thead>\n",
       "  <tbody>\n",
       "    <tr>\n",
       "      <th>293</th>\n",
       "      <td>65</td>\n",
       "      <td>M</td>\n",
       "      <td>ASY</td>\n",
       "      <td>115</td>\n",
       "      <td>0</td>\n",
       "      <td>0</td>\n",
       "      <td>93</td>\n",
       "      <td>Y</td>\n",
       "    </tr>\n",
       "    <tr>\n",
       "      <th>294</th>\n",
       "      <td>32</td>\n",
       "      <td>M</td>\n",
       "      <td>TA</td>\n",
       "      <td>95</td>\n",
       "      <td>0</td>\n",
       "      <td>1</td>\n",
       "      <td>127</td>\n",
       "      <td>N</td>\n",
       "    </tr>\n",
       "    <tr>\n",
       "      <th>295</th>\n",
       "      <td>61</td>\n",
       "      <td>M</td>\n",
       "      <td>ASY</td>\n",
       "      <td>105</td>\n",
       "      <td>0</td>\n",
       "      <td>1</td>\n",
       "      <td>110</td>\n",
       "      <td>Y</td>\n",
       "    </tr>\n",
       "    <tr>\n",
       "      <th>296</th>\n",
       "      <td>50</td>\n",
       "      <td>M</td>\n",
       "      <td>ASY</td>\n",
       "      <td>145</td>\n",
       "      <td>0</td>\n",
       "      <td>1</td>\n",
       "      <td>139</td>\n",
       "      <td>Y</td>\n",
       "    </tr>\n",
       "    <tr>\n",
       "      <th>297</th>\n",
       "      <td>57</td>\n",
       "      <td>M</td>\n",
       "      <td>ASY</td>\n",
       "      <td>110</td>\n",
       "      <td>0</td>\n",
       "      <td>1</td>\n",
       "      <td>131</td>\n",
       "      <td>Y</td>\n",
       "    </tr>\n",
       "    <tr>\n",
       "      <th>...</th>\n",
       "      <td>...</td>\n",
       "      <td>...</td>\n",
       "      <td>...</td>\n",
       "      <td>...</td>\n",
       "      <td>...</td>\n",
       "      <td>...</td>\n",
       "      <td>...</td>\n",
       "      <td>...</td>\n",
       "    </tr>\n",
       "    <tr>\n",
       "      <th>514</th>\n",
       "      <td>43</td>\n",
       "      <td>M</td>\n",
       "      <td>ASY</td>\n",
       "      <td>122</td>\n",
       "      <td>0</td>\n",
       "      <td>0</td>\n",
       "      <td>120</td>\n",
       "      <td>N</td>\n",
       "    </tr>\n",
       "    <tr>\n",
       "      <th>515</th>\n",
       "      <td>63</td>\n",
       "      <td>M</td>\n",
       "      <td>NAP</td>\n",
       "      <td>130</td>\n",
       "      <td>0</td>\n",
       "      <td>1</td>\n",
       "      <td>160</td>\n",
       "      <td>N</td>\n",
       "    </tr>\n",
       "    <tr>\n",
       "      <th>518</th>\n",
       "      <td>48</td>\n",
       "      <td>M</td>\n",
       "      <td>NAP</td>\n",
       "      <td>102</td>\n",
       "      <td>0</td>\n",
       "      <td>1</td>\n",
       "      <td>110</td>\n",
       "      <td>Y</td>\n",
       "    </tr>\n",
       "    <tr>\n",
       "      <th>535</th>\n",
       "      <td>56</td>\n",
       "      <td>M</td>\n",
       "      <td>ASY</td>\n",
       "      <td>130</td>\n",
       "      <td>0</td>\n",
       "      <td>0</td>\n",
       "      <td>122</td>\n",
       "      <td>Y</td>\n",
       "    </tr>\n",
       "    <tr>\n",
       "      <th>536</th>\n",
       "      <td>62</td>\n",
       "      <td>M</td>\n",
       "      <td>NAP</td>\n",
       "      <td>133</td>\n",
       "      <td>0</td>\n",
       "      <td>1</td>\n",
       "      <td>119</td>\n",
       "      <td>Y</td>\n",
       "    </tr>\n",
       "  </tbody>\n",
       "</table>\n",
       "<p>172 rows × 8 columns</p>\n",
       "</div>"
      ],
      "text/plain": [
       "     age sex douleur_thor  tension  cholesterol  glycemie  freq_card_max  \\\n",
       "293   65   M          ASY      115            0         0             93   \n",
       "294   32   M           TA       95            0         1            127   \n",
       "295   61   M          ASY      105            0         1            110   \n",
       "296   50   M          ASY      145            0         1            139   \n",
       "297   57   M          ASY      110            0         1            131   \n",
       "..   ...  ..          ...      ...          ...       ...            ...   \n",
       "514   43   M          ASY      122            0         0            120   \n",
       "515   63   M          NAP      130            0         1            160   \n",
       "518   48   M          NAP      102            0         1            110   \n",
       "535   56   M          ASY      130            0         0            122   \n",
       "536   62   M          NAP      133            0         1            119   \n",
       "\n",
       "    angine_effort  \n",
       "293             Y  \n",
       "294             N  \n",
       "295             Y  \n",
       "296             Y  \n",
       "297             Y  \n",
       "..            ...  \n",
       "514             N  \n",
       "515             N  \n",
       "518             Y  \n",
       "535             Y  \n",
       "536             Y  \n",
       "\n",
       "[172 rows x 8 columns]"
      ]
     },
     "metadata": {},
     "output_type": "display_data"
    }
   ],
   "source": [
    "# Extreme values:\n",
    "# Calculation of thresholds:\n",
    "iqr = q3-q1\n",
    "threshold_min = q1 - 1.5*iqr\n",
    "threshold_max = q3 + 1.5*iqr\n",
    "\n",
    "print(\"Extreme values are all values less than\", threshold_min,\n",
    "      \"and all values greater than\", threshold_max)\n",
    "\n",
    "# Conclusions:\n",
    "print(\"\"\"\n",
    "• Individuals whose cholesterol levels are above the interquartile range \n",
    "have realistic values. \\033[1mThese are not outliers. \\033[0m“”\")\n",
    "display(df[df[‘cholesterol’] > threshold_max])\n",
    "\"\"\")\n",
    "\n",
    "\n",
    "print(\"\"\"\n",
    "• Individuals whose cholesterol levels are below the interquartile range \n",
    "all have cholesterol levels of zero, which is impossible. \n",
    "\\033[1mThese are therefore outliers.\\033[0m\n",
    "\"\"\")\n",
    "display(df[df['cholesterol'] < threshold_min])\n"
   ]
  },
  {
   "cell_type": "markdown",
   "metadata": {
    "deletable": false,
    "run_control": {
     "frozen": true
    },
    "tags": []
   },
   "source": [
    "\n",
    "> The **mean** of a numerical statistical series $X = (x_1, x_2, ..., x_n)$ is given by the formula:\n",
    ">\n",
    ">\n",
    "> $$\\hat{X}= \\displaystyle \\frac{1}{n} \\sum_{i=1}^{n} x_i$$\n",
    ">\n",
    "> where:\n",
    "> * $n$ is the **size** of the sample\n",
    ">\n",
    "> * $x_i$ are the **values** of the sample.\n",
    ">\n",
    "> The mean of a series is therefore simply the sum of the sample values divided by the size of the sample.\n",
    "\n",
    "* **(j)** Calculate the mean of the **`\"cholesterol\"`** column.\n",
    "\n",
    "\n",
    "* **(k)** Compare this mean to the median of the column. How could we explain this difference?\n",
    "\n",
    "\n"
   ]
  },
  {
   "cell_type": "code",
   "execution_count": null,
   "metadata": {},
   "outputs": [],
   "source": [
    "\n",
    "\n"
   ]
  },
  {
   "cell_type": "code",
   "execution_count": 7,
   "metadata": {
    "deletable": false,
    "function": "solution",
    "tags": []
   },
   "outputs": [
    {
     "name": "stdout",
     "output_type": "stream",
     "text": [
      "Mean calculated 'by hand':  198.79956427015253\n",
      "Mean calculated with Python command:  198.7995642701525\n",
      "\n",
      "\n",
      "The median  is equal to 223.0 and is higher than the mean.\n",
      "\n",
      "The mean is influenced by extreme values. \n",
      "It is lower than the median because there are many extremely low values \n",
      "(172 values equal to 0 versus 11 values greater than 407.625) that “pull” the mean down.\n",
      "\n"
     ]
    }
   ],
   "source": [
    "# Calculation “by hand”:\n",
    "X = df[\"cholesterol\"]\n",
    "n = len(X) # sample size\n",
    "mean_X = (1/n)*np.sum(X)\n",
    "print(\"Mean calculated 'by hand': \", mean_X)\n",
    "\n",
    "# Quick command in Python:\n",
    "mean_X2 = df[\"cholesterol\"].mean()\n",
    "print(\"Mean calculated with Python command: \", mean_X2)\n",
    "print(\"\\n\")\n",
    "\n",
    "# median median versus:\n",
    "print(\"The median  is equal to\", q2, \"and is higher than the mean.\")\n",
    "\n",
    "print('''\n",
    "The mean is influenced by extreme values. \n",
    "It is lower than the median because there are many extremely low values \n",
    "(172 values equal to 0 versus 11 values greater than {}) that “pull” the mean down.\n",
    "'''.format(threshold_max))\n"
   ]
  },
  {
   "cell_type": "markdown",
   "metadata": {
    "deletable": false,
    "run_control": {
     "frozen": true
    },
    "tags": []
   },
   "source": [
    "\n",
    "> **The median is much more robust to extreme values**, making it a much more **reliable** position indicator in practice. The same is true for quantiles in general. In practice, quantiles of order 0.05 and 0.95 are better indicators of the range of the distribution than the minimum or maximum.\n",
    ">\n",
    ">\n",
    "We will now attempt to visualize the distribution of a variable using a very specific type of graph: **boxplots**.\n",
    ">\n",
    ">\n",
    "> A boxplot seeks to **visually represent a distribution using position and dispersion indicators.**\n",
    ">\n",
    "> The indicators represented in a boxplot are as follows:\n",
    ">\n",
    "> * **Position**: The first quartile $Q_1$, the median or second quartile $Q_2$, and the third quartile $Q_3$.\n",
    ">\n",
    ">\n",
    "> * **Dispersion**: The interquartile range $IQR$.\n",
    ">\n",
    "> Here is an explanatory diagram of the boxplot: \n",
    ">\n",
    "> <img src = \"https://assets-datascientest.s3.eu-west-1.amazonaws.com/104_stats_explo/boxplot_explained.png\" style=\"height:300px\">\n",
    ">\n",
    "> The whiskers represent the range of values that are considered *normal*. **Beyond these whiskers**, the points represented are considered **extreme values**.\n",
    ">\n",
    "> Here is an example of a boxplot plotted with Python for the variable **`“cholesterol”`** from our dataset:\n",
    "> \n",
    "> <img src = \"https://assets-datascientest.s3.eu-west-1.amazonaws.com/104_stats_explo/boxplot_cholesterol.png\" style=\"height:200px\">\n",
    ">\n",
    "> There are several elements of interest when reading a boxplot:\n",
    ">\n",
    "> * **Is the interquartile range small?** If so, this means that the distribution of the variable is concentrated around the median. If not, the distribution is more dispersed.\n",
    ">\n",
    ">\n",
    "> * **Are there any extreme values?** If so, they will need to be inspected to determine whether they are extreme or outliers.\n",
    ">\n",
    "> Using the boxplot of the variable `“cholesterol”`, we could have directly and visually determined that the lower extreme values are **outliers** (because they are all equal to 0), while the upper **extreme values** are simply exceptional individuals, because their values are realistic.\n",
    ">\n",
    "> With Python, the easiest way to plot a boxplot is to use the **`seaborn`** library and its **`boxplot`** function. In the rest of the training, you will learn more about using seaborn.\n",
    ">\n",
    "> ```py\n",
    "> # Import the seaborn library under the alias sns\n",
    "> import seaborn as sns\n",
    ">\n",
    "> # Plotting a boxplot from the values in the “cholesterol” column\n",
    "> sns.boxplot(df[‘cholesterol’])\n",
    "> ```\n",
    "\n",
    "* **(l)** Import the **`seaborn`** library under the alias **`sns`**. <br>\n",
    "Using the **`.boxplot()`** command, display the boxplot of the variable **`“cholesterol”`** and add the mean to the boxplot.\n",
    "`\n",
    "\n"
   ]
  },
  {
   "cell_type": "code",
   "execution_count": null,
   "metadata": {},
   "outputs": [],
   "source": [
    "\n",
    "\n",
    "\n"
   ]
  },
  {
   "cell_type": "code",
   "execution_count": 8,
   "metadata": {
    "deletable": false,
    "function": "solution",
    "tags": []
   },
   "outputs": [
    {
     "data": {
      "image/png": "[encoded data removed]",
      "text/plain": [
       "<Figure size 640x480 with 1 Axes>"
      ]
     },
     "metadata": {},
     "output_type": "display_data"
    }
   ],
   "source": [
    "import seaborn as sns\n",
    "\n",
    "sns.boxplot(x = df[\"cholesterol\"],showmeans=True);\n"
   ]
  },
  {
   "cell_type": "markdown",
   "metadata": {
    "deletable": false,
    "run_control": {
     "frozen": true
    },
    "tags": []
   },
   "source": [
    "\n",
    "> Like the mean, the **standard deviation** is an indicator that is not represented graphically in a boxplot. The standard deviation measures the dispersion of data in a sample. In the following image, we can see how the distribution changes when the standard deviation (denoted by the letter sigma: **$\\sigma$**) varies for values of $5,10$ and $20$.\n",
    "> <img src=\"https://assets-datascientest.s3.eu-west-1.amazonaws.com/104_stats_explo/sigmas_bon.png\" style=\"height:300px\"> \n",
    ">\n",
    "> The greater the standard deviation, the more dispersed the data and the flatter the curve. <br>\n",
    "> The blue curve ($\\sigma = 20$) is much flatter than the yellow curve ($\\sigma = 5)$.\n",
    ">\n",
    "> Mathematically, the **standard deviation** of a numerical statistical series $X = (x_1, x_2, ..., x_n)$ is calculated using the following formula: <br>\n",
    ">\n",
    "> $$\\hat \\sigma_{X}= \\sqrt{\\frac{1}{n} \\displaystyle \\sum_{i=1}^{n} (x_i-\\hat X)^2}$$\n",
    "> where: <br>\n",
    "> * $n =$ the sample size\n",
    ">\n",
    ">* $x_i$ are the **values** of the series \n",
    ">\n",
    "> * $\\hat X =$ the mean.\n",
    "\n",
    "\n",
    "* **(m)** As before, calculate the standard deviation of the **`“cholesterol”`** column “by hand” and then using the **`std`** method.\n"
   ]
  },
  {
   "cell_type": "code",
   "execution_count": null,
   "metadata": {},
   "outputs": [],
   "source": [
    "\n",
    "\n"
   ]
  },
  {
   "cell_type": "code",
   "execution_count": 9,
   "metadata": {
    "deletable": false,
    "function": "solution",
    "tags": []
   },
   "outputs": [
    {
     "name": "stdout",
     "output_type": "stream",
     "text": [
      "Standard deviation calculated 'by hand':  109.32455089779246\n",
      "Standard deviation calculated with the Python command:  109.38414455220337\n"
     ]
    }
   ],
   "source": [
    "# calculation by hand: \n",
    "X = df[\"cholesterol\"]\n",
    "n = len(X) # sample size\n",
    "std_X = np.sqrt((1/n)*sum((X-mean_X)**2))\n",
    "print(\"Standard deviation calculated 'by hand': \", std_X )\n",
    "\n",
    "# Quick command in Python: \n",
    "std_X2 = df[\"cholesterol\"].std()\n",
    "print(\"Standard deviation calculated with the Python command: \", std_X2)\n"
   ]
  },
  {
   "cell_type": "markdown",
   "metadata": {
    "deletable": false,
    "run_control": {
     "frozen": true
    },
    "tags": []
   },
   "source": [
    "\n",
    "\n",
    "* **(n)** To obtain the values of all these indicators for each numeric column of the `Dataframe`, you can directly use the **`describe`** method of `pandas.DataFrame`.\n",
    "\n",
    "\n",
    "\n"
   ]
  },
  {
   "cell_type": "code",
   "execution_count": null,
   "metadata": {},
   "outputs": [],
   "source": [
    "\n",
    "\n",
    "\n"
   ]
  },
  {
   "cell_type": "code",
   "execution_count": 10,
   "metadata": {
    "deletable": false,
    "editable": false,
    "function": "solution"
   },
   "outputs": [
    {
     "data": {
      "text/html": [
       "<div>\n",
       "<style scoped>\n",
       "    .dataframe tbody tr th:only-of-type {\n",
       "        vertical-align: middle;\n",
       "    }\n",
       "\n",
       "    .dataframe tbody tr th {\n",
       "        vertical-align: top;\n",
       "    }\n",
       "\n",
       "    .dataframe thead th {\n",
       "        text-align: right;\n",
       "    }\n",
       "</style>\n",
       "<table border=\"1\" class=\"dataframe\">\n",
       "  <thead>\n",
       "    <tr style=\"text-align: right;\">\n",
       "      <th></th>\n",
       "      <th>age</th>\n",
       "      <th>tension</th>\n",
       "      <th>cholesterol</th>\n",
       "      <th>glycemie</th>\n",
       "      <th>freq_card_max</th>\n",
       "    </tr>\n",
       "  </thead>\n",
       "  <tbody>\n",
       "    <tr>\n",
       "      <th>count</th>\n",
       "      <td>918.000000</td>\n",
       "      <td>918.000000</td>\n",
       "      <td>918.000000</td>\n",
       "      <td>918.000000</td>\n",
       "      <td>918.000000</td>\n",
       "    </tr>\n",
       "    <tr>\n",
       "      <th>mean</th>\n",
       "      <td>53.510893</td>\n",
       "      <td>132.396514</td>\n",
       "      <td>198.799564</td>\n",
       "      <td>0.233115</td>\n",
       "      <td>136.809368</td>\n",
       "    </tr>\n",
       "    <tr>\n",
       "      <th>std</th>\n",
       "      <td>9.432617</td>\n",
       "      <td>18.514154</td>\n",
       "      <td>109.384145</td>\n",
       "      <td>0.423046</td>\n",
       "      <td>25.460334</td>\n",
       "    </tr>\n",
       "    <tr>\n",
       "      <th>min</th>\n",
       "      <td>28.000000</td>\n",
       "      <td>0.000000</td>\n",
       "      <td>0.000000</td>\n",
       "      <td>0.000000</td>\n",
       "      <td>60.000000</td>\n",
       "    </tr>\n",
       "    <tr>\n",
       "      <th>25%</th>\n",
       "      <td>47.000000</td>\n",
       "      <td>120.000000</td>\n",
       "      <td>173.250000</td>\n",
       "      <td>0.000000</td>\n",
       "      <td>120.000000</td>\n",
       "    </tr>\n",
       "    <tr>\n",
       "      <th>50%</th>\n",
       "      <td>54.000000</td>\n",
       "      <td>130.000000</td>\n",
       "      <td>223.000000</td>\n",
       "      <td>0.000000</td>\n",
       "      <td>138.000000</td>\n",
       "    </tr>\n",
       "    <tr>\n",
       "      <th>75%</th>\n",
       "      <td>60.000000</td>\n",
       "      <td>140.000000</td>\n",
       "      <td>267.000000</td>\n",
       "      <td>0.000000</td>\n",
       "      <td>156.000000</td>\n",
       "    </tr>\n",
       "    <tr>\n",
       "      <th>max</th>\n",
       "      <td>77.000000</td>\n",
       "      <td>200.000000</td>\n",
       "      <td>603.000000</td>\n",
       "      <td>1.000000</td>\n",
       "      <td>202.000000</td>\n",
       "    </tr>\n",
       "  </tbody>\n",
       "</table>\n",
       "</div>"
      ],
      "text/plain": [
       "              age     tension  cholesterol    glycemie  freq_card_max\n",
       "count  918.000000  918.000000   918.000000  918.000000     918.000000\n",
       "mean    53.510893  132.396514   198.799564    0.233115     136.809368\n",
       "std      9.432617   18.514154   109.384145    0.423046      25.460334\n",
       "min     28.000000    0.000000     0.000000    0.000000      60.000000\n",
       "25%     47.000000  120.000000   173.250000    0.000000     120.000000\n",
       "50%     54.000000  130.000000   223.000000    0.000000     138.000000\n",
       "75%     60.000000  140.000000   267.000000    0.000000     156.000000\n",
       "max     77.000000  200.000000   603.000000    1.000000     202.000000"
      ]
     },
     "execution_count": 10,
     "metadata": {},
     "output_type": "execute_result"
    }
   ],
   "source": [
    "df.describe()\n"
   ]
  },
  {
   "cell_type": "markdown",
   "metadata": {
    "deletable": false,
    "run_control": {
     "frozen": true
    },
    "tags": []
   },
   "source": [
    "\n",
    "<hr style=\"border-width:2px;border-color:#75DFC1\">\n",
    "<h3 style = \"text-align:center\" >  2. Normal distribution and data simulation</h3>  \n",
    "<hr style=\"border-width:2px;border-color:#75DFC1\">\n",
    "\n",
    "<div class=\"alert alert-info\">\n",
    "<i class=\"fa fa-info-circle\"></i> &emsp; \n",
    "Much of the data used every day is very similar to variations of common probability distributions or combinations of distributions. That is why it is always useful to know how to <strong>simulate</strong> data from a <strong>theoretical probability</strong> distribution (normal, exponential, etc.).</div>\n",
    "\n",
    "\n",
    "> The **normal distribution**, often denoted $\\mathcal{N}(\\mu, \\sigma^2)$, is a **continuous** probability distribution, meaning that it takes values in an infinite set. It depends on two parameters: $\\mu$ (the Greek letter *mu*, representing the theoretical mean) and $\\sigma$ (the Greek letter *sigma*, representing the theoretical standard deviation). \n",
    ">\n",
    ">The **standard normal distribution** is a special case of the normal distribution with $\\mu = 0$ (centered around 0) and $\\sigma = 1$ (standardized).\n",
    ">\n",
    "> Here is the distribution of a **centered theoretical normal distribution ($\\mu = 0$)**, denoted by $\\mathcal{N}(\\mu=0, \\sigma^2)$:\n",
    ">\n",
    ">\n",
    "> <img src=\"https://assets-datascientest.s3.eu-west-1.amazonaws.com/104_stats_explo/bell_curve.png\" style=\"height:200px\"> \n",
    ">\n",
    "> When looking at a probability density, to represent probabilities, one must always think in terms of **s\n",
    "> \n",
    "> When looking at a probability density, to visualize probabilities, you must always think in terms of the **area** under the density curve. The area represents the probabilities of events. The total area under the curve (here, the sum of all the blue fragments) is equal to $1$. <br>\n",
    ">\n",
    "> We also note that much of the data from this distribution is close to $0$ because the area under the curve is large around this value. Whereas for values greater than $+2\\sigma$ and less than $-2\\sigma$, which correspond to the areas in **light blue**, the area under the curve decreases more and more, so the probability of obtaining such values is lower.\n",
    ">\n",
    "<div class=\"alert alert-info\">\n",
    "<i class=\"fa fa-info-circle\"></i> &emsp;\n",
    "    To simulate a distribution in Python, use\n",
    "    <code>np.random.normal(mu = ..., sigma = ..., size = ...)</code>\n",
    "    and specify the values of the parameters specific to the distribution.\n",
    "</div>\n",
    "\n",
    "* **(o)** Simulate $100$ draws (to be specified in the **`size`** parameter) from a centered normal distribution (to be specified in the **`mu`** parameter) and reduced (to be specified in the **`sigma`** parameter).  \n",
    "\n",
    "\n",
    "> We can display a histogram from a sample using the **`.histplot()`** command from the **`seaborn`** library: \n",
    "> \n",
    "> ```py\n",
    "> sns.histplot(sample)\n",
    "> ```\n",
    "\n",
    "* **(p)** Using the **`.histplot()`** command from the **`seaborn`** library, display the histogram of this variable. If you re-execute the cell, you will get a different histogram because your data has been re-generated.\n",
    "\n",
    "\n"
   ]
  },
  {
   "cell_type": "code",
   "execution_count": null,
   "metadata": {},
   "outputs": [],
   "source": [
    "\n",
    "\n"
   ]
  },
  {
   "cell_type": "code",
   "execution_count": 11,
   "metadata": {
    "deletable": false,
    "function": "solution",
    "tags": []
   },
   "outputs": [
    {
     "data": {
      "image/png": "[encoded data removed]",
      "text/plain": [
       "<Figure size 640x480 with 1 Axes>"
      ]
     },
     "metadata": {},
     "output_type": "display_data"
    }
   ],
   "source": [
    "mu, sigma = 0, 1\n",
    "sn_distribution = np.random.normal(mu, sigma, size = 100)\n",
    "sns.histplot(sn_distribution,bins=21);\n"
   ]
  },
  {
   "cell_type": "markdown",
   "metadata": {
    "deletable": false,
    "run_control": {
     "frozen": true
    },
    "tags": []
   },
   "source": [
    "\n",
    "<div class=\"alert alert-info\">\n",
    "<i class=\"fa fa-info-circle\"></i> &emsp; \n",
    "    Since we are working with <b>simulated data</b>, the simulated distribution differs from the theoretical distribution. However, both distributions follow the same trend, and the more data there is, the closer the simulated histogram gets to the theoretical distribution. You can try increasing the <strong> <code>size</code></strong> parameter, for example to $10000$, and observe the histogram.\n",
    "\n",
    "\n",
    "\n",
    "\n",
    "\n",
    "> The simulated values change each time you run the cell because they are new draws from the same distribution. If you always want to keep the same sample, you can use the **`np.random.seed()`** function and choose a **`seed`** parameter equal to any integer.\n",
    "\n",
    "* **(q)** Repeat the same question, increasing the sample size to $10,000$ and specifying an integer for the value of **`seed`** before generating your data. Now your experiment is reproducible; if you re-run the cell, you will get the same distribution.\n",
    "\n",
    "Translated with DeepL.com (free version)\n",
    "\n"
   ]
  },
  {
   "cell_type": "code",
   "execution_count": null,
   "metadata": {},
   "outputs": [],
   "source": [
    "\n",
    "\n"
   ]
  },
  {
   "cell_type": "code",
   "execution_count": 13,
   "metadata": {
    "deletable": false,
    "function": "solution",
    "tags": []
   },
   "outputs": [
    {
     "name": "stdout",
     "output_type": "stream",
     "text": [
      "We observe that the more data we have from a normal distribution,\n",
      "the closer the histogram approaches the probability distribution of a theoretical normal distribution.\n"
     ]
    },
    {
     "data": {
      "image/png": "[encoded data removed]",
      "text/plain": [
       "<Figure size 640x480 with 1 Axes>"
      ]
     },
     "metadata": {},
     "output_type": "display_data"
    }
   ],
   "source": [
    "print(\"We observe that the more data we have from a normal distribution,\" + \"\\n\" +\n",
    "    \"the closer the histogram approaches the probability distribution of a theoretical normal distribution.\")\n",
    "\n",
    "np.random.seed (15)\n",
    "sn_distribution = np.random.normal(mu, sigma, 10000)\n",
    "sns.histplot(sn_distribution, bins=21);\n"
   ]
  },
  {
   "cell_type": "markdown",
   "metadata": {
    "deletable": false,
    "run_control": {
     "frozen": true
    },
    "tags": []
   },
   "source": [
    "\n",
    "<hr style=\"border-width:2px;border-color:#75DFC1\">\n",
    "<h3 style = \"text-align:center\" > 3. Data normality</h3>  \n",
    "<hr style=\"border-width:2px;border-color:#75DFC1\">\n",
    "\n",
    "> The **Q-Q plot**, or **quantile** graph, allows us to compare the **theoretical quantiles of a distribution (by default those of a normal distribution)** with the quantiles of the **sample provided**. \n",
    ">- If the sample data comes from a normal distribution, we expect this graph to be **close to a straight line (called the first bisector) that forms** a $45°$ angle with the x-axis. This is because the quantiles of the sample will be similar to the theoretical quantiles of a normal distribution. If the sample data comes from a different distribution, we will not obtain points aligned on the first bisector.\n",
    ">\n",
    "> <img src = \"https://assets-datascientest.s3.eu-west-1.amazonaws.com/104_stats_explo/qqplot.png\" style = \"height:1000px\">\n",
    ">\n",
    "> ```py\n",
    "> # Import the statsmodels.api library\n",
    "> import statsmodels.api as sm\n",
    ">\n",
    "> # Create the Q-Qplot \n",
    "> sm.qqplot(sample, fit = True, line = ‘45’)\n",
    "> ```\n",
    ">\n",
    ">- The argument **`line = '45'`** displays the first bisector in red.\n",
    ">\n",
    ">- The argument **`fit = True`** centers and reduces the sample data.\n",
    "> \n",
    "\n",
    "* **(r)** Generate a sample **`ech`** of $100$ data points from a normal distribution with $\\mu = 12$ and $\\sigma = 3$. <br>  \n",
    "\n",
    "\n",
    "* **(s)** Import **`statsmodels.api`** under the alias **`sm`** and apply the **`qqplot`** function from the **`statsmodels.api`** library to **`ech`**, specifying the parameter **`line = ‘45’`** and normalizing the data. "
   ]
  },
  {
   "cell_type": "code",
   "execution_count": null,
   "metadata": {},
   "outputs": [],
   "source": [
    "\n",
    "\n"
   ]
  },
  {
   "cell_type": "code",
   "execution_count": 14,
   "metadata": {
    "deletable": false,
    "function": "solution",
    "tags": []
   },
   "outputs": [
    {
     "data": {
      "image/png": "[encoded data removed]",
      "text/plain": [
       "<Figure size 640x480 with 1 Axes>"
      ]
     },
     "metadata": {},
     "output_type": "display_data"
    }
   ],
   "source": [
    "import statsmodels.api as sm\n",
    "\n",
    "ech = np.random.normal(12, 3, 100)\n",
    "sm.qqplot(ech, fit = True, line = '45');\n",
    "# Note that if we remove the parameter fit = True, we do not observe \n",
    "# any similarities between ech and a centered and reduced normal distribution,\n",
    "# which is normal because ech was generated by a normal distribution with a mean of 3 and a standard deviation of 3.\n",
    "\n"
   ]
  },
  {
   "cell_type": "markdown",
   "metadata": {
    "deletable": false,
    "run_control": {
     "frozen": true
    },
    "tags": []
   },
   "source": [
    "\n",
    "> This distribution approximates a normal distribution despite slight distortions at the tails.\n",
    "Furthermore, the alignment is not perfect despite the fact that the sample comes from independent draws from a normal distribution, because we are comparing theoretical quantiles with empirical quantiles, i.e., those derived from a sample.\n",
    "Finally, we note that if we increase the sample size to $1000$ or $10000$, we can obtain points that are much more aligned around the red line.\n",
    ">\n",
    "* **(t)** Using the **`select_dtypes`** method, select only the numeric columns (**`int`** or **`float`**) of the **`df`** in a new `Dataframe` **`var_num`**.\n",
    "\n",
    "\n",
    "\n"
   ]
  },
  {
   "cell_type": "code",
   "execution_count": null,
   "metadata": {},
   "outputs": [],
   "source": [
    "\n",
    "\n"
   ]
  },
  {
   "cell_type": "code",
   "execution_count": 15,
   "metadata": {
    "deletable": false,
    "editable": false,
    "function": "solution"
   },
   "outputs": [],
   "source": [
    "var_num = df.select_dtypes(include = ['int', 'float'])\n",
    "\n",
    "\n"
   ]
  },
  {
   "cell_type": "markdown",
   "metadata": {
    "deletable": false,
    "editable": false,
    "run_control": {
     "frozen": true
    }
   },
   "source": [
    "\n",
    "\n",
    "* **(u)** To identify columns in the `DataFrame` **`df`** that approximate a normal distribution, display a Q-Q plot for each numeric column using a loop and determine which columns appear to follow a normal distribution.\n",
    "\n",
    "\n",
    "\n"
   ]
  },
  {
   "cell_type": "code",
   "execution_count": null,
   "metadata": {},
   "outputs": [],
   "source": [
    "    \n",
    "\n",
    "\n",
    "\n",
    "\n"
   ]
  },
  {
   "cell_type": "code",
   "execution_count": 16,
   "metadata": {
    "deletable": false,
    "function": "solution",
    "tags": []
   },
   "outputs": [
    {
     "name": "stdout",
     "output_type": "stream",
     "text": [
      "age\n",
      "tension\n",
      "cholesterol\n",
      "glycemie\n",
      "freq_card_max\n"
     ]
    },
    {
     "data": {
      "image/png": "[encoded data removed]",
      "text/plain": [
       "<Figure size 640x480 with 1 Axes>"
      ]
     },
     "metadata": {},
     "output_type": "display_data"
    },
    {
     "data": {
      "image/png": "[encoded data removed]",
      "text/plain": [
       "<Figure size 640x480 with 1 Axes>"
      ]
     },
     "metadata": {},
     "output_type": "display_data"
    },
    {
     "data": {
      "image/png": "[encoded data removed]",
      "text/plain": [
       "<Figure size 640x480 with 1 Axes>"
      ]
     },
     "metadata": {},
     "output_type": "display_data"
    },
    {
     "data": {
      "image/png": "[encoded data removed]",
      "text/plain": [
       "<Figure size 640x480 with 1 Axes>"
      ]
     },
     "metadata": {},
     "output_type": "display_data"
    },
    {
     "data": {
      "image/png": "[encoded data removed]",
      "text/plain": [
       "<Figure size 640x480 with 1 Axes>"
      ]
     },
     "metadata": {},
     "output_type": "display_data"
    }
   ],
   "source": [
    "# Loop to display the Q-Q plots: \n",
    "for column in var_num.columns:\n",
    "    print(column)\n",
    "    sm.qqplot(var_num[column], line='45', fit = True)\n",
    "\n",
    "# The variables age and max_card_freq appear to follow normal distributions\n",
    "\n"
   ]
  },
  {
   "cell_type": "markdown",
   "metadata": {
    "deletable": false,
    "run_control": {
     "frozen": true
    },
    "tags": []
   },
   "source": [
    "\n",
    "<hr style=\"border-width:2px;border-color:#75DFC1\">\n",
    "<h3 style = \"text-align:center\" > 4. Correlation between two numerical variables</h3>  \n",
    "<hr style=\"border-width:2px;border-color:#75DFC1\">\n",
    "\n",
    "> The correlation between two numerical variables $X$ (e.g., a person's age) and $Y$ (e.g., their height) allows us to quantify the relationship between the values of these two variables.\n",
    "> The correlation, denoted by $r$, is given by the formula:\n",
    ">\n",
    "> $$\\hat r(X,Y) = \\dfrac{\\hat {\\mathrm{cov}}(X,Y)}{\\hat\\sigma_X \\times \\hat\\sigma_Y}$$\n",
    "> where:\n",
    ">\n",
    "> * $\\hat{\\mathrm{cov}}(X,Y)$ is the covariance between $X$ and $Y$\n",
    ">\n",
    "> * $\\hat \\sigma_X$ is the standard deviation of $X$\n",
    ">\n",
    "> * $\\hat \\sigma_Y$ is the standard deviation of $Y$.\n",
    ">\n",
    "> By definition, the correlation **always** takes values between $[-1,1]$. We refer to a correlation as:\n",
    "> * **strong** if $\\hat r \\in [-1, -0.5] \\text{ or } [0.5, 1]$ \n",
    "> * or **weak** if $\\hat r \\in [-0.5, 0] \\text{ or } [0, 0.5]$. <br>\n",
    "\n",
    "\n",
    "<div class=\"alert alert-info\">\n",
    "<i class=\"fa fa-info-circle\"></i> &emsp;     \n",
    "It should be noted that these thresholds are for informational purposes only and that the interpretation of a correlation coefficient depends on the context and objectives. A correlation of 0.9 may be <strong>very low</strong> when testing quantities of <strong>chemical substances</strong> using high-quality instruments, but may be considered <strong>very high</strong> in the <strong>social sciences</strong>, where there may be a greater contribution from complicating factors.</div>\n",
    "<div class=\"alert alert-info\">\n",
    "<i class=\"fa fa-info-circle\"></i> &emsp; \n",
    "Correlation is a measure that is <strong>sensitive</strong> to extreme values.</div>\n",
    "\n",
    "\n",
    "> Graphically, three different configurations can be distinguished: <br>\n",
    "> <img src=\"https://assets-datascientest.s3.eu-west-1.amazonaws.com/104_stats_explo/corr_drawio.png\" style=\"height:200px\">   \n",
    ">\n",
    ">\n",
    "> With the **`numpy`** library, we can calculate the correlation between two variables.\n",
    "> ```py\n",
    "> # Calculate the correlation between X and Y\n",
    "> np.corrcoef(X, Y)\n",
    "> ```\n",
    "> The result returns a correlation matrix that corresponds to:\n",
    "$ \n",
    "\\begin{bmatrix} \n",
    "\\hat r(X,X) = 1 & \\hat r(X,Y) \\\\\n",
    "\\hat r(Y, X) & \\hat r(Y,Y) = 1\\\\\n",
    "\\end{bmatrix}\n",
    "$.\n",
    ">\n",
    "> Note that the diagonal is always made up of values equal to $1$ because we are calculating the correlation between a variable and itself.\n",
    "\n",
    "* **(v)** Calculate the correlation between the **\"tension\"** and **\"cholesterol\"** columns."
   ]
  },
  {
   "cell_type": "code",
   "execution_count": null,
   "metadata": {},
   "outputs": [],
   "source": [
    "\n",
    "\n"
   ]
  },
  {
   "cell_type": "code",
   "execution_count": 17,
   "metadata": {
    "deletable": false,
    "editable": false,
    "function": "solution"
   },
   "outputs": [
    {
     "data": {
      "text/plain": [
       "array([[ 1.      , -0.112135],\n",
       "       [-0.112135,  1.      ]])"
      ]
     },
     "execution_count": 17,
     "metadata": {},
     "output_type": "execute_result"
    }
   ],
   "source": [
    "np.corrcoef(df[\"tension\"], df[\"freq_card_max\"])\n",
    "\n",
    "\n"
   ]
  },
  {
   "cell_type": "markdown",
   "metadata": {
    "deletable": false,
    "run_control": {
     "frozen": true
    },
    "tags": []
   },
   "source": [
    "\n",
    "* **(w)** You can also use the **`corr`** method of the `DataFrame` class to display the correlations between all the different numerical variables. Display these correlations.\n",
    "\n",
    "\n",
    "\n"
   ]
  },
  {
   "cell_type": "code",
   "execution_count": null,
   "metadata": {},
   "outputs": [],
   "source": [
    "\n"
   ]
  },
  {
   "cell_type": "code",
   "execution_count": 19,
   "metadata": {
    "deletable": false,
    "function": "solution",
    "tags": []
   },
   "outputs": [
    {
     "data": {
      "text/html": [
       "<div>\n",
       "<style scoped>\n",
       "    .dataframe tbody tr th:only-of-type {\n",
       "        vertical-align: middle;\n",
       "    }\n",
       "\n",
       "    .dataframe tbody tr th {\n",
       "        vertical-align: top;\n",
       "    }\n",
       "\n",
       "    .dataframe thead th {\n",
       "        text-align: right;\n",
       "    }\n",
       "</style>\n",
       "<table border=\"1\" class=\"dataframe\">\n",
       "  <thead>\n",
       "    <tr style=\"text-align: right;\">\n",
       "      <th></th>\n",
       "      <th>age</th>\n",
       "      <th>tension</th>\n",
       "      <th>cholesterol</th>\n",
       "      <th>glycemie</th>\n",
       "      <th>freq_card_max</th>\n",
       "    </tr>\n",
       "  </thead>\n",
       "  <tbody>\n",
       "    <tr>\n",
       "      <th>age</th>\n",
       "      <td>1.000000</td>\n",
       "      <td>0.254399</td>\n",
       "      <td>-0.095282</td>\n",
       "      <td>0.198039</td>\n",
       "      <td>-0.382045</td>\n",
       "    </tr>\n",
       "    <tr>\n",
       "      <th>tension</th>\n",
       "      <td>0.254399</td>\n",
       "      <td>1.000000</td>\n",
       "      <td>0.100893</td>\n",
       "      <td>0.070193</td>\n",
       "      <td>-0.112135</td>\n",
       "    </tr>\n",
       "    <tr>\n",
       "      <th>cholesterol</th>\n",
       "      <td>-0.095282</td>\n",
       "      <td>0.100893</td>\n",
       "      <td>1.000000</td>\n",
       "      <td>-0.260974</td>\n",
       "      <td>0.235792</td>\n",
       "    </tr>\n",
       "    <tr>\n",
       "      <th>glycemie</th>\n",
       "      <td>0.198039</td>\n",
       "      <td>0.070193</td>\n",
       "      <td>-0.260974</td>\n",
       "      <td>1.000000</td>\n",
       "      <td>-0.131438</td>\n",
       "    </tr>\n",
       "    <tr>\n",
       "      <th>freq_card_max</th>\n",
       "      <td>-0.382045</td>\n",
       "      <td>-0.112135</td>\n",
       "      <td>0.235792</td>\n",
       "      <td>-0.131438</td>\n",
       "      <td>1.000000</td>\n",
       "    </tr>\n",
       "  </tbody>\n",
       "</table>\n",
       "</div>"
      ],
      "text/plain": [
       "                    age   tension  cholesterol  glycemie  freq_card_max\n",
       "age            1.000000  0.254399    -0.095282  0.198039      -0.382045\n",
       "tension        0.254399  1.000000     0.100893  0.070193      -0.112135\n",
       "cholesterol   -0.095282  0.100893     1.000000 -0.260974       0.235792\n",
       "glycemie       0.198039  0.070193    -0.260974  1.000000      -0.131438\n",
       "freq_card_max -0.382045 -0.112135     0.235792 -0.131438       1.000000"
      ]
     },
     "execution_count": 19,
     "metadata": {},
     "output_type": "execute_result"
    }
   ],
   "source": [
    "df.corr(numeric_only=True)\n",
    "\n",
    "\n"
   ]
  },
  {
   "cell_type": "markdown",
   "metadata": {
    "deletable": false,
    "run_control": {
     "frozen": true
    },
    "tags": []
   },
   "source": [
    "\n",
    "<div class=\"alert alert-info\">\n",
    "<i class=\"fa fa-info-circle\"></i> &emsp; \n",
    "Finally, be careful not to confuse correlation with causation. <br>\n",
    "Correlation means that there is a statistical association between variables. Causality means that a change in one variable causes a change in another variable, which is a more powerful property.</div>\n",
    "\n"
   ]
  }
 ],
 "metadata": {
  "kernelspec": {
   "display_name": "Python 3 (ipykernel)",
   "language": "python",
   "name": "python3"
  },
  "language_info": {
   "codemirror_mode": {
    "name": "ipython",
    "version": 3
   },
   "file_extension": ".py",
   "mimetype": "text/x-python",
   "name": "python",
   "nbconvert_exporter": "python",
   "pygments_lexer": "ipython3",
   "version": "3.9.16"
  },
  "latex_envs": {
   "LaTeX_envs_menu_present": true,
   "autoclose": false,
   "autocomplete": true,
   "bibliofile": "biblio.bib",
   "cite_by": "apalike",
   "current_citInitial": 1,
   "eqLabelWithNumbers": true,
   "eqNumInitial": 1,
   "hotkeys": {
    "equation": "Ctrl-E",
    "itemize": "Ctrl-I"
   },
   "labels_anchors": false,
   "latex_user_defs": false,
   "report_style_numbering": false,
   "user_envs_cfg": false
  },
  "owner": "DataScientest",
  "widgets": {
   "application/vnd.jupyter.widget-state+json": {
    "state": {},
    "version_major": 2,
    "version_minor": 0
   }
  }
 },
 "nbformat": 4,
 "nbformat_minor": 4
}
