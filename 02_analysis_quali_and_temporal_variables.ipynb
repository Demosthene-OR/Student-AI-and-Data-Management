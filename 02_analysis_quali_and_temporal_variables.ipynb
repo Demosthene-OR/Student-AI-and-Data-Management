{
 "cells": [
  {
   "cell_type": "markdown",
   "metadata": {},
   "source": [
    "<a href=\"https://colab.research.google.com/github/Demosthene-OR/Student-AI-and-Data-Management/blob/main/02_analysis_quali_and_temporal_variables.ipynb\" target=\"_parent\"><img src=\"https://colab.research.google.com/assets/colab-badge.svg\" alt=\"Open In Colab\"/></a>"
   ]
  },
  {
   "cell_type": "markdown",
   "metadata": {
    "deletable": false,
    "run_control": {
     "frozen": true
    },
    "tags": []
   },
   "source": [
    "\n",
    "<img src=\"https://prof.totalenergies.com/wp-content/uploads/2024/09/TotalEnergies_TPA_picto_DegradeRouge_RVB-1024x1024.png\" height=\"150\" width=\"150\">\n",
    "<hr style=\"border-width:2px;border-color:#75DFC1\">\n",
    "<h1 style = \"text-align:center\" > Exploratory statistics </h1> \n",
    "<h2 style = \"text-align:center\"> Descriptive analysis of qualitative variables in a dataset </h2> \n",
    "<hr style=\"border-width:2px;border-color:#75DFC1\">\n",
    "\n",
    "### Context and objective\n",
    "\n",
    "> Analyzing qualitative variables is an important step in understanding data, as they often provide valuable information about the interaction between variables in the dataset. <br>\n",
    "> In general, they are more difficult to manipulate than numerical variables, and it is important to observe their relationship with the latter. <br>\n",
    "> \n",
    ">\n",
    "> The objective of this notebook is to **determine the modalities of a qualitative variable** and to see how it **interacts with a quantitative and temporal variable**. <br>\n",
    "> This notebook will also familiarize you with simple methods of data management and date column management, as well as teach you how to graphically display the evolution of a measurement over time and the different modalities of a qualitative variable.\n",
    ">\n",
    "> Let's start by importing the packages.\n",
    "\n",
    "\n",
    "* **(a)** Import the **`pandas`** and **`numpy`** packages under their usual aliases.\n",
    "* **(b)** Load the data from the **`‘bike.csv’`** file into a table named **`df`** and display the first 5 rows.\n",
    "\n",
    "> The dataset contains information on bike rentals in Porto during 2011 and 2012. For each row, we have the following information: \n",
    ">\n",
    "> |Variable|Description|\n",
    "> |----------|------------|\n",
    "> |**`‘datetime’`**|the date and time when the rentals took place|\n",
    "> |**`‘business_day’`**|0 - if the day is a business day 1 - otherwise|\n",
    "> |**`‘weather_conditions’`**| (1) clear, (2) cloudy, (3) rain or storm, (4) snow|\n",
    "> |**`‘temperature’`**| the average temperature for the day (in °C) |\n",
    "> |**`‘humidity’`**| relative humidity |\n",
    "> |**`‘wind_speed’`**| wind speed (in km/h)|\n",
    "> |**`‘holidays’`**| whether or not it is a holiday |\n",
    "> |**`‘season’`**| the season |\n",
    "> |**`‘no_rentals’`**| the number of rentals at that time |\n",
    "\n",
    "\n",
    "\n"
   ]
  },
  {
   "cell_type": "code",
   "execution_count": null,
   "metadata": {},
   "outputs": [],
   "source": [
    "\n",
    "\n"
   ]
  },
  {
   "cell_type": "code",
   "execution_count": 1,
   "metadata": {
    "deletable": false,
    "function": "solution",
    "tags": []
   },
   "outputs": [
    {
     "data": {
      "text/html": [
       "<div>\n",
       "<style scoped>\n",
       "    .dataframe tbody tr th:only-of-type {\n",
       "        vertical-align: middle;\n",
       "    }\n",
       "\n",
       "    .dataframe tbody tr th {\n",
       "        vertical-align: top;\n",
       "    }\n",
       "\n",
       "    .dataframe thead th {\n",
       "        text-align: right;\n",
       "    }\n",
       "</style>\n",
       "<table border=\"1\" class=\"dataframe\">\n",
       "  <thead>\n",
       "    <tr style=\"text-align: right;\">\n",
       "      <th></th>\n",
       "      <th>datetime</th>\n",
       "      <th>business_day</th>\n",
       "      <th>weather_conditions</th>\n",
       "      <th>temperature</th>\n",
       "      <th>humidity</th>\n",
       "      <th>wind_speed</th>\n",
       "      <th>holidays</th>\n",
       "      <th>season</th>\n",
       "      <th>no_rentals</th>\n",
       "    </tr>\n",
       "  </thead>\n",
       "  <tbody>\n",
       "    <tr>\n",
       "      <th>0</th>\n",
       "      <td>2011-01-01 00:00:00</td>\n",
       "      <td>0</td>\n",
       "      <td>(1) temps clair</td>\n",
       "      <td>9.84</td>\n",
       "      <td>81</td>\n",
       "      <td>0.0</td>\n",
       "      <td>non</td>\n",
       "      <td>printemps</td>\n",
       "      <td>16</td>\n",
       "    </tr>\n",
       "    <tr>\n",
       "      <th>1</th>\n",
       "      <td>2011-01-01 01:00:00</td>\n",
       "      <td>0</td>\n",
       "      <td>(1) temps clair</td>\n",
       "      <td>9.02</td>\n",
       "      <td>80</td>\n",
       "      <td>0.0</td>\n",
       "      <td>non</td>\n",
       "      <td>printemps</td>\n",
       "      <td>40</td>\n",
       "    </tr>\n",
       "    <tr>\n",
       "      <th>2</th>\n",
       "      <td>2011-01-01 02:00:00</td>\n",
       "      <td>0</td>\n",
       "      <td>(1) temps clair</td>\n",
       "      <td>9.02</td>\n",
       "      <td>80</td>\n",
       "      <td>0.0</td>\n",
       "      <td>non</td>\n",
       "      <td>printemps</td>\n",
       "      <td>32</td>\n",
       "    </tr>\n",
       "    <tr>\n",
       "      <th>3</th>\n",
       "      <td>2011-01-01 03:00:00</td>\n",
       "      <td>0</td>\n",
       "      <td>(1) temps clair</td>\n",
       "      <td>9.84</td>\n",
       "      <td>75</td>\n",
       "      <td>0.0</td>\n",
       "      <td>non</td>\n",
       "      <td>printemps</td>\n",
       "      <td>13</td>\n",
       "    </tr>\n",
       "    <tr>\n",
       "      <th>4</th>\n",
       "      <td>2011-01-01 04:00:00</td>\n",
       "      <td>0</td>\n",
       "      <td>(1) temps clair</td>\n",
       "      <td>9.84</td>\n",
       "      <td>75</td>\n",
       "      <td>0.0</td>\n",
       "      <td>non</td>\n",
       "      <td>printemps</td>\n",
       "      <td>1</td>\n",
       "    </tr>\n",
       "  </tbody>\n",
       "</table>\n",
       "</div>"
      ],
      "text/plain": [
       "              datetime  business_day weather_conditions  temperature  \\\n",
       "0  2011-01-01 00:00:00             0    (1) temps clair         9.84   \n",
       "1  2011-01-01 01:00:00             0    (1) temps clair         9.02   \n",
       "2  2011-01-01 02:00:00             0    (1) temps clair         9.02   \n",
       "3  2011-01-01 03:00:00             0    (1) temps clair         9.84   \n",
       "4  2011-01-01 04:00:00             0    (1) temps clair         9.84   \n",
       "\n",
       "   humidity  wind_speed holidays     season  no_rentals  \n",
       "0        81         0.0      non  printemps          16  \n",
       "1        80         0.0      non  printemps          40  \n",
       "2        80         0.0      non  printemps          32  \n",
       "3        75         0.0      non  printemps          13  \n",
       "4        75         0.0      non  printemps           1  "
      ]
     },
     "execution_count": 1,
     "metadata": {},
     "output_type": "execute_result"
    }
   ],
   "source": [
    "import pandas as pd\n",
    "import numpy as np\n",
    "\n",
    "url = \"https://raw.githubusercontent.com/Demosthene-OR/Student-AI-and-Data-Management/main/data/\"\n",
    "df = pd.read_csv(url+\"bike.csv\")\n",
    "df.head()\n"
   ]
  },
  {
   "cell_type": "markdown",
   "metadata": {
    "deletable": false,
    "editable": false,
    "run_control": {
     "frozen": true
    }
   },
   "source": [
    "\n",
    "* **(c)** Afficher le type de chaque variable du jeu de données **`df`** en utilisant l'attribut **`dtypes`** de `pandas.DataFrame`. \n",
    "\n"
   ]
  },
  {
   "cell_type": "code",
   "execution_count": null,
   "metadata": {},
   "outputs": [],
   "source": [
    "\n",
    "\n",
    "\n"
   ]
  },
  {
   "cell_type": "code",
   "execution_count": 2,
   "metadata": {
    "deletable": false,
    "editable": false,
    "function": "solution"
   },
   "outputs": [
    {
     "data": {
      "text/plain": [
       "datetime               object\n",
       "business_day            int64\n",
       "weather_conditions     object\n",
       "temperature           float64\n",
       "humidity                int64\n",
       "wind_speed            float64\n",
       "holidays               object\n",
       "season                 object\n",
       "no_rentals              int64\n",
       "dtype: object"
      ]
     },
     "execution_count": 2,
     "metadata": {},
     "output_type": "execute_result"
    }
   ],
   "source": [
    "df.dtypes\n",
    "\n"
   ]
  },
  {
   "cell_type": "markdown",
   "metadata": {
    "deletable": false,
    "editable": false,
    "run_control": {
     "frozen": true
    }
   },
   "source": [
    "\n",
    "<hr style=\"border-width:2px;border-color:#75DFC1\">\n",
    "<h3 style = \"text-align:center\" > 1. Analyse descriptive d'une variable qualitative </h3>  \n",
    "<hr style=\"border-width:2px;border-color:#75DFC1\">\n",
    "\n",
    "* **(d)** Déterminer les **variables catégorielles** et les stocker dans un tableau **`cat_data`**.\n",
    "\n",
    "<div class=\"alert alert-info\">\n",
    "<i class=\"fa fa-info-circle\"></i> &emsp; \n",
    "    On pourra s'aider de la fonction <code>pandas.DataFrame.select_dtypes()</code> et de l'attribut <code>include</code> auquel on renseignera une liste du ou des type(s) qu'on souhaite garder (ici \"object\" ou \"O\").\n",
    "</div>\n",
    "\n",
    "\n"
   ]
  },
  {
   "cell_type": "code",
   "execution_count": null,
   "metadata": {},
   "outputs": [],
   "source": [
    "\n",
    "\n"
   ]
  },
  {
   "cell_type": "code",
   "execution_count": 3,
   "metadata": {
    "deletable": false,
    "function": "solution",
    "tags": []
   },
   "outputs": [
    {
     "data": {
      "text/html": [
       "<div>\n",
       "<style scoped>\n",
       "    .dataframe tbody tr th:only-of-type {\n",
       "        vertical-align: middle;\n",
       "    }\n",
       "\n",
       "    .dataframe tbody tr th {\n",
       "        vertical-align: top;\n",
       "    }\n",
       "\n",
       "    .dataframe thead th {\n",
       "        text-align: right;\n",
       "    }\n",
       "</style>\n",
       "<table border=\"1\" class=\"dataframe\">\n",
       "  <thead>\n",
       "    <tr style=\"text-align: right;\">\n",
       "      <th></th>\n",
       "      <th>datetime</th>\n",
       "      <th>weather_conditions</th>\n",
       "      <th>holidays</th>\n",
       "      <th>season</th>\n",
       "    </tr>\n",
       "  </thead>\n",
       "  <tbody>\n",
       "    <tr>\n",
       "      <th>0</th>\n",
       "      <td>2011-01-01 00:00:00</td>\n",
       "      <td>(1) temps clair</td>\n",
       "      <td>non</td>\n",
       "      <td>printemps</td>\n",
       "    </tr>\n",
       "    <tr>\n",
       "      <th>1</th>\n",
       "      <td>2011-01-01 01:00:00</td>\n",
       "      <td>(1) temps clair</td>\n",
       "      <td>non</td>\n",
       "      <td>printemps</td>\n",
       "    </tr>\n",
       "    <tr>\n",
       "      <th>2</th>\n",
       "      <td>2011-01-01 02:00:00</td>\n",
       "      <td>(1) temps clair</td>\n",
       "      <td>non</td>\n",
       "      <td>printemps</td>\n",
       "    </tr>\n",
       "    <tr>\n",
       "      <th>3</th>\n",
       "      <td>2011-01-01 03:00:00</td>\n",
       "      <td>(1) temps clair</td>\n",
       "      <td>non</td>\n",
       "      <td>printemps</td>\n",
       "    </tr>\n",
       "    <tr>\n",
       "      <th>4</th>\n",
       "      <td>2011-01-01 04:00:00</td>\n",
       "      <td>(1) temps clair</td>\n",
       "      <td>non</td>\n",
       "      <td>printemps</td>\n",
       "    </tr>\n",
       "  </tbody>\n",
       "</table>\n",
       "</div>"
      ],
      "text/plain": [
       "              datetime weather_conditions holidays     season\n",
       "0  2011-01-01 00:00:00    (1) temps clair      non  printemps\n",
       "1  2011-01-01 01:00:00    (1) temps clair      non  printemps\n",
       "2  2011-01-01 02:00:00    (1) temps clair      non  printemps\n",
       "3  2011-01-01 03:00:00    (1) temps clair      non  printemps\n",
       "4  2011-01-01 04:00:00    (1) temps clair      non  printemps"
      ]
     },
     "execution_count": 3,
     "metadata": {},
     "output_type": "execute_result"
    }
   ],
   "source": [
    "cat_data = df.select_dtypes(include='object')\n",
    "cat_data.head()\n",
    "\n"
   ]
  },
  {
   "cell_type": "markdown",
   "metadata": {
    "deletable": false,
    "editable": false,
    "run_control": {
     "frozen": true
    }
   },
   "source": [
    "\n",
    "* **(e)** À l'aide de la méthode **`value_counts`** afficher le dénombrement de différentes modalités sur les variables **`\"conditions_meteo\"`**, **`\"vacances\"`**, **`\"saison\"`**.\n",
    "\n"
   ]
  },
  {
   "cell_type": "code",
   "execution_count": null,
   "metadata": {},
   "outputs": [],
   "source": []
  },
  {
   "cell_type": "code",
   "execution_count": 22,
   "metadata": {
    "deletable": false,
    "function": "solution",
    "tags": []
   },
   "outputs": [
    {
     "name": "stdout",
     "output_type": "stream",
     "text": [
      "weather_conditions:\n",
      " (1) temps clair     7192\n",
      "(2) nuageux         2834\n",
      "(3) pluie            859\n",
      "(4) orage, neige       1\n",
      "Name: weather_conditions, dtype: int64\n",
      "------------------------------\n",
      "holidays: non    10575\n",
      "oui      311\n",
      "Name: holidays, dtype: int64\n",
      "------------------------------\n",
      "season: hiver        2734\n",
      "ete          2733\n",
      "automn       2733\n",
      "printemps    2686\n",
      "Name: season, dtype: int64\n"
     ]
    }
   ],
   "source": [
    "print('weather_conditions:\\n',cat_data['weather_conditions'].value_counts())\n",
    "print(\"------------------------------\")\n",
    "print('holidays:',cat_data['holidays'].value_counts())\n",
    "print(\"------------------------------\")\n",
    "print('season:',cat_data['season'].value_counts())\n"
   ]
  },
  {
   "cell_type": "markdown",
   "metadata": {
    "deletable": false,
    "editable": false,
    "run_control": {
     "frozen": true
    }
   },
   "source": [
    "\n",
    "> **`value_counts`** est couramment utilisé pour visualiser très rapidement les modalités d'une variable.\n",
    "On peut également retrouver très facilement la modalité la plus fréquente d'une variable qualitative avec la méthode **`mode`**.\n",
    "\n",
    "* **(f)**  Afficher **la modalité la plus fréquente** de la colonne **`\"saison\"`** et vérifier que cela correspond bien avec le résultat trouvé précédemment.\n",
    "\n"
   ]
  },
  {
   "cell_type": "code",
   "execution_count": null,
   "metadata": {},
   "outputs": [],
   "source": [
    "\n",
    "\n",
    "\n"
   ]
  },
  {
   "cell_type": "code",
   "execution_count": 5,
   "metadata": {
    "deletable": false,
    "function": "solution",
    "tags": []
   },
   "outputs": [
    {
     "data": {
      "text/plain": [
       "0    hiver\n",
       "Name: season, dtype: object"
      ]
     },
     "execution_count": 5,
     "metadata": {},
     "output_type": "execute_result"
    }
   ],
   "source": [
    "df['season'].mode()\n",
    "# Indeed, winter is the most frequent mode\n",
    "# (it appears 2,734 times according to the result of .value_counts())\n"
   ]
  },
  {
   "cell_type": "markdown",
   "metadata": {
    "deletable": false,
    "editable": false,
    "run_control": {
     "frozen": true
    }
   },
   "source": [
    "\n",
    " > Dans un premier temps, il est important de bien identifier et étudier la **fréquence des modalités**. La manière la plus rapide est en faisant **`.value_counts(normalize = True)`**. Ce paramètre permet de normaliser ces valeurs et donc calculer les pourcentages de chaque modalité. \n",
    " \n",
    " * **(g)** Afficher les fréquences de différentes modalités des variables **`\"conditions_meteo\"`**, **`\"vacances\"`** et **`\"saison\"`**.\n",
    "\n"
   ]
  },
  {
   "cell_type": "code",
   "execution_count": null,
   "metadata": {},
   "outputs": [],
   "source": [
    "\n",
    "\n"
   ]
  },
  {
   "cell_type": "code",
   "execution_count": 6,
   "metadata": {
    "deletable": false,
    "function": "solution",
    "tags": []
   },
   "outputs": [
    {
     "name": "stdout",
     "output_type": "stream",
     "text": [
      "(1) temps clair     0.660665\n",
      "(2) nuageux         0.260334\n",
      "(3) pluie           0.078909\n",
      "(4) orage, neige    0.000092\n",
      "Name: weather_conditions, dtype: float64\n",
      "------------------------------\n",
      "non    0.971431\n",
      "oui    0.028569\n",
      "Name: holidays, dtype: float64\n",
      "------------------------------\n",
      "hiver        0.251148\n",
      "ete          0.251056\n",
      "automn       0.251056\n",
      "printemps    0.246739\n",
      "Name: season, dtype: float64\n"
     ]
    }
   ],
   "source": [
    "print(cat_data[\"weather_conditions\"].value_counts(normalize = True))\n",
    "print(\"------------------------------\")\n",
    "print(cat_data[\"holidays\"].value_counts(normalize = True))\n",
    "print(\"------------------------------\")\n",
    "print(cat_data[\"season\"].value_counts(normalize = True))\n"
   ]
  },
  {
   "cell_type": "markdown",
   "metadata": {
    "deletable": false,
    "editable": false,
    "run_control": {
     "frozen": true
    }
   },
   "source": [
    "\n",
    "<hr style=\"border-width:2px;border-color:#75DFC1\">\n",
    "<h3 style = \"text-align:center\" > 2. Interaction entre une variable qualitative et une variable quantitative </h3>  \n",
    "<hr style=\"border-width:2px;border-color:#75DFC1\">\n",
    "\n",
    "> D'après la question précédente on peut constater que pendant les vacances il y a beaucoup moins de locations de vélos. \n",
    "Quant aux saisons, la répartition est uniforme.<br>\n",
    ">\n",
    "> Pour ajouter plus de contexte, il serait intéressant de créer une variable qualitative qui encadre les températures en fonction de **labels** données.\n",
    "\n",
    "* **(h)** Dans une nouvelle variable **`\"temperature_labels\"`**, découpez les valeurs de la colonne **`\"temperature\"`** en **4 classes distinctes** avec pour **labels** $0, 1, 2, 3$ en fonction de quartiles de la variable **`\"temperature\"`**.\n",
    "\n",
    "<div class=\"alert alert-info\">\n",
    "<i class=\"fa fa-info-circle\"></i> &emsp;\n",
    "À utiliser <code>pandas.qcut(colonne, labels = [...], q = 4)</code>.\n",
    "</div>\n",
    "\n"
   ]
  },
  {
   "cell_type": "code",
   "execution_count": 7,
   "metadata": {},
   "outputs": [
    {
     "data": {
      "text/html": [
       "<div>\n",
       "<style scoped>\n",
       "    .dataframe tbody tr th:only-of-type {\n",
       "        vertical-align: middle;\n",
       "    }\n",
       "\n",
       "    .dataframe tbody tr th {\n",
       "        vertical-align: top;\n",
       "    }\n",
       "\n",
       "    .dataframe thead th {\n",
       "        text-align: right;\n",
       "    }\n",
       "</style>\n",
       "<table border=\"1\" class=\"dataframe\">\n",
       "  <thead>\n",
       "    <tr style=\"text-align: right;\">\n",
       "      <th></th>\n",
       "      <th>datetime</th>\n",
       "      <th>business_day</th>\n",
       "      <th>weather_conditions</th>\n",
       "      <th>temperature</th>\n",
       "      <th>humidity</th>\n",
       "      <th>wind_speed</th>\n",
       "      <th>holidays</th>\n",
       "      <th>season</th>\n",
       "      <th>no_rentals</th>\n",
       "      <th>temperature_labels</th>\n",
       "    </tr>\n",
       "  </thead>\n",
       "  <tbody>\n",
       "    <tr>\n",
       "      <th>0</th>\n",
       "      <td>2011-01-01 00:00:00</td>\n",
       "      <td>0</td>\n",
       "      <td>(1) temps clair</td>\n",
       "      <td>9.84</td>\n",
       "      <td>81</td>\n",
       "      <td>0.0</td>\n",
       "      <td>non</td>\n",
       "      <td>printemps</td>\n",
       "      <td>16</td>\n",
       "      <td>0</td>\n",
       "    </tr>\n",
       "    <tr>\n",
       "      <th>1</th>\n",
       "      <td>2011-01-01 01:00:00</td>\n",
       "      <td>0</td>\n",
       "      <td>(1) temps clair</td>\n",
       "      <td>9.02</td>\n",
       "      <td>80</td>\n",
       "      <td>0.0</td>\n",
       "      <td>non</td>\n",
       "      <td>printemps</td>\n",
       "      <td>40</td>\n",
       "      <td>0</td>\n",
       "    </tr>\n",
       "    <tr>\n",
       "      <th>2</th>\n",
       "      <td>2011-01-01 02:00:00</td>\n",
       "      <td>0</td>\n",
       "      <td>(1) temps clair</td>\n",
       "      <td>9.02</td>\n",
       "      <td>80</td>\n",
       "      <td>0.0</td>\n",
       "      <td>non</td>\n",
       "      <td>printemps</td>\n",
       "      <td>32</td>\n",
       "      <td>0</td>\n",
       "    </tr>\n",
       "    <tr>\n",
       "      <th>3</th>\n",
       "      <td>2011-01-01 03:00:00</td>\n",
       "      <td>0</td>\n",
       "      <td>(1) temps clair</td>\n",
       "      <td>9.84</td>\n",
       "      <td>75</td>\n",
       "      <td>0.0</td>\n",
       "      <td>non</td>\n",
       "      <td>printemps</td>\n",
       "      <td>13</td>\n",
       "      <td>0</td>\n",
       "    </tr>\n",
       "    <tr>\n",
       "      <th>4</th>\n",
       "      <td>2011-01-01 04:00:00</td>\n",
       "      <td>0</td>\n",
       "      <td>(1) temps clair</td>\n",
       "      <td>9.84</td>\n",
       "      <td>75</td>\n",
       "      <td>0.0</td>\n",
       "      <td>non</td>\n",
       "      <td>printemps</td>\n",
       "      <td>1</td>\n",
       "      <td>0</td>\n",
       "    </tr>\n",
       "  </tbody>\n",
       "</table>\n",
       "</div>"
      ],
      "text/plain": [
       "              datetime  business_day weather_conditions  temperature  \\\n",
       "0  2011-01-01 00:00:00             0    (1) temps clair         9.84   \n",
       "1  2011-01-01 01:00:00             0    (1) temps clair         9.02   \n",
       "2  2011-01-01 02:00:00             0    (1) temps clair         9.02   \n",
       "3  2011-01-01 03:00:00             0    (1) temps clair         9.84   \n",
       "4  2011-01-01 04:00:00             0    (1) temps clair         9.84   \n",
       "\n",
       "   humidity  wind_speed holidays     season  no_rentals temperature_labels  \n",
       "0        81         0.0      non  printemps          16                  0  \n",
       "1        80         0.0      non  printemps          40                  0  \n",
       "2        80         0.0      non  printemps          32                  0  \n",
       "3        75         0.0      non  printemps          13                  0  \n",
       "4        75         0.0      non  printemps           1                  0  "
      ]
     },
     "execution_count": 7,
     "metadata": {},
     "output_type": "execute_result"
    }
   ],
   "source": [
    "df['temperature_labels']=pd.qcut(df['temperature'], labels = ['0','1','2','3'], q = 4)\n",
    "df.head()\n",
    "\n",
    "\n"
   ]
  },
  {
   "cell_type": "code",
   "execution_count": 8,
   "metadata": {
    "deletable": false,
    "function": "solution",
    "tags": []
   },
   "outputs": [
    {
     "data": {
      "text/html": [
       "<div>\n",
       "<style scoped>\n",
       "    .dataframe tbody tr th:only-of-type {\n",
       "        vertical-align: middle;\n",
       "    }\n",
       "\n",
       "    .dataframe tbody tr th {\n",
       "        vertical-align: top;\n",
       "    }\n",
       "\n",
       "    .dataframe thead th {\n",
       "        text-align: right;\n",
       "    }\n",
       "</style>\n",
       "<table border=\"1\" class=\"dataframe\">\n",
       "  <thead>\n",
       "    <tr style=\"text-align: right;\">\n",
       "      <th></th>\n",
       "      <th>datetime</th>\n",
       "      <th>business_day</th>\n",
       "      <th>weather_conditions</th>\n",
       "      <th>temperature</th>\n",
       "      <th>humidity</th>\n",
       "      <th>wind_speed</th>\n",
       "      <th>holidays</th>\n",
       "      <th>season</th>\n",
       "      <th>no_rentals</th>\n",
       "      <th>temperature_labels</th>\n",
       "    </tr>\n",
       "  </thead>\n",
       "  <tbody>\n",
       "    <tr>\n",
       "      <th>0</th>\n",
       "      <td>2011-01-01 00:00:00</td>\n",
       "      <td>0</td>\n",
       "      <td>(1) temps clair</td>\n",
       "      <td>9.84</td>\n",
       "      <td>81</td>\n",
       "      <td>0.0</td>\n",
       "      <td>non</td>\n",
       "      <td>printemps</td>\n",
       "      <td>16</td>\n",
       "      <td>0</td>\n",
       "    </tr>\n",
       "    <tr>\n",
       "      <th>1</th>\n",
       "      <td>2011-01-01 01:00:00</td>\n",
       "      <td>0</td>\n",
       "      <td>(1) temps clair</td>\n",
       "      <td>9.02</td>\n",
       "      <td>80</td>\n",
       "      <td>0.0</td>\n",
       "      <td>non</td>\n",
       "      <td>printemps</td>\n",
       "      <td>40</td>\n",
       "      <td>0</td>\n",
       "    </tr>\n",
       "    <tr>\n",
       "      <th>2</th>\n",
       "      <td>2011-01-01 02:00:00</td>\n",
       "      <td>0</td>\n",
       "      <td>(1) temps clair</td>\n",
       "      <td>9.02</td>\n",
       "      <td>80</td>\n",
       "      <td>0.0</td>\n",
       "      <td>non</td>\n",
       "      <td>printemps</td>\n",
       "      <td>32</td>\n",
       "      <td>0</td>\n",
       "    </tr>\n",
       "    <tr>\n",
       "      <th>3</th>\n",
       "      <td>2011-01-01 03:00:00</td>\n",
       "      <td>0</td>\n",
       "      <td>(1) temps clair</td>\n",
       "      <td>9.84</td>\n",
       "      <td>75</td>\n",
       "      <td>0.0</td>\n",
       "      <td>non</td>\n",
       "      <td>printemps</td>\n",
       "      <td>13</td>\n",
       "      <td>0</td>\n",
       "    </tr>\n",
       "    <tr>\n",
       "      <th>4</th>\n",
       "      <td>2011-01-01 04:00:00</td>\n",
       "      <td>0</td>\n",
       "      <td>(1) temps clair</td>\n",
       "      <td>9.84</td>\n",
       "      <td>75</td>\n",
       "      <td>0.0</td>\n",
       "      <td>non</td>\n",
       "      <td>printemps</td>\n",
       "      <td>1</td>\n",
       "      <td>0</td>\n",
       "    </tr>\n",
       "  </tbody>\n",
       "</table>\n",
       "</div>"
      ],
      "text/plain": [
       "              datetime  business_day weather_conditions  temperature  \\\n",
       "0  2011-01-01 00:00:00             0    (1) temps clair         9.84   \n",
       "1  2011-01-01 01:00:00             0    (1) temps clair         9.02   \n",
       "2  2011-01-01 02:00:00             0    (1) temps clair         9.02   \n",
       "3  2011-01-01 03:00:00             0    (1) temps clair         9.84   \n",
       "4  2011-01-01 04:00:00             0    (1) temps clair         9.84   \n",
       "\n",
       "   humidity  wind_speed holidays     season  no_rentals temperature_labels  \n",
       "0        81         0.0      non  printemps          16                  0  \n",
       "1        80         0.0      non  printemps          40                  0  \n",
       "2        80         0.0      non  printemps          32                  0  \n",
       "3        75         0.0      non  printemps          13                  0  \n",
       "4        75         0.0      non  printemps           1                  0  "
      ]
     },
     "execution_count": 8,
     "metadata": {},
     "output_type": "execute_result"
    }
   ],
   "source": [
    "df['temperature_labels'] = pd.qcut(df['temperature'], labels = [0, 1, 2, 3], q = 4)\n",
    "df.head()\n",
    "\n"
   ]
  },
  {
   "cell_type": "markdown",
   "metadata": {
    "deletable": false,
    "run_control": {
     "frozen": true
    },
    "tags": []
   },
   "source": [
    "\n",
    "* **(i)**  Stocker dans une nouvelle variable **`group_holidays_labels`** **le nombre total de locations** en fonction des variables qualitatives **`\"temperature_labels\"`**  et **`\"holidays\"`**. Afficher ce nouveau dataframe.\n",
    "\n",
    "<div class=\"alert alert-info\">\n",
    "<i class=\"fa fa-info-circle\"></i> &emsp;\n",
    "<code>pandas.groupby([liste_colonnes]).agg({\"colonne1\":\"opération\", \"colonne2\":\"opération\", ..})</code> <br>\n",
    " \n",
    "permet de grouper les données en fonction de la <code>[liste_colonnes]</code> et d'aggréger en fonction de <code>colonne1, colonne2, ...</code>, en apliquant l'opération saisie (cela peut être <code><b>sum, mean, min, max, unique</b></code>, etc.).\n",
    "</div>\n",
    "\n"
   ]
  },
  {
   "cell_type": "code",
   "execution_count": null,
   "metadata": {},
   "outputs": [],
   "source": [
    "\n"
   ]
  },
  {
   "cell_type": "code",
   "execution_count": 10,
   "metadata": {
    "deletable": false,
    "function": "solution",
    "tags": []
   },
   "outputs": [
    {
     "name": "stdout",
     "output_type": "stream",
     "text": [
      "                             no_rentals\n",
      "holidays temperature_labels            \n",
      "non      0                       294042\n",
      "         1                       456152\n",
      "         2                       553940\n",
      "         3                       723534\n",
      "oui      0                         7923\n",
      "         1                        10185\n",
      "         2                        10630\n",
      "         3                        29070\n"
     ]
    }
   ],
   "source": [
    "group_holidays_labels = df.groupby(['holidays', 'temperature_labels'])\\\n",
    "                        .agg({'no_rentals': 'sum'})\n",
    "\n",
    "# Note: the backslash “\\” at the end of the first line of code\n",
    "# allows operations to continue on the second line. \n",
    "# This can be useful if visibility is limited and you don't want to \n",
    "# chain all operations on the same line.\n",
    "\n",
    "# We calculate the sum of the nb_locations column to get the total number \n",
    "# of rentals.\n",
    "print(group_holidays_labels)\n"
   ]
  },
  {
   "cell_type": "markdown",
   "metadata": {
    "deletable": false,
    "editable": false,
    "run_control": {
     "frozen": true
    }
   },
   "source": [
    "\n",
    "> On observe que pendant les jours de vacances et pour un label de température égal à $3$, c'est-à-dire que la température est supérieure au 3e quartile (ici $26.24°C$ en utilisant `df[\"temperature\"].describe()`), il y a eu un nombre total de $29070$ locations.\n",
    ">\n",
    "> Pour ajouter une nouvelle colonne qui va calculer aussi le **nombre moyen** de locations, on peut saisir une **liste des fonctions** à exécuter (dans le paramètre de **`.agg()`**) pour la variable numérique **`\"nb_locations\"`**.\n",
    "\n",
    "* **(j)** Créer une nouvelle variable **`group_vacances_labels2`** en ajoutant au groupby précédent une colonne avec la moyenne de nombres de locations en fonction des colonnes **`\"temperature_labels\"`** et **`\"vacances\"`**. Afficher-là.\n",
    "\n"
   ]
  },
  {
   "cell_type": "code",
   "execution_count": null,
   "metadata": {},
   "outputs": [],
   "source": [
    "\n",
    "\n",
    "\n"
   ]
  },
  {
   "cell_type": "code",
   "execution_count": 12,
   "metadata": {
    "deletable": false,
    "function": "solution",
    "tags": []
   },
   "outputs": [
    {
     "name": "stdout",
     "output_type": "stream",
     "text": [
      "                            no_rentals            \n",
      "                                   sum        mean\n",
      "holidays temperature_labels                       \n",
      "non      0                      294042  103.865065\n",
      "         1                      456152  172.262840\n",
      "         2                      553940  216.382812\n",
      "         3                      723534  285.305205\n",
      "oui      0                        7923   83.400000\n",
      "         1                       10185  166.967213\n",
      "         2                       10630  216.938776\n",
      "         3                       29070  274.245283\n"
     ]
    }
   ],
   "source": [
    "group_holidays_labels2 = df.groupby(['holidays', 'temperature_labels']).agg({'no_rentals': ['sum', 'mean']})\n",
    "print(group_holidays_labels2)\n",
    "\n"
   ]
  },
  {
   "cell_type": "markdown",
   "metadata": {
    "deletable": false,
    "editable": false,
    "run_control": {
     "frozen": true
    }
   },
   "source": [
    "\n",
    "> Pendant les jours où il n'y a pas des vacances et si la température est supérieure à $26.24°$ (label 3), il y a approximativement $285$ locations de vélos en moyenne.\n",
    "> \n",
    "> Ce type de statistiques est souvent utile et les données peuvent être représentées facilement de manière **graphique**.\n",
    "> \n",
    "> Pour affiner notre analyse, dans la suite nous allons gérer également la dimension **temporelle**.\n",
    ">\n",
    "<hr style=\"border-width:2px;border-color:#75DFC1\">\n",
    "<h3 style = \"text-align:center\" >  3. Analyser une variable qualitative et quantitative en ajoutant la dimension temporelle</h3>  \n",
    "<hr style=\"border-width:2px;border-color:#75DFC1\">\n",
    "\n",
    "> Pour intégrer le **temps** dans l'analyse de différentes variables nous allons manipuler des objets de type **`pandas.Grouper`**.<br>\n",
    ">\n",
    ">**`pandas.groupby(pandas.Grouper()).agg()`** permettra de grouper les données par date et agréger par la variable souhaitée. <br>\n",
    ">\n",
    "> Afin de mieux comprendre les résultats et l'intérêt de cet objet, nous allons utiliser la librairie **`matplotlib`** pour réaliser quelques graphiques. Plus tard dans la formation, un module entier sera consacré à la DataViz'.\n",
    ">\n",
    "* **(k)** En regardant les types de chaque variable, on observe que la colonne **`datetime`** est en format *object* (donc chaîne de caractères).  <br>\n",
    "Pour pouvoir travailler avec des objets de type **`pandas.Grouper`**, il faut d'abord mettre la colonne **`datetime`** dans un **format** adapté (*datetime*) à l'aide de la fonction **`to_datetime`** de **`pandas`**. <br>\n",
    "\n",
    "\n",
    "* **(l)** Vérifiez si cette colonne a été mis dans un bon format. <br>\n",
    "\n",
    "**Remarque** : Attention à ne pas confondre le nom de la colonne avec son type. Ici, par coïncidence la colonne s'appelle datetime, mais de base elle n'est pas dans un format datetime. \n",
    "\n"
   ]
  },
  {
   "cell_type": "code",
   "execution_count": null,
   "metadata": {},
   "outputs": [],
   "source": [
    "\n",
    "\n"
   ]
  },
  {
   "cell_type": "code",
   "execution_count": 15,
   "metadata": {
    "deletable": false,
    "function": "solution",
    "tags": []
   },
   "outputs": [
    {
     "data": {
      "text/plain": [
       "datetime              datetime64[ns]\n",
       "business_day                   int64\n",
       "weather_conditions            object\n",
       "temperature                  float64\n",
       "humidity                       int64\n",
       "wind_speed                   float64\n",
       "holidays                      object\n",
       "season                        object\n",
       "no_rentals                     int64\n",
       "temperature_labels          category\n",
       "dtype: object"
      ]
     },
     "execution_count": 15,
     "metadata": {},
     "output_type": "execute_result"
    }
   ],
   "source": [
    "df[\"datetime\"] = pd.to_datetime(df[\"datetime\"])\n",
    "\n",
    "# Check the types of columns in the dataframe df:\n",
    "df.dtypes\n",
    "# We can clearly see that the datetime column is now in datetime format.\n",
    "\n"
   ]
  },
  {
   "cell_type": "markdown",
   "metadata": {
    "deletable": false,
    "run_control": {
     "frozen": true
    },
    "tags": []
   },
   "source": [
    "\n",
    "* **(m)** A l'aide de **`pd.Grouper()`**, créez un objet **`grouper_month`** qui prend comme arguments : \n",
    ">* `key` le nom de la colonne avec les dates\n",
    ">* `freq = m` pour indiquer qu'on veut grouper les données par mois, `d` par jour, `w` par semaine, etc.\n",
    "\n",
    "<div class=\"alert alert-info\">\n",
    "<i class=\"fa fa-info-circle\"></i> &emsp;\n",
    "À utiliser <code>pandas.Grouper(key = \"nom de la colonne\", freq = 'm')</code>.\n",
    "</div>\n",
    "\n",
    "* **(n)** Afficher le type de la variable **`grouper_month`**.\n",
    "\n"
   ]
  },
  {
   "cell_type": "code",
   "execution_count": null,
   "metadata": {},
   "outputs": [],
   "source": [
    "\n",
    "\n"
   ]
  },
  {
   "cell_type": "code",
   "execution_count": 16,
   "metadata": {
    "deletable": false,
    "function": "solution",
    "tags": []
   },
   "outputs": [
    {
     "data": {
      "text/plain": [
       "pandas.core.resample.TimeGrouper"
      ]
     },
     "execution_count": 16,
     "metadata": {},
     "output_type": "execute_result"
    }
   ],
   "source": [
    "grouper_month = pd.Grouper(key = 'datetime', freq = 'm')\n",
    "\n",
    "# le type de la variable grouper_mois: \n",
    "type(grouper_month)\n",
    "# on observe que le type est pandas.core.resample.TimeGrouper\n",
    "# pour pouvoir retirer l'information de cette variable\n",
    "# il faut l'utiliser avec la commade .groupby()\n"
   ]
  },
  {
   "cell_type": "markdown",
   "metadata": {
    "deletable": false,
    "run_control": {
     "frozen": true
    },
    "tags": []
   },
   "source": [
    "\n",
    "* **(o)** Créer un objet nommé **`groupby_month_weather`** en groupant par la liste de variables **`[grouper_month, df[\"weather_conditions\"]]`** et en calculant la moyenne de locations sur la colonne **`\"no_rentals\"`**.<br>\n",
    "Appliquer la méthode **`unstack`** à la fin pour mettre les données par colonnes. <br>\n",
    "Afficher les premières 5 lignes du dataframe. <br>\n",
    "\n",
    "\n",
    "* **(p)** Commenter les résultats obtenus.\n",
    "\n"
   ]
  },
  {
   "cell_type": "code",
   "execution_count": null,
   "metadata": {},
   "outputs": [],
   "source": [
    "groupby_mois_meteo = df.groupby([grouper_mois, df[\"conditions_meteo\"]]).agg({\"nb_locations\":\"mean\"}).unstack()\n",
    "groupby_mois_meteo.head()\n",
    "\n"
   ]
  },
  {
   "cell_type": "code",
   "execution_count": 17,
   "metadata": {
    "deletable": false,
    "function": "solution",
    "tags": []
   },
   "outputs": [
    {
     "data": {
      "text/html": [
       "<div>\n",
       "<style scoped>\n",
       "    .dataframe tbody tr th:only-of-type {\n",
       "        vertical-align: middle;\n",
       "    }\n",
       "\n",
       "    .dataframe tbody tr th {\n",
       "        vertical-align: top;\n",
       "    }\n",
       "\n",
       "    .dataframe thead tr th {\n",
       "        text-align: left;\n",
       "    }\n",
       "\n",
       "    .dataframe thead tr:last-of-type th {\n",
       "        text-align: right;\n",
       "    }\n",
       "</style>\n",
       "<table border=\"1\" class=\"dataframe\">\n",
       "  <thead>\n",
       "    <tr>\n",
       "      <th></th>\n",
       "      <th colspan=\"4\" halign=\"left\">no_rentals</th>\n",
       "    </tr>\n",
       "    <tr>\n",
       "      <th>weather_conditions</th>\n",
       "      <th>(1) temps clair</th>\n",
       "      <th>(2) nuageux</th>\n",
       "      <th>(3) pluie</th>\n",
       "      <th>(4) orage, neige</th>\n",
       "    </tr>\n",
       "    <tr>\n",
       "      <th>datetime</th>\n",
       "      <th></th>\n",
       "      <th></th>\n",
       "      <th></th>\n",
       "      <th></th>\n",
       "    </tr>\n",
       "  </thead>\n",
       "  <tbody>\n",
       "    <tr>\n",
       "      <th>2011-01-31</th>\n",
       "      <td>59.483146</td>\n",
       "      <td>50.260870</td>\n",
       "      <td>28.230769</td>\n",
       "      <td>NaN</td>\n",
       "    </tr>\n",
       "    <tr>\n",
       "      <th>2011-02-28</th>\n",
       "      <td>77.596154</td>\n",
       "      <td>75.171717</td>\n",
       "      <td>34.057143</td>\n",
       "      <td>NaN</td>\n",
       "    </tr>\n",
       "    <tr>\n",
       "      <th>2011-03-31</th>\n",
       "      <td>95.474638</td>\n",
       "      <td>88.204545</td>\n",
       "      <td>19.500000</td>\n",
       "      <td>NaN</td>\n",
       "    </tr>\n",
       "    <tr>\n",
       "      <th>2011-04-30</th>\n",
       "      <td>128.177489</td>\n",
       "      <td>103.084337</td>\n",
       "      <td>65.448276</td>\n",
       "      <td>NaN</td>\n",
       "    </tr>\n",
       "    <tr>\n",
       "      <th>2011-05-31</th>\n",
       "      <td>192.539326</td>\n",
       "      <td>154.890511</td>\n",
       "      <td>136.250000</td>\n",
       "      <td>NaN</td>\n",
       "    </tr>\n",
       "  </tbody>\n",
       "</table>\n",
       "</div>"
      ],
      "text/plain": [
       "                        no_rentals                                         \n",
       "weather_conditions (1) temps clair (2) nuageux   (3) pluie (4) orage, neige\n",
       "datetime                                                                   \n",
       "2011-01-31               59.483146   50.260870   28.230769              NaN\n",
       "2011-02-28               77.596154   75.171717   34.057143              NaN\n",
       "2011-03-31               95.474638   88.204545   19.500000              NaN\n",
       "2011-04-30              128.177489  103.084337   65.448276              NaN\n",
       "2011-05-31              192.539326  154.890511  136.250000              NaN"
      ]
     },
     "execution_count": 17,
     "metadata": {},
     "output_type": "execute_result"
    }
   ],
   "source": [
    "groupby_month_weather = df.groupby([grouper_month, df['weather_conditions']])\\\n",
    "                       .agg({'no_rentals':'mean'}).unstack()\n",
    "\n",
    "\n",
    "groupby_month_weather.head()\n",
    "# For the month of January 2011 (every day until January 31)\n",
    "# there were an average of 59 bike rentals on days when the weather was clear.\n",
    "\n",
    "# In February 2011, there were an average of 34 bike rentals on days when it rained.\n"
   ]
  },
  {
   "cell_type": "markdown",
   "metadata": {
    "deletable": false,
    "editable": false,
    "run_control": {
     "frozen": true
    }
   },
   "source": [
    "\n",
    "* **(q)** On peut remarquer que la colonne **`(4) orage, neige`** continent beaucoup de **valeurs manquantes** parce que cette modalité est très rare parmi les données. Remplacer les valeurs manquantes du dataframe **`groupby_mois_meteo`** par la valeur $0$.\n",
    "\n"
   ]
  },
  {
   "cell_type": "code",
   "execution_count": null,
   "metadata": {},
   "outputs": [],
   "source": [
    "\n"
   ]
  },
  {
   "cell_type": "code",
   "execution_count": 18,
   "metadata": {
    "deletable": false,
    "function": "solution",
    "tags": []
   },
   "outputs": [
    {
     "data": {
      "text/html": [
       "<div>\n",
       "<style scoped>\n",
       "    .dataframe tbody tr th:only-of-type {\n",
       "        vertical-align: middle;\n",
       "    }\n",
       "\n",
       "    .dataframe tbody tr th {\n",
       "        vertical-align: top;\n",
       "    }\n",
       "\n",
       "    .dataframe thead tr th {\n",
       "        text-align: left;\n",
       "    }\n",
       "\n",
       "    .dataframe thead tr:last-of-type th {\n",
       "        text-align: right;\n",
       "    }\n",
       "</style>\n",
       "<table border=\"1\" class=\"dataframe\">\n",
       "  <thead>\n",
       "    <tr>\n",
       "      <th></th>\n",
       "      <th colspan=\"4\" halign=\"left\">no_rentals</th>\n",
       "    </tr>\n",
       "    <tr>\n",
       "      <th>weather_conditions</th>\n",
       "      <th>(1) temps clair</th>\n",
       "      <th>(2) nuageux</th>\n",
       "      <th>(3) pluie</th>\n",
       "      <th>(4) orage, neige</th>\n",
       "    </tr>\n",
       "    <tr>\n",
       "      <th>datetime</th>\n",
       "      <th></th>\n",
       "      <th></th>\n",
       "      <th></th>\n",
       "      <th></th>\n",
       "    </tr>\n",
       "  </thead>\n",
       "  <tbody>\n",
       "    <tr>\n",
       "      <th>2011-01-31</th>\n",
       "      <td>59.483146</td>\n",
       "      <td>50.260870</td>\n",
       "      <td>28.230769</td>\n",
       "      <td>0.0</td>\n",
       "    </tr>\n",
       "    <tr>\n",
       "      <th>2011-02-28</th>\n",
       "      <td>77.596154</td>\n",
       "      <td>75.171717</td>\n",
       "      <td>34.057143</td>\n",
       "      <td>0.0</td>\n",
       "    </tr>\n",
       "    <tr>\n",
       "      <th>2011-03-31</th>\n",
       "      <td>95.474638</td>\n",
       "      <td>88.204545</td>\n",
       "      <td>19.500000</td>\n",
       "      <td>0.0</td>\n",
       "    </tr>\n",
       "    <tr>\n",
       "      <th>2011-04-30</th>\n",
       "      <td>128.177489</td>\n",
       "      <td>103.084337</td>\n",
       "      <td>65.448276</td>\n",
       "      <td>0.0</td>\n",
       "    </tr>\n",
       "    <tr>\n",
       "      <th>2011-05-31</th>\n",
       "      <td>192.539326</td>\n",
       "      <td>154.890511</td>\n",
       "      <td>136.250000</td>\n",
       "      <td>0.0</td>\n",
       "    </tr>\n",
       "  </tbody>\n",
       "</table>\n",
       "</div>"
      ],
      "text/plain": [
       "                        no_rentals                                         \n",
       "weather_conditions (1) temps clair (2) nuageux   (3) pluie (4) orage, neige\n",
       "datetime                                                                   \n",
       "2011-01-31               59.483146   50.260870   28.230769              0.0\n",
       "2011-02-28               77.596154   75.171717   34.057143              0.0\n",
       "2011-03-31               95.474638   88.204545   19.500000              0.0\n",
       "2011-04-30              128.177489  103.084337   65.448276              0.0\n",
       "2011-05-31              192.539326  154.890511  136.250000              0.0"
      ]
     },
     "execution_count": 18,
     "metadata": {},
     "output_type": "execute_result"
    }
   ],
   "source": [
    "groupby_month_weather = groupby_month_weather.fillna(0)\n",
    "groupby_month_weather.head()\n"
   ]
  },
  {
   "cell_type": "markdown",
   "metadata": {
    "deletable": false,
    "editable": false,
    "run_control": {
     "frozen": true
    }
   },
   "source": [
    "\n",
    "* **(r)** Utiliser **`.plot(figsize = (20, 4.5), style = 'o-');`** pour afficher dans un graphique les résultats du dataframe précédent avec une taille adapté (paramètre **`figsize`**) et des points marqués sur la figure (paramètre **`style`**). Interpréter ce graphique.\n",
    "\n"
   ]
  },
  {
   "cell_type": "code",
   "execution_count": null,
   "metadata": {},
   "outputs": [],
   "source": [
    "\n",
    "\n",
    "\n"
   ]
  },
  {
   "cell_type": "code",
   "execution_count": 19,
   "metadata": {
    "deletable": false,
    "function": "solution",
    "tags": []
   },
   "outputs": [
    {
     "data": {
      "image/png": "[encoded data removed]",
      "text/plain": [
       "<Figure size 2000x450 with 1 Axes>"
      ]
     },
     "metadata": {},
     "output_type": "display_data"
    }
   ],
   "source": [
    "groupby_month_weather.plot(figsize = (20, 4.5), style = 'o-');\n",
    "\n"
   ]
  },
  {
   "cell_type": "raw",
   "metadata": {},
   "source": []
  },
  {
   "cell_type": "markdown",
   "metadata": {
    "deletable": false,
    "run_control": {
     "frozen": true
    },
    "tags": []
   },
   "source": [
    "\n",
    "> Toutes ces étapes nous ont permis de représenter l’évolution dans le temps du nombre moyen de locations en différenciant par rapport aux conditions météorologiques.\n",
    "> On remarque que meilleures sont les conditions météorologiques et plus important est le nombre moyen de locations de vélos. En effet la courbe bleue, qui correspond à un temps clair, est au dessus alors que la courbe rouge qui correspond à des conditions météorologiques extrêmes est en dessus de toutes les courbes.  \n",
    ">\n",
    "> Il faut aussi remarquer que la variable **`\"weather_conditions\"`** dépend du temps et que les conditions météorologiques changent en fonction du mois. Il est tout à fait possible qu'en janvier 2012 la location de vélo soit plus forte lorsque les conditions météorologiques atteignent des niveaux extrêmes (modalité `(4) orage, neige` sur la courbe rouge), étant donné qu'il y avait beaucoup de données manquantes pour cette modalité, que l'on vient de remplacer par la valeur $0$, et que les seules valeurs existantes étaient en janvier. <br>\n",
    ">\n",
    "> Finalement on peut aussi observer que la courbe bleue est le plus souvent celle qui est située au-dessus des autres. Cela signifie que les locations de vélos sont plus importantes lorsque le temps est clair. Ce n'est pas très étonnant car les conditions météorologiques à Porto sont la plupart du temps bonnes.\n",
    "\n"
   ]
  }
 ],
 "metadata": {
  "kernelspec": {
   "display_name": "Python 3 (ipykernel)",
   "language": "python",
   "name": "python3"
  },
  "language_info": {
   "codemirror_mode": {
    "name": "ipython",
    "version": 3
   },
   "file_extension": ".py",
   "mimetype": "text/x-python",
   "name": "python",
   "nbconvert_exporter": "python",
   "pygments_lexer": "ipython3",
   "version": "3.9.16"
  },
  "latex_envs": {
   "LaTeX_envs_menu_present": true,
   "autoclose": false,
   "autocomplete": true,
   "bibliofile": "biblio.bib",
   "cite_by": "apalike",
   "current_citInitial": 1,
   "eqLabelWithNumbers": true,
   "eqNumInitial": 1,
   "hotkeys": {
    "equation": "Ctrl-E",
    "itemize": "Ctrl-I"
   },
   "labels_anchors": false,
   "latex_user_defs": false,
   "report_style_numbering": false,
   "user_envs_cfg": false
  },
  "owner": "DataScientest",
  "widgets": {
   "application/vnd.jupyter.widget-state+json": {
    "state": {},
    "version_major": 2,
    "version_minor": 0
   }
  }
 },
 "nbformat": 4,
 "nbformat_minor": 4
}
