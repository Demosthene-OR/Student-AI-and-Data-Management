{
  "cells": [
    {
      "cell_type": "markdown",
      "metadata": {
        "id": "view-in-github",
        "colab_type": "text"
      },
      "source": [
        "<a href=\"https://colab.research.google.com/github/Demosthene-OR/Student-AI-and-Data-Management/blob/main/sklearn_classif_01_logistic_reg_en.ipynb\" target=\"_parent\"><img src=\"https://colab.research.google.com/assets/colab-badge.svg\" alt=\"Open In Colab\"/></a>"
      ]
    },
    {
      "cell_type": "markdown",
      "metadata": {
        "deletable": false,
        "editable": false,
        "run_control": {
          "frozen": true
        },
        "tags": [],
        "id": "QV4AqJm6hLQy"
      },
      "source": [
        "<img src=\"https://prof.totalenergies.com/wp-content/uploads/2024/09/TotalEnergies_TPA_picto_DegradeRouge_RVB-1024x1024.png\" height=\"150\" width=\"150\">\n",
        "<hr style=\"border-width:2px;border-color:#75DFC1\">\n",
        "<h1 style = \"text-align:center\" >Scikit-Learn: classification models</h1>\n",
        "<h2 style = \"text-align:center\">Classification using logistic regression</h2>\n",
        "<hr style=\"border-width:2px;border-color:#75DFC1\">\n",
        "\n",
        "\n",
        ">In this exercise, we will study an example of using logistics regression under Python.<br>\n",
        "> The packages used will be **pandas**, **scikit-learn** and its sub-packages notably **Linear_model**, **Metrics**, **Preprocessing** and **Model_selection**.\n",
        ">\n",
        ">This exercise relates to the parameters that can influence the admission of a high school candidate.<br>\n",
        "> The data we are going to process contain four variables:\n",
        ">> * `admit`: binary variable, which indicates whether a candidate is admitted (admitted = 1) or not (admitted = 0).\n",
        ">>\n",
        ">>\n",
        ">> * `gre` (Graduate Record Examination): A test in English created and managed by the ETS company.\n",
        ">>\n",
        ">>\n",
        ">> * `gpa` (Grade Point Average): the average of the notes of a student.\n",
        ">>\n",
        ">>\n",
        ">> * `prestige`: Prestige of the candidate, 1 being the best score and 4 weakest.\n",
        ">\n",
        "> The exercise is made up of several questions. You are invited to do them in order and be careful to respect the names of the variables.\n",
        "\n",
        "<hr style=\"border-width:2px;border-color:#75DFC1\">\n",
        "<h3 style = \"text-align:center\">1. Data preparation and modeling</h3>\n",
        "<hr style=\"border-width:2px;border-color:#75DFC1\">\n",
        "\n",
        "* **(a)** Import the sub-models **`Linear_model`** and **` Preprocessing`** from the library **`Sklearn`**.\n",
        "\n",
        "\n",
        "* **(b)** Import the function **`Train_test_Split`** from the submodule **` sklearn.model_selection`**.\n",
        "\n",
        "\n",
        "* **(c)** Import libraries **`Pandas`** and **` Numpy`** under the alias **`Pd`** and **` NP`**.\n",
        "\n",
        "\n",
        "* **(d)** Read the file **`'admissions.csv'`** in a dataframe named **`Df`**.\n",
        "\n",
        "\n",
        "* **(e)** Show the first lines of `DF` to verify that the import has been going well.\n",
        "\n",
        "<div class=\"alert alert-info\">\n",
        "<i class=\"fa fa-info-circle\"></i> &emsp;\n",
        "Remember that before looking at the solution, you can always access the official Python help by typing <code style = \"background-color: transparent ; color : inherit\"><b>help(name_function)</b></code> in the console.\n",
        "</div>\n",
        "\n"
      ]
    },
    {
      "cell_type": "code",
      "execution_count": null,
      "metadata": {
        "id": "wqXV6BY3hLQz"
      },
      "outputs": [],
      "source": []
    },
    {
      "cell_type": "code",
      "execution_count": null,
      "metadata": {
        "deletable": false,
        "editable": false,
        "function": "solution",
        "tags": [],
        "id": "5MSmttxihLQz",
        "outputId": "f4e79ecd-e3a7-4951-9444-df732ce81447"
      },
      "outputs": [
        {
          "data": {
            "text/html": [
              "<div>\n",
              "<style scoped>\n",
              "    .dataframe tbody tr th:only-of-type {\n",
              "        vertical-align: middle;\n",
              "    }\n",
              "\n",
              "    .dataframe tbody tr th {\n",
              "        vertical-align: top;\n",
              "    }\n",
              "\n",
              "    .dataframe thead th {\n",
              "        text-align: right;\n",
              "    }\n",
              "</style>\n",
              "<table border=\"1\" class=\"dataframe\">\n",
              "  <thead>\n",
              "    <tr style=\"text-align: right;\">\n",
              "      <th></th>\n",
              "      <th>admit</th>\n",
              "      <th>gre</th>\n",
              "      <th>gpa</th>\n",
              "      <th>prestige</th>\n",
              "    </tr>\n",
              "  </thead>\n",
              "  <tbody>\n",
              "    <tr>\n",
              "      <th>0</th>\n",
              "      <td>0</td>\n",
              "      <td>380.0</td>\n",
              "      <td>3.61</td>\n",
              "      <td>3.0</td>\n",
              "    </tr>\n",
              "    <tr>\n",
              "      <th>1</th>\n",
              "      <td>1</td>\n",
              "      <td>660.0</td>\n",
              "      <td>3.67</td>\n",
              "      <td>3.0</td>\n",
              "    </tr>\n",
              "    <tr>\n",
              "      <th>2</th>\n",
              "      <td>1</td>\n",
              "      <td>800.0</td>\n",
              "      <td>4.00</td>\n",
              "      <td>1.0</td>\n",
              "    </tr>\n",
              "    <tr>\n",
              "      <th>3</th>\n",
              "      <td>1</td>\n",
              "      <td>640.0</td>\n",
              "      <td>3.19</td>\n",
              "      <td>4.0</td>\n",
              "    </tr>\n",
              "    <tr>\n",
              "      <th>4</th>\n",
              "      <td>0</td>\n",
              "      <td>520.0</td>\n",
              "      <td>2.93</td>\n",
              "      <td>4.0</td>\n",
              "    </tr>\n",
              "  </tbody>\n",
              "</table>\n",
              "</div>"
            ],
            "text/plain": [
              "   admit    gre   gpa  prestige\n",
              "0      0  380.0  3.61       3.0\n",
              "1      1  660.0  3.67       3.0\n",
              "2      1  800.0  4.00       1.0\n",
              "3      1  640.0  3.19       4.0\n",
              "4      0  520.0  2.93       4.0"
            ]
          },
          "execution_count": 1,
          "metadata": {},
          "output_type": "execute_result"
        }
      ],
      "source": [
        "# Import of the necessary libraries\n",
        "from sklearn import linear_model\n",
        "from sklearn import preprocessing\n",
        "from sklearn.model_selection import train_test_split\n",
        "import pandas as pd\n",
        "import numpy as np\n",
        "\n",
        "# Reading the \"Admissions.csv\" file\n",
        "url = \"https://raw.githubusercontent.com/Demosthene-OR/Student-AI-and-Data-Management/main/\"\n",
        "df = pd.read_csv(url+'admissions.csv')\n",
        "\n",
        "# Display of the first lines\n",
        "df.head()\n"
      ]
    },
    {
      "cell_type": "markdown",
      "metadata": {
        "deletable": false,
        "run_control": {
          "frozen": true
        },
        "tags": [],
        "id": "uL5AUgZChLQz"
      },
      "source": [
        "\n",
        "> In the real world, the data contains anomalies or missing values ​​that compromise the quality of the dataset.\n",
        "\n",
        "* **(f)** Show information from*DataFrame* **`df`**.\n",
        "\n",
        "<div class=\"alert alert-info\">\n",
        "<i class=\"fa fa-info-circle\"></i> &emsp;\n",
        "Rappel : La méthode <code style=\"background-color:transparent; color:inherit\">info</code> résume les informations du DataFrame. Elle retourne les types de valeurs du DataFrame, le nombre de lignes et de colonnes, le nombre des valeurs non nulles, etc.\n",
        "</div>\n",
        "\n"
      ]
    },
    {
      "cell_type": "code",
      "execution_count": null,
      "metadata": {
        "id": "B4MdjAsVhLQ0"
      },
      "outputs": [],
      "source": []
    },
    {
      "cell_type": "code",
      "execution_count": null,
      "metadata": {
        "deletable": false,
        "editable": false,
        "function": "solution",
        "id": "WD-KdqH0hLQ0",
        "outputId": "6a18f5d8-b21b-4cbd-893a-e8012489c955"
      },
      "outputs": [
        {
          "name": "stdout",
          "output_type": "stream",
          "text": [
            "<class 'pandas.core.frame.DataFrame'>\n",
            "RangeIndex: 525 entries, 0 to 524\n",
            "Data columns (total 4 columns):\n",
            " #   Column    Non-Null Count  Dtype  \n",
            "---  ------    --------------  -----  \n",
            " 0   admit     525 non-null    int64  \n",
            " 1   gre       523 non-null    float64\n",
            " 2   gpa       523 non-null    float64\n",
            " 3   prestige  524 non-null    float64\n",
            "dtypes: float64(3), int64(1)\n",
            "memory usage: 16.5 KB\n"
          ]
        }
      ],
      "source": [
        "# Display of data information\n",
        "df.info()\n"
      ]
    },
    {
      "cell_type": "markdown",
      "metadata": {
        "deletable": false,
        "run_control": {
          "frozen": true
        },
        "tags": [],
        "id": "O5YXkTT-hLQ0"
      },
      "source": [
        "\n",
        "> The variable `Gre`, as an example, contains 523 non-zero values, that is to say 2 zero values.\n",
        "\n",
        "* **(g)** Update **`df`** by deleting the samples (lines) containing at least a zero value.\n",
        "\n",
        "<div class=\"alert alert-info\">\n",
        "<i class=\"fa fa-info-circle\"></i> &emsp;\n",
        "Reminder: the <code style=\"background-color:transparent; color:inherit\">dropna</code> method returns, by default, a DataFrame by removing instances that have at least one null value.\n",
        "</div>\n",
        "\n"
      ]
    },
    {
      "cell_type": "code",
      "execution_count": null,
      "metadata": {
        "id": "PHNPiJ87hLQ0"
      },
      "outputs": [],
      "source": []
    },
    {
      "cell_type": "code",
      "execution_count": null,
      "metadata": {
        "deletable": false,
        "editable": false,
        "function": "solution",
        "id": "gc4AUbeGhLQ0"
      },
      "outputs": [],
      "source": [
        "# Deletion of instances containing at least zero value.\n",
        "df = df.dropna()\n"
      ]
    },
    {
      "cell_type": "markdown",
      "metadata": {
        "deletable": false,
        "run_control": {
          "frozen": true
        },
        "tags": [],
        "id": "94jPPVbdhLQ0"
      },
      "source": [
        "\n",
        "* **(h)** Show the **average** of the variable *`gre`* by group of students accepted / not accepted, thanks to the combination of the methods` groupby` and `mean`.\n",
        "\n"
      ]
    },
    {
      "cell_type": "code",
      "execution_count": null,
      "metadata": {
        "id": "0dh-0Lm8hLQ0"
      },
      "outputs": [],
      "source": []
    },
    {
      "cell_type": "code",
      "execution_count": null,
      "metadata": {
        "deletable": false,
        "editable": false,
        "function": "solution",
        "id": "qKLolc7QhLQ1",
        "outputId": "7127c257-4614-4161-b481-d85b0ef25e75"
      },
      "outputs": [
        {
          "data": {
            "text/html": [
              "<div>\n",
              "<style scoped>\n",
              "    .dataframe tbody tr th:only-of-type {\n",
              "        vertical-align: middle;\n",
              "    }\n",
              "\n",
              "    .dataframe tbody tr th {\n",
              "        vertical-align: top;\n",
              "    }\n",
              "\n",
              "    .dataframe thead th {\n",
              "        text-align: right;\n",
              "    }\n",
              "</style>\n",
              "<table border=\"1\" class=\"dataframe\">\n",
              "  <thead>\n",
              "    <tr style=\"text-align: right;\">\n",
              "      <th></th>\n",
              "      <th>gre</th>\n",
              "    </tr>\n",
              "    <tr>\n",
              "      <th>admit</th>\n",
              "      <th></th>\n",
              "    </tr>\n",
              "  </thead>\n",
              "  <tbody>\n",
              "    <tr>\n",
              "      <th>0</th>\n",
              "      <td>573.955224</td>\n",
              "    </tr>\n",
              "    <tr>\n",
              "      <th>1</th>\n",
              "      <td>634.645669</td>\n",
              "    </tr>\n",
              "  </tbody>\n",
              "</table>\n",
              "</div>"
            ],
            "text/plain": [
              "              gre\n",
              "admit            \n",
              "0      573.955224\n",
              "1      634.645669"
            ]
          },
          "execution_count": 4,
          "metadata": {},
          "output_type": "execute_result"
        }
      ],
      "source": [
        "df[['gre', 'admit']].groupby('admit').mean()\n"
      ]
    },
    {
      "cell_type": "markdown",
      "metadata": {
        "deletable": false,
        "run_control": {
          "frozen": true
        },
        "tags": [],
        "id": "--Eg8cE6hLQ1"
      },
      "source": [
        "\n",
        ">In many cases, **discretize** the quantitative variables should be discretched to make machine learning algorithms more effective.<br>\n",
        "> For example, we can discretize the ages of people in several categories (15-18 years, 18-25 years, 25-40 years, etc.). This technique is widely used by statisticians for:\n",
        ">> * harmonize the type of variables.\n",
        ">>\n",
        ">>\n",
        ">> * Correct very asymmetrical distributions.\n",
        ">>\n",
        ">>\n",
        ">> * Athoring the role of extreme values.\n",
        ">>\n",
        ">>\n",
        ">> * Use statistical techniques that only work with qualitative variables.\n",
        ">\n",
        "> The `cut` function (https://pandas.pydata.org/pandas-docs/stable/generated/pandas.cut.html) of` pandas` allows you to cut a quantitative variable in **classes**. It thus makes it possible to discretize continuous variables according to **terminals** defined by the user.\n",
        ">\n",
        "> The function arguments are:\n",
        ">> * **`x`** : a **`Series`** (column of `Dataframe`) to be discreet.\n",
        ">>\n",
        ">>\n",
        ">> * `bins`: a **list** containing the **terminals** that we want to use for discretization.\n",
        ">>\n",
        ">>\n",
        ">> * **`labels`**: A **list** of **strings** which will serve as **`label`** to give to the constructed categories.\n",
        ">\n",
        ">The number of labels must therefore be equal to (number of terminals -1).<br>\n",
        "> This function returns a series containing the discretized column.\n",
        ">\n",
        ">The choice of terminals for cutting in classes can be made by logic.<br>\n",
        "> For example:\n",
        ">> * If the age of a person is **less than 18 years old**, then we put the individual in the class of **minors**.\n",
        ">>\n",
        ">>\n",
        ">> * Conversely, if age is **greater than 18 years**, then we put the individual in the class of **Major**.\n",
        ">\n",
        "> Otherwise, we can use statistical arguments to create our categories.<br>\n",
        "> For example:\n",
        ">> * Create classes of **same workforce**.\n",
        ">>\n",
        ">>\n",
        ">> * Create classes at **equal amplitudes**.\n",
        ">>\n",
        ">>\n",
        ">> * Create classes with the medium nested **method**: a first average divides individuals into two then each group is again divided into 2 by its respective average and so on.\n",
        "\n",
        "* **(i)** Using the function **`cut`** of` pandas`, discretize the variable **`gre`** of **`df`** . The following classes will be considered:\n",
        "> * If the score is between 200 and 450, then the score is **`'bad'`** .\n",
        ">\n",
        ">\n",
        "> * If the score is between 450 and 550, then the score is **`'mids'`** .\n",
        ">\n",
        ">\n",
        "> * If the score is between 550 and 620, then the score is **`'middle+'`** .\n",
        ">\n",
        ">\n",
        "> * If the score is between 620 and 800 (maximum score), then the score is **`'good'`** .\n",
        "\n",
        "\n",
        "* **(j)** Cross the variable **`admit`** of **`df`** with our discretization using the function [**`crosstab`**](https://pandas.pydata.org/pandas-docs/stable/generated/pandas.crosstab.html).\n",
        "\n",
        "\n",
        "* **(k)** What relationship can we observe between the result in the GRE test of a student and his admission?\n",
        "\n"
      ]
    },
    {
      "cell_type": "code",
      "execution_count": null,
      "metadata": {
        "id": "3zEtZNp9hLQ1"
      },
      "outputs": [],
      "source": []
    },
    {
      "cell_type": "code",
      "execution_count": null,
      "metadata": {
        "deletable": false,
        "function": "solution",
        "tags": [],
        "id": "qb8kmnoWhLQ1",
        "outputId": "6d950100-f2ad-46e2-81a7-9d5c0b3d0296"
      },
      "outputs": [
        {
          "data": {
            "text/html": [
              "<div>\n",
              "<style scoped>\n",
              "    .dataframe tbody tr th:only-of-type {\n",
              "        vertical-align: middle;\n",
              "    }\n",
              "\n",
              "    .dataframe tbody tr th {\n",
              "        vertical-align: top;\n",
              "    }\n",
              "\n",
              "    .dataframe thead th {\n",
              "        text-align: right;\n",
              "    }\n",
              "</style>\n",
              "<table border=\"1\" class=\"dataframe\">\n",
              "  <thead>\n",
              "    <tr style=\"text-align: right;\">\n",
              "      <th>gre</th>\n",
              "      <th>bad</th>\n",
              "      <th>mids</th>\n",
              "      <th>middle+</th>\n",
              "      <th>good</th>\n",
              "    </tr>\n",
              "    <tr>\n",
              "      <th>admit</th>\n",
              "      <th></th>\n",
              "      <th></th>\n",
              "      <th></th>\n",
              "      <th></th>\n",
              "    </tr>\n",
              "  </thead>\n",
              "  <tbody>\n",
              "    <tr>\n",
              "      <th>0</th>\n",
              "      <td>41</td>\n",
              "      <td>72</td>\n",
              "      <td>68</td>\n",
              "      <td>87</td>\n",
              "    </tr>\n",
              "    <tr>\n",
              "      <th>1</th>\n",
              "      <td>6</td>\n",
              "      <td>56</td>\n",
              "      <td>63</td>\n",
              "      <td>129</td>\n",
              "    </tr>\n",
              "  </tbody>\n",
              "</table>\n",
              "</div>"
            ],
            "text/plain": [
              "gre    bad  mids  middle+  good\n",
              "admit                          \n",
              "0       41    72       68    87\n",
              "1        6    56       63   129"
            ]
          },
          "metadata": {},
          "output_type": "display_data"
        },
        {
          "name": "stdout",
          "output_type": "stream",
          "text": [
            "12% of students with a 'bad' test are admitted, while 60% of good students are.\n"
          ]
        }
      ],
      "source": [
        "test_gre = pd.cut(x = df['gre'],\n",
        "                  bins = [200, 450, 550, 620, 800],\n",
        "                  labels = ['bad','mids','middle+','good'])\n",
        "\n",
        "display(pd.crosstab(df['admit'], test_gre))\n",
        "print(\"12% of students with a 'bad' test are admitted, while 60% of good students are.\")\n",
        "\n",
        "# The more the result obtained in the GRE is high, the more the candidate ** seems to be likely to be admitted.\n",
        "# Indeed, the dominant admitted classes are \"good\" and \"medium+\"\n"
      ]
    },
    {
      "cell_type": "markdown",
      "metadata": {
        "deletable": false,
        "run_control": {
          "frozen": true
        },
        "tags": [],
        "id": "kn5cw90HhLQ1"
      },
      "source": [
        "\n",
        "* **(l)** Discretize the variable **`gpa`** of **`df`** . The following classes will be considered:\n",
        ">* If the average is between 2 and 2.8, then the student's level is **`'bad'`** .\n",
        ">\n",
        ">\n",
        ">* If the average is between 2.8 and 3.2, then the student's level is **`'mids'`** .\n",
        ">\n",
        ">\n",
        ">* If the average is between 3.2 and 3.6, then the student's level is **`'middle+'`** .\n",
        ">\n",
        ">\n",
        ">* If the average is between 3.6 and 4, then the student level is **`'good'`** .\n",
        "\n",
        "\n",
        "* **(m)** Cross the variable **`admit`** of **`df`** with our discretization. The argument **`normalize`** will be used from the`Crosstab` function to obtain the **proportions of admissions according to the level of the student** .\n",
        "\n",
        "\n",
        "* **(n)** Knowing that the percentage of students admitted in the dataaframa is around 1/2, what can we say about the influence of the level of a student on his admission? (Compare the proportion of global admitted with the proportion of admitted as a function of levels).\n",
        "\n"
      ]
    },
    {
      "cell_type": "code",
      "execution_count": null,
      "metadata": {
        "id": "Os0BLFIIhLQ1"
      },
      "outputs": [],
      "source": [
        "\n",
        "\n"
      ]
    },
    {
      "cell_type": "code",
      "execution_count": null,
      "metadata": {
        "deletable": false,
        "function": "solution",
        "tags": [],
        "id": "7z-AhgL-hLQ1",
        "outputId": "55d8849b-abbb-471c-f7b3-dd83d756a0b9"
      },
      "outputs": [
        {
          "data": {
            "text/html": [
              "<div>\n",
              "<style scoped>\n",
              "    .dataframe tbody tr th:only-of-type {\n",
              "        vertical-align: middle;\n",
              "    }\n",
              "\n",
              "    .dataframe tbody tr th {\n",
              "        vertical-align: top;\n",
              "    }\n",
              "\n",
              "    .dataframe thead th {\n",
              "        text-align: right;\n",
              "    }\n",
              "</style>\n",
              "<table border=\"1\" class=\"dataframe\">\n",
              "  <thead>\n",
              "    <tr style=\"text-align: right;\">\n",
              "      <th>gpa</th>\n",
              "      <th>bad</th>\n",
              "      <th>mids</th>\n",
              "      <th>middle+</th>\n",
              "      <th>good</th>\n",
              "    </tr>\n",
              "    <tr>\n",
              "      <th>admit</th>\n",
              "      <th></th>\n",
              "      <th></th>\n",
              "      <th></th>\n",
              "      <th></th>\n",
              "    </tr>\n",
              "  </thead>\n",
              "  <tbody>\n",
              "    <tr>\n",
              "      <th>0</th>\n",
              "      <td>0.826087</td>\n",
              "      <td>0.532374</td>\n",
              "      <td>0.638554</td>\n",
              "      <td>0.35567</td>\n",
              "    </tr>\n",
              "    <tr>\n",
              "      <th>1</th>\n",
              "      <td>0.173913</td>\n",
              "      <td>0.467626</td>\n",
              "      <td>0.361446</td>\n",
              "      <td>0.64433</td>\n",
              "    </tr>\n",
              "  </tbody>\n",
              "</table>\n",
              "</div>"
            ],
            "text/plain": [
              "gpa         bad      mids   middle+     good\n",
              "admit                                       \n",
              "0      0.826087  0.532374  0.638554  0.35567\n",
              "1      0.173913  0.467626  0.361446  0.64433"
            ]
          },
          "metadata": {},
          "output_type": "display_data"
        },
        {
          "name": "stdout",
          "output_type": "stream",
          "text": [
            "65% of students with a 'good' GPA are admitted, while 17% of poor students are.\n"
          ]
        }
      ],
      "source": [
        "grade_level = pd.cut(x = df['gpa'],\n",
        "                       bins = [2, 2.8, 3.2, 3.6, 4],\n",
        "                       labels= ['bad','mids','middle+','good'])\n",
        "\n",
        "display(pd.crosstab(df['admit'], grade_level, normalize='columns')) # ou normalize = 1\n",
        "print(\"65% of students with a 'good' GPA are admitted, while 17% of poor students are.\")\n",
        "\n",
        "# Students with a \"good\" level are more likely to be admitted than average (0.64> 0.5).\n",
        "# On the other hand, having an \"average\" or \"medium+\" level is not very advantageous.\n"
      ]
    },
    {
      "cell_type": "markdown",
      "metadata": {
        "deletable": false,
        "run_control": {
          "frozen": true
        },
        "tags": [],
        "id": "drMuSElThLQ1"
      },
      "source": [
        "\n",
        "> Once the quantitative variables are discretized, it is common to carry out their **dichotomization**.\n",
        ">\n",
        ">\n",
        "> Suppose we have the genre column describing the sex of an individual.\n",
        ">\n",
        "> | Genre |\n",
        "> | ------ |\n",
        "> | Women |\n",
        "> | Man |\n",
        "> | Man |\n",
        "> | Women |\n",
        ">\n",
        ">\n",
        ">Dichotomize a variable amounts to transforming each modality of the variable into a new indicator variable, indicating whether the modality in question corresponds or not to the individual.<br>\n",
        "> Thus, the dichotomization of the column \"gives two **news** columns` gender_man` and `gender_woman`:\n",
        ">\n",
        "> | Gender | Gender_woman | Gender_man |\n",
        "> | ------- | ------------- | ------------ |\n",
        "> | Women |      1 |      0 |\n",
        "> | Man |      0 |      1 |\n",
        "> | Man |      0 |      1 |\n",
        "> | Women |      1 |      0 |\n",
        ">\n",
        "><br>\n",
        ">\n",
        "> Dichotomization is necessary for the models of Linear *type* type *that we will see in the following. Indeed, **These models are unable to interpret qualitative variables**. Thanks to the dichotomization we have transformed this qualitative variable into a \"quantitative\" variable interpreted by a model of machine learning.\n",
        ">\n",
        "> *NB*: You will find the term *One Hot Encoding*, to talk about dichotomization. In addition, the One Hot Encoding is not the only technique for encoding a qualitative variable.\n",
        ">\n",
        ">\n",
        "> The function [`get_dummies`] (https://pandas.pydata.org/pandas-docs/stable/generated/pandas.get_dummies.html) of`pandas` makes it possible to easily transform a qualitative variable into as many indicative variables that it contains of modalities.\n",
        ">\n",
        ">\n",
        "> She takes in argument:\n",
        ">>* **`data`** : a series' or a dataframe` dichotomize.\n",
        ">>\n",
        ">>\n",
        ">>* **`prefix`**: the **prefix** to be added to the names of the variables created. By default, the prefix will be the name of the column to dichotimize.\n",
        "\n",
        "* **(o)** Using the function **`get_dummies`** of` pandas`, dichotimize the discretizations made in the previous questions. We will add to the new columns the prefixes **`'level'`** and **`'gre'`** .\n",
        "\n",
        "\n",
        "* **(p)** Using a joint or concatenation (`merge`,`concat`), merge the new `Dataframes` obtained with **`df`**.\n",
        "\n"
      ]
    },
    {
      "cell_type": "code",
      "execution_count": null,
      "metadata": {
        "id": "BZCLKEm8hLQ1"
      },
      "outputs": [],
      "source": []
    },
    {
      "cell_type": "code",
      "execution_count": null,
      "metadata": {
        "deletable": false,
        "function": "solution",
        "tags": [],
        "id": "QSPQHlz2hLQ1"
      },
      "outputs": [],
      "source": [
        "df = df.join(pd.get_dummies(grade_level, prefix='level'))\n",
        "df = df.join(pd.get_dummies(test_gre, prefix='gre'))\n"
      ]
    },
    {
      "cell_type": "markdown",
      "metadata": {
        "deletable": false,
        "run_control": {
          "frozen": true
        },
        "tags": [],
        "id": "q7QDpIhkhLQ1"
      },
      "source": [
        "\n",
        "* **(q)** also apply the dichotomization to the variable **`'prestige'`** of **`df`** , and join the `dataframe` obtained to **`df`** .\n",
        "\n"
      ]
    },
    {
      "cell_type": "code",
      "execution_count": null,
      "metadata": {
        "id": "dnk1Al9WhLQ2"
      },
      "outputs": [],
      "source": [
        "\n"
      ]
    },
    {
      "cell_type": "code",
      "execution_count": null,
      "metadata": {
        "deletable": false,
        "function": "solution",
        "tags": [],
        "id": "nhmaqphthLQ2",
        "outputId": "9a433a39-75c1-4a33-fa66-41fe9b7aa8f7"
      },
      "outputs": [
        {
          "data": {
            "text/html": [
              "<div>\n",
              "<style scoped>\n",
              "    .dataframe tbody tr th:only-of-type {\n",
              "        vertical-align: middle;\n",
              "    }\n",
              "\n",
              "    .dataframe tbody tr th {\n",
              "        vertical-align: top;\n",
              "    }\n",
              "\n",
              "    .dataframe thead th {\n",
              "        text-align: right;\n",
              "    }\n",
              "</style>\n",
              "<table border=\"1\" class=\"dataframe\">\n",
              "  <thead>\n",
              "    <tr style=\"text-align: right;\">\n",
              "      <th></th>\n",
              "      <th>admit</th>\n",
              "      <th>gre</th>\n",
              "      <th>gpa</th>\n",
              "      <th>prestige</th>\n",
              "      <th>level_bad</th>\n",
              "      <th>level_mids</th>\n",
              "      <th>level_middle+</th>\n",
              "      <th>level_good</th>\n",
              "      <th>gre_bad</th>\n",
              "      <th>gre_mids</th>\n",
              "      <th>gre_middle+</th>\n",
              "      <th>gre_good</th>\n",
              "      <th>prest_1.0</th>\n",
              "      <th>prest_2.0</th>\n",
              "      <th>prest_3.0</th>\n",
              "      <th>prest_4.0</th>\n",
              "    </tr>\n",
              "  </thead>\n",
              "  <tbody>\n",
              "    <tr>\n",
              "      <th>0</th>\n",
              "      <td>0</td>\n",
              "      <td>380.0</td>\n",
              "      <td>3.61</td>\n",
              "      <td>3.0</td>\n",
              "      <td>0</td>\n",
              "      <td>0</td>\n",
              "      <td>0</td>\n",
              "      <td>1</td>\n",
              "      <td>1</td>\n",
              "      <td>0</td>\n",
              "      <td>0</td>\n",
              "      <td>0</td>\n",
              "      <td>0</td>\n",
              "      <td>0</td>\n",
              "      <td>1</td>\n",
              "      <td>0</td>\n",
              "    </tr>\n",
              "    <tr>\n",
              "      <th>1</th>\n",
              "      <td>1</td>\n",
              "      <td>660.0</td>\n",
              "      <td>3.67</td>\n",
              "      <td>3.0</td>\n",
              "      <td>0</td>\n",
              "      <td>0</td>\n",
              "      <td>0</td>\n",
              "      <td>1</td>\n",
              "      <td>0</td>\n",
              "      <td>0</td>\n",
              "      <td>0</td>\n",
              "      <td>1</td>\n",
              "      <td>0</td>\n",
              "      <td>0</td>\n",
              "      <td>1</td>\n",
              "      <td>0</td>\n",
              "    </tr>\n",
              "    <tr>\n",
              "      <th>2</th>\n",
              "      <td>1</td>\n",
              "      <td>800.0</td>\n",
              "      <td>4.00</td>\n",
              "      <td>1.0</td>\n",
              "      <td>0</td>\n",
              "      <td>0</td>\n",
              "      <td>0</td>\n",
              "      <td>1</td>\n",
              "      <td>0</td>\n",
              "      <td>0</td>\n",
              "      <td>0</td>\n",
              "      <td>1</td>\n",
              "      <td>1</td>\n",
              "      <td>0</td>\n",
              "      <td>0</td>\n",
              "      <td>0</td>\n",
              "    </tr>\n",
              "    <tr>\n",
              "      <th>3</th>\n",
              "      <td>1</td>\n",
              "      <td>640.0</td>\n",
              "      <td>3.19</td>\n",
              "      <td>4.0</td>\n",
              "      <td>0</td>\n",
              "      <td>1</td>\n",
              "      <td>0</td>\n",
              "      <td>0</td>\n",
              "      <td>0</td>\n",
              "      <td>0</td>\n",
              "      <td>0</td>\n",
              "      <td>1</td>\n",
              "      <td>0</td>\n",
              "      <td>0</td>\n",
              "      <td>0</td>\n",
              "      <td>1</td>\n",
              "    </tr>\n",
              "    <tr>\n",
              "      <th>4</th>\n",
              "      <td>0</td>\n",
              "      <td>520.0</td>\n",
              "      <td>2.93</td>\n",
              "      <td>4.0</td>\n",
              "      <td>0</td>\n",
              "      <td>1</td>\n",
              "      <td>0</td>\n",
              "      <td>0</td>\n",
              "      <td>0</td>\n",
              "      <td>1</td>\n",
              "      <td>0</td>\n",
              "      <td>0</td>\n",
              "      <td>0</td>\n",
              "      <td>0</td>\n",
              "      <td>0</td>\n",
              "      <td>1</td>\n",
              "    </tr>\n",
              "  </tbody>\n",
              "</table>\n",
              "</div>"
            ],
            "text/plain": [
              "   admit    gre   gpa  prestige  level_bad  level_mids  level_middle+  \\\n",
              "0      0  380.0  3.61       3.0          0           0              0   \n",
              "1      1  660.0  3.67       3.0          0           0              0   \n",
              "2      1  800.0  4.00       1.0          0           0              0   \n",
              "3      1  640.0  3.19       4.0          0           1              0   \n",
              "4      0  520.0  2.93       4.0          0           1              0   \n",
              "\n",
              "   level_good  gre_bad  gre_mids  gre_middle+  gre_good  prest_1.0  prest_2.0  \\\n",
              "0           1        1         0            0         0          0          0   \n",
              "1           1        0         0            0         1          0          0   \n",
              "2           1        0         0            0         1          1          0   \n",
              "3           0        0         0            0         1          0          0   \n",
              "4           0        0         1            0         0          0          0   \n",
              "\n",
              "   prest_3.0  prest_4.0  \n",
              "0          1          0  \n",
              "1          1          0  \n",
              "2          0          0  \n",
              "3          0          1  \n",
              "4          0          1  "
            ]
          },
          "execution_count": 9,
          "metadata": {},
          "output_type": "execute_result"
        }
      ],
      "source": [
        "df = df.join(pd.get_dummies(df.prestige, prefix='prest'))\n",
        "df.head()\n"
      ]
    },
    {
      "cell_type": "markdown",
      "metadata": {
        "deletable": false,
        "run_control": {
          "frozen": true
        },
        "tags": [],
        "id": "f6Ouxe8thLQ2"
      },
      "source": [
        "\n",
        "<div class=\"alert alert-info\">\n",
        "<i class=\"fa fa-info-circle\"></i> &emsp;\n",
        "Note: When a DataFrame contains non-numeric categorical variables, applying the get_dummies() function in the entire data will eliminate these variables and replace them with the corresponding indicator variables.</div>\n",
        "* **(r)** Show information from the new `Dataframe` **`df`**.\n",
        "\n"
      ]
    },
    {
      "cell_type": "code",
      "execution_count": null,
      "metadata": {
        "id": "EXpCqzWghLQ2"
      },
      "outputs": [],
      "source": []
    },
    {
      "cell_type": "code",
      "execution_count": null,
      "metadata": {
        "deletable": false,
        "editable": false,
        "function": "solution",
        "id": "pFieFDSXhLQ2",
        "outputId": "59ac4258-b1b5-4c74-df62-334a5dc17aa7"
      },
      "outputs": [
        {
          "name": "stdout",
          "output_type": "stream",
          "text": [
            "<class 'pandas.core.frame.DataFrame'>\n",
            "Int64Index: 522 entries, 0 to 524\n",
            "Data columns (total 16 columns):\n",
            " #   Column         Non-Null Count  Dtype  \n",
            "---  ------         --------------  -----  \n",
            " 0   admit          522 non-null    int64  \n",
            " 1   gre            522 non-null    float64\n",
            " 2   gpa            522 non-null    float64\n",
            " 3   prestige       522 non-null    float64\n",
            " 4   level_bad      522 non-null    uint8  \n",
            " 5   level_mids     522 non-null    uint8  \n",
            " 6   level_middle+  522 non-null    uint8  \n",
            " 7   level_good     522 non-null    uint8  \n",
            " 8   gre_bad        522 non-null    uint8  \n",
            " 9   gre_mids       522 non-null    uint8  \n",
            " 10  gre_middle+    522 non-null    uint8  \n",
            " 11  gre_good       522 non-null    uint8  \n",
            " 12  prest_1.0      522 non-null    uint8  \n",
            " 13  prest_2.0      522 non-null    uint8  \n",
            " 14  prest_3.0      522 non-null    uint8  \n",
            " 15  prest_4.0      522 non-null    uint8  \n",
            "dtypes: float64(3), int64(1), uint8(12)\n",
            "memory usage: 42.7 KB\n"
          ]
        }
      ],
      "source": [
        "df.info()\n"
      ]
    },
    {
      "cell_type": "markdown",
      "metadata": {
        "deletable": false,
        "run_control": {
          "frozen": true
        },
        "tags": [],
        "id": "Eom1yHr7hLQ2"
      },
      "source": [
        "\n",
        "> The explanatory variables, in English *features*, of each candidate are represented by the attributes starting with `level`,`gre`, and `prest` *DataFrame*. The variable to be predicted is `admit`.\n",
        "\n",
        "* **(s)** Create a dataframe **`data`** in which you will store the *features* dichotomized starting with **`level`** and **`gre`** as well as **`prest_1.0`** . We choose to use these variables only to train our model.\n",
        "\n",
        "\n",
        "* **(t)** Assign the target data to the variable **`target`** .\n",
        "\n"
      ]
    },
    {
      "cell_type": "code",
      "execution_count": null,
      "metadata": {
        "id": "-LTLzS2ZhLQ2"
      },
      "outputs": [],
      "source": [
        "\n"
      ]
    },
    {
      "cell_type": "code",
      "execution_count": null,
      "metadata": {
        "deletable": false,
        "editable": false,
        "function": "solution",
        "id": "yFTwlDm2hLQ2"
      },
      "outputs": [],
      "source": [
        "# Data and targets separation\n",
        "data = df.iloc[:,4:13]\n",
        "target = df['admit']\n"
      ]
    },
    {
      "cell_type": "markdown",
      "metadata": {
        "deletable": false,
        "run_control": {
          "frozen": true
        },
        "tags": [],
        "id": "wfpbTy7_hLQ2"
      },
      "source": [
        "\n",
        "* **(u)** Show the names of the columns of **`data`** .\n",
        "\n"
      ]
    },
    {
      "cell_type": "code",
      "execution_count": null,
      "metadata": {
        "id": "6_rhBpbAhLQ2"
      },
      "outputs": [],
      "source": []
    },
    {
      "cell_type": "code",
      "execution_count": null,
      "metadata": {
        "deletable": false,
        "editable": false,
        "function": "solution",
        "id": "xc2qtFXihLQ2",
        "outputId": "278b75b0-6820-46d7-b47a-a90c43b28cbc"
      },
      "outputs": [
        {
          "data": {
            "text/plain": [
              "Index(['level_bad', 'level_mids', 'level_middle+', 'level_good', 'gre_bad',\n",
              "       'gre_mids', 'gre_middle+', 'gre_good', 'prest_1.0'],\n",
              "      dtype='object')"
            ]
          },
          "execution_count": 12,
          "metadata": {},
          "output_type": "execute_result"
        }
      ],
      "source": [
        "data.columns\n"
      ]
    },
    {
      "cell_type": "markdown",
      "metadata": {
        "deletable": false,
        "run_control": {
          "frozen": true
        },
        "tags": [],
        "id": "Ud2gftDchLQ2"
      },
      "source": [
        "\n",
        "\n",
        "> In order to test the performance of the classification model, you must select part of the data that we dedicate to the evaluation and which, therefore, is not taken into account in the model training.\n",
        ">\n",
        ">\n",
        "> To do this, you must systematically divide the data into a training set (**`X_train`** and **`y_train`**) and a test set (**`X_test`** and **`y_test`**).\n",
        ">\n",
        "><div class=\"alert alert-info\">\n",
        "<i class=\"fa fa-info-circle\"></i> &emsp;\n",
        "<a href=\"http://scikit-learn.org/stable/modles/generated/sklearn.model_selection.train_test_split.html\">train_test_split</a> is a very useful function of the sub-model <b>model_selection</b> of <b>scikit-learn</b> for the separation of data. The function separates the matrices from <b>features</b> and <b>labels</b> spent in parameter, in a training set and a test set.\n",
        "></div>\n",
        ">\n",
        "><div class=\"alert alert-success\">\n",
        "<i class=\"fa fa-question-circle\"></i> &emsp;\n",
        "    The <b>test_size</b> parameter allows you to choose the proportions in which the data is distributed.<br>\n",
        "    The <b>shuffle</b> parameter allows you to decide whether the samples are chosen randomly (the default option), or whether the separation should be done according to the specified data order. The latter may correspond to use cases where the processed data has an order or a temporal dimension, such as financial prices, a user's browsing history on a website, etc.\n",
        "></div>\n",
        ">\n",
        "><div class=\"alert alert-success\">\n",
        "<i class=\"fa fa-question-circle\"></i> &emsp;\n",
        "Usually, the test size size is between 15% and 30% of the total amount of data. The choice of distribution essentially depends on the quantity and quality of the available data.\n",
        "</div>\n",
        "\n",
        "* **(v)** Randomly divide the matrices into a training set and a test set corresponding to 80% and 20% of the total available data, respectively. Specifically, **`data`** will be divided into **`X_train`** and **`X_test`** and **`target`** will be divided into **`y_train`** and **`y_test`**.<br>\n",
        "Add the argument `random_state = 66 'for a reproductivity of the random.\n",
        "\n"
      ]
    },
    {
      "cell_type": "code",
      "execution_count": null,
      "metadata": {
        "id": "u98BHUtPhLQ3"
      },
      "outputs": [],
      "source": [
        "\n"
      ]
    },
    {
      "cell_type": "code",
      "execution_count": null,
      "metadata": {
        "deletable": false,
        "editable": false,
        "function": "solution",
        "id": "HQ26GFUuhLQ3"
      },
      "outputs": [],
      "source": [
        "# Data decomposition into two training and testing sets\n",
        "# By default the sample is randomly distributed\n",
        "\n",
        "X_train, X_test, y_train, y_test = train_test_split(data, target, test_size=0.2, random_state=66)\n"
      ]
    },
    {
      "cell_type": "markdown",
      "metadata": {
        "deletable": false,
        "run_control": {
          "frozen": true
        },
        "tags": [],
        "id": "Hk5CArZ_hLQ3"
      },
      "source": [
        "\n",
        "<hr style=\"border-width:2px;border-color:#75DFC1\">\n",
        "<h3 style = \"text-align:center\">2. Classification by logistics regression</h3>\n",
        "<hr style=\"border-width:2px;border-color:#75DFC1\">\n",
        "\n",
        ">Logistics regression is a linear statistical model to study the relationships between a set of explanatory variables $ x_i $ and a target variable $ y $.<br>\n",
        "> This model uses a logistics function $ h_ \\ theta $ as a link function, which gives a probability ranging from 0 to 1.\n",
        ">\n",
        "> \\begin{equation}\n",
        "\ty =\n",
        "  \\left\\{\n",
        "      \\begin{aligned}\n",
        "        1 && si && h_\\theta(X)  \\geqslant seuil \\\\\n",
        "        0 && si && h_\\theta(X)  < seuil \\\\\n",
        "      \\end{aligned}\n",
        "    \\right.\n",
        "\\end{equation}\n",
        ">\n",
        "> Finding the optimal logistics function amounts to optimizing the following cost function according to the multi-dimensional parameter $ \\theta $:\n",
        ">\n",
        "> \\begin{equation}\n",
        "    J(\\theta) = -\\frac{1}{m}.\\left\\{ \\sum_{i=0}^m \\left\\{ y_i.log(h_{\\theta}(x^{(i)})) + (1 - y_i).log(1 - h_{\\theta}(x^{(i)})) \\right\\}+ \\lambda.\\sum_{j=1}^m \\theta_j^2\\right\\}\\\\\n",
        "    \\lambda = \\frac{1}{C} : \\text{le paramètre de régularisation}\n",
        "   \\end{equation}\n",
        ">   \n",
        "><div class=\"alert alert-success\">\n",
        "<i class=\"fa fa-question-circle\"></i> &emsp;\n",
        "To learn more about logistic regression from a mathematical perspective <a href=\"https://datascientest.fr/train/assets/fiche_logistic_reg.pdf\" target=\"_blank\">Click here</a>.\n",
        "></div>\n",
        ">\n",
        "> In the case of classification using logistics regression under Python, the optimization algorithms used are: L_BFGS (Limit_memory BFGS), SAG (Stochastic Average Gradient), Newton_CG (Newton Conjugate Gradient).\n",
        "\n",
        "* **(a)** Execute the following cell to view the influence of hyperparammeters on a logistic regression model.\n",
        "\n",
        "<div class=\"alert alert-info\">\n",
        "<i class=\"fa fa-info-circle\"></i> &emsp;\n",
        "The datasets contains twpo classes (points rouges/points bleus) with <b>x1</b> and <b>x2</b> as features. The black line represents the decision boundary of our algorithm..\n",
        "The color of the wallpaper represents the probability of belonging to one of the classes. The redder the color, the greater the probability of belonging to class 2.\n",
        "</div>\n",
        "\n"
      ]
    },
    {
      "cell_type": "code",
      "execution_count": null,
      "metadata": {
        "deletable": false,
        "tags": [],
        "id": "Zzbo2pZHhLQ3",
        "outputId": "8151308e-cb33-4a2c-9533-6ebe09f373fa",
        "colab": {
          "referenced_widgets": [
            "73a54d6768a04fbfb6c130991f48e9e6"
          ]
        }
      },
      "outputs": [
        {
          "data": {
            "application/vnd.jupyter.widget-view+json": {
              "model_id": "73a54d6768a04fbfb6c130991f48e9e6",
              "version_major": 2,
              "version_minor": 0
            },
            "text/plain": [
              "HBox(children=(Output(), VBox(children=(VBox(children=(HTML(value='<b>Datasets</b>'), HTML(value=''), Dropdown…"
            ]
          },
          "metadata": {},
          "output_type": "display_data"
        }
      ],
      "source": [
        "%matplotlib inline\n",
        "!wget https://raw.githubusercontent.com/Demosthene-OR/Student-AI-and-Data-Management/main/interactions.py\n",
        "\n",
        "from interactions import show_log_regression\n",
        "show_log_regression()\n"
      ]
    },
    {
      "cell_type": "markdown",
      "metadata": {
        "deletable": false,
        "run_control": {
          "frozen": true
        },
        "tags": [],
        "id": "JwSWqJWLhLQ3"
      },
      "source": [
        "\n",
        "> To build a classification model, we must train our model on **the training set only** .\n",
        ">\n",
        ">\n",
        "> By specifying the opposite of the parameter of the regularization `c (there are other parameters that it is possible to give, such as the optimization algorithm, see the documentation of **scikit-learn** for more information):\n",
        "\n",
        "* **(b)** Create a classifier **`clf`**, having as parameter` C = 1.0`, using the method `Logisticregression` of the Package **`Linear_Model`**.\n",
        "\n",
        "\n",
        "* **(c)** Build the algorithm on the training set (**`X_train`** and **`y_train`**).\n",
        "\n"
      ]
    },
    {
      "cell_type": "code",
      "execution_count": null,
      "metadata": {
        "id": "Tfn7AX58hLQ6"
      },
      "outputs": [],
      "source": [
        "\n"
      ]
    },
    {
      "cell_type": "code",
      "execution_count": null,
      "metadata": {
        "deletable": false,
        "editable": false,
        "function": "solution",
        "id": "NrRcuOeQhLQ6",
        "outputId": "2361cb68-4388-4384-db07-dc747cbdae53"
      },
      "outputs": [
        {
          "data": {
            "text/html": [
              "<style>#sk-container-id-1 {color: black;background-color: white;}#sk-container-id-1 pre{padding: 0;}#sk-container-id-1 div.sk-toggleable {background-color: white;}#sk-container-id-1 label.sk-toggleable__label {cursor: pointer;display: block;width: 100%;margin-bottom: 0;padding: 0.3em;box-sizing: border-box;text-align: center;}#sk-container-id-1 label.sk-toggleable__label-arrow:before {content: \"▸\";float: left;margin-right: 0.25em;color: #696969;}#sk-container-id-1 label.sk-toggleable__label-arrow:hover:before {color: black;}#sk-container-id-1 div.sk-estimator:hover label.sk-toggleable__label-arrow:before {color: black;}#sk-container-id-1 div.sk-toggleable__content {max-height: 0;max-width: 0;overflow: hidden;text-align: left;background-color: #f0f8ff;}#sk-container-id-1 div.sk-toggleable__content pre {margin: 0.2em;color: black;border-radius: 0.25em;background-color: #f0f8ff;}#sk-container-id-1 input.sk-toggleable__control:checked~div.sk-toggleable__content {max-height: 200px;max-width: 100%;overflow: auto;}#sk-container-id-1 input.sk-toggleable__control:checked~label.sk-toggleable__label-arrow:before {content: \"▾\";}#sk-container-id-1 div.sk-estimator input.sk-toggleable__control:checked~label.sk-toggleable__label {background-color: #d4ebff;}#sk-container-id-1 div.sk-label input.sk-toggleable__control:checked~label.sk-toggleable__label {background-color: #d4ebff;}#sk-container-id-1 input.sk-hidden--visually {border: 0;clip: rect(1px 1px 1px 1px);clip: rect(1px, 1px, 1px, 1px);height: 1px;margin: -1px;overflow: hidden;padding: 0;position: absolute;width: 1px;}#sk-container-id-1 div.sk-estimator {font-family: monospace;background-color: #f0f8ff;border: 1px dotted black;border-radius: 0.25em;box-sizing: border-box;margin-bottom: 0.5em;}#sk-container-id-1 div.sk-estimator:hover {background-color: #d4ebff;}#sk-container-id-1 div.sk-parallel-item::after {content: \"\";width: 100%;border-bottom: 1px solid gray;flex-grow: 1;}#sk-container-id-1 div.sk-label:hover label.sk-toggleable__label {background-color: #d4ebff;}#sk-container-id-1 div.sk-serial::before {content: \"\";position: absolute;border-left: 1px solid gray;box-sizing: border-box;top: 0;bottom: 0;left: 50%;z-index: 0;}#sk-container-id-1 div.sk-serial {display: flex;flex-direction: column;align-items: center;background-color: white;padding-right: 0.2em;padding-left: 0.2em;position: relative;}#sk-container-id-1 div.sk-item {position: relative;z-index: 1;}#sk-container-id-1 div.sk-parallel {display: flex;align-items: stretch;justify-content: center;background-color: white;position: relative;}#sk-container-id-1 div.sk-item::before, #sk-container-id-1 div.sk-parallel-item::before {content: \"\";position: absolute;border-left: 1px solid gray;box-sizing: border-box;top: 0;bottom: 0;left: 50%;z-index: -1;}#sk-container-id-1 div.sk-parallel-item {display: flex;flex-direction: column;z-index: 1;position: relative;background-color: white;}#sk-container-id-1 div.sk-parallel-item:first-child::after {align-self: flex-end;width: 50%;}#sk-container-id-1 div.sk-parallel-item:last-child::after {align-self: flex-start;width: 50%;}#sk-container-id-1 div.sk-parallel-item:only-child::after {width: 0;}#sk-container-id-1 div.sk-dashed-wrapped {border: 1px dashed gray;margin: 0 0.4em 0.5em 0.4em;box-sizing: border-box;padding-bottom: 0.4em;background-color: white;}#sk-container-id-1 div.sk-label label {font-family: monospace;font-weight: bold;display: inline-block;line-height: 1.2em;}#sk-container-id-1 div.sk-label-container {text-align: center;}#sk-container-id-1 div.sk-container {/* jupyter's `normalize.less` sets `[hidden] { display: none; }` but bootstrap.min.css set `[hidden] { display: none !important; }` so we also need the `!important` here to be able to override the default hidden behavior on the sphinx rendered scikit-learn.org. See: https://github.com/scikit-learn/scikit-learn/issues/21755 */display: inline-block !important;position: relative;}#sk-container-id-1 div.sk-text-repr-fallback {display: none;}</style><div id=\"sk-container-id-1\" class=\"sk-top-container\"><div class=\"sk-text-repr-fallback\"><pre>LogisticRegression()</pre><b>In a Jupyter environment, please rerun this cell to show the HTML representation or trust the notebook. <br />On GitHub, the HTML representation is unable to render, please try loading this page with nbviewer.org.</b></div><div class=\"sk-container\" hidden><div class=\"sk-item\"><div class=\"sk-estimator sk-toggleable\"><input class=\"sk-toggleable__control sk-hidden--visually\" id=\"sk-estimator-id-1\" type=\"checkbox\" checked><label for=\"sk-estimator-id-1\" class=\"sk-toggleable__label sk-toggleable__label-arrow\">LogisticRegression</label><div class=\"sk-toggleable__content\"><pre>LogisticRegression()</pre></div></div></div></div></div>"
            ],
            "text/plain": [
              "LogisticRegression()"
            ]
          },
          "execution_count": 16,
          "metadata": {},
          "output_type": "execute_result"
        }
      ],
      "source": [
        "# Creation of the classifier and construction of the model on training data\n",
        "clf = linear_model.LogisticRegression(C=1.0)\n",
        "clf.fit(X_train, y_train)\n"
      ]
    },
    {
      "cell_type": "markdown",
      "metadata": {
        "deletable": false,
        "run_control": {
          "frozen": true
        },
        "tags": [],
        "id": "CqduHrlDhLQ6"
      },
      "source": [
        "\n",
        "<hr style=\"border-width:2px;border-color:#75DFC1\">\n",
        "<h3 style = \"text-align:center\">3. Evaluation of the classification model</h3>\n",
        "<hr style=\"border-width:2px;border-color:#75DFC1\">\n",
        "\n",
        "> It is then possible to calculate the prediction for the data present in the test set, and build the confusion matrix.\n",
        "\n",
        "* **(a)** Predict the data of the test set and store them in the variable **`y_pred`**.\n",
        "\n",
        "\n",
        "* **(b)** Create and display the confusion matrix **`cm`**.\n",
        "\n"
      ]
    },
    {
      "cell_type": "code",
      "execution_count": null,
      "metadata": {
        "id": "XmyhAkV0hLQ6"
      },
      "outputs": [],
      "source": []
    },
    {
      "cell_type": "code",
      "execution_count": null,
      "metadata": {
        "deletable": false,
        "function": "solution",
        "tags": [],
        "id": "3LJoE9m4hLQ6",
        "outputId": "0643be73-4bf5-4e00-fae9-f73ff66e2494"
      },
      "outputs": [
        {
          "name": "stdout",
          "output_type": "stream",
          "text": [
            "[[35 14]\n",
            " [13 43]]\n"
          ]
        },
        {
          "data": {
            "text/html": [
              "<div>\n",
              "<style scoped>\n",
              "    .dataframe tbody tr th:only-of-type {\n",
              "        vertical-align: middle;\n",
              "    }\n",
              "\n",
              "    .dataframe tbody tr th {\n",
              "        vertical-align: top;\n",
              "    }\n",
              "\n",
              "    .dataframe thead th {\n",
              "        text-align: right;\n",
              "    }\n",
              "</style>\n",
              "<table border=\"1\" class=\"dataframe\">\n",
              "  <thead>\n",
              "    <tr style=\"text-align: right;\">\n",
              "      <th>Predicted class</th>\n",
              "      <th>0</th>\n",
              "      <th>1</th>\n",
              "    </tr>\n",
              "    <tr>\n",
              "      <th>Actual class</th>\n",
              "      <th></th>\n",
              "      <th></th>\n",
              "    </tr>\n",
              "  </thead>\n",
              "  <tbody>\n",
              "    <tr>\n",
              "      <th>0</th>\n",
              "      <td>35</td>\n",
              "      <td>14</td>\n",
              "    </tr>\n",
              "    <tr>\n",
              "      <th>1</th>\n",
              "      <td>13</td>\n",
              "      <td>43</td>\n",
              "    </tr>\n",
              "  </tbody>\n",
              "</table>\n",
              "</div>"
            ],
            "text/plain": [
              "Predicted class   0   1\n",
              "Actual class           \n",
              "0                35  14\n",
              "1                13  43"
            ]
          },
          "execution_count": 19,
          "metadata": {},
          "output_type": "execute_result"
        }
      ],
      "source": [
        "y_pred = clf.predict(X_test)\n",
        "\n",
        "# Calculation of the confusion matrix\n",
        "\n",
        "## Method 1: using sklearn\n",
        "from sklearn.metrics import confusion_matrix\n",
        "cm = confusion_matrix(y_test,y_pred)\n",
        "print(cm)\n",
        "\n",
        "## Method 2: Using Pandas\n",
        "cm2 = pd.crosstab(y_test, y_pred, rownames=['Actual class'], colnames=['Predicted class'])\n",
        "cm2\n"
      ]
    },
    {
      "cell_type": "markdown",
      "metadata": {
        "deletable": false,
        "run_control": {
          "frozen": true
        },
        "tags": [],
        "id": "mal7inbnhLQ6"
      },
      "source": [
        "\n",
        "> The confusion matrix, above, illustrates that the number of good classifications (on the diagonal) is greater than the number of bad classifications.\n",
        ">\n",
        ">\n",
        "> The rate of good predictions ('accuracy') of a model is a metric often used in classification and corresponds to the number of well -classified elements on the total number of individuals.\n",
        "It can be calculated 'by hand' where using the classifier's `scoring method` (`clf`).\n",
        "\n",
        "* **(c)** Calculate the model's good prediction rate.\n",
        "\n"
      ]
    },
    {
      "cell_type": "code",
      "execution_count": null,
      "metadata": {
        "id": "DLhoS2VHhLQ6"
      },
      "outputs": [],
      "source": [
        "\n"
      ]
    },
    {
      "cell_type": "code",
      "execution_count": null,
      "metadata": {
        "deletable": false,
        "editable": false,
        "function": "solution",
        "tags": [],
        "id": "gp3YbRHBhLQ6",
        "outputId": "7b34649b-aa68-42ac-aae5-bfa5c7e87c51"
      },
      "outputs": [
        {
          "name": "stdout",
          "output_type": "stream",
          "text": [
            "Hand-calculated correct prediction rate: 0.7428571428571429\n",
            "Correct prediction rate calculated with score: 0.7428571428571429\n"
          ]
        }
      ],
      "source": [
        "print(\"Hand-calculated correct prediction rate:\",(cm[0,0]+cm[1,1])/cm.sum())\n",
        "\n",
        "print(\"Correct prediction rate calculated with score:\",clf.score(X_test, y_test))"
      ]
    },
    {
      "cell_type": "markdown",
      "metadata": {
        "deletable": false,
        "run_control": {
          "frozen": true
        },
        "tags": [],
        "id": "AINwQXy9hLQ6"
      },
      "source": [
        "\n",
        ">However, the* battery* is not the only metric to assess the performance of a model.<br>\n",
        "The confusion matrix also allows us to assess [precision and recall](https://fr.wikipedia.org/wiki/Précision_et_rappel) or even [$f_\\beta$-score ](https://en.wikipedia.org/wiki/F1_Score) recall.\n",
        ">\n",
        "> The recall of the positive class is also called \"**sensitivity**\" (or *rate of real positives*) and the recall of the negative class \"**specificity**\" (or *rate of real negatives*)\n",
        ">\n",
        ">These two measures are to be evaluated cautiously. Indeed, sensitivity and specificity must be examined jointly, a strong value of one of it alone cannot be a sign of the good performance of a model.<br>\n",
        "> A model which, for example, classifies all the elements as positive will have a sensitivity equal to 1 but a zero specificity, and vice versa.\n",
        ">\n",
        "> The function [`classification_report()`](http://scikit-learn.org/stable/modles/generated/sklearn.metrics.classification_report.html) of the Sklearn.metrics Module Module allows you to display some of these additional metrics, with the arguments of the real labels and that of predicted labels.\n",
        "\n",
        "* **(d)** Show the classification report for our predictions.\n",
        "\n"
      ]
    },
    {
      "cell_type": "code",
      "execution_count": null,
      "metadata": {
        "id": "YBJyHp7VhLQ7"
      },
      "outputs": [],
      "source": [
        "\n"
      ]
    },
    {
      "cell_type": "code",
      "execution_count": null,
      "metadata": {
        "deletable": false,
        "editable": false,
        "function": "solution",
        "id": "tiEHk8kChLQ7",
        "outputId": "e011b050-a1ee-4cbf-8fc2-d8e8ba8265fc"
      },
      "outputs": [
        {
          "name": "stdout",
          "output_type": "stream",
          "text": [
            "              precision    recall  f1-score   support\n",
            "\n",
            "           0       0.73      0.71      0.72        49\n",
            "           1       0.75      0.77      0.76        56\n",
            "\n",
            "    accuracy                           0.74       105\n",
            "   macro avg       0.74      0.74      0.74       105\n",
            "weighted avg       0.74      0.74      0.74       105\n",
            "\n"
          ]
        }
      ],
      "source": [
        "from sklearn.metrics import classification_report\n",
        "\n",
        "print(classification_report(y_test, y_pred))\n"
      ]
    },
    {
      "cell_type": "markdown",
      "metadata": {
        "deletable": false,
        "run_control": {
          "frozen": true
        },
        "tags": [],
        "id": "SzOW0aTBhLQ7"
      },
      "source": [
        "\n",
        "> By default, the method `predict () of a classifier in the case of a logistical regression classifies individuals as positive when the probability of belonging to the positive class is higher than the threshold of 0.5, and negative otherwise.\n",
        ">\n",
        ">Sometimes we may want to modify this classification threshold.<br>\n",
        "> The `predict_proba` method returns, for given individuals, not class predictions but **probabilities** to belong to each of the two classes.\n",
        ">\n",
        "> Thus, for example, it is possible to classify individuals according to the threshold you want.\n",
        "\n",
        "* **(e)** Create a table **probs** containing the probabilities for individuals of **X_test** to belong to class 0 or class 1.\n",
        "\n",
        "\n",
        "* **(f)** Create a vector **y_preds** which, for each line of **probs** is 1 if the probability of belonging to class 1 is greater than 0.4, and 0 otherwise.\n",
        "\n",
        "\n",
        "* **(g)** Show a confusion matrix between the real labels of **y_test** and **y_preds**.\n",
        "\n"
      ]
    },
    {
      "cell_type": "code",
      "execution_count": null,
      "metadata": {
        "id": "xuBMbz1XhLQ7"
      },
      "outputs": [],
      "source": []
    },
    {
      "cell_type": "code",
      "execution_count": null,
      "metadata": {
        "deletable": false,
        "function": "solution",
        "tags": [],
        "id": "ky2mo6KphLQ7",
        "outputId": "41a61b53-c91e-4ccf-f81b-d1eb18e98a65"
      },
      "outputs": [
        {
          "data": {
            "text/html": [
              "<div>\n",
              "<style scoped>\n",
              "    .dataframe tbody tr th:only-of-type {\n",
              "        vertical-align: middle;\n",
              "    }\n",
              "\n",
              "    .dataframe tbody tr th {\n",
              "        vertical-align: top;\n",
              "    }\n",
              "\n",
              "    .dataframe thead th {\n",
              "        text-align: right;\n",
              "    }\n",
              "</style>\n",
              "<table border=\"1\" class=\"dataframe\">\n",
              "  <thead>\n",
              "    <tr style=\"text-align: right;\">\n",
              "      <th>Predicted class</th>\n",
              "      <th>0</th>\n",
              "      <th>1</th>\n",
              "    </tr>\n",
              "    <tr>\n",
              "      <th>Actual class</th>\n",
              "      <th></th>\n",
              "      <th></th>\n",
              "    </tr>\n",
              "  </thead>\n",
              "  <tbody>\n",
              "    <tr>\n",
              "      <th>0</th>\n",
              "      <td>19</td>\n",
              "      <td>30</td>\n",
              "    </tr>\n",
              "    <tr>\n",
              "      <th>1</th>\n",
              "      <td>7</td>\n",
              "      <td>49</td>\n",
              "    </tr>\n",
              "  </tbody>\n",
              "</table>\n",
              "</div>"
            ],
            "text/plain": [
              "Predicted class   0   1\n",
              "Actual class           \n",
              "0                19  30\n",
              "1                 7  49"
            ]
          },
          "execution_count": 22,
          "metadata": {},
          "output_type": "execute_result"
        }
      ],
      "source": [
        "probs = clf.predict_proba(X_test)\n",
        "\n",
        "y_preds = np.where(probs[:,1]>0.4,1,0)\n",
        "\n",
        "cm = pd.crosstab(y_test, y_preds, rownames=['Actual class'], colnames=['Predicted class'])\n",
        "cm\n"
      ]
    },
    {
      "cell_type": "markdown",
      "metadata": {
        "deletable": false,
        "run_control": {
          "frozen": true
        },
        "tags": [],
        "id": "PPxnERNphLQ7"
      },
      "source": [
        "\n",
        "> We observe obviously that the lower the classification threshold, the more the number of individuals classified as 1 increases, the sensitivity will therefore grow. Conversely, an individual is classified only 0 if the probability he belongs to this class is greater than 0.6, which increases the precision of the zero class but makes specificity decrease.\n",
        ">\n",
        ">\n",
        "> A tool also very effective in assessing the performance of a model is the **Roc** curve.\n",
        "The ROC curve (to receive operating characteristic) is the ideal tool to summarize the performance of a binary classifier according to all possible thresholds.\n",
        "It avoids a long work of classes predictions for different thresholds, and assessing the confusion matrix for each of these thresholds.\n",
        ">\n",
        ">\n",
        "> Graphically, the ROC measurement is represented in the form of a curve which gives the rate of real positives, sensitivity, depending on the rate of false positives, antispecificity (= 1 - specificity). Each classification threshold value will provide a point of the Roc curve, which will go from (0, 0) to (1, 1).\n",
        ">\n",
        ">\n",
        "> The closer the curve gets closer to the point (0.1) (top left), the better the predictions. A model with a sensitivity and specificity equal to 1 is considered perfect.\n",
        ">\n",
        ">\n",
        "> The **area under the curve** (AUC: Area Under the Curve) is very useful. In a single number it summarizes the capacity of the model to distinguish the negative class from the positive class (not accepted / admitted).\n",
        ">\n",
        ">\n",
        "> An AUC score of 0.5 means that the model is not better than a random classification, an AUC score of 1.0 means a perfectly predictive model, and an AUC of 0.0 is perfectly anti-predictive (very rare).\n",
        ">\n",
        ">\n",
        "> The module **sklearn.metrics** contains the function [**`roc_curve()`**](http://scikit-learn.org/stable/modules/generated/sklearn.metrics.roc_curve.html) which allows to return a tables containing the rates of false positives (antispecificity), A table of the rates of real positives (sensitivity), and a table of classification thresholds taking valeures between 0 and 1. it takes in argument the vector of the labels that we wish to predict, a vector of the probabilities of belonging to the positive class and the argument `pos_label`, which allows to choose which label is defined as positive.\n",
        ">\n",
        ">\n",
        "> The function [**`auc()`**](http://scikit-learn.org/stable/Modules/GeNerated/Sklearn.metrics.auc) of the same module calculates the area under the curve when it is given in arguments a vector of false positive and a vector of the same size of real positive.\n",
        "\n",
        "* **(h)** import the functions `roc_curve ()` and `auc ()`.\n",
        "\n",
        "\n",
        "* **(i)** Apply the function `roc_curve ()` à **y_test** and the second column of **probs**, specifying that the positive label in our case is **1**. Store the results returned in the tables **fpr, tpr, thresholds**.\n",
        "\n",
        "\n",
        "* **(j)** Calculate in **roc_auc** the AUC corresponding to the values ​​of **fpr** and **tpr**.\n",
        "\n"
      ]
    },
    {
      "cell_type": "code",
      "execution_count": null,
      "metadata": {
        "id": "OAz9C4vdhLQ7"
      },
      "outputs": [],
      "source": [
        "\n"
      ]
    },
    {
      "cell_type": "code",
      "execution_count": null,
      "metadata": {
        "deletable": false,
        "function": "solution",
        "tags": [],
        "id": "Cy_lmrFghLQ7"
      },
      "outputs": [],
      "source": [
        "from sklearn.metrics import roc_curve, auc\n",
        "\n",
        "fpr, tpr, thresholds = roc_curve(y_test, probs[:,1], pos_label=1)\n",
        "roc_auc = auc(fpr, tpr)\n"
      ]
    },
    {
      "cell_type": "markdown",
      "metadata": {
        "deletable": false,
        "run_control": {
          "frozen": true
        },
        "tags": [],
        "id": "9S4Rfby1hLQ7"
      },
      "source": [
        "\n",
        "* **(k)** From the variables **fpr**, **tpr** and **roc_auc**, Create a reproduction of the graphic below:\n",
        "\n",
        "<img src=\"https://datascientest.fr/train/assets/courbeROC.png\" style = \"height:400px\" />\n",
        "\n"
      ]
    },
    {
      "cell_type": "code",
      "execution_count": null,
      "metadata": {
        "id": "3-AcM7e4hLQ7"
      },
      "outputs": [],
      "source": [
        "\n"
      ]
    },
    {
      "cell_type": "code",
      "execution_count": null,
      "metadata": {
        "deletable": false,
        "function": "solution",
        "tags": [],
        "id": "W_Kl3JA5hLQ7",
        "outputId": "ee9f69b8-1e3e-4638-fc89-6b31f2119055"
      },
      "outputs": [
        {
          "data": {
            "image/png": "[encoded data removed]",
            "text/plain": [
              "<Figure size 640x480 with 1 Axes>"
            ]
          },
          "metadata": {},
          "output_type": "display_data"
        }
      ],
      "source": [
        "import matplotlib.pyplot as plt\n",
        "\n",
        "plt.plot(fpr, tpr, color='orange', lw=2, label='clf Model (auc = %0.2f)' % roc_auc)\n",
        "plt.plot([0, 1], [0, 1], color='navy', lw=2, linestyle='--', label='Random (auc = 0.5)')\n",
        "plt.xlim([0.0, 1.0])\n",
        "plt.ylim([0.0, 1.05])\n",
        "plt.xlabel('False positive rate')\n",
        "plt.ylabel('True positive rates')\n",
        "plt.title('ROC curve')\n",
        "plt.legend(loc=\"lower right\")\n",
        "plt.show();\n"
      ]
    }
  ],
  "metadata": {
    "kernelspec": {
      "display_name": "Python 3 (ipykernel)",
      "language": "python",
      "name": "python3"
    },
    "language_info": {
      "codemirror_mode": {
        "name": "ipython",
        "version": 3
      },
      "file_extension": ".py",
      "mimetype": "text/x-python",
      "name": "python",
      "nbconvert_exporter": "python",
      "pygments_lexer": "ipython3",
      "version": "3.9.16"
    },
    "latex_envs": {
      "LaTeX_envs_menu_present": true,
      "autoclose": false,
      "autocomplete": true,
      "bibliofile": "biblio.bib",
      "cite_by": "apalike",
      "current_citInitial": 1,
      "eqLabelWithNumbers": true,
      "eqNumInitial": 1,
      "hotkeys": {
        "equation": "Ctrl-E",
        "itemize": "Ctrl-I"
      },
      "labels_anchors": false,
      "latex_user_defs": false,
      "report_style_numbering": false,
      "user_envs_cfg": false
    },
    "owner": "DataScientest",
    "colab": {
      "provenance": [],
      "include_colab_link": true
    }
  },
  "nbformat": 4,
  "nbformat_minor": 0
}