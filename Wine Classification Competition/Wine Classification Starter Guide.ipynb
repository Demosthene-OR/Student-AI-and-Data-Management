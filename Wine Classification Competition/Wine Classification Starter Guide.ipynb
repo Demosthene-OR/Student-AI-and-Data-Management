{
 "cells": [
  {
   "cell_type": "markdown",
   "metadata": {},
   "source": [
    "<a href=\"https://colab.research.google.com/github/Demosthene-OR/Student-AI-and-Data-Management/blob/main/Wine Classification Competition/Wine Classification Starter Guide.ipynb\" target=\"_parent\"><img src=\"https://colab.research.google.com/assets/colab-badge.svg\" alt=\"Open In Colab\"/></a>"
   ]
  },
  {
   "cell_type": "markdown",
   "metadata": {
    "deletable": false,
    "dst-cell-id": "ba465124-2146-44f0-b992-8624b646dd65",
    "run_control": {
     "frozen": true
    },
    "tags": []
   },
   "source": [
    "<img src=\"https://prof.totalenergies.com/wp-content/uploads/2024/09/TotalEnergies_TPA_picto_DegradeRouge_RVB-1024x1024.png\" height=\"150\" width=\"150\">\n",
    "\n",
    "<hr style=\"border-width:2px;border-color:#75DFC1\">\n",
    "<center><h1>🍷 Wine Quality Classification Starter Guide</h1></center>\n",
    "<hr style=\"border-width:2px;border-color:#75DFC1\">\n",
    "\n",
    "\n",
    "## 🎯 Objective\n",
    "You are a Data Scientist at a winery. Your task is to **predict the quality of wine** (integer scores such as 3–8) based on its physicochemical properties.  \n",
    "You will experiment with **multiple classification techniques** and compare their performance.\n",
    "\n",
    "---\n",
    "This notebook is a **starter guide** for the Wine Quality Classification competition.  \n",
    "It provides the basic structure you can build upon:\n",
    "1. Load and explore the dataset  \n",
    "2. Preprocess and split the data  \n",
    "3. Train a simple model  \n",
    "4. Generate a submission file  "
   ]
  },
  {
   "cell_type": "markdown",
   "metadata": {},
   "source": [
    "## 📥 1. Import Libraries\n",
    "In this section, we import the necessary Python libraries for:\n",
    "- Data manipulation and visualization (`pandas`, `numpy`, `matplotlib`, `seaborn`)  \n",
    "- Machine learning models and preprocessing (`sklearn`)  "
   ]
  },
  {
   "cell_type": "code",
   "execution_count": 2,
   "metadata": {
    "dst-cell-id": "1df038c0-4de0-4517-b025-ce70adcb307d"
   },
   "outputs": [],
   "source": [
    "# 📚 Libraries\n",
    "\n",
    "# Data manipulation and visualization\n",
    "import pandas as pd\n",
    "import numpy as np\n",
    "import matplotlib.pyplot as plt\n",
    "import seaborn as sns\n",
    "\n",
    "# Machine learning tools\n",
    "from sklearn.model_selection import train_test_split\n",
    "from sklearn.preprocessing import StandardScaler\n",
    "from sklearn.linear_model import LogisticRegression\n",
    "from sklearn.svm import SVC\n",
    "from sklearn.neighbors import KNeighborsClassifier\n",
    "from sklearn.tree import DecisionTreeClassifier\n",
    "from sklearn.ensemble import RandomForestClassifier\n",
    "from sklearn.cluster import KMeans\n",
    "from tensorflow.keras.models import Sequential\n",
    "from tensorflow.keras.layers import Dense\n",
    "from sklearn.metrics import accuracy_score, f1_score, confusion_matrix, ConfusionMatrixDisplay\n",
    "from scipy.stats import mode\n",
    "\n",
    "import warnings\n",
    "warnings.filterwarnings(\"ignore\")\n",
    "\n"
   ]
  },
  {
   "cell_type": "markdown",
   "metadata": {
    "deletable": false,
    "dst-cell-id": "c6ffe49d-1ee6-4b24-a912-63210969afb1",
    "run_control": {
     "frozen": true
    },
    "tags": []
   },
   "source": [
    "## 📊 2. Load and Explore the Dataset\n",
    "- Load the training data using `pd.read_csv`.  \n",
    "- Use `head()` and `info()` to preview the data.  \n",
    "- Visualize the target distribution and feature correlations to understand patterns.  \n",
    "\n"
   ]
  },
  {
   "cell_type": "code",
   "execution_count": 9,
   "metadata": {
    "deletable": false,
    "dst-cell-id": "91a6082a-e3d3-4672-91a7-8fc851b14563",
    "function": "solution",
    "tags": []
   },
   "outputs": [],
   "source": [
    "# === a. Load the training data ===\n",
    "url = \"https://raw.githubusercontent.com/Demosthene-OR/Student-AI-and-Data-Management/main/Wine%20Classification%20Competition/\"\n",
    "# url = \"/kaggle/input/wine-itba2025/\"\n",
    "\n",
    "df = pd.read_csv(url+\"train.csv\", sep=',', index_col='id')  # Replace with your dataset\n",
    "\n"
   ]
  },
  {
   "cell_type": "markdown",
   "metadata": {},
   "source": [
    "## 🔎 3. Exploratory Data Analysis\n",
    "Here we quickly analyze:\n",
    "- The distribution of the target variable `quality`.  \n",
    "- Correlations between features using a heatmap.  \n",
    "This helps to identify important variables and relationships.  \n"
   ]
  },
  {
   "cell_type": "code",
   "execution_count": null,
   "metadata": {},
   "outputs": [],
   "source": []
  },
  {
   "cell_type": "markdown",
   "metadata": {},
   "source": [
    "## 🧹 4. Data Preparation\n",
    "Steps:\n",
    "- Split the dataset into features (`X`) and target (`y`).  \n",
    "- Use `train_test_split` to create training and validation sets.  \n",
    "- Standardize features using `StandardScaler` for better model performance.  \n"
   ]
  },
  {
   "cell_type": "code",
   "execution_count": null,
   "metadata": {},
   "outputs": [],
   "source": []
  },
  {
   "cell_type": "markdown",
   "metadata": {},
   "source": [
    "## 🤖 5. Train a first Model\n",
    "We will:\n",
    "- Use, for example, **Logistic Regression** as a baseline classifier.  \n",
    "- Fit the model to the training set.  \n",
    "- Evaluate it on the validation set using Accuracy.  \n"
   ]
  },
  {
   "cell_type": "code",
   "execution_count": null,
   "metadata": {},
   "outputs": [],
   "source": []
  },
  {
   "cell_type": "markdown",
   "metadata": {},
   "source": [
    "## 🤖 6. Train a second Model\n",
    "We will:\n",
    "- Use another classifier.  \n",
    "- Fit the model to the training set.  \n",
    "- Evaluate it on the validation set using Accuracy.  \n",
    "- Compare its performance with the first classifier.  \n"
   ]
  },
  {
   "cell_type": "code",
   "execution_count": null,
   "metadata": {},
   "outputs": [],
   "source": []
  },
  {
   "cell_type": "markdown",
   "metadata": {
    "tags": []
   },
   "source": [
    "## 📤 7. Generate Submission File\n",
    "Steps:\n",
    "- Load the test dataset.  \n",
    "- Scale the test features using the same scaler as training.  \n",
    "- Predict wine quality for the test data.  \n",
    "- Create a DataFrame with columns `id` and `quality`.  \n",
    "- Save predictions as `submission.csv`.  \n",
    "This file can now be uploaded to the competition for scoring.  \n"
   ]
  },
  {
   "cell_type": "code",
   "execution_count": 11,
   "metadata": {
    "tags": []
   },
   "outputs": [
    {
     "name": "stdout",
     "output_type": "stream",
     "text": [
      "✅ Submission file saved as submission.csv\n"
     ]
    }
   ],
   "source": [
    "# === Load the test dataset ===\n",
    "test_df = pd.read_csv(url+\"test.csv\", sep=',', index_col='id')  \n",
    "\n",
    "# .....\n",
    "\n",
    "\n",
    "# Prepare submission (include 'id' as the first column)\n",
    "submission = pd.DataFrame({\n",
    "    \"id\": test_df.index,\n",
    "    # \"quality\": test_preds    # replace test_preds by your prediction variable\n",
    "})\n",
    "\n",
    "# Save submission file\n",
    "submission.to_csv(\"submission.csv\", index=False)\n",
    "# If running from colab, replace the previous line with the 2 following ones\n",
    "    # from google.colab import files\n",
    "    # files.download('submission.csv.')  # Change the file name according to the model you want to download\n",
    "    \n",
    "print(\"✅ Submission file saved as submission.csv\")"
   ]
  },
  {
   "cell_type": "markdown",
   "metadata": {
    "tags": []
   },
   "source": [
    "## 💡 7. Tips and Next Steps\n",
    "- Try different models: **Random Forest**, **SVM**, **kNN**, or **Neural Networks**.  \n",
    "- Experiment with feature engineering or hyperparameter tuning to improve results.  \n",
    "- Use cross-validation for more robust evaluation.  \n",
    "- Document your process with Markdown cells to explain your approach.  \n"
   ]
  }
 ],
 "metadata": {
  "kernelspec": {
   "display_name": "Python 3 (ipykernel)",
   "language": "python",
   "name": "python3"
  },
  "language_info": {
   "codemirror_mode": {
    "name": "ipython",
    "version": 3
   },
   "file_extension": ".py",
   "mimetype": "text/x-python",
   "name": "python",
   "nbconvert_exporter": "python",
   "pygments_lexer": "ipython3",
   "version": "3.9.16"
  },
  "latex_envs": {
   "LaTeX_envs_menu_present": true,
   "autoclose": false,
   "autocomplete": true,
   "bibliofile": "biblio.bib",
   "cite_by": "apalike",
   "current_citInitial": 1,
   "eqLabelWithNumbers": true,
   "eqNumInitial": 1,
   "hotkeys": {
    "equation": "Ctrl-E",
    "itemize": "Ctrl-I"
   },
   "labels_anchors": false,
   "latex_user_defs": false,
   "report_style_numbering": false,
   "user_envs_cfg": false
  },
  "n_questions": 2,
  "nbTranslate": {
   "displayLangs": [
    "*"
   ],
   "hotkey": "alt-t",
   "langInMainMenu": true,
   "sourceLang": "en",
   "targetLang": "fr",
   "useGoogleTranslate": true
  },
  "owner": "DataScientest",
  "widgets": {
   "application/vnd.jupyter.widget-state+json": {
    "state": {},
    "version_major": 2,
    "version_minor": 0
   }
  }
 },
 "nbformat": 4,
 "nbformat_minor": 4
}
