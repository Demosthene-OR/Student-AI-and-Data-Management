{
 "cells": [
  {
   "cell_type": "markdown",
   "metadata": {
    "deletable": false,
    "run_control": {
     "frozen": true
    },
    "tags": []
   },
   "source": [
    "\n",
    "<img src=\"https://prof.totalenergies.com/wp-content/uploads/2024/09/TotalEnergies_TPA_picto_DegradeRouge_RVB-1024x1024.png\" style=\"height:150px\"> \n",
    "<hr style=\"border-width:2px;border-color:#75DFC1\">\n",
    "<h1 style = \"text-align:center\" >Scikit-Learn: Classification Models</h1> \n",
    "<h2 style = \"text-align:center\">Closer neighboring k method</h2> \n",
    "<hr style=\"border-width:2px;border-color:#75DFC1\">\n",
    "\n",
    "\n",
    "> In this exercise we will study an example of using the K, closer neighbors or *K Nearerest Neighbors* (KNN)) under Python. The packages used will be **pandas**, **scikit-learn** and its sub-packages, in particular:\n",
    "**neighbors** and **model_selection**.\n",
    "\n",
    "<hr style=\"border-width:2px;border-color:#75DFC1\">\n",
    "<h3 style = \"text-align:center\">Introduction to dataset</h3> \n",
    "<hr style=\"border-width:2px;border-color:#75DFC1\">\n",
    "\n",
    ">The data used in this exercise come from a collection of handwritten figures by a group of 43 people, available [here](https://archive.ucs.uci.edu/ml/datasets/optical+recognition+of+handwritten+digits), and importable directly in the 'Datasets' package' of *Scikit-Learn *.<br>\n",
    "> These are black and white images, normalized, centered and 8x8 pixel size. The images are given here in the form of unidimensional vectors of size 64 (pixels) in the attribute **`data`**, and in the form of tables of size 8x8 in the attribute **`images`**. The attribute **`target`** contains the labels corresponding to each image (a figure between 0 and 9).\n",
    "\n",
    "<hr style=\"border-width:2px;border-color:#75DFC1\">\n",
    "<h3 style = \"text-align:center\">1. Data preparation and modeling</h3> \n",
    "<hr style=\"border-width:2px;border-color:#75DFC1\">\n",
    "\n",
    "* **(a)** Load the package *__neigbors__* from the library *__sklearn__*.\n",
    "\n",
    "\n",
    "* **(b)** Load the package *__datasets__* from the library *__sklearn__*.\n",
    "\n",
    "\n",
    "* **(c)** Load the package *__train_test_split__* from the library *__sklearn.model_selection__*.\n",
    "\n",
    "\n",
    "* **(d)** Load the library *__pandas__* under the name *__pd__*, and *__numpy__* under the name *__np__*.\n",
    "\n",
    "\n",
    "* **(e)** import the data dictionary into **digits** thanks to the function `datasets.load_digits ()`.\n",
    "\n",
    "\n",
    "* **(f)** Save in a dataframe **X_digits** The data contained in the attribute **`data`** of **digits**.\n",
    "\n",
    "\n",
    "* **(g)** Save in **y_digits** The labels contained in the attribute **`target`** of **digits**.\n",
    "\n",
    "<div class=\"alert alert-info\">\n",
    "<i class=\"fa fa-info-circle\"></i> &emsp; \n",
    "Remember that before looking at the solution, you can always access the official Python help by typing <code style = \"background-color: transparent ; color : inherit\"><b>help(name_function)</b></code> in the console.\n",
    "</div>\n",
    "\n"
   ]
  },
  {
   "cell_type": "code",
   "execution_count": 1,
   "metadata": {},
   "outputs": [],
   "source": [
    "from sklearn import neighbors\n",
    "from sklearn import datasets\n",
    "from sklearn.model_selection import train_test_split\n",
    "import pandas as pd\n",
    "import numpy as np\n",
    "\n",
    "digits = datasets.load_digits()\n",
    "X_digits = pd.DataFrame(digits.data)\n",
    "y_digits = digits.target"
   ]
  },
  {
   "cell_type": "code",
   "execution_count": 2,
   "metadata": {
    "deletable": false,
    "editable": false,
    "function": "solution"
   },
   "outputs": [],
   "source": [
    "# Import of the necessary libraries\n",
    "from sklearn import neighbors\n",
    "from sklearn import datasets\n",
    "from sklearn.model_selection import train_test_split\n",
    "import pandas as pd\n",
    "import numpy as np\n",
    "\n",
    "\n",
    "digits = datasets.load_digits()\n",
    "\n",
    "X_digits = pd.DataFrame(digits.data)\n",
    "y_digits = digits.target\n"
   ]
  },
  {
   "cell_type": "markdown",
   "metadata": {
    "deletable": false,
    "run_control": {
     "frozen": true
    },
    "tags": []
   },
   "source": [
    "\n",
    "* **(h)** Execute the following cell to randomly display six pixelated digits present in the data.\n",
    "\n"
   ]
  },
  {
   "cell_type": "code",
   "execution_count": 3,
   "metadata": {
    "deletable": false,
    "editable": false
   },
   "outputs": [
    {
     "data": {
      "image/png": "[encoded data removed]",
      "text/plain": [
       "<Figure size 640x480 with 6 Axes>"
      ]
     },
     "metadata": {},
     "output_type": "display_data"
    }
   ],
   "source": [
    "%matplotlib inline\n",
    "import matplotlib.pyplot as plt\n",
    "from matplotlib import cm # pour importer de nouvelles cartes de couleur\n",
    "\n",
    "j=0\n",
    "\n",
    "for i in np.random.choice(np.arange(0, len(y_digits)), size=6):\n",
    "    j=j+1\n",
    "#On stores the index in list I to be able to display the corresponding label later.\n",
    "    \n",
    "    plt.subplot(2,3,j)\n",
    "# Add *Plt.subplot (2,3, J)* each iteration allows you to display all the images\n",
    "# sets on the same figure.\n",
    "\n",
    "    plt.axis('off')\n",
    "# Allows you to delete the axes (here is used to see the titles better)\n",
    "    \n",
    "    plt.imshow(digits.images[i],cmap = cm.binary, interpolation='None')\n",
    "# Display image n ° I\n",
    "# The use of CM.Binary allows you to see the figures in gray on a white background.\n",
    "\n",
    "    plt.title('Label: %i' %y_digits[i])\n",
    "# For each image we write in title the label that suits him.\n"
   ]
  },
  {
   "cell_type": "markdown",
   "metadata": {
    "deletable": false,
    "run_control": {
     "frozen": true
    },
    "tags": []
   },
   "source": [
    "\n",
    "* **(i)** Diviser les matrices **`X_digits`** et **`y_digits`** en un ensemble d'apprentissage de 80% (**`X_train`**, **`y_train`**) et un ensemble de test (**`X_test`**, **`y_test`**) de 20%.<br>\n",
    "Add the argument `random_state = 126` in the function **`train_test_split`** for the reproducibility of the choice of random.\n",
    "\n"
   ]
  },
  {
   "cell_type": "code",
   "execution_count": 4,
   "metadata": {},
   "outputs": [],
   "source": [
    "X_train, X_test, y_train, y_test = train_test_split(X_digits, y_digits, test_size = 0.2, random_state = 126)\n",
    "\n",
    "\n"
   ]
  },
  {
   "cell_type": "code",
   "execution_count": 5,
   "metadata": {
    "deletable": false,
    "editable": false,
    "function": "solution"
   },
   "outputs": [],
   "source": [
    "X_train, X_test, y_train, y_test = train_test_split(X_digits, y_digits, test_size=0.2, random_state=126)\n"
   ]
  },
  {
   "cell_type": "markdown",
   "metadata": {
    "deletable": false,
    "run_control": {
     "frozen": true
    },
    "tags": []
   },
   "source": [
    "\n",
    "<hr style=\"border-width:2px;border-color:#75DFC1\">\n",
    "<h3 style = \"text-align:center\">2. Data Learning</h3> \n",
    "<hr style=\"border-width:2px;border-color:#75DFC1\">\n",
    "\n",
    "> The K-Plus nearby K-Plus method (KNN) is an extremely simple supervised learning method in its most basic form, and yet often efficient for complex classification tasks.\n",
    "The KNN algorithm does not train on any data, but uses all the data available each time to classify new data.\n",
    ">\n",
    "> The principle is as follows: unknown class data is compared to all stored data. The class to which the new data is attributed is the majority class among its **K closer neighbors** in the sense of a chosen distance. By default, the distance used by the class **`KNeighborsClassifier'** is the Euclidean distance.\n",
    ">\n",
    "> The figure below illustrates the operation of an algorithm **3-Nn**. For a new entry which we want to predict the class. The algorithm calculates the 3 neighbors closest to this entry and deduces the class which constitutes the majority of these neighbors in order to deduce the class of the new point.\n",
    ">\n",
    "><img src=\"https://datascientest.fr/train/assets/knn_newpoint.gif\" style=\"width:500px\" />\n",
    ">\n",
    "> The function [**`KNeighborsClassifier`**](https://scikit-learn.org/stable/Modules/GeNeRared/Sklearn.neighbors.kneighborsclassify.html) of the Package **`neighbors`** allows you to create a Knn classifier, Mainly the number of 'neighbors' **`n_neighbors`** chosen, and in **` Metric`** the distance to be used among those [included in the Package](https://scikit-learn.org/stable/modles/generated/sklearn.metrics.dististemetric.html?highlight=distance%20metric#Sklearn.metrics.distancemetric).\n",
    "\n",
    "* **(a)** Execute the following cell to view the influence of hyperparammeters on a **K model closer neighbors**.\n",
    "\n",
    "<div class=\"alert alert-info\">\n",
    "<i class=\"fa fa-info-circle\"></i> &emsp;\n",
    "The datasets contain two classes (red dots/blue dots) with <b>x1</b> and <b>x2</b> as features. The background color represents the probability of belonging to one of the classes. The redder the color, the higher the probability of belonging to class 2.\n",
    "</div>\n",
    "\n"
   ]
  },
  {
   "cell_type": "code",
   "execution_count": 6,
   "metadata": {
    "deletable": false,
    "editable": false
   },
   "outputs": [
    {
     "data": {
      "application/vnd.jupyter.widget-view+json": {
       "model_id": "96a60761cde94343ac2c73ab83e9d553",
       "version_major": 2,
       "version_minor": 0
      },
      "text/plain": [
       "HBox(children=(Output(), VBox(children=(VBox(children=(HTML(value='<b>Datasets</b>'), HTML(value=''), Dropdown…"
      ]
     },
     "metadata": {},
     "output_type": "display_data"
    }
   ],
   "source": [
    "%matplotlib inline\n",
    "from interactions import show_knn\n",
    "show_knn()\n"
   ]
  },
  {
   "cell_type": "markdown",
   "metadata": {
    "deletable": false,
    "run_control": {
     "frozen": true
    },
    "tags": []
   },
   "source": [
    "\n",
    "* **(b)** Create a classifier **`knn`**, with k = 7 and the distance 'Minkowski' (Distance by default, with P = 2, Euclidean distance).\n",
    "\n",
    "\n",
    "* **(c)** Adjust the classifier to the training set (**`X_train`** and **`y_train`**).\n",
    "\n",
    "<div class=\"alert alert-info\">\n",
    "<i class=\"fa fa-info-circle\"></i> &emsp; \n",
    "Note that no model \"training\" is done strictly speaking. The algorithm will simply use the labeled data provided to it to predict new figures.\n",
    "</div>\n",
    "\n"
   ]
  },
  {
   "cell_type": "code",
   "execution_count": 7,
   "metadata": {},
   "outputs": [
    {
     "data": {
      "text/html": [
       "<style>#sk-container-id-1 {color: black;background-color: white;}#sk-container-id-1 pre{padding: 0;}#sk-container-id-1 div.sk-toggleable {background-color: white;}#sk-container-id-1 label.sk-toggleable__label {cursor: pointer;display: block;width: 100%;margin-bottom: 0;padding: 0.3em;box-sizing: border-box;text-align: center;}#sk-container-id-1 label.sk-toggleable__label-arrow:before {content: \"▸\";float: left;margin-right: 0.25em;color: #696969;}#sk-container-id-1 label.sk-toggleable__label-arrow:hover:before {color: black;}#sk-container-id-1 div.sk-estimator:hover label.sk-toggleable__label-arrow:before {color: black;}#sk-container-id-1 div.sk-toggleable__content {max-height: 0;max-width: 0;overflow: hidden;text-align: left;background-color: #f0f8ff;}#sk-container-id-1 div.sk-toggleable__content pre {margin: 0.2em;color: black;border-radius: 0.25em;background-color: #f0f8ff;}#sk-container-id-1 input.sk-toggleable__control:checked~div.sk-toggleable__content {max-height: 200px;max-width: 100%;overflow: auto;}#sk-container-id-1 input.sk-toggleable__control:checked~label.sk-toggleable__label-arrow:before {content: \"▾\";}#sk-container-id-1 div.sk-estimator input.sk-toggleable__control:checked~label.sk-toggleable__label {background-color: #d4ebff;}#sk-container-id-1 div.sk-label input.sk-toggleable__control:checked~label.sk-toggleable__label {background-color: #d4ebff;}#sk-container-id-1 input.sk-hidden--visually {border: 0;clip: rect(1px 1px 1px 1px);clip: rect(1px, 1px, 1px, 1px);height: 1px;margin: -1px;overflow: hidden;padding: 0;position: absolute;width: 1px;}#sk-container-id-1 div.sk-estimator {font-family: monospace;background-color: #f0f8ff;border: 1px dotted black;border-radius: 0.25em;box-sizing: border-box;margin-bottom: 0.5em;}#sk-container-id-1 div.sk-estimator:hover {background-color: #d4ebff;}#sk-container-id-1 div.sk-parallel-item::after {content: \"\";width: 100%;border-bottom: 1px solid gray;flex-grow: 1;}#sk-container-id-1 div.sk-label:hover label.sk-toggleable__label {background-color: #d4ebff;}#sk-container-id-1 div.sk-serial::before {content: \"\";position: absolute;border-left: 1px solid gray;box-sizing: border-box;top: 0;bottom: 0;left: 50%;z-index: 0;}#sk-container-id-1 div.sk-serial {display: flex;flex-direction: column;align-items: center;background-color: white;padding-right: 0.2em;padding-left: 0.2em;position: relative;}#sk-container-id-1 div.sk-item {position: relative;z-index: 1;}#sk-container-id-1 div.sk-parallel {display: flex;align-items: stretch;justify-content: center;background-color: white;position: relative;}#sk-container-id-1 div.sk-item::before, #sk-container-id-1 div.sk-parallel-item::before {content: \"\";position: absolute;border-left: 1px solid gray;box-sizing: border-box;top: 0;bottom: 0;left: 50%;z-index: -1;}#sk-container-id-1 div.sk-parallel-item {display: flex;flex-direction: column;z-index: 1;position: relative;background-color: white;}#sk-container-id-1 div.sk-parallel-item:first-child::after {align-self: flex-end;width: 50%;}#sk-container-id-1 div.sk-parallel-item:last-child::after {align-self: flex-start;width: 50%;}#sk-container-id-1 div.sk-parallel-item:only-child::after {width: 0;}#sk-container-id-1 div.sk-dashed-wrapped {border: 1px dashed gray;margin: 0 0.4em 0.5em 0.4em;box-sizing: border-box;padding-bottom: 0.4em;background-color: white;}#sk-container-id-1 div.sk-label label {font-family: monospace;font-weight: bold;display: inline-block;line-height: 1.2em;}#sk-container-id-1 div.sk-label-container {text-align: center;}#sk-container-id-1 div.sk-container {/* jupyter's `normalize.less` sets `[hidden] { display: none; }` but bootstrap.min.css set `[hidden] { display: none !important; }` so we also need the `!important` here to be able to override the default hidden behavior on the sphinx rendered scikit-learn.org. See: https://github.com/scikit-learn/scikit-learn/issues/21755 */display: inline-block !important;position: relative;}#sk-container-id-1 div.sk-text-repr-fallback {display: none;}</style><div id=\"sk-container-id-1\" class=\"sk-top-container\"><div class=\"sk-text-repr-fallback\"><pre>KNeighborsClassifier(n_neighbors=7)</pre><b>In a Jupyter environment, please rerun this cell to show the HTML representation or trust the notebook. <br />On GitHub, the HTML representation is unable to render, please try loading this page with nbviewer.org.</b></div><div class=\"sk-container\" hidden><div class=\"sk-item\"><div class=\"sk-estimator sk-toggleable\"><input class=\"sk-toggleable__control sk-hidden--visually\" id=\"sk-estimator-id-1\" type=\"checkbox\" checked><label for=\"sk-estimator-id-1\" class=\"sk-toggleable__label sk-toggleable__label-arrow\">KNeighborsClassifier</label><div class=\"sk-toggleable__content\"><pre>KNeighborsClassifier(n_neighbors=7)</pre></div></div></div></div></div>"
      ],
      "text/plain": [
       "KNeighborsClassifier(n_neighbors=7)"
      ]
     },
     "execution_count": 7,
     "metadata": {},
     "output_type": "execute_result"
    }
   ],
   "source": [
    "knn = neighbors.KNeighborsClassifier(n_neighbors=7, metric='minkowski')\n",
    "knn.fit(X_train, y_train)\n",
    "\n"
   ]
  },
  {
   "cell_type": "code",
   "execution_count": 8,
   "metadata": {
    "deletable": false,
    "editable": false,
    "function": "solution"
   },
   "outputs": [
    {
     "data": {
      "text/html": [
       "<style>#sk-container-id-2 {color: black;background-color: white;}#sk-container-id-2 pre{padding: 0;}#sk-container-id-2 div.sk-toggleable {background-color: white;}#sk-container-id-2 label.sk-toggleable__label {cursor: pointer;display: block;width: 100%;margin-bottom: 0;padding: 0.3em;box-sizing: border-box;text-align: center;}#sk-container-id-2 label.sk-toggleable__label-arrow:before {content: \"▸\";float: left;margin-right: 0.25em;color: #696969;}#sk-container-id-2 label.sk-toggleable__label-arrow:hover:before {color: black;}#sk-container-id-2 div.sk-estimator:hover label.sk-toggleable__label-arrow:before {color: black;}#sk-container-id-2 div.sk-toggleable__content {max-height: 0;max-width: 0;overflow: hidden;text-align: left;background-color: #f0f8ff;}#sk-container-id-2 div.sk-toggleable__content pre {margin: 0.2em;color: black;border-radius: 0.25em;background-color: #f0f8ff;}#sk-container-id-2 input.sk-toggleable__control:checked~div.sk-toggleable__content {max-height: 200px;max-width: 100%;overflow: auto;}#sk-container-id-2 input.sk-toggleable__control:checked~label.sk-toggleable__label-arrow:before {content: \"▾\";}#sk-container-id-2 div.sk-estimator input.sk-toggleable__control:checked~label.sk-toggleable__label {background-color: #d4ebff;}#sk-container-id-2 div.sk-label input.sk-toggleable__control:checked~label.sk-toggleable__label {background-color: #d4ebff;}#sk-container-id-2 input.sk-hidden--visually {border: 0;clip: rect(1px 1px 1px 1px);clip: rect(1px, 1px, 1px, 1px);height: 1px;margin: -1px;overflow: hidden;padding: 0;position: absolute;width: 1px;}#sk-container-id-2 div.sk-estimator {font-family: monospace;background-color: #f0f8ff;border: 1px dotted black;border-radius: 0.25em;box-sizing: border-box;margin-bottom: 0.5em;}#sk-container-id-2 div.sk-estimator:hover {background-color: #d4ebff;}#sk-container-id-2 div.sk-parallel-item::after {content: \"\";width: 100%;border-bottom: 1px solid gray;flex-grow: 1;}#sk-container-id-2 div.sk-label:hover label.sk-toggleable__label {background-color: #d4ebff;}#sk-container-id-2 div.sk-serial::before {content: \"\";position: absolute;border-left: 1px solid gray;box-sizing: border-box;top: 0;bottom: 0;left: 50%;z-index: 0;}#sk-container-id-2 div.sk-serial {display: flex;flex-direction: column;align-items: center;background-color: white;padding-right: 0.2em;padding-left: 0.2em;position: relative;}#sk-container-id-2 div.sk-item {position: relative;z-index: 1;}#sk-container-id-2 div.sk-parallel {display: flex;align-items: stretch;justify-content: center;background-color: white;position: relative;}#sk-container-id-2 div.sk-item::before, #sk-container-id-2 div.sk-parallel-item::before {content: \"\";position: absolute;border-left: 1px solid gray;box-sizing: border-box;top: 0;bottom: 0;left: 50%;z-index: -1;}#sk-container-id-2 div.sk-parallel-item {display: flex;flex-direction: column;z-index: 1;position: relative;background-color: white;}#sk-container-id-2 div.sk-parallel-item:first-child::after {align-self: flex-end;width: 50%;}#sk-container-id-2 div.sk-parallel-item:last-child::after {align-self: flex-start;width: 50%;}#sk-container-id-2 div.sk-parallel-item:only-child::after {width: 0;}#sk-container-id-2 div.sk-dashed-wrapped {border: 1px dashed gray;margin: 0 0.4em 0.5em 0.4em;box-sizing: border-box;padding-bottom: 0.4em;background-color: white;}#sk-container-id-2 div.sk-label label {font-family: monospace;font-weight: bold;display: inline-block;line-height: 1.2em;}#sk-container-id-2 div.sk-label-container {text-align: center;}#sk-container-id-2 div.sk-container {/* jupyter's `normalize.less` sets `[hidden] { display: none; }` but bootstrap.min.css set `[hidden] { display: none !important; }` so we also need the `!important` here to be able to override the default hidden behavior on the sphinx rendered scikit-learn.org. See: https://github.com/scikit-learn/scikit-learn/issues/21755 */display: inline-block !important;position: relative;}#sk-container-id-2 div.sk-text-repr-fallback {display: none;}</style><div id=\"sk-container-id-2\" class=\"sk-top-container\"><div class=\"sk-text-repr-fallback\"><pre>KNeighborsClassifier(n_neighbors=7)</pre><b>In a Jupyter environment, please rerun this cell to show the HTML representation or trust the notebook. <br />On GitHub, the HTML representation is unable to render, please try loading this page with nbviewer.org.</b></div><div class=\"sk-container\" hidden><div class=\"sk-item\"><div class=\"sk-estimator sk-toggleable\"><input class=\"sk-toggleable__control sk-hidden--visually\" id=\"sk-estimator-id-2\" type=\"checkbox\" checked><label for=\"sk-estimator-id-2\" class=\"sk-toggleable__label sk-toggleable__label-arrow\">KNeighborsClassifier</label><div class=\"sk-toggleable__content\"><pre>KNeighborsClassifier(n_neighbors=7)</pre></div></div></div></div></div>"
      ],
      "text/plain": [
       "KNeighborsClassifier(n_neighbors=7)"
      ]
     },
     "execution_count": 8,
     "metadata": {},
     "output_type": "execute_result"
    }
   ],
   "source": [
    "# Creation of the classifier and construction of the model on training data\n",
    "knn = neighbors.KNeighborsClassifier(n_neighbors=7, metric='minkowski')\n",
    "knn.fit(X_train, y_train)\n"
   ]
  },
  {
   "cell_type": "markdown",
   "metadata": {
    "deletable": false,
    "run_control": {
     "frozen": true
    },
    "tags": []
   },
   "source": [
    "\n",
    "<hr style=\"border-width:2px;border-color:#75DFC1\">\n",
    "<h3 style = \"text-align:center\">3. Evaluation of the classification model</h3> \n",
    "<hr style=\"border-width:2px;border-color:#75DFC1\">\n",
    "\n",
    "><div class=\"alert alert-success\">\n",
    "<i class=\"fa fa-question-circle\"></i> &emsp; \n",
    "Assessment is the key to success in data science.  It aims to verify the model (s) or the knowledge obtained in order to ensure that they meet the objectives formulated at the start of the process. It also contributes to the decision to deploy the model or its improvement. At this stage, we notably test the robustness and precision of the models obtained.\n",
    "</div>\n",
    "\n",
    "* **(a)** Apply the model to the data set data and store the predictions obtained in the variable **`y_pred`**.\n",
    "\n",
    "\n",
    "* **(b)** Show a confusion matrix to compare the real and predicted classes.\n",
    "\n"
   ]
  },
  {
   "cell_type": "code",
   "execution_count": 9,
   "metadata": {},
   "outputs": [
    {
     "data": {
      "text/html": [
       "<div>\n",
       "<style scoped>\n",
       "    .dataframe tbody tr th:only-of-type {\n",
       "        vertical-align: middle;\n",
       "    }\n",
       "\n",
       "    .dataframe tbody tr th {\n",
       "        vertical-align: top;\n",
       "    }\n",
       "\n",
       "    .dataframe thead th {\n",
       "        text-align: right;\n",
       "    }\n",
       "</style>\n",
       "<table border=\"1\" class=\"dataframe\">\n",
       "  <thead>\n",
       "    <tr style=\"text-align: right;\">\n",
       "      <th>Classe prédite</th>\n",
       "      <th>0</th>\n",
       "      <th>1</th>\n",
       "      <th>2</th>\n",
       "      <th>3</th>\n",
       "      <th>4</th>\n",
       "      <th>5</th>\n",
       "      <th>6</th>\n",
       "      <th>7</th>\n",
       "      <th>8</th>\n",
       "      <th>9</th>\n",
       "    </tr>\n",
       "    <tr>\n",
       "      <th>Classe réelle</th>\n",
       "      <th></th>\n",
       "      <th></th>\n",
       "      <th></th>\n",
       "      <th></th>\n",
       "      <th></th>\n",
       "      <th></th>\n",
       "      <th></th>\n",
       "      <th></th>\n",
       "      <th></th>\n",
       "      <th></th>\n",
       "    </tr>\n",
       "  </thead>\n",
       "  <tbody>\n",
       "    <tr>\n",
       "      <th>0</th>\n",
       "      <td>32</td>\n",
       "      <td>0</td>\n",
       "      <td>0</td>\n",
       "      <td>0</td>\n",
       "      <td>0</td>\n",
       "      <td>0</td>\n",
       "      <td>0</td>\n",
       "      <td>0</td>\n",
       "      <td>0</td>\n",
       "      <td>0</td>\n",
       "    </tr>\n",
       "    <tr>\n",
       "      <th>1</th>\n",
       "      <td>0</td>\n",
       "      <td>54</td>\n",
       "      <td>0</td>\n",
       "      <td>0</td>\n",
       "      <td>0</td>\n",
       "      <td>0</td>\n",
       "      <td>0</td>\n",
       "      <td>0</td>\n",
       "      <td>0</td>\n",
       "      <td>0</td>\n",
       "    </tr>\n",
       "    <tr>\n",
       "      <th>2</th>\n",
       "      <td>0</td>\n",
       "      <td>0</td>\n",
       "      <td>38</td>\n",
       "      <td>0</td>\n",
       "      <td>0</td>\n",
       "      <td>0</td>\n",
       "      <td>0</td>\n",
       "      <td>0</td>\n",
       "      <td>0</td>\n",
       "      <td>0</td>\n",
       "    </tr>\n",
       "    <tr>\n",
       "      <th>3</th>\n",
       "      <td>0</td>\n",
       "      <td>0</td>\n",
       "      <td>0</td>\n",
       "      <td>28</td>\n",
       "      <td>0</td>\n",
       "      <td>0</td>\n",
       "      <td>0</td>\n",
       "      <td>0</td>\n",
       "      <td>0</td>\n",
       "      <td>0</td>\n",
       "    </tr>\n",
       "    <tr>\n",
       "      <th>4</th>\n",
       "      <td>0</td>\n",
       "      <td>0</td>\n",
       "      <td>0</td>\n",
       "      <td>0</td>\n",
       "      <td>41</td>\n",
       "      <td>0</td>\n",
       "      <td>0</td>\n",
       "      <td>0</td>\n",
       "      <td>0</td>\n",
       "      <td>0</td>\n",
       "    </tr>\n",
       "    <tr>\n",
       "      <th>5</th>\n",
       "      <td>0</td>\n",
       "      <td>0</td>\n",
       "      <td>0</td>\n",
       "      <td>0</td>\n",
       "      <td>0</td>\n",
       "      <td>40</td>\n",
       "      <td>1</td>\n",
       "      <td>0</td>\n",
       "      <td>0</td>\n",
       "      <td>2</td>\n",
       "    </tr>\n",
       "    <tr>\n",
       "      <th>6</th>\n",
       "      <td>0</td>\n",
       "      <td>0</td>\n",
       "      <td>0</td>\n",
       "      <td>0</td>\n",
       "      <td>0</td>\n",
       "      <td>0</td>\n",
       "      <td>35</td>\n",
       "      <td>0</td>\n",
       "      <td>0</td>\n",
       "      <td>0</td>\n",
       "    </tr>\n",
       "    <tr>\n",
       "      <th>7</th>\n",
       "      <td>0</td>\n",
       "      <td>0</td>\n",
       "      <td>0</td>\n",
       "      <td>0</td>\n",
       "      <td>0</td>\n",
       "      <td>0</td>\n",
       "      <td>0</td>\n",
       "      <td>27</td>\n",
       "      <td>0</td>\n",
       "      <td>0</td>\n",
       "    </tr>\n",
       "    <tr>\n",
       "      <th>8</th>\n",
       "      <td>0</td>\n",
       "      <td>0</td>\n",
       "      <td>0</td>\n",
       "      <td>0</td>\n",
       "      <td>0</td>\n",
       "      <td>0</td>\n",
       "      <td>0</td>\n",
       "      <td>0</td>\n",
       "      <td>34</td>\n",
       "      <td>0</td>\n",
       "    </tr>\n",
       "    <tr>\n",
       "      <th>9</th>\n",
       "      <td>0</td>\n",
       "      <td>1</td>\n",
       "      <td>0</td>\n",
       "      <td>2</td>\n",
       "      <td>0</td>\n",
       "      <td>1</td>\n",
       "      <td>0</td>\n",
       "      <td>0</td>\n",
       "      <td>0</td>\n",
       "      <td>24</td>\n",
       "    </tr>\n",
       "  </tbody>\n",
       "</table>\n",
       "</div>"
      ],
      "text/plain": [
       "Classe prédite   0   1   2   3   4   5   6   7   8   9\n",
       "Classe réelle                                         \n",
       "0               32   0   0   0   0   0   0   0   0   0\n",
       "1                0  54   0   0   0   0   0   0   0   0\n",
       "2                0   0  38   0   0   0   0   0   0   0\n",
       "3                0   0   0  28   0   0   0   0   0   0\n",
       "4                0   0   0   0  41   0   0   0   0   0\n",
       "5                0   0   0   0   0  40   1   0   0   2\n",
       "6                0   0   0   0   0   0  35   0   0   0\n",
       "7                0   0   0   0   0   0   0  27   0   0\n",
       "8                0   0   0   0   0   0   0   0  34   0\n",
       "9                0   1   0   2   0   1   0   0   0  24"
      ]
     },
     "execution_count": 9,
     "metadata": {},
     "output_type": "execute_result"
    }
   ],
   "source": [
    "y_pred = knn.predict(X_test)\n",
    "pd.crosstab(y_test, y_pred, rownames=['Classe réelle'], colnames=['Classe prédite'])\n",
    "\n",
    "\n"
   ]
  },
  {
   "cell_type": "code",
   "execution_count": 10,
   "metadata": {
    "deletable": false,
    "editable": false,
    "function": "solution"
   },
   "outputs": [
    {
     "data": {
      "text/html": [
       "<div>\n",
       "<style scoped>\n",
       "    .dataframe tbody tr th:only-of-type {\n",
       "        vertical-align: middle;\n",
       "    }\n",
       "\n",
       "    .dataframe tbody tr th {\n",
       "        vertical-align: top;\n",
       "    }\n",
       "\n",
       "    .dataframe thead th {\n",
       "        text-align: right;\n",
       "    }\n",
       "</style>\n",
       "<table border=\"1\" class=\"dataframe\">\n",
       "  <thead>\n",
       "    <tr style=\"text-align: right;\">\n",
       "      <th>Classe prédite</th>\n",
       "      <th>0</th>\n",
       "      <th>1</th>\n",
       "      <th>2</th>\n",
       "      <th>3</th>\n",
       "      <th>4</th>\n",
       "      <th>5</th>\n",
       "      <th>6</th>\n",
       "      <th>7</th>\n",
       "      <th>8</th>\n",
       "      <th>9</th>\n",
       "    </tr>\n",
       "    <tr>\n",
       "      <th>Classe réelle</th>\n",
       "      <th></th>\n",
       "      <th></th>\n",
       "      <th></th>\n",
       "      <th></th>\n",
       "      <th></th>\n",
       "      <th></th>\n",
       "      <th></th>\n",
       "      <th></th>\n",
       "      <th></th>\n",
       "      <th></th>\n",
       "    </tr>\n",
       "  </thead>\n",
       "  <tbody>\n",
       "    <tr>\n",
       "      <th>0</th>\n",
       "      <td>32</td>\n",
       "      <td>0</td>\n",
       "      <td>0</td>\n",
       "      <td>0</td>\n",
       "      <td>0</td>\n",
       "      <td>0</td>\n",
       "      <td>0</td>\n",
       "      <td>0</td>\n",
       "      <td>0</td>\n",
       "      <td>0</td>\n",
       "    </tr>\n",
       "    <tr>\n",
       "      <th>1</th>\n",
       "      <td>0</td>\n",
       "      <td>54</td>\n",
       "      <td>0</td>\n",
       "      <td>0</td>\n",
       "      <td>0</td>\n",
       "      <td>0</td>\n",
       "      <td>0</td>\n",
       "      <td>0</td>\n",
       "      <td>0</td>\n",
       "      <td>0</td>\n",
       "    </tr>\n",
       "    <tr>\n",
       "      <th>2</th>\n",
       "      <td>0</td>\n",
       "      <td>0</td>\n",
       "      <td>38</td>\n",
       "      <td>0</td>\n",
       "      <td>0</td>\n",
       "      <td>0</td>\n",
       "      <td>0</td>\n",
       "      <td>0</td>\n",
       "      <td>0</td>\n",
       "      <td>0</td>\n",
       "    </tr>\n",
       "    <tr>\n",
       "      <th>3</th>\n",
       "      <td>0</td>\n",
       "      <td>0</td>\n",
       "      <td>0</td>\n",
       "      <td>28</td>\n",
       "      <td>0</td>\n",
       "      <td>0</td>\n",
       "      <td>0</td>\n",
       "      <td>0</td>\n",
       "      <td>0</td>\n",
       "      <td>0</td>\n",
       "    </tr>\n",
       "    <tr>\n",
       "      <th>4</th>\n",
       "      <td>0</td>\n",
       "      <td>0</td>\n",
       "      <td>0</td>\n",
       "      <td>0</td>\n",
       "      <td>41</td>\n",
       "      <td>0</td>\n",
       "      <td>0</td>\n",
       "      <td>0</td>\n",
       "      <td>0</td>\n",
       "      <td>0</td>\n",
       "    </tr>\n",
       "    <tr>\n",
       "      <th>5</th>\n",
       "      <td>0</td>\n",
       "      <td>0</td>\n",
       "      <td>0</td>\n",
       "      <td>0</td>\n",
       "      <td>0</td>\n",
       "      <td>40</td>\n",
       "      <td>1</td>\n",
       "      <td>0</td>\n",
       "      <td>0</td>\n",
       "      <td>2</td>\n",
       "    </tr>\n",
       "    <tr>\n",
       "      <th>6</th>\n",
       "      <td>0</td>\n",
       "      <td>0</td>\n",
       "      <td>0</td>\n",
       "      <td>0</td>\n",
       "      <td>0</td>\n",
       "      <td>0</td>\n",
       "      <td>35</td>\n",
       "      <td>0</td>\n",
       "      <td>0</td>\n",
       "      <td>0</td>\n",
       "    </tr>\n",
       "    <tr>\n",
       "      <th>7</th>\n",
       "      <td>0</td>\n",
       "      <td>0</td>\n",
       "      <td>0</td>\n",
       "      <td>0</td>\n",
       "      <td>0</td>\n",
       "      <td>0</td>\n",
       "      <td>0</td>\n",
       "      <td>27</td>\n",
       "      <td>0</td>\n",
       "      <td>0</td>\n",
       "    </tr>\n",
       "    <tr>\n",
       "      <th>8</th>\n",
       "      <td>0</td>\n",
       "      <td>0</td>\n",
       "      <td>0</td>\n",
       "      <td>0</td>\n",
       "      <td>0</td>\n",
       "      <td>0</td>\n",
       "      <td>0</td>\n",
       "      <td>0</td>\n",
       "      <td>34</td>\n",
       "      <td>0</td>\n",
       "    </tr>\n",
       "    <tr>\n",
       "      <th>9</th>\n",
       "      <td>0</td>\n",
       "      <td>1</td>\n",
       "      <td>0</td>\n",
       "      <td>2</td>\n",
       "      <td>0</td>\n",
       "      <td>1</td>\n",
       "      <td>0</td>\n",
       "      <td>0</td>\n",
       "      <td>0</td>\n",
       "      <td>24</td>\n",
       "    </tr>\n",
       "  </tbody>\n",
       "</table>\n",
       "</div>"
      ],
      "text/plain": [
       "Classe prédite   0   1   2   3   4   5   6   7   8   9\n",
       "Classe réelle                                         \n",
       "0               32   0   0   0   0   0   0   0   0   0\n",
       "1                0  54   0   0   0   0   0   0   0   0\n",
       "2                0   0  38   0   0   0   0   0   0   0\n",
       "3                0   0   0  28   0   0   0   0   0   0\n",
       "4                0   0   0   0  41   0   0   0   0   0\n",
       "5                0   0   0   0   0  40   1   0   0   2\n",
       "6                0   0   0   0   0   0  35   0   0   0\n",
       "7                0   0   0   0   0   0   0  27   0   0\n",
       "8                0   0   0   0   0   0   0   0  34   0\n",
       "9                0   1   0   2   0   1   0   0   0  24"
      ]
     },
     "execution_count": 10,
     "metadata": {},
     "output_type": "execute_result"
    }
   ],
   "source": [
    "y_pred = knn.predict(X_test)\n",
    "pd.crosstab(y_test, y_pred, rownames=['Classe réelle'], colnames=['Classe prédite'])\n"
   ]
  },
  {
   "cell_type": "markdown",
   "metadata": {
    "deletable": false,
    "run_control": {
     "frozen": true
    },
    "tags": []
   },
   "source": [
    "\n",
    ">The model created seems to be fairly efficient on the test set.<br>\n",
    "> On 360 written written figures, only three figures 5 and four digits 9 were poorly classified.\n",
    ">\n",
    "> The model can however be improved, by choosing a different distance, or another number of 'neighbors'.\n",
    "\n",
    "* **(c)** Create a new classifier **`knn_m`**, with K = 5 and the distance 'Manhattan'.\n",
    "\n",
    "\n",
    "* **(d)** Adjust the new classifier to the training set (**`X_train`** and **`y_train`**).\n",
    "\n"
   ]
  },
  {
   "cell_type": "code",
   "execution_count": 11,
   "metadata": {},
   "outputs": [
    {
     "data": {
      "text/html": [
       "<style>#sk-container-id-3 {color: black;background-color: white;}#sk-container-id-3 pre{padding: 0;}#sk-container-id-3 div.sk-toggleable {background-color: white;}#sk-container-id-3 label.sk-toggleable__label {cursor: pointer;display: block;width: 100%;margin-bottom: 0;padding: 0.3em;box-sizing: border-box;text-align: center;}#sk-container-id-3 label.sk-toggleable__label-arrow:before {content: \"▸\";float: left;margin-right: 0.25em;color: #696969;}#sk-container-id-3 label.sk-toggleable__label-arrow:hover:before {color: black;}#sk-container-id-3 div.sk-estimator:hover label.sk-toggleable__label-arrow:before {color: black;}#sk-container-id-3 div.sk-toggleable__content {max-height: 0;max-width: 0;overflow: hidden;text-align: left;background-color: #f0f8ff;}#sk-container-id-3 div.sk-toggleable__content pre {margin: 0.2em;color: black;border-radius: 0.25em;background-color: #f0f8ff;}#sk-container-id-3 input.sk-toggleable__control:checked~div.sk-toggleable__content {max-height: 200px;max-width: 100%;overflow: auto;}#sk-container-id-3 input.sk-toggleable__control:checked~label.sk-toggleable__label-arrow:before {content: \"▾\";}#sk-container-id-3 div.sk-estimator input.sk-toggleable__control:checked~label.sk-toggleable__label {background-color: #d4ebff;}#sk-container-id-3 div.sk-label input.sk-toggleable__control:checked~label.sk-toggleable__label {background-color: #d4ebff;}#sk-container-id-3 input.sk-hidden--visually {border: 0;clip: rect(1px 1px 1px 1px);clip: rect(1px, 1px, 1px, 1px);height: 1px;margin: -1px;overflow: hidden;padding: 0;position: absolute;width: 1px;}#sk-container-id-3 div.sk-estimator {font-family: monospace;background-color: #f0f8ff;border: 1px dotted black;border-radius: 0.25em;box-sizing: border-box;margin-bottom: 0.5em;}#sk-container-id-3 div.sk-estimator:hover {background-color: #d4ebff;}#sk-container-id-3 div.sk-parallel-item::after {content: \"\";width: 100%;border-bottom: 1px solid gray;flex-grow: 1;}#sk-container-id-3 div.sk-label:hover label.sk-toggleable__label {background-color: #d4ebff;}#sk-container-id-3 div.sk-serial::before {content: \"\";position: absolute;border-left: 1px solid gray;box-sizing: border-box;top: 0;bottom: 0;left: 50%;z-index: 0;}#sk-container-id-3 div.sk-serial {display: flex;flex-direction: column;align-items: center;background-color: white;padding-right: 0.2em;padding-left: 0.2em;position: relative;}#sk-container-id-3 div.sk-item {position: relative;z-index: 1;}#sk-container-id-3 div.sk-parallel {display: flex;align-items: stretch;justify-content: center;background-color: white;position: relative;}#sk-container-id-3 div.sk-item::before, #sk-container-id-3 div.sk-parallel-item::before {content: \"\";position: absolute;border-left: 1px solid gray;box-sizing: border-box;top: 0;bottom: 0;left: 50%;z-index: -1;}#sk-container-id-3 div.sk-parallel-item {display: flex;flex-direction: column;z-index: 1;position: relative;background-color: white;}#sk-container-id-3 div.sk-parallel-item:first-child::after {align-self: flex-end;width: 50%;}#sk-container-id-3 div.sk-parallel-item:last-child::after {align-self: flex-start;width: 50%;}#sk-container-id-3 div.sk-parallel-item:only-child::after {width: 0;}#sk-container-id-3 div.sk-dashed-wrapped {border: 1px dashed gray;margin: 0 0.4em 0.5em 0.4em;box-sizing: border-box;padding-bottom: 0.4em;background-color: white;}#sk-container-id-3 div.sk-label label {font-family: monospace;font-weight: bold;display: inline-block;line-height: 1.2em;}#sk-container-id-3 div.sk-label-container {text-align: center;}#sk-container-id-3 div.sk-container {/* jupyter's `normalize.less` sets `[hidden] { display: none; }` but bootstrap.min.css set `[hidden] { display: none !important; }` so we also need the `!important` here to be able to override the default hidden behavior on the sphinx rendered scikit-learn.org. See: https://github.com/scikit-learn/scikit-learn/issues/21755 */display: inline-block !important;position: relative;}#sk-container-id-3 div.sk-text-repr-fallback {display: none;}</style><div id=\"sk-container-id-3\" class=\"sk-top-container\"><div class=\"sk-text-repr-fallback\"><pre>KNeighborsClassifier(metric=&#x27;manhattan&#x27;)</pre><b>In a Jupyter environment, please rerun this cell to show the HTML representation or trust the notebook. <br />On GitHub, the HTML representation is unable to render, please try loading this page with nbviewer.org.</b></div><div class=\"sk-container\" hidden><div class=\"sk-item\"><div class=\"sk-estimator sk-toggleable\"><input class=\"sk-toggleable__control sk-hidden--visually\" id=\"sk-estimator-id-3\" type=\"checkbox\" checked><label for=\"sk-estimator-id-3\" class=\"sk-toggleable__label sk-toggleable__label-arrow\">KNeighborsClassifier</label><div class=\"sk-toggleable__content\"><pre>KNeighborsClassifier(metric=&#x27;manhattan&#x27;)</pre></div></div></div></div></div>"
      ],
      "text/plain": [
       "KNeighborsClassifier(metric='manhattan')"
      ]
     },
     "execution_count": 11,
     "metadata": {},
     "output_type": "execute_result"
    }
   ],
   "source": [
    "knn_m = neighbors.KNeighborsClassifier(n_neighbors=5, metric='manhattan')\n",
    "knn_m.fit(X_train, y_train)\n",
    "\n",
    "\n"
   ]
  },
  {
   "cell_type": "code",
   "execution_count": 12,
   "metadata": {
    "deletable": false,
    "editable": false,
    "function": "solution"
   },
   "outputs": [
    {
     "data": {
      "text/html": [
       "<style>#sk-container-id-4 {color: black;background-color: white;}#sk-container-id-4 pre{padding: 0;}#sk-container-id-4 div.sk-toggleable {background-color: white;}#sk-container-id-4 label.sk-toggleable__label {cursor: pointer;display: block;width: 100%;margin-bottom: 0;padding: 0.3em;box-sizing: border-box;text-align: center;}#sk-container-id-4 label.sk-toggleable__label-arrow:before {content: \"▸\";float: left;margin-right: 0.25em;color: #696969;}#sk-container-id-4 label.sk-toggleable__label-arrow:hover:before {color: black;}#sk-container-id-4 div.sk-estimator:hover label.sk-toggleable__label-arrow:before {color: black;}#sk-container-id-4 div.sk-toggleable__content {max-height: 0;max-width: 0;overflow: hidden;text-align: left;background-color: #f0f8ff;}#sk-container-id-4 div.sk-toggleable__content pre {margin: 0.2em;color: black;border-radius: 0.25em;background-color: #f0f8ff;}#sk-container-id-4 input.sk-toggleable__control:checked~div.sk-toggleable__content {max-height: 200px;max-width: 100%;overflow: auto;}#sk-container-id-4 input.sk-toggleable__control:checked~label.sk-toggleable__label-arrow:before {content: \"▾\";}#sk-container-id-4 div.sk-estimator input.sk-toggleable__control:checked~label.sk-toggleable__label {background-color: #d4ebff;}#sk-container-id-4 div.sk-label input.sk-toggleable__control:checked~label.sk-toggleable__label {background-color: #d4ebff;}#sk-container-id-4 input.sk-hidden--visually {border: 0;clip: rect(1px 1px 1px 1px);clip: rect(1px, 1px, 1px, 1px);height: 1px;margin: -1px;overflow: hidden;padding: 0;position: absolute;width: 1px;}#sk-container-id-4 div.sk-estimator {font-family: monospace;background-color: #f0f8ff;border: 1px dotted black;border-radius: 0.25em;box-sizing: border-box;margin-bottom: 0.5em;}#sk-container-id-4 div.sk-estimator:hover {background-color: #d4ebff;}#sk-container-id-4 div.sk-parallel-item::after {content: \"\";width: 100%;border-bottom: 1px solid gray;flex-grow: 1;}#sk-container-id-4 div.sk-label:hover label.sk-toggleable__label {background-color: #d4ebff;}#sk-container-id-4 div.sk-serial::before {content: \"\";position: absolute;border-left: 1px solid gray;box-sizing: border-box;top: 0;bottom: 0;left: 50%;z-index: 0;}#sk-container-id-4 div.sk-serial {display: flex;flex-direction: column;align-items: center;background-color: white;padding-right: 0.2em;padding-left: 0.2em;position: relative;}#sk-container-id-4 div.sk-item {position: relative;z-index: 1;}#sk-container-id-4 div.sk-parallel {display: flex;align-items: stretch;justify-content: center;background-color: white;position: relative;}#sk-container-id-4 div.sk-item::before, #sk-container-id-4 div.sk-parallel-item::before {content: \"\";position: absolute;border-left: 1px solid gray;box-sizing: border-box;top: 0;bottom: 0;left: 50%;z-index: -1;}#sk-container-id-4 div.sk-parallel-item {display: flex;flex-direction: column;z-index: 1;position: relative;background-color: white;}#sk-container-id-4 div.sk-parallel-item:first-child::after {align-self: flex-end;width: 50%;}#sk-container-id-4 div.sk-parallel-item:last-child::after {align-self: flex-start;width: 50%;}#sk-container-id-4 div.sk-parallel-item:only-child::after {width: 0;}#sk-container-id-4 div.sk-dashed-wrapped {border: 1px dashed gray;margin: 0 0.4em 0.5em 0.4em;box-sizing: border-box;padding-bottom: 0.4em;background-color: white;}#sk-container-id-4 div.sk-label label {font-family: monospace;font-weight: bold;display: inline-block;line-height: 1.2em;}#sk-container-id-4 div.sk-label-container {text-align: center;}#sk-container-id-4 div.sk-container {/* jupyter's `normalize.less` sets `[hidden] { display: none; }` but bootstrap.min.css set `[hidden] { display: none !important; }` so we also need the `!important` here to be able to override the default hidden behavior on the sphinx rendered scikit-learn.org. See: https://github.com/scikit-learn/scikit-learn/issues/21755 */display: inline-block !important;position: relative;}#sk-container-id-4 div.sk-text-repr-fallback {display: none;}</style><div id=\"sk-container-id-4\" class=\"sk-top-container\"><div class=\"sk-text-repr-fallback\"><pre>KNeighborsClassifier(metric=&#x27;manhattan&#x27;)</pre><b>In a Jupyter environment, please rerun this cell to show the HTML representation or trust the notebook. <br />On GitHub, the HTML representation is unable to render, please try loading this page with nbviewer.org.</b></div><div class=\"sk-container\" hidden><div class=\"sk-item\"><div class=\"sk-estimator sk-toggleable\"><input class=\"sk-toggleable__control sk-hidden--visually\" id=\"sk-estimator-id-4\" type=\"checkbox\" checked><label for=\"sk-estimator-id-4\" class=\"sk-toggleable__label sk-toggleable__label-arrow\">KNeighborsClassifier</label><div class=\"sk-toggleable__content\"><pre>KNeighborsClassifier(metric=&#x27;manhattan&#x27;)</pre></div></div></div></div></div>"
      ],
      "text/plain": [
       "KNeighborsClassifier(metric='manhattan')"
      ]
     },
     "execution_count": 12,
     "metadata": {},
     "output_type": "execute_result"
    }
   ],
   "source": [
    "#Creation of the new classifier and model training\n",
    "knn_m = neighbors.KNeighborsClassifier(n_neighbors=5, metric='manhattan')\n",
    "knn_m.fit(X_train, y_train)\n"
   ]
  },
  {
   "cell_type": "markdown",
   "metadata": {
    "deletable": false,
    "run_control": {
     "frozen": true
    },
    "tags": []
   },
   "source": [
    "\n",
    "* **(e)** Calculate the performance score ('accuracy') for both models.\n",
    "\n"
   ]
  },
  {
   "cell_type": "code",
   "execution_count": 13,
   "metadata": {},
   "outputs": [
    {
     "data": {
      "text/plain": [
       "(0.9805555555555555, 0.9861111111111112)"
      ]
     },
     "execution_count": 13,
     "metadata": {},
     "output_type": "execute_result"
    }
   ],
   "source": [
    "score_minkowski = knn.score(X_test, y_test)\n",
    "\n",
    "score_manhattan = knn_m.score(X_test, y_test)\n",
    "\n",
    "score_minkowski, score_manhattan\n",
    "\n",
    "\n"
   ]
  },
  {
   "cell_type": "code",
   "execution_count": 14,
   "metadata": {
    "deletable": false,
    "editable": false,
    "function": "solution"
   },
   "outputs": [
    {
     "data": {
      "text/plain": [
       "(0.9805555555555555, 0.9861111111111112)"
      ]
     },
     "execution_count": 14,
     "metadata": {},
     "output_type": "execute_result"
    }
   ],
   "source": [
    "#Score of the model using the distance from Minkowski\n",
    "score_minkowski = knn.score(X_test, y_test)\n",
    "\n",
    "#Model of the model using the distance from Manhattan\n",
    "score_manhattan = knn_m.score(X_test, y_test)\n",
    "\n",
    "score_minkowski, score_manhattan\n"
   ]
  },
  {
   "cell_type": "markdown",
   "metadata": {
    "deletable": false,
    "run_control": {
     "frozen": true
    },
    "tags": []
   },
   "source": [
    "\n",
    ">Even if it may seem surprising, the two distances get significantly the same score.<br>\n",
    ">Does this mean that these two distances are so suitable for our data? Is the choice of **k** important?<br>\n",
    "> The best way to answer these questions is to provide a graphic analysis of the performance of the metric models, depending on the choice of **k**.\n",
    "\n",
    "* **(f)** Create three lists **score_minko**, **score_man**, **score_cheb**, in which you will store the scores of 3 models using respectively the matrices of Minkowski, Manhattan and Chebyshev, for values ​​of **k going from 1 to 40**.\n",
    "\n"
   ]
  },
  {
   "cell_type": "code",
   "execution_count": 15,
   "metadata": {},
   "outputs": [],
   "source": [
    "score_minko, score_man, score_cheb = [],[],[]\n",
    "\n",
    "for k in range(1,41):\n",
    "    knn_minko = neighbors.KNeighborsClassifier(n_neighbors=k, metric='minkowski')\n",
    "    knn_minko.fit(X_train, y_train)\n",
    "    score_minko.append(knn_minko.score(X_test, y_test))\n",
    "    \n",
    "    knn_man = neighbors.KNeighborsClassifier(n_neighbors=k, metric='manhattan')\n",
    "    knn_man.fit(X_train, y_train)\n",
    "    score_man.append(knn_man.score(X_test, y_test))\n",
    "    \n",
    "    knn_cheb = neighbors.KNeighborsClassifier(n_neighbors=k, metric='chebyshev')\n",
    "    knn_cheb.fit(X_train, y_train)\n",
    "    score_cheb.append(knn_cheb.score(X_test, y_test))\n",
    "\n",
    "\n",
    "\n",
    "\n"
   ]
  },
  {
   "cell_type": "code",
   "execution_count": 16,
   "metadata": {
    "deletable": false,
    "editable": false,
    "function": "solution"
   },
   "outputs": [],
   "source": [
    "score_minko = []\n",
    "score_man = []\n",
    "score_cheb = []\n",
    "\n",
    "for k in range(1, 41):\n",
    "    knn = neighbors.KNeighborsClassifier(n_neighbors=k)\n",
    "    knn.fit(X_train, y_train)\n",
    "    score_minko.append(knn.score(X_test, y_test))\n",
    "\n",
    "for k in range(1, 41):\n",
    "    knn = neighbors.KNeighborsClassifier(n_neighbors=k, metric='manhattan')\n",
    "    knn.fit(X_train, y_train)\n",
    "    score_man.append(knn.score(X_test, y_test))\n",
    "    \n",
    "for k in range(1, 41):\n",
    "    knn = neighbors.KNeighborsClassifier(n_neighbors=k, metric='chebyshev')\n",
    "    knn.fit(X_train, y_train)\n",
    "    score_cheb.append(knn.score(X_test, y_test))\n"
   ]
  },
  {
   "cell_type": "markdown",
   "metadata": {
    "deletable": false,
    "run_control": {
     "frozen": true
    },
    "tags": []
   },
   "source": [
    "\n",
    "* **(g)** Show in a graph the lists created according to the value of k.\n",
    "\n",
    "\n",
    "* **(h)** Use different colors and legends to differentiate metrics.\n",
    "\n"
   ]
  },
  {
   "cell_type": "code",
   "execution_count": 17,
   "metadata": {},
   "outputs": [
    {
     "data": {
      "image/png": "[encoded data removed]",
      "text/plain": [
       "<Figure size 640x480 with 1 Axes>"
      ]
     },
     "metadata": {},
     "output_type": "display_data"
    }
   ],
   "source": [
    "import matplotlib.pyplot as plt\n",
    "%matplotlib inline\n",
    "\n",
    "plt.plot(range(1, 41), score_minko, color='blue', linestyle='dashed', lw=2, label='Minkowski')\n",
    "plt.plot(range(1, 41), score_man, color='orange', linestyle='dashed', lw=2, label='Manhattan')\n",
    "plt.plot(range(1, 41), score_cheb, color='red', linestyle='dashed', lw=2, label='Chebyshev')\n",
    "plt.title('Score - valeur de K')  \n",
    "plt.xlabel('Valeur de K')  \n",
    "plt.ylabel('Accuracy') \n",
    "plt.legend();\n",
    "\n",
    "\n",
    "\n"
   ]
  },
  {
   "cell_type": "code",
   "execution_count": 18,
   "metadata": {
    "deletable": false,
    "editable": false,
    "function": "solution"
   },
   "outputs": [
    {
     "data": {
      "image/png": "[encoded data removed]",
      "text/plain": [
       "<Figure size 640x480 with 1 Axes>"
      ]
     },
     "metadata": {},
     "output_type": "display_data"
    }
   ],
   "source": [
    "import matplotlib.pyplot as plt\n",
    "%matplotlib inline\n",
    "\n",
    "plt.plot(range(1, 41), score_minko, color='blue', linestyle='dashed', lw=2, label='Minkowski')\n",
    "plt.plot(range(1, 41), score_man, color='orange', linestyle='dashed', lw=2, label='Manhattan')\n",
    "plt.plot(range(1, 41), score_cheb, color='red', linestyle='dashed', lw=2, label='Chebyshev')\n",
    "plt.title('Score - valeur de K')  \n",
    "plt.xlabel('Valeur de K')  \n",
    "plt.ylabel('Accuracy') \n",
    "plt.legend();\n"
   ]
  },
  {
   "cell_type": "markdown",
   "metadata": {
    "deletable": false,
    "run_control": {
     "frozen": true
    },
    "tags": []
   },
   "source": [
    "\n",
    ">The distances of Minkowski and Manhattan give better performance when **k** is small (<10). The Minkowski distance appears more stable, and its rate of correct predictions only decreases from k=20.<br>\n",
    ">The best absolute score is obtained with the distance from Minkowski for a k = 2; 3 or 15.<br>\n",
    ">\n",
    "> Be careful however, the test sample is relatively small and the data sampling gives an important place to the random, these results can therefore vary if we select the test set otherwise. It seems more judicious to choose K = 3 which in addition to obtaining the best score for the distance from Minkowski, presents good performance on other standards.\n",
    "\n",
    "<hr style=\"border-width:2px;border-color:#75DFC1\">\n",
    "<h3 style = \"text-align:center\">Synthesis</h3> \n",
    "<hr style=\"border-width:2px;border-color:#75DFC1\">\n",
    "\n",
    ">The k-NN algorithm is simple but powerful. The advantage is that he does not require any model training to make predictions, when it is generally the most complicated part of a machine learning algorithm.<br>\n",
    "> It is used in many areas, in particular: recognition of forms, compression algorithms, targeted marketing.\n",
    ">\n",
    ">On the other hand, it is a very greedy classifier in memory, sensitive to unrelevant and correlated attributes.<br>\n",
    "For a large dataset, the prediction will be slow because the algorithm travels, for each individual to classify, all the data of the learning sample.\n",
    "\n"
   ]
  }
 ],
 "metadata": {
  "kernelspec": {
   "display_name": "Python 3 (ipykernel)",
   "language": "python",
   "name": "python3"
  },
  "language_info": {
   "codemirror_mode": {
    "name": "ipython",
    "version": 3
   },
   "file_extension": ".py",
   "mimetype": "text/x-python",
   "name": "python",
   "nbconvert_exporter": "python",
   "pygments_lexer": "ipython3",
   "version": "3.9.16"
  },
  "latex_envs": {
   "LaTeX_envs_menu_present": true,
   "autoclose": false,
   "autocomplete": true,
   "bibliofile": "biblio.bib",
   "cite_by": "apalike",
   "current_citInitial": 1,
   "eqLabelWithNumbers": true,
   "eqNumInitial": 1,
   "hotkeys": {
    "equation": "Ctrl-E",
    "itemize": "Ctrl-I"
   },
   "labels_anchors": false,
   "latex_user_defs": false,
   "report_style_numbering": false,
   "user_envs_cfg": false
  },
  "owner": "DataScientest",
  "widgets": {
   "application/vnd.jupyter.widget-state+json": {
    "state": {
     "096314f014da4e60bcbbf6151cb15cd2": {
      "model_module": "@jupyter-widgets/base",
      "model_module_version": "2.0.0",
      "model_name": "LayoutModel",
      "state": {}
     },
     "1118616d253c48e29da6914baa859461": {
      "model_module": "@jupyter-widgets/base",
      "model_module_version": "2.0.0",
      "model_name": "LayoutModel",
      "state": {}
     },
     "1765dcb9b9ed4c32a3343a2c03a97a37": {
      "model_module": "@jupyter-widgets/controls",
      "model_module_version": "2.0.0",
      "model_name": "DropdownModel",
      "state": {
       "_options_labels": [
        "euclidean",
        "manhattan",
        "chebyshev",
        "minkowski",
        "wminkowski",
        "seuclidean",
        "mahalanobis"
       ],
       "description": "Metric",
       "index": 3,
       "layout": "IPY_MODEL_bd96f63e0a274fd98e11d656c8756588",
       "style": "IPY_MODEL_a24f27d29c6b4983a21580f98b0381fc"
      }
     },
     "1c4eabc141ef4e2c859a55b5748c183e": {
      "model_module": "@jupyter-widgets/base",
      "model_module_version": "2.0.0",
      "model_name": "LayoutModel",
      "state": {}
     },
     "26b5afc09bed4a7fadac73f513db09a8": {
      "model_module": "@jupyter-widgets/controls",
      "model_module_version": "2.0.0",
      "model_name": "HTMLModel",
      "state": {
       "layout": "IPY_MODEL_3a2f689058a948cb94cde7dfb736efb6",
       "style": "IPY_MODEL_e2f8c9dbabeb4e2c941ed45752b2a954"
      }
     },
     "383b6014267f4e6298d3177468cca10c": {
      "model_module": "@jupyter-widgets/base",
      "model_module_version": "2.0.0",
      "model_name": "LayoutModel",
      "state": {}
     },
     "39dc3000617743c4855c5762d16679a6": {
      "model_module": "@jupyter-widgets/base",
      "model_module_version": "2.0.0",
      "model_name": "LayoutModel",
      "state": {
       "align_items": "center"
      }
     },
     "3a2f689058a948cb94cde7dfb736efb6": {
      "model_module": "@jupyter-widgets/base",
      "model_module_version": "2.0.0",
      "model_name": "LayoutModel",
      "state": {}
     },
     "45c804df140249469293d6f5ed0297d7": {
      "model_module": "@jupyter-widgets/controls",
      "model_module_version": "2.0.0",
      "model_name": "DropdownModel",
      "state": {
       "_options_labels": [
        "make_classification",
        "make_moons",
        "make_circles"
       ],
       "description": "Dataset",
       "index": 0,
       "layout": "IPY_MODEL_5942dc46d91d4f6d966d213a9c92ed40",
       "style": "IPY_MODEL_9ce4eb2919504a2590c64236d4edd93f"
      }
     },
     "4f0a97b9a24f4d7d82d8db416471dedc": {
      "model_module": "@jupyter-widgets/base",
      "model_module_version": "2.0.0",
      "model_name": "LayoutModel",
      "state": {}
     },
     "525f24102a2d446eaa38ea842f545d4b": {
      "model_module": "@jupyter-widgets/controls",
      "model_module_version": "2.0.0",
      "model_name": "HTMLStyleModel",
      "state": {
       "description_width": "",
       "font_size": null,
       "text_color": null
      }
     },
     "533b8dc8f14a4e9bb4d1206d69f9b897": {
      "model_module": "@jupyter-widgets/controls",
      "model_module_version": "2.0.0",
      "model_name": "HTMLModel",
      "state": {
       "layout": "IPY_MODEL_383b6014267f4e6298d3177468cca10c",
       "style": "IPY_MODEL_c6acbc4ff03f49fd8917e394d521d53a"
      }
     },
     "5942dc46d91d4f6d966d213a9c92ed40": {
      "model_module": "@jupyter-widgets/base",
      "model_module_version": "2.0.0",
      "model_name": "LayoutModel",
      "state": {}
     },
     "5a406ef405844e4c90d4657cd3bdbdb4": {
      "model_module": "@jupyter-widgets/controls",
      "model_module_version": "2.0.0",
      "model_name": "HTMLStyleModel",
      "state": {
       "description_width": "",
       "font_size": null,
       "text_color": null
      }
     },
     "6475f204ea514b268a078181490201b9": {
      "model_module": "@jupyter-widgets/controls",
      "model_module_version": "2.0.0",
      "model_name": "HTMLStyleModel",
      "state": {
       "description_width": "",
       "font_size": null,
       "text_color": null
      }
     },
     "67770412236e4fb48de6f865164e0a86": {
      "model_module": "@jupyter-widgets/controls",
      "model_module_version": "2.0.0",
      "model_name": "VBoxModel",
      "state": {
       "children": [
        "IPY_MODEL_ff618e1718cf4aabbf2f5bb260a71445",
        "IPY_MODEL_c4b7a6435372412fac71f12ba404562f",
        "IPY_MODEL_45c804df140249469293d6f5ed0297d7",
        "IPY_MODEL_533b8dc8f14a4e9bb4d1206d69f9b897",
        "IPY_MODEL_8c7f4c9b034341b8982e837dd53f3438",
        "IPY_MODEL_eb09e0902b9a4bde9339f49afff3bb73",
        "IPY_MODEL_ff1f8ba300ef4a7ea865ee8f397ece52",
        "IPY_MODEL_7afdccf5b99a4743b08e7ca787b07237",
        "IPY_MODEL_aeebd9f48c6a46bf97ce6bf3011f5132",
        "IPY_MODEL_1765dcb9b9ed4c32a3343a2c03a97a37"
       ],
       "layout": "IPY_MODEL_39dc3000617743c4855c5762d16679a6"
      }
     },
     "6ecfec710ba34b6ba951c6a7afdce0d2": {
      "model_module": "@jupyter-widgets/controls",
      "model_module_version": "2.0.0",
      "model_name": "HTMLStyleModel",
      "state": {
       "description_width": "",
       "font_size": null,
       "text_color": null
      }
     },
     "7afdccf5b99a4743b08e7ca787b07237": {
      "model_module": "@jupyter-widgets/controls",
      "model_module_version": "2.0.0",
      "model_name": "HTMLModel",
      "state": {
       "layout": "IPY_MODEL_7cc5cf9a1cc4468dadc4273865ef42c8",
       "style": "IPY_MODEL_de0b0384be9d4885a4f6c7465d57aeb7"
      }
     },
     "7cc5cf9a1cc4468dadc4273865ef42c8": {
      "model_module": "@jupyter-widgets/base",
      "model_module_version": "2.0.0",
      "model_name": "LayoutModel",
      "state": {}
     },
     "7eaee5b3a67c4277ab611ee460e3f94f": {
      "model_module": "@jupyter-widgets/base",
      "model_module_version": "2.0.0",
      "model_name": "LayoutModel",
      "state": {}
     },
     "8b14536a731241ba98306603d3d6b3db": {
      "model_module": "@jupyter-widgets/base",
      "model_module_version": "2.0.0",
      "model_name": "LayoutModel",
      "state": {}
     },
     "8b68dcf8f4274d228fa8c770ee72c67d": {
      "model_module": "@jupyter-widgets/base",
      "model_module_version": "2.0.0",
      "model_name": "LayoutModel",
      "state": {}
     },
     "8c7f4c9b034341b8982e837dd53f3438": {
      "model_module": "@jupyter-widgets/controls",
      "model_module_version": "2.0.0",
      "model_name": "HTMLModel",
      "state": {
       "layout": "IPY_MODEL_4f0a97b9a24f4d7d82d8db416471dedc",
       "style": "IPY_MODEL_920d954dbf194dc3ae6851c33e14f416"
      }
     },
     "920d954dbf194dc3ae6851c33e14f416": {
      "model_module": "@jupyter-widgets/controls",
      "model_module_version": "2.0.0",
      "model_name": "HTMLStyleModel",
      "state": {
       "description_width": "",
       "font_size": null,
       "text_color": null
      }
     },
     "95ad3074b40a47efb097be560b1a61e3": {
      "model_module": "@jupyter-widgets/base",
      "model_module_version": "2.0.0",
      "model_name": "LayoutModel",
      "state": {
       "align_items": "center",
       "display": "flex",
       "flex_flow": "column"
      }
     },
     "96983029f0654d3ca749ef9cffa96a1b": {
      "model_module": "@jupyter-widgets/controls",
      "model_module_version": "2.0.0",
      "model_name": "HTMLStyleModel",
      "state": {
       "description_width": "",
       "font_size": null,
       "text_color": null
      }
     },
     "96a60761cde94343ac2c73ab83e9d553": {
      "model_module": "@jupyter-widgets/controls",
      "model_module_version": "2.0.0",
      "model_name": "HBoxModel",
      "state": {
       "children": [
        "IPY_MODEL_a1269b9165264e6fbdac4826477f8e64",
        "IPY_MODEL_a9fec5b4806f4c5cab6a69b78ea3c654"
       ],
       "layout": "IPY_MODEL_c1b95456bf0f4c7d97570a0724b54e4a"
      }
     },
     "9ce4eb2919504a2590c64236d4edd93f": {
      "model_module": "@jupyter-widgets/controls",
      "model_module_version": "2.0.0",
      "model_name": "DescriptionStyleModel",
      "state": {
       "description_width": ""
      }
     },
     "9d27df1a7f6c421a8cef88e0d5f2e304": {
      "model_module": "@jupyter-widgets/controls",
      "model_module_version": "2.0.0",
      "model_name": "ButtonModel",
      "state": {
       "description": "Generate",
       "layout": "IPY_MODEL_95ad3074b40a47efb097be560b1a61e3",
       "style": "IPY_MODEL_fcb32335d9bd4e75a41299a92e0840ea",
       "tooltip": null
      }
     },
     "a1269b9165264e6fbdac4826477f8e64": {
      "model_module": "@jupyter-widgets/output",
      "model_module_version": "1.0.0",
      "model_name": "OutputModel",
      "state": {
       "layout": "IPY_MODEL_8b14536a731241ba98306603d3d6b3db",
       "outputs": [
        {
         "data": {
          "image/png": "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",
          "text/plain": "<Figure size 640x480 with 1 Axes>"
         },
         "metadata": {},
         "output_type": "display_data"
        }
       ]
      }
     },
     "a24f27d29c6b4983a21580f98b0381fc": {
      "model_module": "@jupyter-widgets/controls",
      "model_module_version": "2.0.0",
      "model_name": "DescriptionStyleModel",
      "state": {
       "description_width": ""
      }
     },
     "a9fec5b4806f4c5cab6a69b78ea3c654": {
      "model_module": "@jupyter-widgets/controls",
      "model_module_version": "2.0.0",
      "model_name": "VBoxModel",
      "state": {
       "children": [
        "IPY_MODEL_67770412236e4fb48de6f865164e0a86",
        "IPY_MODEL_cda408d22b3e4cc79f4ff4d867541581",
        "IPY_MODEL_b5f863e32cfd4a2fba7e2cae6775d817",
        "IPY_MODEL_26b5afc09bed4a7fadac73f513db09a8",
        "IPY_MODEL_9d27df1a7f6c421a8cef88e0d5f2e304"
       ],
       "layout": "IPY_MODEL_b1710b0c419d467e8c794e85efc7dc81"
      }
     },
     "aeebd9f48c6a46bf97ce6bf3011f5132": {
      "model_module": "@jupyter-widgets/controls",
      "model_module_version": "2.0.0",
      "model_name": "FloatTextModel",
      "state": {
       "description": "n_neighbors",
       "layout": "IPY_MODEL_096314f014da4e60bcbbf6151cb15cd2",
       "step": 1,
       "style": "IPY_MODEL_c4c17034a62e41cab997a09d8e4f5ae3",
       "value": 5
      }
     },
     "b0a76be9e9de4393a9bf8a32398104e4": {
      "model_module": "@jupyter-widgets/base",
      "model_module_version": "2.0.0",
      "model_name": "LayoutModel",
      "state": {}
     },
     "b1710b0c419d467e8c794e85efc7dc81": {
      "model_module": "@jupyter-widgets/base",
      "model_module_version": "2.0.0",
      "model_name": "LayoutModel",
      "state": {
       "align_items": "center"
      }
     },
     "b1efd15456b64aea9085655ddf68549e": {
      "model_module": "@jupyter-widgets/controls",
      "model_module_version": "2.0.0",
      "model_name": "HTMLStyleModel",
      "state": {
       "description_width": "",
       "font_size": null,
       "text_color": null
      }
     },
     "b5f863e32cfd4a2fba7e2cae6775d817": {
      "model_module": "@jupyter-widgets/controls",
      "model_module_version": "2.0.0",
      "model_name": "HTMLModel",
      "state": {
       "layout": "IPY_MODEL_8b68dcf8f4274d228fa8c770ee72c67d",
       "style": "IPY_MODEL_5a406ef405844e4c90d4657cd3bdbdb4"
      }
     },
     "bd96f63e0a274fd98e11d656c8756588": {
      "model_module": "@jupyter-widgets/base",
      "model_module_version": "2.0.0",
      "model_name": "LayoutModel",
      "state": {}
     },
     "c1b95456bf0f4c7d97570a0724b54e4a": {
      "model_module": "@jupyter-widgets/base",
      "model_module_version": "2.0.0",
      "model_name": "LayoutModel",
      "state": {
       "align_items": "center"
      }
     },
     "c4b7a6435372412fac71f12ba404562f": {
      "model_module": "@jupyter-widgets/controls",
      "model_module_version": "2.0.0",
      "model_name": "HTMLModel",
      "state": {
       "layout": "IPY_MODEL_7eaee5b3a67c4277ab611ee460e3f94f",
       "style": "IPY_MODEL_6ecfec710ba34b6ba951c6a7afdce0d2"
      }
     },
     "c4c17034a62e41cab997a09d8e4f5ae3": {
      "model_module": "@jupyter-widgets/controls",
      "model_module_version": "2.0.0",
      "model_name": "DescriptionStyleModel",
      "state": {
       "description_width": ""
      }
     },
     "c6acbc4ff03f49fd8917e394d521d53a": {
      "model_module": "@jupyter-widgets/controls",
      "model_module_version": "2.0.0",
      "model_name": "HTMLStyleModel",
      "state": {
       "description_width": "",
       "font_size": null,
       "text_color": null
      }
     },
     "cda408d22b3e4cc79f4ff4d867541581": {
      "model_module": "@jupyter-widgets/controls",
      "model_module_version": "2.0.0",
      "model_name": "HTMLModel",
      "state": {
       "layout": "IPY_MODEL_1c4eabc141ef4e2c859a55b5748c183e",
       "style": "IPY_MODEL_525f24102a2d446eaa38ea842f545d4b"
      }
     },
     "de0b0384be9d4885a4f6c7465d57aeb7": {
      "model_module": "@jupyter-widgets/controls",
      "model_module_version": "2.0.0",
      "model_name": "HTMLStyleModel",
      "state": {
       "description_width": "",
       "font_size": null,
       "text_color": null
      }
     },
     "e2f8c9dbabeb4e2c941ed45752b2a954": {
      "model_module": "@jupyter-widgets/controls",
      "model_module_version": "2.0.0",
      "model_name": "HTMLStyleModel",
      "state": {
       "description_width": "",
       "font_size": null,
       "text_color": null
      }
     },
     "eb09e0902b9a4bde9339f49afff3bb73": {
      "model_module": "@jupyter-widgets/controls",
      "model_module_version": "2.0.0",
      "model_name": "HTMLModel",
      "state": {
       "layout": "IPY_MODEL_b0a76be9e9de4393a9bf8a32398104e4",
       "style": "IPY_MODEL_b1efd15456b64aea9085655ddf68549e"
      }
     },
     "f68cfb4d35754783af669ece48992bb9": {
      "model_module": "@jupyter-widgets/base",
      "model_module_version": "2.0.0",
      "model_name": "LayoutModel",
      "state": {}
     },
     "fcb32335d9bd4e75a41299a92e0840ea": {
      "model_module": "@jupyter-widgets/controls",
      "model_module_version": "2.0.0",
      "model_name": "ButtonStyleModel",
      "state": {
       "font_family": null,
       "font_size": null,
       "font_style": null,
       "font_variant": null,
       "font_weight": null,
       "text_color": null,
       "text_decoration": null
      }
     },
     "ff1f8ba300ef4a7ea865ee8f397ece52": {
      "model_module": "@jupyter-widgets/controls",
      "model_module_version": "2.0.0",
      "model_name": "HTMLModel",
      "state": {
       "layout": "IPY_MODEL_f68cfb4d35754783af669ece48992bb9",
       "style": "IPY_MODEL_6475f204ea514b268a078181490201b9",
       "value": "<b>Hyperparameters</b>"
      }
     },
     "ff618e1718cf4aabbf2f5bb260a71445": {
      "model_module": "@jupyter-widgets/controls",
      "model_module_version": "2.0.0",
      "model_name": "HTMLModel",
      "state": {
       "layout": "IPY_MODEL_1118616d253c48e29da6914baa859461",
       "style": "IPY_MODEL_96983029f0654d3ca749ef9cffa96a1b",
       "value": "<b>Datasets</b>"
      }
     }
    },
    "version_major": 2,
    "version_minor": 0
   }
  }
 },
 "nbformat": 4,
 "nbformat_minor": 4
}
