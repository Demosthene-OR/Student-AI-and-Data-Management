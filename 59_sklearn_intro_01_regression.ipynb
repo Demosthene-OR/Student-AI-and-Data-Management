{
 "cells": [
  {
   "cell_type": "markdown",
   "metadata": {
    "deletable": false,
    "editable": false,
    "run_control": {
     "frozen": true
    }
   },
   "source": [
    "\n",
    "<img src=\"https://datascientest.fr/train/assets/logo_datascientest.png\" style=\"height:200px\">\n",
    "\n",
    "<hr style=\"border-width:2px;border-color:#75DFC1\">\n",
    "<center><h1> Introduction au Machine Learning avec scikit-learn </h1></center>\n",
    "<center><h2> Régression linéaire </h2></center>\n",
    "<hr style=\"border-width:2px;border-color:#75DFC1\">\n",
    "\n",
    "\n",
    "\n",
    "## Introduction\n",
    "\n",
    "> Ce notebook introduit les concepts du Machine Learning et plus particulièrement de la régression linéaire, afin de montrer à quel point Python est un langage de programmation adapté aux problématiques d'apprentissage automatique. Tous ces concepts seront présentés plus en détails et mis en pratique dans les modules dédiés au Machine Learning.\n",
    ">\n",
    "> Le Machine Learning est un sous-domaine de l'Intelligence Artificielle, qui donne la capacité à l'ordinateur d'apprendre à effectuer automatiquement des tâches à partir de données. Quand la tâche à effectuer est la prédiction d'une variable, nous parlons d'apprentissage supervisé.\n",
    ">\n",
    "> La régression linéaire est l'un des premiers modèles prédictifs d'apprentissage supervisé à avoir été étudié. Ce modèle permet de prédire une variable quantitative. C'est aujourd'hui le modèle le plus populaire pour les applications pratiques grâce à sa simplicité.\n",
    ">\n",
    "> Dans le modèle de régression linénaire, nous disposons de $y$ la variable quantitative à prédire (appelée variable cible) et de variables explicatives permettant la prédiction.\n",
    "\n",
    "### Régression Linéaire Univariée\n",
    "\n",
    "> Dans le modèle linéaire univarié, nous disposons de deux variables, $y$ appelée variable cible ou *target* et $x$ appelée variable *explicative*. <br>\n",
    "> La régression linéaire consiste à modéliser le lien entre ces deux variables par une fonction affine. Ainsi, la formule du modèle linéaire univarié est donnée par :\n",
    "> $$y \\approx \\beta_1 x + \\beta_0 $$\n",
    "> où :\n",
    ">> * $y$ est la variable que nous voulons prédire.\n",
    ">>\n",
    ">>\n",
    ">> * $x$ est la variable explicative.\n",
    ">>\n",
    ">>\n",
    ">> * $\\beta_1$ et $\\beta_0$ sont les paramètres de la fonction affine. $\\beta_1$ définira sa **pente** et $\\beta_0$ définira son ordonnée à l'origine (également appelée **biais**).\n",
    ">\n",
    "> **Le but de la régression linéaire est d'estimer les meilleurs paramètres $\\beta_0$ et $\\beta_1$ pour prédire la variable $y$ à partir d'une valeur donnée de $x$**.\n",
    ">\n",
    "> Pour avoir une intuition de la Régression Linéaire Univariée, regardons l'exemple interactif ci-dessous.\n",
    "\n",
    "* **(a)** Exécuter la cellule suivante pour afficher la figure interactive. Dans cette figure, nous avons simulé un jeu de données.\n",
    "\n",
    "\n",
    "* **(b)** Essayez de trouver à l'aide des curseurs de l'onglet `Régression` les paramètres $\\beta_0$ et $\\beta_1$ qui se rapprochent le mieux de tous les points de l'ensemble de données.\n",
    "\n",
    "\n",
    "* **(c)** Quel est l'effet de chacun des paramètres sur la fonction de régression ? \n",
    "\n"
   ]
  },
  {
   "cell_type": "code",
   "execution_count": null,
   "metadata": {
    "deletable": false,
    "editable": false
   },
   "outputs": [],
   "source": [
    "from widgets import regression_widget\n",
    "\n",
    "regression_widget()\n"
   ]
  },
  {
   "cell_type": "markdown",
   "metadata": {
    "deletable": false,
    "editable": false,
    "run_control": {
     "frozen": true
    }
   },
   "source": [
    "\n",
    "###  Régression Linéaire Multiple\n",
    "\n",
    "> La régression linéaire multiple consiste à modéliser le lien entre une variable cible $y$ et **plusieurs variables explicatives** $x_1$, $x_2$, ... ,$x_p$, souvent appelées *features* en anglais :\n",
    "> $$\n",
    "\\begin{align}\n",
    "    y & \\approx β_0 + β_1 x_1 + β_2 x_2 + ⋯ + β_p x_p \\\\\n",
    "      & \\approx β_0+ \\sum_{j=1}^{p} β_j x_j \n",
    "\\end{align}\n",
    "$$\n",
    ">\n",
    "> Il y a maintenant $p + 1$ paramètres $\\beta_j$ à trouver.\n",
    "\n",
    "\n",
    "## Utilisation de scikit-learn pour la régression linéaire\n",
    "\n",
    "> Nous allons maintenant apprendre à utiliser la bibliothèque **`scikit-learn`** afin de résoudre un problème de Machine Learning. Nous verrons notamment à quel point cette librairie est utile pour préparer les données puis pour mettre en place des modèles.\n",
    ">\n",
    "> Nous nous plaçons dans le cadre d'un projet donc l'objectif est de prédire le **prix de vente d'une voiture** en fonction de ses **caractéristiques**. La variable à prédire est quantitative et nous faisons donc face à une problématique de régression.\n",
    "\n",
    "### Importation du jeu de données \n",
    "\n",
    "> Le jeu de données que nous utiliserons dans la suite contient de nombreuses caractéristiques à propos de différentes voitures de 1985.\n",
    ">\n",
    "> Par simplicité, seules les variables numériques ont été gardées et les lignes comprenant des valeurs manquantes ont été supprimées.\n",
    "\n",
    "* **(a)** Importer le module `pandas` sous l'alias `pd`.\n",
    "\n",
    "\n",
    "* **(b)** Dans un `DataFrame` nommé `df`, importer le jeu de données `automobiles.csv` à l'aide de la fonction `read_csv` de `pandas`. Ce fichier se trouve dans le même dossier que l'environnement d'exécution de ce notebook.\n",
    "\n",
    "\n",
    "* **(c)** Afficher les 5 premières lignes de `df` pour vérifier que l'importation s'est bien déroulée.\n",
    "\n"
   ]
  },
  {
   "cell_type": "code",
   "execution_count": null,
   "metadata": {},
   "outputs": [],
   "source": [
    "# Insérez votre code ici\n",
    "\n",
    "\n",
    "\n"
   ]
  },
  {
   "cell_type": "code",
   "execution_count": null,
   "metadata": {
    "deletable": false,
    "editable": false,
    "function": "solution"
   },
   "outputs": [],
   "source": [
    "import pandas as pd\n",
    "\n",
    "df = pd.read_csv(\"automobiles.csv\")\n",
    "df.head(5)\n"
   ]
  },
  {
   "cell_type": "markdown",
   "metadata": {
    "deletable": false,
    "editable": false,
    "run_control": {
     "frozen": true
    }
   },
   "source": [
    "\n",
    "> * La variable `symboling` correspond au degré de risque vis-à-vis de l'assureur (risque d'accident, panne, etc).\n",
    ">\n",
    ">\n",
    "> * La variable `normalized_losses` est le coût moyen relatif par an d'assurance du véhicule. Cette valeur est normalisée par rapport aux voitures de même type (SUV, utilitaire, sportive, etc).\n",
    ">\n",
    ">\n",
    "> * Les 13 variables suivantes concernent les caractéristiques techniques des voitures comme la largeur, la longueur, la cylindrée du moteur, la puissance en chevaux, etc.<br>\n",
    ">\n",
    ">\n",
    "> * La dernière variable `price` correspond au prix de vente du véhicule. C'est la variable que nous chercherons à prédire.\n",
    "\n",
    "\n",
    "### Séparation des variables explicatives de la variable cible\n",
    "\n",
    "> Nous allons maintenant créer deux `DataFrames`, un contenant les variables explicatives et un autre contenant la variable cible `price`.\n",
    "\n",
    "* **(d)** Dans un `DataFrame` nommé `X`, faire une copie des variables explicatives de notre jeu de données, c'est-à-dire toutes les variables **sauf** `price`.\n",
    "\n",
    "\n",
    "* **(e)** Dans une `Series` nommé `y`, faire une copie de la variable cible `price`.\n",
    "\n"
   ]
  },
  {
   "cell_type": "code",
   "execution_count": null,
   "metadata": {},
   "outputs": [],
   "source": [
    "# Insérez votre code ici\n",
    "\n",
    "\n",
    "\n"
   ]
  },
  {
   "cell_type": "code",
   "execution_count": null,
   "metadata": {
    "deletable": false,
    "editable": false,
    "function": "solution"
   },
   "outputs": [],
   "source": [
    "# Variables explicatives\n",
    "X = df.drop(['price'], axis = 1)\n",
    "\n",
    "# Variable cible\n",
    "y = df['price']\n"
   ]
  },
  {
   "cell_type": "markdown",
   "metadata": {
    "deletable": false,
    "editable": false,
    "run_control": {
     "frozen": true
    }
   },
   "source": [
    "\n",
    "### Séparation des données en jeu d'entraînement et de test\n",
    "\n",
    "> Nous allons maintenant séparer notre jeu de données en deux parties. Une partie d'**entraînement** et une partie de **test**. Cette étape est **extrêmement** importante en Data Science.\n",
    ">\n",
    "> En effet, comme leurs noms l'indiquent : \n",
    ">> * la partie d'entraînement sert à « entraîner » le modèle, c'est-à-dire trouver les paramètres $\\beta_0$, ..., $\\beta_p$ optimaux pour ce jeu de données.\n",
    ">>\n",
    ">>\n",
    ">> * la partie de test sert à « tester » le modèle entraîné en évaluant sa capacité à **généraliser** ses prédictions sur des données qu'il n'a encore **jamais vues**.\n",
    ">\n",
    "> Une fonction très utile pour effectuer cette opération est la fonction `train_test_split` du sous-module `model_selection` de **`scikit-learn`**.\n",
    "\n",
    "* **(f)** Exécuter la cellule suivante pour importer la fonction `train_test_split`.\n",
    "\n"
   ]
  },
  {
   "cell_type": "code",
   "execution_count": null,
   "metadata": {
    "deletable": false,
    "editable": false
   },
   "outputs": [],
   "source": [
    "from sklearn.model_selection import train_test_split\n"
   ]
  },
  {
   "cell_type": "markdown",
   "metadata": {
    "deletable": false,
    "editable": false,
    "run_control": {
     "frozen": true
    }
   },
   "source": [
    "\n",
    "> Cette fonction s'utilise ainsi :\n",
    ">\n",
    "> ```python\n",
    "    X_train, X_test, y_train, y_test = train_test_split(X, y, test_size = 0.2, random_state = 42)\n",
    "> ```\n",
    ">\n",
    ">> * `X_train` et `y_train` sont les variables explicatives et cible du jeu de données d'**entraînement**.\n",
    ">>\n",
    ">>\n",
    ">> * `X_test` et `y_test` sont les variables explicatives et cible du jeu de données de **test**.\n",
    ">>\n",
    ">>\n",
    ">> * L'argument `test_size` correspond à la **proportion** du jeu de données que nous voulons garder pour le jeu de test. Dans l'exemple précédent, cette proportion correspond à 20% du jeu de données initial.\n",
    ">>\n",
    ">>\n",
    ">> * L'argument `random_state` permet de s'assurer que le découpage des données puisse être reproduit. En effet, l'opération étant aléatoire, 2 découpages successifs donneront en théorie 2 résultats différents. Tant que la valeur du `random_state` est la même (peu importe cette valeur), le résultat de la fonction train_test_split restera le même.\n",
    "\n",
    "* **(g)** À l'aide de la fonction `train_test_split`, séparer le jeu de données en une partie d'entraînement (`X_train`,`y_train`)  et une partie de test (`X_test`, `y_test`) de sorte que la partie de test contienne **15% du jeu de données initial**. Préciser le paramètre `random_state = 42`.\n",
    "\n"
   ]
  },
  {
   "cell_type": "code",
   "execution_count": null,
   "metadata": {},
   "outputs": [],
   "source": [
    "# Insérez votre code ici\n",
    "\n",
    "\n",
    "\n"
   ]
  },
  {
   "cell_type": "code",
   "execution_count": null,
   "metadata": {
    "deletable": false,
    "editable": false,
    "function": "solution"
   },
   "outputs": [],
   "source": [
    "# Séparation des données en jeu d'entraînement (85%) et en jeu de test (15%)\n",
    "X_train, X_test, y_train, y_test = train_test_split(X, y, test_size=0.15, random_state = 42)\n",
    "\n",
    "\n"
   ]
  },
  {
   "cell_type": "markdown",
   "metadata": {
    "deletable": false,
    "editable": false,
    "run_control": {
     "frozen": true
    }
   },
   "source": [
    "\n",
    "### Création du modèle de régression\n",
    "\n",
    "> Pour entraîner un modèle de régression linéaire sur ce jeu de données, nous allons utiliser la classe **`LinearRegression`** contenue dans le sous-module `linear_model` de `scikit-learn`. \n",
    "\n",
    "* **(h)** Exécuter la cellule suivante pour importer la classe `LinearRegression`.\n",
    "\n"
   ]
  },
  {
   "cell_type": "code",
   "execution_count": null,
   "metadata": {
    "deletable": false,
    "editable": false
   },
   "outputs": [],
   "source": [
    "from sklearn.linear_model import LinearRegression\n"
   ]
  },
  {
   "cell_type": "markdown",
   "metadata": {
    "deletable": false,
    "editable": false,
    "run_control": {
     "frozen": true
    }
   },
   "source": [
    "\n",
    "> L'API de `scikit-learn` permet d'entraîner et évaluer des modèles très facilement. Toutes les classes de modèles de scikit-learn disposent des deux méthodes suivantes :\n",
    ">> * **`fit`** : Entraîne le modèle sur un jeu de données. \n",
    ">>\n",
    ">>\n",
    ">> * **`predict`** : Effectue une prédiction à partir de variables explicatives. \n",
    ">\n",
    "> Voici un exemple d'utilisation d'un modèle avec scikit-learn :\n",
    "> \n",
    "> ```python\n",
    "># Instanciation du modèle\n",
    "> linreg = LinearRegression()      \n",
    ">    \n",
    "># Entraînement du modèle sur le jeu d'entraînement\n",
    "> linreg.fit(X_train, y_train)        \n",
    ">  \n",
    "># Prédiction de la variable cible pour le jeu de données test. Ces prédictions sont stockées dans y_pred\n",
    "> y_pred = linreg.predict(X_test)                                           \n",
    ">    ```\n",
    "\n",
    "* **(i)** Instancier un modèle `LinearRegression` nommé **`lr`**.\n",
    "\n",
    "\n",
    "* **(j)** Entraîner `lr` sur le jeu de données d'entraînement.\n",
    "\n",
    "\n",
    "* **(k)** Effectuer une prédiction sur les données d'entraînement. Stocker ces prédictions dans `y_pred_train`.\n",
    "\n",
    "\n",
    "* **(l)** Effectuer une prédiction sur les données de test. Stocker ces prédictions dans `y_pred_test`.\n",
    "\n"
   ]
  },
  {
   "cell_type": "code",
   "execution_count": null,
   "metadata": {},
   "outputs": [],
   "source": [
    "# Insérez votre code ici\n",
    "\n",
    "\n",
    "\n"
   ]
  },
  {
   "cell_type": "code",
   "execution_count": null,
   "metadata": {
    "deletable": false,
    "editable": false,
    "function": "solution"
   },
   "outputs": [],
   "source": [
    "# Instantiation du modèle\n",
    "lr = LinearRegression()\n",
    "\n",
    "# Entraînement du modèle\n",
    "lr.fit(X_train, y_train)\n",
    "\n",
    "# Prédiction de la variable cible pour le jeu de données TRAIN\n",
    "y_pred_train = lr.predict(X_train)\n",
    "\n",
    "# Prédiction de la variable cible pour le jeu de données TEST\n",
    "y_pred_test = lr.predict(X_test)\n"
   ]
  },
  {
   "cell_type": "markdown",
   "metadata": {
    "deletable": false,
    "editable": false,
    "run_control": {
     "frozen": true
    }
   },
   "source": [
    "\n",
    "### Evaluation de la performance du modèle\n",
    "\n",
    "> Afin d'évaluer la **qualité des prédictions du modèle** obtenues grâce aux paramètres $\\beta_0$, ..., $\\beta_j$, il existe plusieurs métriques (ou *metrics* en anglais) dans la bibliothèque `scikit-learn`.\n",
    ">\n",
    "> L'une des métriques les plus utilisées pour la régression est l'**Erreur Quadratique Moyenne** (ou *Mean Squared Error* en anglais) qui existe sous le nom de `mean_squared_error` dans le sous-module `metrics` de `scikit-learn`.\n",
    ">\n",
    "> Cette fonction consiste à calculer la moyenne des écarts entre les **vraies valeurs** de la variable cible et les **valeurs prédites** grâce à la fonction de régression. L'erreur quadratique moyenne n'est en fait que la moyenne de ces distances élevées au carré.\n",
    ">\n",
    "> La fonction `mean_squared_error` de `scikit-learn` s'utilise ainsi :\n",
    ">\n",
    "> ```python\n",
    "    mean_squared_error(y_true, y_pred)\n",
    "> ```\n",
    "> où :\n",
    ">> * `y_true` correspond aux vraies valeurs de la variable cible.\n",
    ">>\n",
    ">>\n",
    ">> * `y_pred` correspond aux valeurs prédites par notre modèle.\n",
    "\n",
    "* **(o)** Importer la fonction **`mean_squared_error`** à partir du sous-module `sklearn.metrics`.\n",
    "\n",
    "\n",
    "* **(p)** Évaluer la qualité de prédiction du modèle sur **les données d'entraînement**. Stocker le résultat dans une variable nommée `mse_train`.\n",
    "\n",
    "\n",
    "* **(q)** Évaluer la qualité de prédiction du modèle sur **les données de test**. Stocker le résultat dans une variable nommée `mse_test`."
   ]
  },
  {
   "cell_type": "code",
   "execution_count": null,
   "metadata": {},
   "outputs": [],
   "source": [
    "# Insérez votre code ici\n",
    "\n",
    "\n",
    "\n"
   ]
  },
  {
   "cell_type": "code",
   "execution_count": null,
   "metadata": {
    "deletable": false,
    "editable": false,
    "function": "solution"
   },
   "outputs": [],
   "source": [
    "from sklearn.metrics import mean_squared_error\n",
    "\n",
    "# Calcul de la MSE entre les valeurs de la variable cible du jeu de données train et la prédiction sur X_train\n",
    "mse_train = mean_squared_error(y_train, y_pred_train)\n",
    "\n",
    "# Calcul de la MSE entre les valeurs de la variable cible du jeu de données test et la prédiction sur X_test\n",
    "mse_test = mean_squared_error(y_test, y_pred_test)\n",
    "\n",
    "print(\"MSE train lr:\", mse_train)\n",
    "print(\"MSE test lr:\", mse_test)\n"
   ]
  },
  {
   "cell_type": "markdown",
   "metadata": {
    "deletable": false,
    "editable": false,
    "run_control": {
     "frozen": true
    }
   },
   "source": [
    "> L'erreur quadratique moyenne que vous trouverez devrait être de plusieurs millions sur les données de test, ce qui peut être difficile à interpréter. \n",
    ">\n",
    "> C'est pourquoi nous allons utiliser une autre métrique, l'**erreur absolue moyenne** (*Mean Absolute Error* en anglais) qui calcule directement les écarts en valeur absolue entre les vraies valeurs de la variable cible et les valeurs prédites.\n",
    "\n",
    "* **(s)** Importer la fonction `mean_absolute_error` à partir du sous-module `sklearn.metrics`.\n",
    "\n",
    "\n",
    "* **(t)** Évaluer la qualité de prédiction sur les données de test et d'entraînement à l'aide de l'erreur absolue moyenne. \n",
    "\n",
    "\n",
    "* **(u)** À partir du `DataFrame` `df`, calculer le prix d'achat moyen sur tous les véhicules. Est-ce que les prédictions du modèle vous paraissent fiables ?\n",
    "\n"
   ]
  },
  {
   "cell_type": "code",
   "execution_count": null,
   "metadata": {},
   "outputs": [],
   "source": [
    "# Insérez votre code ici\n",
    "\n",
    "\n",
    "\n"
   ]
  },
  {
   "cell_type": "code",
   "execution_count": null,
   "metadata": {
    "deletable": false,
    "editable": false,
    "function": "solution"
   },
   "outputs": [],
   "source": [
    "from sklearn.metrics import mean_absolute_error\n",
    "\n",
    "# Calcul de la MAE entre les vraies valeurs de la variable cible du train et la prédiction sur X_train\n",
    "mae_train = mean_absolute_error(y_train, y_pred_train)\n",
    "\n",
    "# Calcul de la MAE entre les vraies valeurs de la variable cible du test et la prédiction sur X_test\n",
    "mae_test = mean_absolute_error(y_test, y_pred_test)\n",
    "\n",
    "print(\"MAE train lr:\", mae_train)\n",
    "print(\"MAE test lr:\", mae_test)\n",
    "\n",
    "mean_price = df['price'].mean()\n",
    "\n",
    "print(\"\\nRelative error\", mae_test / mean_price)\n",
    "\n",
    "# L'erreur moyenne est d'environ 14% du prix moyen, ce qui n'est pas optimal\n",
    "# mais est quand même une bonne baseline pour tester des modèles plus avancés.\n"
   ]
  },
  {
   "cell_type": "markdown",
   "metadata": {
    "deletable": false,
    "editable": false,
    "run_control": {
     "frozen": true
    }
   },
   "source": [
    "\n",
    "## Conclusion et recap\n",
    "\n",
    "> Dans ce notebook, nous avons introduit la résolution d'un problème de Machine Learning. \n",
    "> \n",
    "> Les différentes étapes que nous avons étudiées sont les étapes classiques de tout projet :\n",
    ">\n",
    "> * Exploration des données avec la librairie `Pandas`\n",
    ">\n",
    "> * Préparation des données en séparant les variables explicatives de la variable cible\n",
    ">\n",
    "> * Séparation du jeu de données en deux (un jeu d'entraînement et un jeu de test) à l'aide de la fonction `train_test_split` de la librairie `scikit-learn`\n",
    ">\n",
    "> * Identification du type de problème : ici une régression\n",
    ">\n",
    "> * Instanciation d'un modèle comme `LinearRegression` avec la librairie `scikit-learn`\n",
    ">\n",
    "> * Entrainement du modèle sur le jeu de données d'entraînement à l'aide de la méthode `fit`\n",
    ">\n",
    "> * Prédiction sur les données de test grâce à la méthode `predict`\n",
    ">\n",
    "> * Evaluation des performances du modèle en calculant l'erreur entre ces prédictions et les véritables valeurs de la variable cible des données de test. L'évaluation pour un modèle de régression se fait facilement grâce aux fonctions `mean_squared_error` ou `mean_absolute_error` du sous-module `metrics` de scikit-learn.\n",
    ">\n",
    "> Dans le prochain notebook, nous effectuerons les même étapes mais pour la résolution d'un problème de Machine Learning de classification."
   ]
  }
 ],
 "metadata": {
  "kernelspec": {
   "display_name": "Python 3 (ipykernel)",
   "language": "python",
   "name": "python3"
  },
  "language_info": {
   "codemirror_mode": {
    "name": "ipython",
    "version": 3
   },
   "file_extension": ".py",
   "mimetype": "text/x-python",
   "name": "python",
   "nbconvert_exporter": "python",
   "pygments_lexer": "ipython3",
   "version": "3.9.13"
  },
  "latex_envs": {
   "LaTeX_envs_menu_present": true,
   "autoclose": false,
   "autocomplete": true,
   "bibliofile": "biblio.bib",
   "cite_by": "apalike",
   "current_citInitial": 1,
   "eqLabelWithNumbers": true,
   "eqNumInitial": 1,
   "hotkeys": {
    "equation": "Ctrl-E",
    "itemize": "Ctrl-I"
   },
   "labels_anchors": false,
   "latex_user_defs": false,
   "report_style_numbering": false,
   "user_envs_cfg": false
  },
  "nbTranslate": {
   "displayLangs": [
    "*"
   ],
   "hotkey": "alt-t",
   "langInMainMenu": true,
   "sourceLang": "en",
   "targetLang": "fr",
   "useGoogleTranslate": true
  },
  "owner": "DataScientest"
 },
 "nbformat": 4,
 "nbformat_minor": 2
}
