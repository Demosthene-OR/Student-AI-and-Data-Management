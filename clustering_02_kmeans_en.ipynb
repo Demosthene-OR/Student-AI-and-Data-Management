{
 "cells": [
  {
   "cell_type": "markdown",
   "metadata": {},
   "source": [
    "<a href=\"https://colab.research.google.com/github/Demosthene-OR/Student-AI-and-Data-Management/blob/main/clustering_02_kmeans_en\" target=\"_parent\"><img src=\"https://colab.research.google.com/assets/colab-badge.svg\" alt=\"Open In Colab\"/></a>"
   ]
  },
  {
   "cell_type": "markdown",
   "metadata": {
    "deletable": false,
    "run_control": {
     "frozen": true
    },
    "tags": []
   },
   "source": [
    "\n",
    "<img src=\"https://prof.totalenergies.com/wp-content/uploads/2024/09/TotalEnergies_TPA_picto_DegradeRouge_RVB-1024x1024.png\" height=\"150\" width=\"150\">\n",
    "\n",
    "<hr style=\"border-width:2px;border-color:#75DFC1\">\n",
    "<center><h1>Clustering: unsupervised classification</h1></center> \n",
    "<center><h2>K-Means</h2></center> \n",
    "<hr style=\"border-width:2px;border-color:#75DFC1\"> \n",
    "\n",
    "\n",
    "\n",
    "**Context and objective**\n",
    "\n",
    "> The purpose of this exercise is to study, implement and test the algorithm **K-means**, One of the classiﬁcation algorithms. A brief description of the algorithm and an example are given below.\n",
    "\n",
    "\n",
    "\n",
    "**Skills required**\n",
    "\n",
    "> - Introduction to Python language\n",
    ">\n",
    ">\n",
    "> - Introduction to Pandas\n",
    ">\n",
    ">\n",
    "> - Introduction to Numpy\n",
    ">\n",
    ">\n",
    "> - Introduction to data visualization with Matplotlib\n",
    ">\n",
    ">\n",
    "> - Introduction to Scikit-learn\n",
    "\n",
    "\n",
    "**Instructions**\n",
    "\n",
    "> The exercise is made up of several questions. Answer them in order and be careful to use the correct variable names.\n",
    "\n",
    "\n",
    "<hr style=\"border-color:#75DFC1\">\n",
    "<center><h3>1. Data preparation and modeling</h3></center>\n",
    "<hr style=\"border-color:#75DFC1\">\n",
    "\n",
    ">The database that we will use in this exercise is called *ruspini *.<br>\n",
    "> This dataset consists of 75 points divided into four groups, making it ideal for illustrating clustering techniques.\n",
    "\n",
    "* **(a)** Import the library **pandas** under the name **pd**.\n",
    "\n",
    "\n",
    "* **(b)** Import the library **numpy** under the name **np**.\n",
    "\n",
    "\n",
    "* **(c)** Import the package **matplotlib.pyplot** under the name **plt**.\n",
    "\n",
    "\n",
    "* **(d)** Import the submodule **KMeans** of the module **sklearn.cluster**.\n",
    "\n",
    "\n",
    "* **(e)** Read the file *ruspini.csv* in a `Dataframe` called **`df`**.\n",
    "\n",
    "\n",
    "* **(f)** Display the first five lines of data frame **`df`**.\n",
    "\n",
    "<div class=\"alert alert-info\">\n",
    "<i class=\"fa fa-info-circle\"></i> &emsp; \n",
    "The file <i>ruspini.csv</i> contains the indices of the <i>dataset</i>. The <code style=\"background:transparent;\">index_col</code>, type<code style=\"border-width:1px;background:transparent;\">String</code> parameter, allows you to specify the column to be used as row labels for the <i>Dataframe</i>.\n",
    "</div> \n",
    "\n"
   ]
  },
  {
   "cell_type": "code",
   "execution_count": 1,
   "metadata": {},
   "outputs": [
    {
     "data": {
      "text/html": [
       "<div>\n",
       "<style scoped>\n",
       "    .dataframe tbody tr th:only-of-type {\n",
       "        vertical-align: middle;\n",
       "    }\n",
       "\n",
       "    .dataframe tbody tr th {\n",
       "        vertical-align: top;\n",
       "    }\n",
       "\n",
       "    .dataframe thead th {\n",
       "        text-align: right;\n",
       "    }\n",
       "</style>\n",
       "<table border=\"1\" class=\"dataframe\">\n",
       "  <thead>\n",
       "    <tr style=\"text-align: right;\">\n",
       "      <th></th>\n",
       "      <th>x</th>\n",
       "      <th>y</th>\n",
       "    </tr>\n",
       "    <tr>\n",
       "      <th>indices</th>\n",
       "      <th></th>\n",
       "      <th></th>\n",
       "    </tr>\n",
       "  </thead>\n",
       "  <tbody>\n",
       "    <tr>\n",
       "      <th>1</th>\n",
       "      <td>4</td>\n",
       "      <td>53</td>\n",
       "    </tr>\n",
       "    <tr>\n",
       "      <th>2</th>\n",
       "      <td>5</td>\n",
       "      <td>63</td>\n",
       "    </tr>\n",
       "    <tr>\n",
       "      <th>3</th>\n",
       "      <td>10</td>\n",
       "      <td>59</td>\n",
       "    </tr>\n",
       "    <tr>\n",
       "      <th>4</th>\n",
       "      <td>9</td>\n",
       "      <td>77</td>\n",
       "    </tr>\n",
       "    <tr>\n",
       "      <th>5</th>\n",
       "      <td>13</td>\n",
       "      <td>49</td>\n",
       "    </tr>\n",
       "  </tbody>\n",
       "</table>\n",
       "</div>"
      ],
      "text/plain": [
       "          x   y\n",
       "indices        \n",
       "1         4  53\n",
       "2         5  63\n",
       "3        10  59\n",
       "4         9  77\n",
       "5        13  49"
      ]
     },
     "execution_count": 1,
     "metadata": {},
     "output_type": "execute_result"
    }
   ],
   "source": [
    "\n"
   ]
  },
  {
   "cell_type": "code",
   "execution_count": null,
   "metadata": {
    "deletable": false,
    "editable": false,
    "function": "solution"
   },
   "outputs": [],
   "source": [
    "# Import of the necessary packages\n",
    "import pandas as pd\n",
    "import numpy as np\n",
    "import matplotlib.pyplot as plt\n",
    "from sklearn.cluster import KMeans\n",
    "\n",
    "# Reading the \"Ruspini.csv\" file\n",
    "df = pd.read_csv(\"ruspini.csv\", index_col = 'indices')\n",
    "\n",
    "# Display of the first 5 lines of the dataset\n",
    "df.head(5)\n"
   ]
  },
  {
   "cell_type": "markdown",
   "metadata": {
    "deletable": false,
    "run_control": {
     "frozen": true
    },
    "tags": []
   },
   "source": [
    "\n",
    "> ### Data visualization\n",
    ">\n",
    ">Visualization of data is an excellent solution to recognize relationships between the attributes of the data set.<br>\n",
    ">In the case of a simple unsupervised classification, viewing the data allows, for example, to identify the number of **clusters** (*i.e* similar groups).</p>\n",
    ">\n",
    "> In the case of data *ruspini*, just draw the point cloud $(x, y)$.\n",
    "\n",
    "* **(g)** Draw the cloud of points *ruspini* and display the graphic.\n",
    "\n"
   ]
  },
  {
   "cell_type": "code",
   "execution_count": 2,
   "metadata": {},
   "outputs": [
    {
     "data": {
      "image/png": "[encoded data removed]",
      "text/plain": [
       "<Figure size 640x480 with 1 Axes>"
      ]
     },
     "metadata": {},
     "output_type": "display_data"
    }
   ],
   "source": [
    "\n"
   ]
  },
  {
   "cell_type": "code",
   "execution_count": null,
   "metadata": {
    "deletable": false,
    "function": "solution",
    "tags": []
   },
   "outputs": [],
   "source": [
    "# Visualization of data\n",
    "plt.scatter(df['x'],df['y'])\n",
    "plt.ylabel('y')\n",
    "plt.xlabel('x')\n",
    "plt.title('Data displayed in a 2D space')\n",
    "plt.show()\n"
   ]
  },
  {
   "cell_type": "markdown",
   "metadata": {
    "deletable": false,
    "run_control": {
     "frozen": true
    },
    "tags": []
   },
   "source": [
    "\n",
    "> #### Detecting outliers\n",
    ">\n",
    ">The box plot is a useful graphical display for describing the behavior of data in the middle and at the ends of distributions. It uses the median and the lower and upper quartiles.<br>\n",
    "> Values outside the box plot are considered outliers. An outlier is a value or observation that is distant from the other observations made, i.e., it contrasts greatly with the measured values.\n",
    "> \n",
    "><img src='https://datascientest.fr/train/assets/boxplot.png'>\n",
    "> \n",
    "><div class=\"alert alert-info\">\n",
    "<i class=\"fa fa-info-circle\"></i> &emsp; \n",
    "The <b>matplotlib.pyplot</b> submodule allows you to plot box plots for a series of numerical values. It has a <code style =\" background:transparent;\">boxplot</code> function that allows you to plot multiple box plots for a list of numerical series passed as parameters. \n",
    "</div> \n",
    "\n",
    "* **(h)** Draw the box diagrams of the two explanatory variables: `x` and `y`.\n",
    "\n"
   ]
  },
  {
   "cell_type": "code",
   "execution_count": 3,
   "metadata": {},
   "outputs": [
    {
     "data": {
      "image/png": "[encoded data removed]",
      "text/plain": [
       "<Figure size 640x480 with 1 Axes>"
      ]
     },
     "metadata": {},
     "output_type": "display_data"
    }
   ],
   "source": [
    "\n",
    "\n"
   ]
  },
  {
   "cell_type": "code",
   "execution_count": null,
   "metadata": {
    "deletable": false,
    "function": "solution",
    "tags": []
   },
   "outputs": [],
   "source": [
    "# Box diagram (boxplot) of all explanatory variables\n",
    "liste = [df['x'], df['y']]\n",
    "plt.figure()\n",
    "plt.title('Box plot of the two explanatory variables')\n",
    "plt.boxplot(liste, labels = ['x', 'y'])\n",
    "plt.show()\n"
   ]
  },
  {
   "cell_type": "markdown",
   "metadata": {
    "deletable": false,
    "run_control": {
     "frozen": true
    },
    "tags": []
   },
   "source": [
    "\n",
    "<hr style=\"border-color:#75DFC1\">\n",
    "<center><h3>2. Data learning</h3></center>\n",
    "<hr style=\"border-color:#75DFC1\">\n",
    "\n",
    "> #### K-Means: from theory to practice\n",
    ">\n",
    ">K-means partitioning is a **clustering** method widely used in **unsupervised learning**.<br>\n",
    ">Given points and an integer k, the algorithm aims to divide the points into k groups, called **clusters**, that are homogeneous and compact.\n",
    ">\n",
    "> The algorithm is described by the following pseudocode: \n",
    ">> * Choose k centroids randomly.\n",
    ">>\n",
    ">>\n",
    ">> * Calculate the distances with the k-centroids for each point in the *dataset*.\n",
    ">>\n",
    ">>\n",
    ">> * Assign each point to the nearest centroid.\n",
    ">>\n",
    ">>\n",
    ">> * Update the centroids as the center of the new *clusters* obtained.\n",
    ">>\n",
    ">>\n",
    ">> * Repeat the previous operations until the centroids converge.\n",
    "> \n",
    "> The two graphics below illustrate the different stages of the algorithm well:\n",
    "<img src = 'https://datascientest.fr/train/assets/kmeans2.gif'>\n",
    "<img src = 'https://datascientest.fr/train/assets/kmeans.gif'>\n",
    "> \n",
    ">Unlike the **k-medoids** algorithm, which necessarily takes points from the *dataset* as centroids, the **k-means** algorithm has randomly selected centroids that are not usually points from the *dataset*.<br>\n",
    "> The random selection of points at the beginning means that the algorithm is not deterministic and the output is usually different each time it is run.\n",
    "> \n",
    "> The **`sklearn.cluster`** package implements the **`'kmeans'`** algorithm. The `KMeans` function initializes a classifier that allows the k-means algorithm to be applied.\n",
    ">\n",
    "> It is very easy to use:\n",
    ">>* ``clf = KMeans(n_clusters = K)``: initializes a **`clf`** classifier that uses K centers and ultimately constructs K clusters.\n",
    ">>\n",
    ">>\n",
    ">>* ``clf.fit(data)``: executes the k-means algorithm on the data set **`data`**, using K centers.\n",
    ">\n",
    ">At the end of its execution, ``KMeans`` has associated each data point with a group, and the groups are numbered from $0$ to $(K-1)$.<br>\n",
    "> ``KMeans`` provides a list containing the following objects::\n",
    ">> *labels_*: a vector containing the group number for each data point.\n",
    ">>\n",
    ">>\n",
    ">> *cluster__centers__*: a list of the positions of the K centroids.\n",
    "\n",
    "* **(a)** Create a classifier, **`kmeans`**, using 2 centers.\n",
    "\n",
    "\n",
    "* **(b)** Train the algorithm on the training set **`df`**.\n",
    "\n",
    "\n",
    "* **(c)** Calculate the positions of the centroid ks and the *labels* of the *data set* **`df`**.\n",
    "\n"
   ]
  },
  {
   "cell_type": "code",
   "execution_count": 4,
   "metadata": {},
   "outputs": [
    {
     "name": "stderr",
     "output_type": "stream",
     "text": [
      "C:\\Users\\olivi\\anaconda3\\envs\\DataScientest\\lib\\site-packages\\sklearn\\cluster\\_kmeans.py:1334: UserWarning: KMeans is known to have a memory leak on Windows with MKL, when there are less chunks than available threads. You can avoid it by setting the environment variable OMP_NUM_THREADS=1.\n",
      "  warnings.warn(\n"
     ]
    }
   ],
   "source": [
    "\n",
    "\n"
   ]
  },
  {
   "cell_type": "code",
   "execution_count": null,
   "metadata": {
    "deletable": false,
    "editable": false,
    "function": "solution"
   },
   "outputs": [],
   "source": [
    "# K-means algorithm\n",
    "kmeans = KMeans(n_clusters = 2)\n",
    "kmeans.fit(df)\n",
    "\n",
    "# Centroids and Labels\n",
    "centroids = kmeans.cluster_centers_\n",
    "labels = kmeans.labels_\n"
   ]
  },
  {
   "cell_type": "markdown",
   "metadata": {
    "deletable": false,
    "editable": false,
    "run_control": {
     "frozen": true
    }
   },
   "source": [
    "\n",
    "> #### Visualization of clusters\n",
    ">\n",
    ">The visualization of * clusters * allows you to know the distribution of models and attributes of the data set.<br>\n",
    "> For example, after classifying the various customers of a bank, the visualization of clusters will allow better understanding of the characteristics of each group. This *clustering*will allow the bank's marketing pole to define a marketing strategy for each *cluster*.\n",
    ">\n",
    ">In the case of data *ruspini *, the code cell below allows the point cloud $ (x, y) $.<br>\n",
    "> Each couple of points is attributed to its *corresponding cluster*. The centroids correspond to the blue dots in the figure.\n",
    "\n",
    "\n",
    "*** (d)** Execute the code cell below.\n",
    "\n"
   ]
  },
  {
   "cell_type": "code",
   "execution_count": 5,
   "metadata": {
    "deletable": false,
    "editable": false
   },
   "outputs": [
    {
     "data": {
      "image/png": "[encoded data removed]",
      "text/plain": [
       "<Figure size 640x480 with 1 Axes>"
      ]
     },
     "metadata": {},
     "output_type": "display_data"
    }
   ],
   "source": [
    "#Visualization of clusters and centroids\n",
    "\n",
    "# Color List\n",
    "colors = [\"g.\",\"r.\"]\n",
    "\n",
    "# Graphic of the point cloud assigned to the corresponding cluster\n",
    "for i in range(len(df)):\n",
    "    plt.plot(df.iloc[i,0], df.iloc[i,1], colors[labels[i]], markersize = 10)\n",
    "\n",
    "# Centroid graphic\n",
    "plt.scatter(centroids[:, 0],centroids[:, 1], marker = \"o\", color = \"blue\",s=30, linewidths = 1, zorder = 10)\n",
    "plt.show()\n"
   ]
  },
  {
   "cell_type": "markdown",
   "metadata": {
    "deletable": false,
    "editable": false,
    "run_control": {
     "frozen": true
    }
   },
   "source": [
    "\n",
    "> ####\n",
    ">\n",
    ">In view of the graphic above, the choice of `k = 2 'does not seem optimal because certain points are far from the other points of their cluster.<br>\n",
    "> The number of clusters is generally not known a priori, nevertheless the choice of K is critical for the results of **K-Means**.\n",
    ">\n",
    "> In order to find the optimal number of clusters, the elbow method (*Elbow Method* in English) allows you to obtain the best partitioning of the data. To do this, you must find the **K** which minimizes the sum of the squares of the distance from each point to its centroid **inside** of each cluster (*$ ss_w $*for Sum of Squares Within Clusters):\n",
    "><center>$ Ss_w = \\ sum_ {i = 1}^{n} \\ sum_ {x \\ in c_ {i}} d (x, \\ tilde x_ {c_ {i}})^2 $</center></p>\n",
    ">\n",
    "> For a low $ SS_W, *clusters* are more compact. And for the*clusters*to be separated, you must maximize the sum of the squares of the distances **between** the clusters (*$ ss_b $*for Sum of Squares Between Clusters):\n",
    "><center>$ Ss_b = \\ sum_ {i = 1}^{n} \\ mid n_ {i} \\ mid \\ cdot d (\\ tilde x, \\ tilde x_ {n_ {i}})^2 $</center></p>\n",
    ">\n",
    ">> *$ n $ corresponds to the number of* clusters *\n",
    ">>\n",
    ">>\n",
    ">> *$ n_ {i} $ corresponds to the number of $ $ i^{th} $* cluster *\n",
    ">>\n",
    ">>\n",
    ">> *$ \\ tilde x_ {c_ {i}} $ corresponds to the centroid of* cluster * $ c_ {i} $\n",
    ">>\n",
    ">>\n",
    ">> * $ \\ tilde x $ corresponds to the average of the sample\n",
    "> \n",
    ">The choice of the number of*clusters*** K ** optimal is an arbitration between the compactness of the clusters and their separation.<br>\n",
    ">Indeed, when the number of*clusters*increases, ** $ ss_w $ ** decreases but ** $ ss_b $ ** increases.<br>\n",
    "> Depending on the characteristics of the problem posed, the choice of **K** is made using the following technique:\n",
    ">>*Trace the distortion curve **$ \\ FRAC {SS_W} {SS_W + SS_B} $** as a function of **K**.\n",
    ">>\n",
    ">>\n",
    ">> * Look for a dropout on the curve (elbow) followed by regular decrease after an accelerated decrease.\n",
    ">>\n",
    ">>\n",
    ">>*Consider the first integer greater than or equal to the drop -down as **K** optimal.\n",
    ">  \n",
    "> The package **scipy.Spatial. Distribution** implements the `cdist` function, which makes it possible to calculate the distance between observations of any dimension. The distortion is calculated as follows:\n",
    "><center>$ \\ textit {distortion} = \\ frac {\\ sum \\ limits_ {i}^{n} \\ textit {cdist} (x_i, c_i)} {\\ textit {n}} $</center>\n",
    ">\n",
    ">> *$ x_i $ corresponds to the observation $ i $ of* data set *\n",
    ">>\n",
    ">>\n",
    ">> * $ c_i $ corresponds to the centroid corresponding to $ x_i $\n",
    ">>\n",
    ">>\n",
    ">>* $ n $ corresponds to the number of observations</p>\n",
    "\n",
    "\n",
    "\n",
    "*** (e)** Import the function `cdist 'of the package **scipy.Spatial. Distribution**.\n",
    "\n",
    "\n",
    "*** (f)** For each value of **K** $ \\ in \\ {2, 3, 4, 5, 6 \\} $, train the algorithm **Kmeans** on the training set **`DF`**.\n",
    "\n",
    "\n",
    "*** (g)** Calculate the distortion for each model built.\n",
    "\n"
   ]
  },
  {
   "cell_type": "code",
   "execution_count": 6,
   "metadata": {},
   "outputs": [
    {
     "name": "stderr",
     "output_type": "stream",
     "text": [
      "C:\\Users\\olivi\\anaconda3\\envs\\DataScientest\\lib\\site-packages\\sklearn\\cluster\\_kmeans.py:1334: UserWarning: KMeans is known to have a memory leak on Windows with MKL, when there are less chunks than available threads. You can avoid it by setting the environment variable OMP_NUM_THREADS=1.\n",
      "  warnings.warn(\n",
      "C:\\Users\\olivi\\anaconda3\\envs\\DataScientest\\lib\\site-packages\\sklearn\\cluster\\_kmeans.py:1334: UserWarning: KMeans is known to have a memory leak on Windows with MKL, when there are less chunks than available threads. You can avoid it by setting the environment variable OMP_NUM_THREADS=1.\n",
      "  warnings.warn(\n",
      "C:\\Users\\olivi\\anaconda3\\envs\\DataScientest\\lib\\site-packages\\sklearn\\cluster\\_kmeans.py:1334: UserWarning: KMeans is known to have a memory leak on Windows with MKL, when there are less chunks than available threads. You can avoid it by setting the environment variable OMP_NUM_THREADS=1.\n",
      "  warnings.warn(\n",
      "C:\\Users\\olivi\\anaconda3\\envs\\DataScientest\\lib\\site-packages\\sklearn\\cluster\\_kmeans.py:1334: UserWarning: KMeans is known to have a memory leak on Windows with MKL, when there are less chunks than available threads. You can avoid it by setting the environment variable OMP_NUM_THREADS=1.\n",
      "  warnings.warn(\n",
      "C:\\Users\\olivi\\anaconda3\\envs\\DataScientest\\lib\\site-packages\\sklearn\\cluster\\_kmeans.py:1334: UserWarning: KMeans is known to have a memory leak on Windows with MKL, when there are less chunks than available threads. You can avoid it by setting the environment variable OMP_NUM_THREADS=1.\n",
      "  warnings.warn(\n"
     ]
    }
   ],
   "source": [
    "\n",
    "\n"
   ]
  },
  {
   "cell_type": "code",
   "execution_count": null,
   "metadata": {
    "deletable": false,
    "editable": false,
    "function": "solution"
   },
   "outputs": [],
   "source": [
    "# Import of the Cdist function of the Scipy.Spatial. Distribution package\n",
    "from scipy.spatial.distance import cdist\n",
    "\n",
    "# List of numbers of clusters\n",
    "range_n_clusters = [2, 3, 4, 5, 6]  \n",
    "\n",
    "# Initialization of the distorting list\n",
    "distorsions = []\n",
    "\n",
    "# Calculation of distortions for the different models\n",
    "for n_clusters in range_n_clusters:\n",
    "    \n",
    "# Initialization of a cluster with a number of clusters n_Clusters\n",
    "    cluster = KMeans(n_clusters = n_clusters)\n",
    "    \n",
    "# Data learning according to the cluster built above\n",
    "    cluster.fit(df)\n",
    "    \n",
    "# Addition of the new distortion to the data list\n",
    "    distorsions.append(sum(np.min(cdist(df, cluster.cluster_centers_, 'euclidean'), axis=1)) / np.size(df, axis = 0))\n"
   ]
  },
  {
   "cell_type": "markdown",
   "metadata": {
    "deletable": false,
    "editable": false,
    "run_control": {
     "frozen": true
    }
   },
   "source": [
    "\n",
    "> After calculating the distortions, it is necessary to visualize the graphic of the distortions as a function of the number of*clusters*to be able to choose the number **K** optimal.\n",
    "\n",
    "*** (H)** Draw the distortions graph as a function of the number of clusters.\n",
    "\n"
   ]
  },
  {
   "cell_type": "code",
   "execution_count": 7,
   "metadata": {},
   "outputs": [
    {
     "data": {
      "image/png": "[encoded data removed]",
      "text/plain": [
       "<Figure size 640x480 with 1 Axes>"
      ]
     },
     "metadata": {},
     "output_type": "display_data"
    }
   ],
   "source": [
    "\n"
   ]
  },
  {
   "cell_type": "code",
   "execution_count": null,
   "metadata": {
    "deletable": false,
    "editable": false,
    "function": "solution"
   },
   "outputs": [],
   "source": [
    "# Visualization of distortions according to the number of clusters\n",
    "plt.plot(range_n_clusters, distorsions, 'gx-')\n",
    "plt.xlabel('Nombre de Clusters K')\n",
    "plt.ylabel('Distorsion SSW/(SSW+SSB)')\n",
    "plt.title('Méthode du coude affichant le nombre de clusters optimal')\n",
    "plt.show()\n"
   ]
  },
  {
   "cell_type": "markdown",
   "metadata": {
    "deletable": false,
    "editable": false,
    "run_control": {
     "frozen": true
    }
   },
   "source": [
    "\n",
    "> The curve obtained decreases strongly and changes its trajectory after `k = 4`. Thus, the number of *optimal clusters* is `4`.\n",
    "\n",
    "*** (i)** Rebuilding the algorithm on the training set **`DF`** using` 4 'separation classes.\n",
    "\n",
    "\n",
    "*** (j)** Calculate the positions of the centroes and the*labels*of the*data set*** `df`**.\n",
    "\n"
   ]
  },
  {
   "cell_type": "code",
   "execution_count": 8,
   "metadata": {},
   "outputs": [],
   "source": [
    "\n"
   ]
  },
  {
   "cell_type": "code",
   "execution_count": null,
   "metadata": {
    "deletable": false,
    "editable": false,
    "function": "solution"
   },
   "outputs": [],
   "source": [
    "# K-means algorithm\n",
    "kmeans = KMeans(n_clusters = 4)\n",
    "kmeans.fit(df)\n",
    "\n",
    "# Centroids and Labels\n",
    "centroids = kmeans.cluster_centers_\n",
    "labels = kmeans.labels_\n"
   ]
  },
  {
   "cell_type": "markdown",
   "metadata": {
    "deletable": false,
    "editable": false,
    "run_control": {
     "frozen": true
    }
   },
   "source": [
    "\n",
    ">The code cell below allows you to draw the point cloud $ (x, y) $.<br>\n",
    "> Each couple of points is attributed to its *corresponding cluster*. The centroids correspond to the blue dots in the figure. This route displays four groups.\n",
    "\n",
    "*** (K)** Execute the code cell below.\n",
    "\n"
   ]
  },
  {
   "cell_type": "code",
   "execution_count": 9,
   "metadata": {
    "deletable": false,
    "editable": false
   },
   "outputs": [
    {
     "data": {
      "image/png": "[encoded data removed]",
      "text/plain": [
       "<Figure size 432x288 with 1 Axes>"
      ]
     },
     "metadata": {
      "needs_background": "light"
     },
     "output_type": "display_data"
    }
   ],
   "source": [
    "#Visualization of clusters and centroids\n",
    "\n",
    "# Color List\n",
    "colors = [\"g.\",\"r.\",\"c.\",\"y.\"]\n",
    "\n",
    "# Graphic of the point cloud assigned to the corresponding cluster\n",
    "for i in range(len(df)):\n",
    "    plt.plot(df.iloc[i,0], df.iloc[i,1], colors[labels[i]], markersize = 10)\n",
    "\n",
    "# Centroid graphic\n",
    "plt.scatter(centroids[:, 0],centroids[:, 1], marker = \"o\", color = \"blue\",s=30, linewidths = 1, zorder = 10)\n",
    "plt.show()\n"
   ]
  },
  {
   "cell_type": "markdown",
   "metadata": {
    "deletable": false,
    "editable": false,
    "run_control": {
     "frozen": true
    }
   },
   "source": [
    "\n",
    "> Using four separation classes, the groups are compact and well separated.\n",
    ">\n",
    ">The ** K-Means method ** generally tries to create*clusters*with a radius about the same size. However, this method is no longer effective when * clusters * cross.<br>\n",
    ">Indeed, by applying the algorithm ** `` Kmeans` ** with 3 separation classes on the data in the figure on the left, the*clusters*obtained (displayed on the right figure) are not compact and no longer separated.<br>\n",
    "> Thus, **a group that minimizes the intra-class distance is not always effective**.\n",
    ">\n",
    "><div><img src='https://datascientest.fr/train/assets/circles.png' , style=\"float: left; width:50%;\"><img src= 'https://datascientest.fr/train/assets/kmeans_circles.png', style=\"float: left; width:50%;\"></div>\n",
    "\n"
   ]
  }
 ],
 "metadata": {
  "kernelspec": {
   "display_name": "Python 3 (ipykernel)",
   "language": "python",
   "name": "python3"
  },
  "language_info": {
   "codemirror_mode": {
    "name": "ipython",
    "version": 3
   },
   "file_extension": ".py",
   "mimetype": "text/x-python",
   "name": "python",
   "nbconvert_exporter": "python",
   "pygments_lexer": "ipython3",
   "version": "3.9.16"
  },
  "latex_envs": {
   "LaTeX_envs_menu_present": true,
   "autoclose": false,
   "autocomplete": true,
   "bibliofile": "biblio.bib",
   "cite_by": "apalike",
   "current_citInitial": 1,
   "eqLabelWithNumbers": true,
   "eqNumInitial": 1,
   "hotkeys": {
    "equation": "Ctrl-E",
    "itemize": "Ctrl-I"
   },
   "labels_anchors": false,
   "latex_user_defs": false,
   "report_style_numbering": false,
   "user_envs_cfg": false
  },
  "owner": "DataScientest",
  "widgets": {
   "application/vnd.jupyter.widget-state+json": {
    "state": {},
    "version_major": 2,
    "version_minor": 0
   }
  }
 },
 "nbformat": 4,
 "nbformat_minor": 4
}
