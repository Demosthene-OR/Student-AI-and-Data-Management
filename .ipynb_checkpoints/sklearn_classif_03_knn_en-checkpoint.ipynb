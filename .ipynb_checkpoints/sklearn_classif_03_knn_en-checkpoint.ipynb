{
 "cells": [
  {
   "cell_type": "markdown",
   "metadata": {
    "deletable": false,
    "editable": false,
    "run_control": {
     "frozen": true
    },
    "tags": []
   },
   "source": [
    "<img src=\"https://prof.totalenergies.com/wp-content/uploads/2024/09/TotalEnergies_TPA_picto_DegradeRouge_RVB-1024x1024.png\" height=\"150\" width=\"150\">\n",
    "<hr style=\"border-width:2px;border-color:#75DFC1\">\n",
    "<h1 style = \"text-align:center\" >Scikit-Learn: Classification Models</h1> \n",
    "<h2 style = \"text-align:center\">k-nearest neighbors method</h2> \n",
    "<hr style=\"border-width:2px;border-color:#75DFC1\">\n",
    "\n",
    "\n",
    ">In this exercise, we will study an example of using the *K Nearest Neighbors* (KNN) method in Python. The packages used will be **pandas**, **scikit-learn** and its sub-packages, in particular:\n",
    "**neighbors** and **model_selection**.\n",
    "\n",
    "<hr style=\"border-width:2px;border-color:#75DFC1\">\n",
    "<h3 style = \"text-align:center\">Introduction to dataset</h3> \n",
    "<hr style=\"border-width:2px;border-color:#75DFC1\">\n",
    "\n",
    ">The data used in this exercise come from a collection of handwritten figures by a group of 43 people, available [here](https://archive.ucs.uci.edu/ml/datasets/optical+recognition+of+handwritten+digits), and importable directly in the 'Datasets' package' of *Scikit-Learn *.<br>\n",
    "> These are black and white images, normalized, centered and 8x8 pixel size. The images are given here in the form of unidimensional vectors of size 64 (pixels) in the attribute **`data`**, and in the form of tables of size 8x8 in the attribute **`images`**. The attribute **`target`** contains the labels corresponding to each image (a figure between 0 and 9).\n",
    "\n",
    "<hr style=\"border-width:2px;border-color:#75DFC1\">\n",
    "<h3 style = \"text-align:center\">1. Data preparation and modeling</h3> \n",
    "<hr style=\"border-width:2px;border-color:#75DFC1\">\n",
    "\n",
    "* **(a)** Load the package *__neigbors__* from the library *__sklearn__*.\n",
    "\n",
    "\n",
    "* **(b)** Load the package *__datasets__* from the library *__sklearn__*.\n",
    "\n",
    "\n",
    "* **(c)** Load the package *__train_test_split__* from the library *__sklearn.model_selection__*.\n",
    "\n",
    "\n",
    "* **(d)** Load the library *__pandas__* under the name *__pd__*, and *__numpy__* under the name *__np__*.\n",
    "\n",
    "\n",
    "* **(e)** import the data dictionary into **digits** thanks to the function `datasets.load_digits ()`.\n",
    "\n",
    "\n",
    "* **(f)** Save in a dataframe **X_digits** The data contained in the attribute **`data`** of **digits**.\n",
    "\n",
    "\n",
    "* **(g)** Save in **y_digits** The labels contained in the attribute **`target`** of **digits**.\n",
    "\n",
    "<div class=\"alert alert-info\">\n",
    "<i class=\"fa fa-info-circle\"></i> &emsp; \n",
    "Remember that before looking at the solution, you can always access the official Python help by typing <code style = \"background-color: transparent ; color : inherit\"><b>help(name_function)</b></code> in the console.\n",
    "</div>\n",
    "\n"
   ]
  },
  {
   "cell_type": "code",
   "execution_count": null,
   "metadata": {},
   "outputs": [],
   "source": []
  },
  {
   "cell_type": "code",
   "execution_count": 1,
   "metadata": {
    "deletable": false,
    "editable": false,
    "function": "solution"
   },
   "outputs": [],
   "source": [
    "# Import of the necessary libraries\n",
    "from sklearn import neighbors\n",
    "from sklearn import datasets\n",
    "from sklearn.model_selection import train_test_split\n",
    "import pandas as pd\n",
    "import numpy as np\n",
    "\n",
    "\n",
    "digits = datasets.load_digits()\n",
    "\n",
    "X_digits = pd.DataFrame(digits.data)\n",
    "y_digits = digits.target\n"
   ]
  },
  {
   "cell_type": "markdown",
   "metadata": {
    "deletable": false,
    "run_control": {
     "frozen": true
    },
    "tags": []
   },
   "source": [
    "\n",
    "* **(h)** Run the following cell to randomly display six pixelated digits present in the data.\n",
    "\n"
   ]
  },
  {
   "cell_type": "code",
   "execution_count": 2,
   "metadata": {
    "deletable": false,
    "editable": false
   },
   "outputs": [
    {
     "data": {
      "image/png": "[encoded data removed]",
      "text/plain": [
       "<Figure size 640x480 with 6 Axes>"
      ]
     },
     "metadata": {},
     "output_type": "display_data"
    }
   ],
   "source": [
    "%matplotlib inline\n",
    "import matplotlib.pyplot as plt\n",
    "from matplotlib import cm # pour importer de nouvelles cartes de couleur\n",
    "\n",
    "j=0\n",
    "\n",
    "for i in np.random.choice(np.arange(0, len(y_digits)), size=6):\n",
    "    j=j+1\n",
    "#On stores the index in list I to be able to display the corresponding label later.\n",
    "    \n",
    "    plt.subplot(2,3,j)\n",
    "# Add *Plt.subplot (2,3, J)* each iteration allows you to display all the images\n",
    "# sets on the same figure.\n",
    "\n",
    "    plt.axis('off')\n",
    "# Allows you to delete the axes (here is used to see the titles better)\n",
    "    \n",
    "    plt.imshow(digits.images[i],cmap = cm.binary, interpolation='None')\n",
    "# Display image n ° I\n",
    "# The use of CM.Binary allows you to see the figures in gray on a white background.\n",
    "\n",
    "    plt.title('Label: %i' %y_digits[i])\n",
    "# For each image we write in title the label that suits him.\n"
   ]
  },
  {
   "cell_type": "markdown",
   "metadata": {
    "deletable": false,
    "run_control": {
     "frozen": true
    },
    "tags": []
   },
   "source": [
    "\n",
    "* **(i)** Diviser les matrices **`X_digits`** et **`y_digits`** en un ensemble d'apprentissage de 80% (**`X_train`**, **`y_train`**) et un ensemble de test (**`X_test`**, **`y_test`**) de 20%.<br>\n",
    "Add the argument `random_state = 126` in the function **`train_test_split`** for the reproducibility of the choice of random.\n",
    "\n"
   ]
  },
  {
   "cell_type": "code",
   "execution_count": null,
   "metadata": {},
   "outputs": [],
   "source": []
  },
  {
   "cell_type": "code",
   "execution_count": 3,
   "metadata": {
    "deletable": false,
    "editable": false,
    "function": "solution"
   },
   "outputs": [],
   "source": [
    "X_train, X_test, y_train, y_test = train_test_split(X_digits, y_digits, test_size=0.2, random_state=126)\n"
   ]
  },
  {
   "cell_type": "markdown",
   "metadata": {
    "deletable": false,
    "run_control": {
     "frozen": true
    },
    "tags": []
   },
   "source": [
    "\n",
    "<hr style=\"border-width:2px;border-color:#75DFC1\">\n",
    "<h3 style = \"text-align:center\">2. Data Learning</h3> \n",
    "<hr style=\"border-width:2px;border-color:#75DFC1\">\n",
    "\n",
    "> The K-Plus nearby K-Plus method (KNN) is an extremely simple supervised learning method in its most basic form, and yet often efficient for complex classification tasks.\n",
    "The KNN algorithm does not train on any data, but uses all the data available each time to classify new data.\n",
    ">\n",
    "> The principle is as follows: unknown class data is compared to all stored data. The class to which the new data is attributed is the majority class among its **K closer neighbors** in the sense of a chosen distance. By default, the distance used by the class **`KNeighborsClassifier'** is the Euclidean distance.\n",
    ">\n",
    "> The figure below illustrates the operation of an algorithm **3-Nn**. For a new entry which we want to predict the class. The algorithm calculates the 3 neighbors closest to this entry and deduces the class which constitutes the majority of these neighbors in order to deduce the class of the new point.\n",
    ">\n",
    "><img src=\"https://datascientest.fr/train/assets/knn_newpoint.gif\" style=\"width:500px\" />\n",
    ">\n",
    "> The function [**`KNeighborsClassifier`**](https://scikit-learn.org/stable/Modules/GeNeRared/Sklearn.neighbors.kneighborsclassify.html) of the Package **`neighbors`** allows you to create a Knn classifier, Mainly the number of 'neighbors' **`n_neighbors`** chosen, and in **` Metric`** the distance to be used among those [included in the Package](https://scikit-learn.org/stable/modles/generated/sklearn.metrics.dististemetric.html?highlight=distance%20metric#Sklearn.metrics.distancemetric).\n",
    "\n",
    "* **(a)** Run the following cell to view the influence of hyperparammeters on a **K model closer neighbors**.\n",
    "\n",
    "<div class=\"alert alert-info\">\n",
    "<i class=\"fa fa-info-circle\"></i> &emsp;\n",
    "The datasets contain two classes (red dots/blue dots) with <b>x1</b> and <b>x2</b> as features. The background color represents the probability of belonging to one of the classes. The redder the color, the higher the probability of belonging to class 2.\n",
    "</div>\n",
    "\n"
   ]
  },
  {
   "cell_type": "code",
   "execution_count": 4,
   "metadata": {
    "deletable": false,
    "editable": false,
    "tags": []
   },
   "outputs": [
    {
     "name": "stderr",
     "output_type": "stream",
     "text": [
      "--2025-09-15 01:23:29--  https://raw.githubusercontent.com/Demosthene-OR/Student-AI-and-Data-Management/main/interactions.py\n",
      "Resolving raw.githubusercontent.com (raw.githubusercontent.com)... 185.199.108.133, 185.199.111.133, 185.199.110.133, ...\n",
      "Connecting to raw.githubusercontent.com (raw.githubusercontent.com)|185.199.108.133|:443... connected.\n",
      "HTTP request sent, awaiting response... 200 OK\n",
      "Length: 20555 (20K) [text/plain]\n",
      "Saving to: 'interactions.py.1'\n",
      "\n",
      "     0K .......... ..........                                 100% 4,70M=0,004s\n",
      "\n",
      "2025-09-15 01:23:30 (4,70 MB/s) - 'interactions.py.1' saved [20555/20555]\n",
      "\n"
     ]
    },
    {
     "data": {
      "application/vnd.jupyter.widget-view+json": {
       "model_id": "ebea498a5244429c9217afc5f8d02237",
       "version_major": 2,
       "version_minor": 0
      },
      "text/plain": [
       "HBox(children=(Output(), VBox(children=(VBox(children=(HTML(value='<b>Datasets</b>'), HTML(value=''), Dropdown…"
      ]
     },
     "metadata": {},
     "output_type": "display_data"
    }
   ],
   "source": [
    "%matplotlib inline\n",
    "!wget https://raw.githubusercontent.com/Demosthene-OR/Student-AI-and-Data-Management/main/interactions.py\n",
    "\n",
    "from interactions import show_knn\n",
    "show_knn()\n"
   ]
  },
  {
   "cell_type": "markdown",
   "metadata": {
    "deletable": false,
    "run_control": {
     "frozen": true
    },
    "tags": []
   },
   "source": [
    "\n",
    "* **(b)** Create a classifier **`knn`**, with k = 7 and the distance 'Minkowski' (Distance by default, with P = 2, Euclidean distance).\n",
    "\n",
    "\n",
    "* **(c)** Adjust the classifier to the training set (**`X_train`** and **`y_train`**).\n",
    "\n",
    "<div class=\"alert alert-info\">\n",
    "<i class=\"fa fa-info-circle\"></i> &emsp; \n",
    "Note that no model \"training\" is done strictly speaking. The algorithm will simply use the labeled data provided to it to predict new figures.\n",
    "</div>\n",
    "\n"
   ]
  },
  {
   "cell_type": "code",
   "execution_count": null,
   "metadata": {},
   "outputs": [],
   "source": []
  },
  {
   "cell_type": "code",
   "execution_count": 5,
   "metadata": {
    "deletable": false,
    "editable": false,
    "function": "solution"
   },
   "outputs": [
    {
     "data": {
      "text/html": [
       "<style>#sk-container-id-1 {color: black;background-color: white;}#sk-container-id-1 pre{padding: 0;}#sk-container-id-1 div.sk-toggleable {background-color: white;}#sk-container-id-1 label.sk-toggleable__label {cursor: pointer;display: block;width: 100%;margin-bottom: 0;padding: 0.3em;box-sizing: border-box;text-align: center;}#sk-container-id-1 label.sk-toggleable__label-arrow:before {content: \"▸\";float: left;margin-right: 0.25em;color: #696969;}#sk-container-id-1 label.sk-toggleable__label-arrow:hover:before {color: black;}#sk-container-id-1 div.sk-estimator:hover label.sk-toggleable__label-arrow:before {color: black;}#sk-container-id-1 div.sk-toggleable__content {max-height: 0;max-width: 0;overflow: hidden;text-align: left;background-color: #f0f8ff;}#sk-container-id-1 div.sk-toggleable__content pre {margin: 0.2em;color: black;border-radius: 0.25em;background-color: #f0f8ff;}#sk-container-id-1 input.sk-toggleable__control:checked~div.sk-toggleable__content {max-height: 200px;max-width: 100%;overflow: auto;}#sk-container-id-1 input.sk-toggleable__control:checked~label.sk-toggleable__label-arrow:before {content: \"▾\";}#sk-container-id-1 div.sk-estimator input.sk-toggleable__control:checked~label.sk-toggleable__label {background-color: #d4ebff;}#sk-container-id-1 div.sk-label input.sk-toggleable__control:checked~label.sk-toggleable__label {background-color: #d4ebff;}#sk-container-id-1 input.sk-hidden--visually {border: 0;clip: rect(1px 1px 1px 1px);clip: rect(1px, 1px, 1px, 1px);height: 1px;margin: -1px;overflow: hidden;padding: 0;position: absolute;width: 1px;}#sk-container-id-1 div.sk-estimator {font-family: monospace;background-color: #f0f8ff;border: 1px dotted black;border-radius: 0.25em;box-sizing: border-box;margin-bottom: 0.5em;}#sk-container-id-1 div.sk-estimator:hover {background-color: #d4ebff;}#sk-container-id-1 div.sk-parallel-item::after {content: \"\";width: 100%;border-bottom: 1px solid gray;flex-grow: 1;}#sk-container-id-1 div.sk-label:hover label.sk-toggleable__label {background-color: #d4ebff;}#sk-container-id-1 div.sk-serial::before {content: \"\";position: absolute;border-left: 1px solid gray;box-sizing: border-box;top: 0;bottom: 0;left: 50%;z-index: 0;}#sk-container-id-1 div.sk-serial {display: flex;flex-direction: column;align-items: center;background-color: white;padding-right: 0.2em;padding-left: 0.2em;position: relative;}#sk-container-id-1 div.sk-item {position: relative;z-index: 1;}#sk-container-id-1 div.sk-parallel {display: flex;align-items: stretch;justify-content: center;background-color: white;position: relative;}#sk-container-id-1 div.sk-item::before, #sk-container-id-1 div.sk-parallel-item::before {content: \"\";position: absolute;border-left: 1px solid gray;box-sizing: border-box;top: 0;bottom: 0;left: 50%;z-index: -1;}#sk-container-id-1 div.sk-parallel-item {display: flex;flex-direction: column;z-index: 1;position: relative;background-color: white;}#sk-container-id-1 div.sk-parallel-item:first-child::after {align-self: flex-end;width: 50%;}#sk-container-id-1 div.sk-parallel-item:last-child::after {align-self: flex-start;width: 50%;}#sk-container-id-1 div.sk-parallel-item:only-child::after {width: 0;}#sk-container-id-1 div.sk-dashed-wrapped {border: 1px dashed gray;margin: 0 0.4em 0.5em 0.4em;box-sizing: border-box;padding-bottom: 0.4em;background-color: white;}#sk-container-id-1 div.sk-label label {font-family: monospace;font-weight: bold;display: inline-block;line-height: 1.2em;}#sk-container-id-1 div.sk-label-container {text-align: center;}#sk-container-id-1 div.sk-container {/* jupyter's `normalize.less` sets `[hidden] { display: none; }` but bootstrap.min.css set `[hidden] { display: none !important; }` so we also need the `!important` here to be able to override the default hidden behavior on the sphinx rendered scikit-learn.org. See: https://github.com/scikit-learn/scikit-learn/issues/21755 */display: inline-block !important;position: relative;}#sk-container-id-1 div.sk-text-repr-fallback {display: none;}</style><div id=\"sk-container-id-1\" class=\"sk-top-container\"><div class=\"sk-text-repr-fallback\"><pre>KNeighborsClassifier(n_neighbors=7)</pre><b>In a Jupyter environment, please rerun this cell to show the HTML representation or trust the notebook. <br />On GitHub, the HTML representation is unable to render, please try loading this page with nbviewer.org.</b></div><div class=\"sk-container\" hidden><div class=\"sk-item\"><div class=\"sk-estimator sk-toggleable\"><input class=\"sk-toggleable__control sk-hidden--visually\" id=\"sk-estimator-id-1\" type=\"checkbox\" checked><label for=\"sk-estimator-id-1\" class=\"sk-toggleable__label sk-toggleable__label-arrow\">KNeighborsClassifier</label><div class=\"sk-toggleable__content\"><pre>KNeighborsClassifier(n_neighbors=7)</pre></div></div></div></div></div>"
      ],
      "text/plain": [
       "KNeighborsClassifier(n_neighbors=7)"
      ]
     },
     "execution_count": 5,
     "metadata": {},
     "output_type": "execute_result"
    }
   ],
   "source": [
    "# Creation of the classifier and construction of the model on training data\n",
    "knn = neighbors.KNeighborsClassifier(n_neighbors=7, metric='minkowski')\n",
    "knn.fit(X_train, y_train)\n"
   ]
  },
  {
   "cell_type": "markdown",
   "metadata": {
    "deletable": false,
    "run_control": {
     "frozen": true
    },
    "tags": []
   },
   "source": [
    "\n",
    "<hr style=\"border-width:2px;border-color:#75DFC1\">\n",
    "<h3 style = \"text-align:center\">3. Evaluation of the classification model</h3> \n",
    "<hr style=\"border-width:2px;border-color:#75DFC1\">\n",
    "\n",
    "><div class=\"alert alert-success\">\n",
    "<i class=\"fa fa-question-circle\"></i> &emsp; \n",
    "Assessment is the key to success in data science.  It aims to verify the model (s) or the knowledge obtained in order to ensure that they meet the objectives formulated at the start of the process. It also contributes to the decision to deploy the model or its improvement. At this stage, we notably test the robustness and precision of the models obtained.\n",
    "</div>\n",
    "\n",
    "* **(a)** Apply the model to the data set data and store the predictions obtained in the variable **`y_pred`**.\n",
    "\n",
    "\n",
    "* **(b)** Show a confusion matrix to compare the real and predicted classes.\n",
    "\n"
   ]
  },
  {
   "cell_type": "code",
   "execution_count": null,
   "metadata": {},
   "outputs": [],
   "source": [
    "\n"
   ]
  },
  {
   "cell_type": "code",
   "execution_count": 6,
   "metadata": {
    "deletable": false,
    "function": "solution",
    "tags": []
   },
   "outputs": [
    {
     "data": {
      "text/html": [
       "<div>\n",
       "<style scoped>\n",
       "    .dataframe tbody tr th:only-of-type {\n",
       "        vertical-align: middle;\n",
       "    }\n",
       "\n",
       "    .dataframe tbody tr th {\n",
       "        vertical-align: top;\n",
       "    }\n",
       "\n",
       "    .dataframe thead th {\n",
       "        text-align: right;\n",
       "    }\n",
       "</style>\n",
       "<table border=\"1\" class=\"dataframe\">\n",
       "  <thead>\n",
       "    <tr style=\"text-align: right;\">\n",
       "      <th>Predicted Class</th>\n",
       "      <th>0</th>\n",
       "      <th>1</th>\n",
       "      <th>2</th>\n",
       "      <th>3</th>\n",
       "      <th>4</th>\n",
       "      <th>5</th>\n",
       "      <th>6</th>\n",
       "      <th>7</th>\n",
       "      <th>8</th>\n",
       "      <th>9</th>\n",
       "    </tr>\n",
       "    <tr>\n",
       "      <th>Actual Class</th>\n",
       "      <th></th>\n",
       "      <th></th>\n",
       "      <th></th>\n",
       "      <th></th>\n",
       "      <th></th>\n",
       "      <th></th>\n",
       "      <th></th>\n",
       "      <th></th>\n",
       "      <th></th>\n",
       "      <th></th>\n",
       "    </tr>\n",
       "  </thead>\n",
       "  <tbody>\n",
       "    <tr>\n",
       "      <th>0</th>\n",
       "      <td>32</td>\n",
       "      <td>0</td>\n",
       "      <td>0</td>\n",
       "      <td>0</td>\n",
       "      <td>0</td>\n",
       "      <td>0</td>\n",
       "      <td>0</td>\n",
       "      <td>0</td>\n",
       "      <td>0</td>\n",
       "      <td>0</td>\n",
       "    </tr>\n",
       "    <tr>\n",
       "      <th>1</th>\n",
       "      <td>0</td>\n",
       "      <td>54</td>\n",
       "      <td>0</td>\n",
       "      <td>0</td>\n",
       "      <td>0</td>\n",
       "      <td>0</td>\n",
       "      <td>0</td>\n",
       "      <td>0</td>\n",
       "      <td>0</td>\n",
       "      <td>0</td>\n",
       "    </tr>\n",
       "    <tr>\n",
       "      <th>2</th>\n",
       "      <td>0</td>\n",
       "      <td>0</td>\n",
       "      <td>38</td>\n",
       "      <td>0</td>\n",
       "      <td>0</td>\n",
       "      <td>0</td>\n",
       "      <td>0</td>\n",
       "      <td>0</td>\n",
       "      <td>0</td>\n",
       "      <td>0</td>\n",
       "    </tr>\n",
       "    <tr>\n",
       "      <th>3</th>\n",
       "      <td>0</td>\n",
       "      <td>0</td>\n",
       "      <td>0</td>\n",
       "      <td>28</td>\n",
       "      <td>0</td>\n",
       "      <td>0</td>\n",
       "      <td>0</td>\n",
       "      <td>0</td>\n",
       "      <td>0</td>\n",
       "      <td>0</td>\n",
       "    </tr>\n",
       "    <tr>\n",
       "      <th>4</th>\n",
       "      <td>0</td>\n",
       "      <td>0</td>\n",
       "      <td>0</td>\n",
       "      <td>0</td>\n",
       "      <td>41</td>\n",
       "      <td>0</td>\n",
       "      <td>0</td>\n",
       "      <td>0</td>\n",
       "      <td>0</td>\n",
       "      <td>0</td>\n",
       "    </tr>\n",
       "    <tr>\n",
       "      <th>5</th>\n",
       "      <td>0</td>\n",
       "      <td>0</td>\n",
       "      <td>0</td>\n",
       "      <td>0</td>\n",
       "      <td>0</td>\n",
       "      <td>40</td>\n",
       "      <td>1</td>\n",
       "      <td>0</td>\n",
       "      <td>0</td>\n",
       "      <td>2</td>\n",
       "    </tr>\n",
       "    <tr>\n",
       "      <th>6</th>\n",
       "      <td>0</td>\n",
       "      <td>0</td>\n",
       "      <td>0</td>\n",
       "      <td>0</td>\n",
       "      <td>0</td>\n",
       "      <td>0</td>\n",
       "      <td>35</td>\n",
       "      <td>0</td>\n",
       "      <td>0</td>\n",
       "      <td>0</td>\n",
       "    </tr>\n",
       "    <tr>\n",
       "      <th>7</th>\n",
       "      <td>0</td>\n",
       "      <td>0</td>\n",
       "      <td>0</td>\n",
       "      <td>0</td>\n",
       "      <td>0</td>\n",
       "      <td>0</td>\n",
       "      <td>0</td>\n",
       "      <td>27</td>\n",
       "      <td>0</td>\n",
       "      <td>0</td>\n",
       "    </tr>\n",
       "    <tr>\n",
       "      <th>8</th>\n",
       "      <td>0</td>\n",
       "      <td>0</td>\n",
       "      <td>0</td>\n",
       "      <td>0</td>\n",
       "      <td>0</td>\n",
       "      <td>0</td>\n",
       "      <td>0</td>\n",
       "      <td>0</td>\n",
       "      <td>34</td>\n",
       "      <td>0</td>\n",
       "    </tr>\n",
       "    <tr>\n",
       "      <th>9</th>\n",
       "      <td>0</td>\n",
       "      <td>1</td>\n",
       "      <td>0</td>\n",
       "      <td>2</td>\n",
       "      <td>0</td>\n",
       "      <td>1</td>\n",
       "      <td>0</td>\n",
       "      <td>0</td>\n",
       "      <td>0</td>\n",
       "      <td>24</td>\n",
       "    </tr>\n",
       "  </tbody>\n",
       "</table>\n",
       "</div>"
      ],
      "text/plain": [
       "Predicted Class   0   1   2   3   4   5   6   7   8   9\n",
       "Actual Class                                           \n",
       "0                32   0   0   0   0   0   0   0   0   0\n",
       "1                 0  54   0   0   0   0   0   0   0   0\n",
       "2                 0   0  38   0   0   0   0   0   0   0\n",
       "3                 0   0   0  28   0   0   0   0   0   0\n",
       "4                 0   0   0   0  41   0   0   0   0   0\n",
       "5                 0   0   0   0   0  40   1   0   0   2\n",
       "6                 0   0   0   0   0   0  35   0   0   0\n",
       "7                 0   0   0   0   0   0   0  27   0   0\n",
       "8                 0   0   0   0   0   0   0   0  34   0\n",
       "9                 0   1   0   2   0   1   0   0   0  24"
      ]
     },
     "execution_count": 6,
     "metadata": {},
     "output_type": "execute_result"
    }
   ],
   "source": [
    "y_pred = knn.predict(X_test)\n",
    "pd.crosstab(y_test, y_pred, rownames=['Actual Class'], colnames=['Predicted Class'])\n"
   ]
  },
  {
   "cell_type": "markdown",
   "metadata": {
    "deletable": false,
    "run_control": {
     "frozen": true
    },
    "tags": []
   },
   "source": [
    "\n",
    ">The model created seems to be fairly efficient on the test set.<br>\n",
    "> On 360 written written figures, only three figures 5 and four digits 9 were poorly classified.\n",
    ">\n",
    "> The model can however be improved, by choosing a different distance, or another number of 'neighbors'.\n",
    "\n",
    "* **(c)** Create a new classifier **`knn_m`**, with K = 5 and the distance 'Manhattan'.\n",
    "\n",
    "\n",
    "* **(d)** Adjust the new classifier to the training set (**`X_train`** and **`y_train`**).\n",
    "\n"
   ]
  },
  {
   "cell_type": "code",
   "execution_count": null,
   "metadata": {},
   "outputs": [],
   "source": [
    "\n"
   ]
  },
  {
   "cell_type": "code",
   "execution_count": 7,
   "metadata": {
    "deletable": false,
    "editable": false,
    "function": "solution"
   },
   "outputs": [
    {
     "data": {
      "text/html": [
       "<style>#sk-container-id-2 {color: black;background-color: white;}#sk-container-id-2 pre{padding: 0;}#sk-container-id-2 div.sk-toggleable {background-color: white;}#sk-container-id-2 label.sk-toggleable__label {cursor: pointer;display: block;width: 100%;margin-bottom: 0;padding: 0.3em;box-sizing: border-box;text-align: center;}#sk-container-id-2 label.sk-toggleable__label-arrow:before {content: \"▸\";float: left;margin-right: 0.25em;color: #696969;}#sk-container-id-2 label.sk-toggleable__label-arrow:hover:before {color: black;}#sk-container-id-2 div.sk-estimator:hover label.sk-toggleable__label-arrow:before {color: black;}#sk-container-id-2 div.sk-toggleable__content {max-height: 0;max-width: 0;overflow: hidden;text-align: left;background-color: #f0f8ff;}#sk-container-id-2 div.sk-toggleable__content pre {margin: 0.2em;color: black;border-radius: 0.25em;background-color: #f0f8ff;}#sk-container-id-2 input.sk-toggleable__control:checked~div.sk-toggleable__content {max-height: 200px;max-width: 100%;overflow: auto;}#sk-container-id-2 input.sk-toggleable__control:checked~label.sk-toggleable__label-arrow:before {content: \"▾\";}#sk-container-id-2 div.sk-estimator input.sk-toggleable__control:checked~label.sk-toggleable__label {background-color: #d4ebff;}#sk-container-id-2 div.sk-label input.sk-toggleable__control:checked~label.sk-toggleable__label {background-color: #d4ebff;}#sk-container-id-2 input.sk-hidden--visually {border: 0;clip: rect(1px 1px 1px 1px);clip: rect(1px, 1px, 1px, 1px);height: 1px;margin: -1px;overflow: hidden;padding: 0;position: absolute;width: 1px;}#sk-container-id-2 div.sk-estimator {font-family: monospace;background-color: #f0f8ff;border: 1px dotted black;border-radius: 0.25em;box-sizing: border-box;margin-bottom: 0.5em;}#sk-container-id-2 div.sk-estimator:hover {background-color: #d4ebff;}#sk-container-id-2 div.sk-parallel-item::after {content: \"\";width: 100%;border-bottom: 1px solid gray;flex-grow: 1;}#sk-container-id-2 div.sk-label:hover label.sk-toggleable__label {background-color: #d4ebff;}#sk-container-id-2 div.sk-serial::before {content: \"\";position: absolute;border-left: 1px solid gray;box-sizing: border-box;top: 0;bottom: 0;left: 50%;z-index: 0;}#sk-container-id-2 div.sk-serial {display: flex;flex-direction: column;align-items: center;background-color: white;padding-right: 0.2em;padding-left: 0.2em;position: relative;}#sk-container-id-2 div.sk-item {position: relative;z-index: 1;}#sk-container-id-2 div.sk-parallel {display: flex;align-items: stretch;justify-content: center;background-color: white;position: relative;}#sk-container-id-2 div.sk-item::before, #sk-container-id-2 div.sk-parallel-item::before {content: \"\";position: absolute;border-left: 1px solid gray;box-sizing: border-box;top: 0;bottom: 0;left: 50%;z-index: -1;}#sk-container-id-2 div.sk-parallel-item {display: flex;flex-direction: column;z-index: 1;position: relative;background-color: white;}#sk-container-id-2 div.sk-parallel-item:first-child::after {align-self: flex-end;width: 50%;}#sk-container-id-2 div.sk-parallel-item:last-child::after {align-self: flex-start;width: 50%;}#sk-container-id-2 div.sk-parallel-item:only-child::after {width: 0;}#sk-container-id-2 div.sk-dashed-wrapped {border: 1px dashed gray;margin: 0 0.4em 0.5em 0.4em;box-sizing: border-box;padding-bottom: 0.4em;background-color: white;}#sk-container-id-2 div.sk-label label {font-family: monospace;font-weight: bold;display: inline-block;line-height: 1.2em;}#sk-container-id-2 div.sk-label-container {text-align: center;}#sk-container-id-2 div.sk-container {/* jupyter's `normalize.less` sets `[hidden] { display: none; }` but bootstrap.min.css set `[hidden] { display: none !important; }` so we also need the `!important` here to be able to override the default hidden behavior on the sphinx rendered scikit-learn.org. See: https://github.com/scikit-learn/scikit-learn/issues/21755 */display: inline-block !important;position: relative;}#sk-container-id-2 div.sk-text-repr-fallback {display: none;}</style><div id=\"sk-container-id-2\" class=\"sk-top-container\"><div class=\"sk-text-repr-fallback\"><pre>KNeighborsClassifier(metric=&#x27;manhattan&#x27;)</pre><b>In a Jupyter environment, please rerun this cell to show the HTML representation or trust the notebook. <br />On GitHub, the HTML representation is unable to render, please try loading this page with nbviewer.org.</b></div><div class=\"sk-container\" hidden><div class=\"sk-item\"><div class=\"sk-estimator sk-toggleable\"><input class=\"sk-toggleable__control sk-hidden--visually\" id=\"sk-estimator-id-2\" type=\"checkbox\" checked><label for=\"sk-estimator-id-2\" class=\"sk-toggleable__label sk-toggleable__label-arrow\">KNeighborsClassifier</label><div class=\"sk-toggleable__content\"><pre>KNeighborsClassifier(metric=&#x27;manhattan&#x27;)</pre></div></div></div></div></div>"
      ],
      "text/plain": [
       "KNeighborsClassifier(metric='manhattan')"
      ]
     },
     "execution_count": 7,
     "metadata": {},
     "output_type": "execute_result"
    }
   ],
   "source": [
    "#Creation of the new classifier and model training\n",
    "knn_m = neighbors.KNeighborsClassifier(n_neighbors=5, metric='manhattan')\n",
    "knn_m.fit(X_train, y_train)\n"
   ]
  },
  {
   "cell_type": "markdown",
   "metadata": {
    "deletable": false,
    "run_control": {
     "frozen": true
    },
    "tags": []
   },
   "source": [
    "\n",
    "* **(e)** Calculate the performance score ('accuracy') for both models.\n",
    "\n"
   ]
  },
  {
   "cell_type": "code",
   "execution_count": null,
   "metadata": {},
   "outputs": [],
   "source": []
  },
  {
   "cell_type": "code",
   "execution_count": 8,
   "metadata": {
    "deletable": false,
    "editable": false,
    "function": "solution"
   },
   "outputs": [
    {
     "data": {
      "text/plain": [
       "(0.9805555555555555, 0.9861111111111112)"
      ]
     },
     "execution_count": 8,
     "metadata": {},
     "output_type": "execute_result"
    }
   ],
   "source": [
    "#Score of the model using the distance from Minkowski\n",
    "score_minkowski = knn.score(X_test, y_test)\n",
    "\n",
    "#Model of the model using the distance from Manhattan\n",
    "score_manhattan = knn_m.score(X_test, y_test)\n",
    "\n",
    "score_minkowski, score_manhattan\n"
   ]
  },
  {
   "cell_type": "markdown",
   "metadata": {
    "deletable": false,
    "run_control": {
     "frozen": true
    },
    "tags": []
   },
   "source": [
    "\n",
    ">Even if it may seem surprising, the two distances get significantly the same score.<br>\n",
    ">Does this mean that these two distances are so suitable for our data? Is the choice of **k** important?<br>\n",
    "> The best way to answer these questions is to provide a graphic analysis of the performance of the metric models, depending on the choice of **k**.\n",
    "\n",
    "* **(f)** Create three lists **score_minko**, **score_man**, **score_cheb**, in which you will store the scores of 3 models using respectively the matrices of Minkowski, Manhattan and Chebyshev, for values ​​of **k going from 1 to 40**.\n",
    "\n"
   ]
  },
  {
   "cell_type": "code",
   "execution_count": null,
   "metadata": {},
   "outputs": [],
   "source": [
    "\n",
    "\n"
   ]
  },
  {
   "cell_type": "code",
   "execution_count": 9,
   "metadata": {
    "deletable": false,
    "editable": false,
    "function": "solution"
   },
   "outputs": [],
   "source": [
    "score_minko = []\n",
    "score_man = []\n",
    "score_cheb = []\n",
    "\n",
    "for k in range(1, 41):\n",
    "    knn = neighbors.KNeighborsClassifier(n_neighbors=k)\n",
    "    knn.fit(X_train, y_train)\n",
    "    score_minko.append(knn.score(X_test, y_test))\n",
    "\n",
    "for k in range(1, 41):\n",
    "    knn = neighbors.KNeighborsClassifier(n_neighbors=k, metric='manhattan')\n",
    "    knn.fit(X_train, y_train)\n",
    "    score_man.append(knn.score(X_test, y_test))\n",
    "    \n",
    "for k in range(1, 41):\n",
    "    knn = neighbors.KNeighborsClassifier(n_neighbors=k, metric='chebyshev')\n",
    "    knn.fit(X_train, y_train)\n",
    "    score_cheb.append(knn.score(X_test, y_test))\n"
   ]
  },
  {
   "cell_type": "markdown",
   "metadata": {
    "deletable": false,
    "run_control": {
     "frozen": true
    },
    "tags": []
   },
   "source": [
    "\n",
    "* **(g)** Show in a graph the lists created according to the value of k.\n",
    "\n",
    "\n",
    "* **(h)** Use different colors and legends to differentiate metrics.\n",
    "\n"
   ]
  },
  {
   "cell_type": "code",
   "execution_count": null,
   "metadata": {},
   "outputs": [],
   "source": [
    "\n"
   ]
  },
  {
   "cell_type": "code",
   "execution_count": 10,
   "metadata": {
    "deletable": false,
    "function": "solution",
    "tags": []
   },
   "outputs": [
    {
     "data": {
      "image/png": "[encoded data removed]",
      "text/plain": [
       "<Figure size 640x480 with 1 Axes>"
      ]
     },
     "metadata": {},
     "output_type": "display_data"
    }
   ],
   "source": [
    "%matplotlib inline\n",
    "import matplotlib.pyplot as plt\n",
    "\n",
    "\n",
    "plt.plot(range(1, 41), score_minko, color='blue', linestyle='dashed', lw=2, label='Minkowski')\n",
    "plt.plot(range(1, 41), score_man, color='orange', linestyle='dashed', lw=2, label='Manhattan')\n",
    "plt.plot(range(1, 41), score_cheb, color='red', linestyle='dashed', lw=2, label='Chebyshev')\n",
    "plt.title('Score - valeur de K')  \n",
    "plt.xlabel('Valeur de K')  \n",
    "plt.ylabel('Accuracy') \n",
    "plt.legend();\n",
    "plt.show()\n"
   ]
  },
  {
   "cell_type": "markdown",
   "metadata": {
    "deletable": false,
    "run_control": {
     "frozen": true
    },
    "tags": []
   },
   "source": [
    "\n",
    ">The distances of Minkowski and Manhattan give better performance when **k** is small (<10). The Minkowski distance appears more stable, and its rate of correct predictions only decreases from k=20.<br>\n",
    ">The best absolute score is obtained with the distance from Minkowski for a k = 2; 3 or 15.<br>\n",
    ">\n",
    "> Be careful however, the test sample is relatively small and the data sampling gives an important place to the random, these results can therefore vary if we select the test set otherwise. It seems more judicious to choose K = 3 which in addition to obtaining the best score for the distance from Minkowski, presents good performance on other standards.\n",
    "\n",
    "<hr style=\"border-width:2px;border-color:#75DFC1\">\n",
    "<h3 style = \"text-align:center\">Synthesis</h3> \n",
    "<hr style=\"border-width:2px;border-color:#75DFC1\">\n",
    "\n",
    ">The k-NN algorithm is simple but powerful. The advantage is that he does not require any model training to make predictions, when it is generally the most complicated part of a machine learning algorithm.<br>\n",
    "> It is used in many areas, in particular: recognition of forms, compression algorithms, targeted marketing.\n",
    ">\n",
    ">On the other hand, it is a very greedy classifier in memory, sensitive to unrelevant and correlated attributes.<br>\n",
    "For a large dataset, the prediction will be slow because the algorithm travels, for each individual to classify, all the data of the learning sample.\n",
    "\n"
   ]
  }
 ],
 "metadata": {
  "kernelspec": {
   "display_name": "Python 3 (ipykernel)",
   "language": "python",
   "name": "python3"
  },
  "language_info": {
   "codemirror_mode": {
    "name": "ipython",
    "version": 3
   },
   "file_extension": ".py",
   "mimetype": "text/x-python",
   "name": "python",
   "nbconvert_exporter": "python",
   "pygments_lexer": "ipython3",
   "version": "3.9.16"
  },
  "latex_envs": {
   "LaTeX_envs_menu_present": true,
   "autoclose": false,
   "autocomplete": true,
   "bibliofile": "biblio.bib",
   "cite_by": "apalike",
   "current_citInitial": 1,
   "eqLabelWithNumbers": true,
   "eqNumInitial": 1,
   "hotkeys": {
    "equation": "Ctrl-E",
    "itemize": "Ctrl-I"
   },
   "labels_anchors": false,
   "latex_user_defs": false,
   "report_style_numbering": false,
   "user_envs_cfg": false
  },
  "owner": "DataScientest"
 },
 "nbformat": 4,
 "nbformat_minor": 4
}
