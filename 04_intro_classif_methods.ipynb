{
 "cells": [
  {
   "cell_type": "markdown",
   "metadata": {
    "colab_type": "text",
    "id": "view-in-github"
   },
   "source": [
    "<a href=\"https://colab.research.google.com/github/Demosthene-OR/Student-AI-and-Data-Management/blob/main/04_intro_classif_methods.ipynb\" target=\"_parent\"><img src=\"https://colab.research.google.com/assets/colab-badge.svg\" alt=\"Open In Colab\"/></a>"
   ]
  },
  {
   "cell_type": "markdown",
   "metadata": {
    "deletable": false,
    "editable": false,
    "id": "wAImPVmXUytN",
    "run_control": {
     "frozen": true
    },
    "tags": []
   },
   "source": [
    "<img src=\"https://prof.totalenergies.com/wp-content/uploads/2024/09/TotalEnergies_TPA_picto_DegradeRouge_RVB-1024x1024.png\" height=\"150\" width=\"150\">\n",
    "<hr style=\"border-width:2px;border-color:#75DFC1\">\n",
    "<p><h1><center>Classification models with Scikit-Learn</center></h1><img src=\"http://scikit-learn.org/stable/_images/scikit-learn-logo-notext.png\" height=\"50\" width=\"92\"></p>\n",
    "\n",
    "<hr style=\"border-width:2px;border-color:#75DFC1\">\n",
    "\n",
    "\n",
    "\n",
    "### Supervised learning\n",
    "\n",
    "> Supervised learning *(Supervised Learning in English)* is an **automatic** learning technique where we are looking to automatically produce rules that are not defined*a priori*, from a learning database containing examples.\n",
    ">\n",
    "> The main objective of supervised learning is to build and **train** a statistical model in order to predict output data usually called **label(s)**, based on input data usually called **features**.\n",
    "\n",
    "### Types of supervised learning\n",
    "\n",
    "> There are two main types of supervised learning tasks:\n",
    ">>* **Regression** is the prediction of a quantitative or continuous variable from explanatory variables.<br> Par exemple : estimer le loyer d'un appartement à partir de sa surface, sa localisation, son exposition etc...\n",
    ">>\n",
    ">>\n",
    ">>* **The classification** aims to identify the classes (s) to which objects belong from their descriptive features. It is therefore a prediction of a qualitative or categorical variable.<br>For example: to determine if an *email* must be classified as *clean* or *spam* from information on the email, such as the object, the body of the text, the presence of hypertext link etc ...<br><br>\n",
    ">> In a classification problem, *labels* can be of two kinds:\n",
    ">>>* **ordinal** When the classes are naturally ordered between them. For example: size, age, score for a test etc ...\n",
    ">>>\n",
    ">>>\n",
    ">>>* **cardinal** or nominal, when the classes cannot be classified in an order. For example: genre, colors, etc ...\n",
    ">\n",
    ">\n",
    "> The figure below summarizes the various supervised learning problems:\n",
    ">\n",
    ">\n",
    "><p><center><img src=\"https://datascientest.fr/train/assets/classif_diagram.jpg\" style = \"height:300px\" /></center></p>\n",
    ">\n",
    "><br/>\n",
    ">\n",
    "> This module details the classification as a supervised learning problem using algorithms widely used by *data scientists*, like:\n",
    ">>* **Logistic regression**.\n",
    ">>\n",
    ">>\n",
    ">>* The **Support vector machines**, in English*Vector Machine support*(SVM).\n",
    ">>\n",
    ">>\n",
    ">>* The **k method closer neighbors**, in English*K-Nearest Neighbors*(KNN).\n",
    ">>\n",
    ">>\n",
    ">>* **Decision trees**, in English *Decision Tree*.\n",
    ">>\n",
    ">>\n",
    ">>* The **Random forests**.\n",
    "\n",
    "### Learning mechanism\n",
    "\n",
    "> In supervised learning, you must systematically represent the data in the form of a Matrix *feature*, which stores the attributes or the criteria allowing to cause a model, and a *Vector*label, which contains the classes corresponding to each sample.\n",
    ">\n",
    "> In order to have an intuition on the quality and performance of a classification model, you must first separate the *dataset* in two:\n",
    ">>* The first *set* is the training set (**train set**), which constitutes the learning basis on which the model is drawn.\n",
    ">>\n",
    ">>\n",
    ">>* The second *set* is the **test set**, on which the performance of the model is calculated. In both cases, the classes corresponding to each sample are known *a priori*.\n",
    ">\n",
    "><img  src=\"https://datascientest.fr/train/assets/classif_train_test.gif\"  style = \"width:650px\" />\n",
    ">\n",
    ">\n",
    "> After launching the learning mechanism, it is then possible to make predictions for the data present in the *test set*, and build a **confusion matrix**, which distinguishes all cases from good or bad classification for each class. Most of the performance scores and metrics of a model are calculated from this matrix.\n",
    ">\n",
    "><img  src=\"https://datascientest.fr/train/assets/confusion_matrix.jpg\" style = \"height:350px\" />\n",
    ">\n",
    "> The confusion matrix makes it possible to assess the classification model and thus select the best models and settings to use.\n",
    "\n",
    "### Classification in multiple classes\n",
    "\n",
    "> Although most of *Machine Learning* techniques concern binary classification cases, it is possible to send \"multi-class\" problems.<br>\n",
    "> In general, a multi-class problem is broken down into several binary sub-probloses according to one of the two possible strategies presented below:\n",
    ">>* ***one-vs-all**:<br>\n",
    ">> The individuals of a given class are separated from **all the others**. In other words, the elements of a class are compared with the other elements of the other classes. The class of an individual is then given from the results of each submodèle of binary classification.\n",
    ">>\n",
    ">><img  src=\"https://datascientest.fr/train/assets/un_contre_tous.jpg\" style = \"height:300px\" />\n",
    ">>\n",
    ">>\n",
    ">>* **one-vs-one**:<br>\n",
    ">> In this method (OVO), for a classification problem at $k$ classes, we involve $\\frac{K(K - 1)}{2}$  binary classifiers; Everyone receives the samples of a **pair of class** from the original training set, and must learn to distinguish these two classes. At the time of the prediction, a voting scheme is applied : all $\\frac{K(K - 1)}{2}$ classifiers are applied to a new sample and the class which obtained the greatest number of predictions is chosen by the combined classification model.\n",
    ">>\n",
    ">><img  src=\"https://datascientest.fr/train/assets/un_contre_un.jpg\"  style = \"height:300px\" />"
   ]
  }
 ],
 "metadata": {
  "anaconda-cloud": {},
  "colab": {
   "include_colab_link": true,
   "provenance": []
  },
  "hide_input": false,
  "kernelspec": {
   "display_name": "Python 3 (ipykernel)",
   "language": "python",
   "name": "python3"
  },
  "language_info": {
   "codemirror_mode": {
    "name": "ipython",
    "version": 3
   },
   "file_extension": ".py",
   "mimetype": "text/x-python",
   "name": "python",
   "nbconvert_exporter": "python",
   "pygments_lexer": "ipython3",
   "version": "3.9.16"
  },
  "latex_envs": {
   "LaTeX_envs_menu_present": true,
   "autoclose": false,
   "autocomplete": true,
   "bibliofile": "biblio.bib",
   "cite_by": "apalike",
   "current_citInitial": 1,
   "eqLabelWithNumbers": true,
   "eqNumInitial": 1,
   "hotkeys": {
    "equation": "Ctrl-E",
    "itemize": "Ctrl-I"
   },
   "labels_anchors": false,
   "latex_user_defs": false,
   "report_style_numbering": false,
   "user_envs_cfg": false
  },
  "n_questions": 1,
  "nbTranslate": {
   "displayLangs": [
    "*"
   ],
   "hotkey": "alt-t",
   "langInMainMenu": true,
   "sourceLang": "en",
   "targetLang": "fr",
   "useGoogleTranslate": true
  }
 },
 "nbformat": 4,
 "nbformat_minor": 4
}
