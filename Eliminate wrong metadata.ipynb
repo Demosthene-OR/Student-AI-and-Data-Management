{
 "cells": [
  {
   "cell_type": "code",
   "execution_count": 2,
   "id": "73cd7c11-0c7c-47b8-ba5c-9152168d5edb",
   "metadata": {
    "tags": []
   },
   "outputs": [],
   "source": [
    "import nbformat\n",
    "\n",
    "# Charger ton notebook\n",
    "nb_path = \"sklearn_classif_04_decision_tree_en.ipynb\"\n",
    "with open(nb_path) as f:\n",
    "    nb = nbformat.read(f, as_version=4)\n",
    "\n",
    "# Supprimer les métadonnées problématiques\n",
    "if \"widgets\" in nb.metadata:\n",
    "    del nb.metadata[\"widgets\"]\n",
    "\n",
    "# Réenregistrer le notebook\n",
    "with open(nb_path, \"w\") as f:\n",
    "    nbformat.write(nb, f)\n"
   ]
  },
  {
   "cell_type": "code",
   "execution_count": null,
   "id": "2f0d5e99-eb42-4c54-be09-d8f29a5d80da",
   "metadata": {},
   "outputs": [],
   "source": [
    "import nbformat\n",
    "\n",
    "notebook_path = \"MonNotebook.ipynb\"  # ton fichier notebook\n",
    "clean_path = \"MonNotebook_clean.ipynb\"  # fichier nettoyé\n",
    "\n",
    "# Charger le notebook\n",
    "with open(notebook_path) as f:\n",
    "    nb = nbformat.read(f, as_version=4)\n",
    "\n",
    "# Supprimer les widgets\n",
    "if \"widgets\" in nb.metadata:\n",
    "    del nb.metadata[\"widgets\"]\n",
    "\n",
    "# Réécrire le notebook nettoyé\n",
    "with open(clean_path, \"w\") as f:\n",
    "    nbformat.write(nb, f)\n",
    "\n",
    "print(f\"Notebook nettoyé enregistré sous {clean_path}\")"
   ]
  },
  {
   "cell_type": "code",
   "execution_count": null,
   "id": "c3a3d269-80e7-4fe6-9ecd-c1e58f57400e",
   "metadata": {},
   "outputs": [],
   "source": []
  }
 ],
 "metadata": {
  "kernelspec": {
   "display_name": "Python 3 (ipykernel)",
   "language": "python",
   "name": "python3"
  },
  "language_info": {
   "codemirror_mode": {
    "name": "ipython",
    "version": 3
   },
   "file_extension": ".py",
   "mimetype": "text/x-python",
   "name": "python",
   "nbconvert_exporter": "python",
   "pygments_lexer": "ipython3",
   "version": "3.9.16"
  }
 },
 "nbformat": 4,
 "nbformat_minor": 5
}
