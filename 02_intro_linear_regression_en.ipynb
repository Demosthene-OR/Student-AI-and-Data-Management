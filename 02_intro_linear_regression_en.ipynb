{
 "cells": [
  {
   "cell_type": "markdown",
   "metadata": {},
   "source": [
    "<a href=\"https://colab.research.google.com/github/Demosthene-OR/Student-AI-and-Data-Management/blob/main/02_intro_linear_regression_en.ipynb\" target=\"_parent\"><img src=\"https://colab.research.google.com/assets/colab-badge.svg\" alt=\"Open In Colab\"/></a>"
   ]
  },
  {
   "cell_type": "markdown",
   "metadata": {
    "deletable": false,
    "run_control": {
     "frozen": true
    },
    "tags": []
   },
   "source": [
    "<img src=\"https://prof.totalenergies.com/wp-content/uploads/2024/09/TotalEnergies_TPA_picto_DegradeRouge_RVB-1024x1024.png\" height=\"150\" width=\"150\">\n",
    "<hr style=\"border-width:2px;border-color:#75DFC1\">\n",
    "<center><h1> Introduction to Machine Learning with scikit-learn </h1></center>\n",
    "<center><h2> Linear Regression </h2></center>\n",
    "<hr style=\"border-width:2px;border-color:#75DFC1\">\n",
    "\n",
    "\n",
    "\n",
    "## Introduction\n",
    "\n",
    "> This notebook introduces the concepts of Machine Learning, and more specifically linear regression, to show how Python is a programming language well suited to machine learning problems. All of these concepts will be presented in more detail and put into practice in the modules dedicated to Machine Learning.\n",
    ">\n",
    "> Machine learning is a subfield of artificial intelligence that enables computers to learn how to automatically perform tasks based on data. When the task to be performed is the prediction of a variable, we refer to this as supervised learning.\n",
    ">\n",
    "> Linear regression is one of the first predictive models of supervised learning to have been studied. This model allows us to predict a quantitative variable. Today, it is the most popular model for practical applications due to its simplicity.\n",
    ">\n",
    "> In the linear regression model, we have $y$, the quantitative variable to be predicted (called the target variable), and explanatory variables that enable prediction.\n",
    "\n",
    "### Univariate Linear Regression\n",
    "\n",
    "> In the univariate linear model, we have two variables, $y$ called the target variable and $x$ called the explanatory variable. <br>\n",
    "> Linear regression consists of modeling the relationship between these two variables using an affine function. Thus, the formula for the univariate linear model is given by:\n",
    "> $$y \\approx \\beta_1 x + \\beta_0 $$\n",
    "> where:\n",
    ">> * $y$ is the variable we want to predict.\n",
    ">>\n",
    ">>\n",
    ">> * $x$ is the explanatory variable.\n",
    ">>\n",
    ">>\n",
    ">> * $\\beta_1$ and $\\beta_0$ are the parameters of the linear function. $\\beta_1$ will define its **slope** and $\\beta_0$ will define its y-intercept (also called **bias**).\n",
    ">\n",
    "> **The goal of linear regression is to estimate the best parameters $\\beta_0$ and $\\beta_1$ to predict the variable $y$ from a given value of $x$**.\n",
    ">\n",
    "> To get a feel for univariate linear regression, let's look at the interactive example below.\n",
    "\n",
    "* **(a)** Run the following cell to display the interactive figure. In this figure, we have simulated a dataset.\n",
    "\n",
    "\n",
    "* **(b)** Use the sliders on the `Regression` tab to find the parameters $\\beta_0$ and $\\beta_1$ that best fit all the points in the dataset.\n",
    "\n",
    "\n",
    "* **(c)** What is the effect of each parameter on the regression function? \n"
   ]
  },
  {
   "cell_type": "code",
   "execution_count": 1,
   "metadata": {
    "deletable": false,
    "tags": []
   },
   "outputs": [
    {
     "data": {
      "application/vnd.jupyter.widget-view+json": {
       "model_id": "214bec3a06874d54bdbd1cdb1ff9c48a",
       "version_major": 2,
       "version_minor": 0
      },
      "text/plain": [
       "Figure(axes=[Axis(label='X', scale=LinearScale(max=4.0, min=-4.0)), Axis(label='Y', orientation='vertical', sc…"
      ]
     },
     "metadata": {},
     "output_type": "display_data"
    },
    {
     "data": {
      "application/vnd.jupyter.widget-view+json": {
       "model_id": "74022ed9fa5441c5be04b25751bc033f",
       "version_major": 2,
       "version_minor": 0
      },
      "text/plain": [
       "VBox(children=(FloatSlider(value=1.5, description='β0', max=4.0, min=-4.0), FloatSlider(value=0.5, description…"
      ]
     },
     "metadata": {},
     "output_type": "display_data"
    }
   ],
   "source": [
    "!wget -q https://raw.githubusercontent.com/Demosthene-OR/Student-AI-and-Data-Management/main/regression_widgets.py\n",
    "from regression_widgets import regression_widget_linear\n",
    "\n",
    "regression_widget_linear()\n"
   ]
  },
  {
   "cell_type": "markdown",
   "metadata": {
    "deletable": false,
    "run_control": {
     "frozen": true
    },
    "tags": []
   },
   "source": [
    "### Multiple Linear Regression\n",
    "\n",
    "> Multiple linear regression consists of modeling the relationship between a target variable $y$ and **several explanatory variables** $x_1$, $x_2$, ... ,$x_p$, often referred to as *features*:\n",
    "> $$\n",
    "\\begin{align}\n",
    "    y & \\approx β_0 + β_1 x_1 + β_2 x_2 + ⋯ + β_p x_p \\\\\n",
    "      & \\approx β_0+ \\sum_{j=1}^{p} β_j x_j \n",
    "\\end{align}\n",
    "$$\n",
    ">\n",
    "> There are now $p + 1$ parameters $\\beta_j$ to find.\n",
    "\n",
    "\n",
    "## Using scikit-learn for linear regression\n",
    "\n",
    "> We will now learn how to use the **`scikit-learn`** library to solve a machine learning problem. In particular, we will see how useful this library is for preparing data and then implementing models.\n",
    ">\n",
    "> We are working on a project where the objective is to predict the **selling price of a car** based on its **characteristics**. The variable to be predicted is quantitative, so we are dealing with a regression problem.\n",
    "\n",
    "### Importing the dataset\n",
    "\n",
    "> The dataset we will use below contains many characteristics about different cars from 1985.\n",
    ">\n",
    "> For simplicity, only numerical variables have been kept and rows with missing values have been removed.\n",
    "\n",
    "* **(a)** Import the `pandas` module under the alias `pd`.\n",
    "\n",
    "\n",
    "* **(b)** In a `DataFrame` named `df`, import the `automobiles.csv` dataset using the `read_csv` function from `pandas`. This file is located in the same folder as the execution environment for this notebook.\n",
    "\n",
    "\n",
    "* **(c)** Display the first 5 rows of `df` to verify that the import was successful.\n",
    "\n",
    "\n"
   ]
  },
  {
   "cell_type": "code",
   "execution_count": 2,
   "metadata": {},
   "outputs": [],
   "source": [
    "# Insert your code here\n",
    "\n",
    "\n",
    "\n"
   ]
  },
  {
   "cell_type": "code",
   "execution_count": 3,
   "metadata": {
    "deletable": false,
    "function": "solution",
    "tags": []
   },
   "outputs": [
    {
     "data": {
      "text/html": [
       "<div>\n",
       "<style scoped>\n",
       "    .dataframe tbody tr th:only-of-type {\n",
       "        vertical-align: middle;\n",
       "    }\n",
       "\n",
       "    .dataframe tbody tr th {\n",
       "        vertical-align: top;\n",
       "    }\n",
       "\n",
       "    .dataframe thead th {\n",
       "        text-align: right;\n",
       "    }\n",
       "</style>\n",
       "<table border=\"1\" class=\"dataframe\">\n",
       "  <thead>\n",
       "    <tr style=\"text-align: right;\">\n",
       "      <th></th>\n",
       "      <th>symboling</th>\n",
       "      <th>normalized-losses</th>\n",
       "      <th>wheel-base</th>\n",
       "      <th>length</th>\n",
       "      <th>width</th>\n",
       "      <th>height</th>\n",
       "      <th>curb-weight</th>\n",
       "      <th>engine-size</th>\n",
       "      <th>bore</th>\n",
       "      <th>stroke</th>\n",
       "      <th>compression-ratio</th>\n",
       "      <th>horsepower</th>\n",
       "      <th>peak-rpm</th>\n",
       "      <th>city-mpg</th>\n",
       "      <th>highway-mpg</th>\n",
       "      <th>price</th>\n",
       "    </tr>\n",
       "  </thead>\n",
       "  <tbody>\n",
       "    <tr>\n",
       "      <th>0</th>\n",
       "      <td>2</td>\n",
       "      <td>164</td>\n",
       "      <td>99.8</td>\n",
       "      <td>176.6</td>\n",
       "      <td>66.2</td>\n",
       "      <td>54.3</td>\n",
       "      <td>2337</td>\n",
       "      <td>109</td>\n",
       "      <td>3.19</td>\n",
       "      <td>3.4</td>\n",
       "      <td>10.0</td>\n",
       "      <td>102</td>\n",
       "      <td>5500</td>\n",
       "      <td>24</td>\n",
       "      <td>30</td>\n",
       "      <td>13950</td>\n",
       "    </tr>\n",
       "    <tr>\n",
       "      <th>1</th>\n",
       "      <td>2</td>\n",
       "      <td>164</td>\n",
       "      <td>99.4</td>\n",
       "      <td>176.6</td>\n",
       "      <td>66.4</td>\n",
       "      <td>54.3</td>\n",
       "      <td>2824</td>\n",
       "      <td>136</td>\n",
       "      <td>3.19</td>\n",
       "      <td>3.4</td>\n",
       "      <td>8.0</td>\n",
       "      <td>115</td>\n",
       "      <td>5500</td>\n",
       "      <td>18</td>\n",
       "      <td>22</td>\n",
       "      <td>17450</td>\n",
       "    </tr>\n",
       "    <tr>\n",
       "      <th>2</th>\n",
       "      <td>1</td>\n",
       "      <td>158</td>\n",
       "      <td>105.8</td>\n",
       "      <td>192.7</td>\n",
       "      <td>71.4</td>\n",
       "      <td>55.7</td>\n",
       "      <td>2844</td>\n",
       "      <td>136</td>\n",
       "      <td>3.19</td>\n",
       "      <td>3.4</td>\n",
       "      <td>8.5</td>\n",
       "      <td>110</td>\n",
       "      <td>5500</td>\n",
       "      <td>19</td>\n",
       "      <td>25</td>\n",
       "      <td>17710</td>\n",
       "    </tr>\n",
       "    <tr>\n",
       "      <th>3</th>\n",
       "      <td>1</td>\n",
       "      <td>158</td>\n",
       "      <td>105.8</td>\n",
       "      <td>192.7</td>\n",
       "      <td>71.4</td>\n",
       "      <td>55.9</td>\n",
       "      <td>3086</td>\n",
       "      <td>131</td>\n",
       "      <td>3.13</td>\n",
       "      <td>3.4</td>\n",
       "      <td>8.3</td>\n",
       "      <td>140</td>\n",
       "      <td>5500</td>\n",
       "      <td>17</td>\n",
       "      <td>20</td>\n",
       "      <td>23875</td>\n",
       "    </tr>\n",
       "    <tr>\n",
       "      <th>4</th>\n",
       "      <td>2</td>\n",
       "      <td>192</td>\n",
       "      <td>101.2</td>\n",
       "      <td>176.8</td>\n",
       "      <td>64.8</td>\n",
       "      <td>54.3</td>\n",
       "      <td>2395</td>\n",
       "      <td>108</td>\n",
       "      <td>3.50</td>\n",
       "      <td>2.8</td>\n",
       "      <td>8.8</td>\n",
       "      <td>101</td>\n",
       "      <td>5800</td>\n",
       "      <td>23</td>\n",
       "      <td>29</td>\n",
       "      <td>16430</td>\n",
       "    </tr>\n",
       "  </tbody>\n",
       "</table>\n",
       "</div>"
      ],
      "text/plain": [
       "   symboling  normalized-losses  wheel-base  length  width  height  \\\n",
       "0          2                164        99.8   176.6   66.2    54.3   \n",
       "1          2                164        99.4   176.6   66.4    54.3   \n",
       "2          1                158       105.8   192.7   71.4    55.7   \n",
       "3          1                158       105.8   192.7   71.4    55.9   \n",
       "4          2                192       101.2   176.8   64.8    54.3   \n",
       "\n",
       "   curb-weight  engine-size  bore  stroke  compression-ratio  horsepower  \\\n",
       "0         2337          109  3.19     3.4               10.0         102   \n",
       "1         2824          136  3.19     3.4                8.0         115   \n",
       "2         2844          136  3.19     3.4                8.5         110   \n",
       "3         3086          131  3.13     3.4                8.3         140   \n",
       "4         2395          108  3.50     2.8                8.8         101   \n",
       "\n",
       "   peak-rpm  city-mpg  highway-mpg  price  \n",
       "0      5500        24           30  13950  \n",
       "1      5500        18           22  17450  \n",
       "2      5500        19           25  17710  \n",
       "3      5500        17           20  23875  \n",
       "4      5800        23           29  16430  "
      ]
     },
     "execution_count": 3,
     "metadata": {},
     "output_type": "execute_result"
    }
   ],
   "source": [
    "import pandas as pd\n",
    "\n",
    "url = \"https://raw.githubusercontent.com/Demosthene-OR/Student-AI-and-Data-Management/main/\"\n",
    "df = pd.read_csv(url+\"automobiles.csv\")\n",
    "df.head(5)\n"
   ]
  },
  {
   "cell_type": "markdown",
   "metadata": {
    "deletable": false,
    "run_control": {
     "frozen": true
    },
    "tags": []
   },
   "source": [
    "\n",
    "> * The variable `symboling` corresponds to the degree of risk to the insurer (risk of accident, breakdown, etc.).\n",
    ">\n",
    ">\n",
    "> * The variable `normalized_losses` is the average relative annual cost of insuring the vehicle. This value is normalized in relation to cars of the same type (SUV, utility vehicle, sports car, etc.).\n",
    ">\n",
    ">\n",
    "> * The following 13 variables relate to the technical characteristics of the cars, such as width, length, engine size, horsepower, etc.\n",
    ">\n",
    ">\n",
    "> * The last variable, `price`, corresponds to the sale price of the vehicle. This is the variable we will be trying to predict.\n",
    "\n",
    "\n",
    "### Separating the explanatory variables from the target variable\n",
    "\n",
    "> We will now create two `DataFrames`, one containing the explanatory variables and another containing the target variable `price`.\n",
    "\n",
    "* **(d)** In a `DataFrame` named `X`, make a copy of the explanatory variables in our dataset, i.e., all variables **except** `price`.\n",
    "\n",
    "\n",
    "* **(e)** In a `Series` named `y`, make a copy of the target variable `price`.\n",
    "\n"
   ]
  },
  {
   "cell_type": "code",
   "execution_count": 4,
   "metadata": {},
   "outputs": [],
   "source": [
    "# Insert your code here\n",
    "\n",
    "\n",
    "\n"
   ]
  },
  {
   "cell_type": "code",
   "execution_count": 5,
   "metadata": {
    "deletable": false,
    "function": "solution",
    "tags": []
   },
   "outputs": [],
   "source": [
    "# Explanatory variables\n",
    "X = df.drop(['price'], axis = 1)\n",
    "\n",
    "# Target variable\n",
    "y = df['price']\n"
   ]
  },
  {
   "cell_type": "markdown",
   "metadata": {
    "deletable": false,
    "run_control": {
     "frozen": true
    },
    "tags": []
   },
   "source": [
    "\n",
    "### Separating data into training and test sets\n",
    "\n",
    "> We will now separate our dataset into two parts: a **training** set and a **test** set. This step is **extremely** important in data science.\n",
    ">\n",
    "> As their names suggest: \n",
    ">> * the training part is used to “train” the model, i.e., find the optimal parameters $\\beta_0$, ..., $\\beta_p$ for this dataset.\n",
    ">>\n",
    ">>\n",
    ">> * The test part is used to “test” the trained model by evaluating its ability to **generalize** its predictions on data it has **never seen** before.\n",
    ">\n",
    "> A very useful function for performing this operation is the `train_test_split` function from the `model_selection` submodule of **`scikit-learn`**.\n",
    "\n",
    "* **(f)** Run the following cell to import the `train_test_split` function.\n",
    "\n"
   ]
  },
  {
   "cell_type": "code",
   "execution_count": 6,
   "metadata": {
    "deletable": false,
    "tags": []
   },
   "outputs": [],
   "source": [
    "from sklearn.model_selection import train_test_split\n"
   ]
  },
  {
   "cell_type": "markdown",
   "metadata": {
    "deletable": false,
    "run_control": {
     "frozen": true
    },
    "tags": []
   },
   "source": [
    "\n",
    "> This function is used as follows:\n",
    ">\n",
    "> ```python\n",
    "    X_train, X_test, y_train, y_test = train_test_split(X, y, test_size = 0.2, random_state = 42)\n",
    "> ```\n",
    ">\n",
    "> * `X_train` and `y_train` are the explanatory and target variables of the **training** dataset.\n",
    ">\n",
    ">\n",
    "> * `X_test` and `y_test` are the explanatory and target variables of the **test** dataset.\n",
    ">>\n",
    ">>\n",
    ">> * The `test_size` argument corresponds to the **proportion** of the dataset that we want to keep for the test set. In the previous example, this proportion corresponds to 20% of the initial dataset.\n",
    ">>\n",
    ">>\n",
    ">> * The `random_state` argument ensures that the data split can be reproduced. Since the operation is random, two successive splits will theoretically give two different results. As long as the value of `random_state` is the same (regardless of what that value is), the result of the train_test_split function will remain the same.\n",
    "\n",
    "* **(g)** Using the `train_test_split` function, split the dataset into a training set (`X_train`,`y_train`)  and a test set (`X_test`, `y_test`) so that the test set contains **15% of the initial dataset**. Specify the parameter `random_state = 42`.\n",
    "\n"
   ]
  },
  {
   "cell_type": "code",
   "execution_count": 7,
   "metadata": {},
   "outputs": [],
   "source": [
    "# Insert your code here\n",
    "\n",
    "\n",
    "\n"
   ]
  },
  {
   "cell_type": "code",
   "execution_count": 8,
   "metadata": {
    "deletable": false,
    "function": "solution",
    "tags": []
   },
   "outputs": [],
   "source": [
    "# Data separation into training (85%) and test game (15%)\n",
    "X_train, X_test, y_train, y_test = train_test_split(X, y, test_size=0.15, random_state = 42)\n",
    "\n",
    "\n"
   ]
  },
  {
   "cell_type": "markdown",
   "metadata": {
    "deletable": false,
    "run_control": {
     "frozen": true
    },
    "tags": []
   },
   "source": [
    "\n",
    "### Creating the regression model\n",
    "\n",
    "> To train a linear regression model on this dataset, we will use the **`LinearRegression`** class contained in the `linear_model` submodule of `scikit-learn`.\n",
    "\n",
    "* **(h)** Run the following cell to import the `LinearRegression` class.\n"
   ]
  },
  {
   "cell_type": "code",
   "execution_count": 9,
   "metadata": {
    "deletable": false,
    "tags": []
   },
   "outputs": [],
   "source": [
    "from sklearn.linear_model import LinearRegression\n"
   ]
  },
  {
   "cell_type": "markdown",
   "metadata": {
    "deletable": false,
    "run_control": {
     "frozen": true
    },
    "tags": []
   },
   "source": [
    "\n",
    "> L'API de `scikit-learn` permet d'entraîner et évaluer des modèles très facilement. Toutes les classes de modèles de scikit-learn disposent des deux méthodes suivantes :\n",
    ">> * **`fit`** : Entraîne le modèle sur un jeu de données. \n",
    ">>\n",
    ">>\n",
    ">> * **`predict`** : Effectue une prédiction à partir de variables explicatives. \n",
    ">\n",
    "> Voici un exemple d'utilisation d'un modèle avec scikit-learn :\n",
    "> \n",
    "> ```python\n",
    "># Instanciation du modèle\n",
    "> linreg = LinearRegression()      \n",
    ">    \n",
    "># Entraînement du modèle sur le jeu d'entraînement\n",
    "> linreg.fit(X_train, y_train)        \n",
    ">  \n",
    "># Prédiction de la variable cible pour le jeu de données test. Ces prédictions sont stockées dans y_pred\n",
    "> y_pred = linreg.predict(X_test)                                           \n",
    ">    ```\n",
    "\n",
    "* **(i)** Instancier un modèle `LinearRegression` nommé **`lr`**.\n",
    "\n",
    "\n",
    "* **(j)** Entraîner `lr` sur le jeu de données d'entraînement.\n",
    "\n",
    "\n",
    "* **(k)** Effectuer une prédiction sur les données d'entraînement. Stocker ces prédictions dans `y_pred_train`.\n",
    "\n",
    "\n",
    "* **(l)** Effectuer une prédiction sur les données de test. Stocker ces prédictions dans `y_pred_test`.\n"
   ]
  },
  {
   "cell_type": "code",
   "execution_count": 10,
   "metadata": {},
   "outputs": [],
   "source": [
    "# Insert your code here\n",
    "\n",
    "\n",
    "\n"
   ]
  },
  {
   "cell_type": "code",
   "execution_count": 11,
   "metadata": {
    "deletable": false,
    "function": "solution",
    "tags": []
   },
   "outputs": [],
   "source": [
    "# Model instantiation\n",
    "lr = LinearRegression()\n",
    "\n",
    "# Model training\n",
    "lr.fit(X_train, y_train)\n",
    "\n",
    "# Prediction of the target variable for train dataset\n",
    "y_pred_train = lr.predict(X_train)\n",
    "\n",
    "# Prediction of the target variable for the testing dataset\n",
    "y_pred_test = lr.predict(X_test)\n"
   ]
  },
  {
   "cell_type": "markdown",
   "metadata": {
    "deletable": false,
    "run_control": {
     "frozen": true
    },
    "tags": []
   },
   "source": [
    "\n",
    "### Evaluating model performance\n",
    "\n",
    "> In order to evaluate the **quality of the model's predictions** obtained using the parameters $\\beta_0$, ..., $\\beta_j$, there are several metrics available in the `scikit-learn` library.\n",
    ">\n",
    "> One of the most commonly used metrics for regression is **Mean Squared Error**, which exists under the name `mean_squared_error` in the `metrics` submodule of `scikit-learn`.\n",
    ">\n",
    "> This function calculates the average of the differences between the **true values** of the target variable and the **predicted values** using the regression function. The mean squared error is simply the average of these distances squared.\n",
    ">\n",
    "> The `mean_squared_error` function in `scikit-learn` is used as follows:\n",
    ">\n",
    "> ```python\n",
    "    mean_squared_error(y_true, y_pred)\n",
    "> ```\n",
    "> where:\n",
    ">> * `y_true` corresponds to the true values of the target variable.\n",
    ">>\n",
    ">>\n",
    ">> * `y_pred` corresponds to the values predicted by our model.\n",
    "\n",
    "* **(o)** Import the **`mean_squared_error`** function from the `sklearn.metrics` submodule.\n",
    "\n",
    "\n",
    "* **(p)** Evaluate the prediction quality of the model on **the training data**. Store the result in a variable named `mse_train`.\n",
    "\n",
    "\n",
    "* **(q)** Evaluate the model's prediction quality on **the test data**. Store the result in a variable named `mse_test`.\n"
   ]
  },
  {
   "cell_type": "code",
   "execution_count": 12,
   "metadata": {},
   "outputs": [],
   "source": [
    "# Insert your code here\n",
    "\n",
    "\n",
    "\n"
   ]
  },
  {
   "cell_type": "code",
   "execution_count": 13,
   "metadata": {
    "deletable": false,
    "function": "solution",
    "tags": []
   },
   "outputs": [
    {
     "name": "stdout",
     "output_type": "stream",
     "text": [
      "MSE train lr: 5025260.955898747\n",
      "MSE test lr: 6976108.119005617\n"
     ]
    }
   ],
   "source": [
    "from sklearn.metrics import mean_squared_error\n",
    "\n",
    "# Calculation the MSE between the target variable values in the train dataset and the prediction on X_train\n",
    "mse_train = mean_squared_error(y_train, y_pred_train)\n",
    "\n",
    "# Calculation of the MSE between the target variable values in the test dataset and the prediction on X_test\n",
    "mse_test = mean_squared_error(y_test, y_pred_test)\n",
    "\n",
    "print(\"MSE train lr:\", mse_train)\n",
    "print(\"MSE test lr:\", mse_test)\n"
   ]
  },
  {
   "cell_type": "markdown",
   "metadata": {
    "deletable": false,
    "run_control": {
     "frozen": true
    },
    "tags": []
   },
   "source": [
    "> The mean squared error you find should be several million on the test data, which can be difficult to interpret. \n",
    ">\n",
    "> That's why we're going to use another metric, the **mean absolute error**, which directly calculates the absolute value differences between the true values of the target variable and the predicted values.\n",
    "\n",
    "* **(s)** Import the `mean_absolute_error` function from the `sklearn.metrics` submodule.\n",
    "\n",
    "\n",
    "* **(t)** Evaluate the prediction quality on the test and training data using the mean absolute error.\n",
    "\n",
    "\n",
    "* **(u)** From the `DataFrame` `df`, calculate the average purchase price for all vehicles. Do the model's predictions seem reliable to you?\n"
   ]
  },
  {
   "cell_type": "code",
   "execution_count": 14,
   "metadata": {},
   "outputs": [],
   "source": [
    "# Insert your code here\n",
    "\n",
    "\n",
    "\n"
   ]
  },
  {
   "cell_type": "code",
   "execution_count": 15,
   "metadata": {
    "deletable": false,
    "function": "solution",
    "tags": []
   },
   "outputs": [
    {
     "name": "stdout",
     "output_type": "stream",
     "text": [
      "MAE train lr: 1664.3472259040404\n",
      "MAE test lr: 1917.5752957207453\n",
      "\n",
      "Relative error 0.16753631000197183\n"
     ]
    }
   ],
   "source": [
    "from sklearn.metrics import mean_absolute_error\n",
    "\n",
    "# Calculation of MAE between the true values of the target variable of the train and the prediction on X_train\n",
    "mae_train = mean_absolute_error(y_train, y_pred_train)\n",
    "\n",
    "# Calculation of the MAE between the true values of the target variable of the test and the prediction on X_test\n",
    "mae_test = mean_absolute_error(y_test, y_pred_test)\n",
    "\n",
    "print(\"MAE train lr:\", mae_train)\n",
    "print(\"MAE test lr:\", mae_test)\n",
    "\n",
    "mean_price = df['price'].mean()\n",
    "\n",
    "print(\"\\nRelative error\", mae_test / mean_price)\n",
    "\n",
    "# The average error is around 14% of the average price, which is not optimal\n",
    "# but is still a good baseline for testing more advanced models.\n"
   ]
  },
  {
   "cell_type": "markdown",
   "metadata": {
    "deletable": false,
    "run_control": {
     "frozen": true
    },
    "tags": []
   },
   "source": [
    "\n",
    "## Conclusion and recap\n",
    "\n",
    "> In this notebook, we introduced how to solve a machine learning problem. \n",
    "> \n",
    "> The different steps we studied are the classic steps of any project:\n",
    ">\n",
    "> * Data exploration with the `Pandas` library\n",
    ">\n",
    "> * Data preparation by separating the explanatory variables from the target variable\n",
    ">\n",
    "> * Splitting the dataset into two (a training set and a test set) using the `train_test_split` function from the `scikit-learn` library\n",
    ">\n",
    "> * Identifying the type of problem: in this case, regression\n",
    ">\n",
    "> * Instantiating a model such as `LinearRegression` with the `scikit-learn` library\n",
    ">\n",
    "> * Training the model on the training dataset using the `fit` method.\n",
    ">\n",
    "> * Predicting the test data using the `predict` method.\n",
    ">\n",
    "> * Evaluating the model's performance by calculating the error between these predictions and the actual values of the target variable in the test data. Evaluation for a regression model is easily done using the `mean_squared_error` or `mean_absolute_error` functions from the `metrics` submodule of scikit-learn.\n",
    ">\n",
    "> In the next notebook, we will perform the same steps but for solving a machine learning classification problem.\n"
   ]
  }
 ],
 "metadata": {
  "kernelspec": {
   "display_name": "Python 3 (ipykernel)",
   "language": "python",
   "name": "python3"
  },
  "language_info": {
   "codemirror_mode": {
    "name": "ipython",
    "version": 3
   },
   "file_extension": ".py",
   "mimetype": "text/x-python",
   "name": "python",
   "nbconvert_exporter": "python",
   "pygments_lexer": "ipython3",
   "version": "3.9.16"
  },
  "latex_envs": {
   "LaTeX_envs_menu_present": true,
   "autoclose": false,
   "autocomplete": true,
   "bibliofile": "biblio.bib",
   "cite_by": "apalike",
   "current_citInitial": 1,
   "eqLabelWithNumbers": true,
   "eqNumInitial": 1,
   "hotkeys": {
    "equation": "Ctrl-E",
    "itemize": "Ctrl-I"
   },
   "labels_anchors": false,
   "latex_user_defs": false,
   "report_style_numbering": false,
   "user_envs_cfg": false
  },
  "nbTranslate": {
   "displayLangs": [
    "*"
   ],
   "hotkey": "alt-t",
   "langInMainMenu": true,
   "sourceLang": "en",
   "targetLang": "fr",
   "useGoogleTranslate": true
  },
  "owner": "DataScientest"
 },
 "nbformat": 4,
 "nbformat_minor": 4
}
