{
 "cells": [
  {
   "cell_type": "markdown",
   "metadata": {},
   "source": [
    "<a href=\"https://colab.research.google.com/github/Demosthene-OR/Student-AI-and-Data-Management/blob/main/02_analysis_quali_and_temporal_variables.ipynb\" target=\"_parent\"><img src=\"https://colab.research.google.com/assets/colab-badge.svg\" alt=\"Open In Colab\"/></a>"
   ]
  },
  {
   "cell_type": "markdown",
   "metadata": {
    "deletable": false,
    "run_control": {
     "frozen": true
    },
    "tags": []
   },
   "source": [
    "\n",
    "<img src=\"https://prof.totalenergies.com/wp-content/uploads/2024/09/TotalEnergies_TPA_picto_DegradeRouge_RVB-1024x1024.png\" height=\"150\" width=\"150\">\n",
    "<hr style=\"border-width:2px;border-color:#75DFC1\">\n",
    "<h1 style = \"text-align:center\" > Exploratory statistics </h1> \n",
    "<h2 style = \"text-align:center\"> Descriptive analysis of qualitative variables in a dataset </h2> \n",
    "<hr style=\"border-width:2px;border-color:#75DFC1\">\n",
    "\n",
    "### Context and objective\n",
    "\n",
    "> Analyzing qualitative variables is an important step in understanding data, as they often provide valuable information about the interaction between variables in the dataset. <br>\n",
    "> In general, they are more difficult to manipulate than numerical variables, and it is important to observe their relationship with the latter. <br>\n",
    "> \n",
    ">\n",
    "> The objective of this notebook is to **determine the modalities of a qualitative variable** and to see how it **interacts with a quantitative and temporal variable**. <br>\n",
    "> This notebook will also familiarize you with simple methods of data management and date column management, as well as teach you how to graphically display the evolution of a measurement over time and the different modalities of a qualitative variable.\n",
    ">\n",
    "> Let's start by importing the packages.\n",
    "\n",
    "\n",
    "* **(a)** Import the **`pandas`** and **`numpy`** packages under their usual aliases.\n",
    "* **(b)** Load the data from the **`‘bike.csv’`** file into a table named **`df`** and display the first 5 rows.\n",
    "\n",
    "> The dataset contains information on bike rentals in Porto during 2011 and 2012. For each row, we have the following information: \n",
    ">\n",
    "> |Variable|Description|\n",
    "> |----------|------------|\n",
    "> |**`‘datetime’`**|the date and time when the rentals took place|\n",
    "> |**`‘business_day’`**|0 - if the day is a business day 1 - otherwise|\n",
    "> |**`‘weather_conditions’`**| (1) clear, (2) cloudy, (3) rain or storm, (4) snow|\n",
    "> |**`‘temperature’`**| the average temperature for the day (in °C) |\n",
    "> |**`‘humidity’`**| relative humidity |\n",
    "> |**`‘wind_speed’`**| wind speed (in km/h)|\n",
    "> |**`‘holidays’`**| whether or not it is a holiday |\n",
    "> |**`‘season’`**| the season |\n",
    "> |**`‘no_rentals’`**| the number of rentals at that time |\n",
    "\n",
    "\n",
    "\n"
   ]
  },
  {
   "cell_type": "code",
   "execution_count": null,
   "metadata": {},
   "outputs": [],
   "source": [
    "\n",
    "\n"
   ]
  },
  {
   "cell_type": "code",
   "execution_count": 1,
   "metadata": {
    "deletable": false,
    "function": "solution",
    "tags": []
   },
   "outputs": [
    {
     "data": {
      "text/html": [
       "<div>\n",
       "<style scoped>\n",
       "    .dataframe tbody tr th:only-of-type {\n",
       "        vertical-align: middle;\n",
       "    }\n",
       "\n",
       "    .dataframe tbody tr th {\n",
       "        vertical-align: top;\n",
       "    }\n",
       "\n",
       "    .dataframe thead th {\n",
       "        text-align: right;\n",
       "    }\n",
       "</style>\n",
       "<table border=\"1\" class=\"dataframe\">\n",
       "  <thead>\n",
       "    <tr style=\"text-align: right;\">\n",
       "      <th></th>\n",
       "      <th>datetime</th>\n",
       "      <th>business_day</th>\n",
       "      <th>weather_conditions</th>\n",
       "      <th>temperature</th>\n",
       "      <th>humidity</th>\n",
       "      <th>wind_speed</th>\n",
       "      <th>holidays</th>\n",
       "      <th>season</th>\n",
       "      <th>no_rentals</th>\n",
       "    </tr>\n",
       "  </thead>\n",
       "  <tbody>\n",
       "    <tr>\n",
       "      <th>0</th>\n",
       "      <td>2011-01-01 00:00:00</td>\n",
       "      <td>0</td>\n",
       "      <td>(1) clear weather</td>\n",
       "      <td>9.84</td>\n",
       "      <td>81</td>\n",
       "      <td>0.0</td>\n",
       "      <td>no</td>\n",
       "      <td>spring</td>\n",
       "      <td>16</td>\n",
       "    </tr>\n",
       "    <tr>\n",
       "      <th>1</th>\n",
       "      <td>2011-01-01 01:00:00</td>\n",
       "      <td>0</td>\n",
       "      <td>(1) clear weather</td>\n",
       "      <td>9.02</td>\n",
       "      <td>80</td>\n",
       "      <td>0.0</td>\n",
       "      <td>no</td>\n",
       "      <td>spring</td>\n",
       "      <td>40</td>\n",
       "    </tr>\n",
       "    <tr>\n",
       "      <th>2</th>\n",
       "      <td>2011-01-01 02:00:00</td>\n",
       "      <td>0</td>\n",
       "      <td>(1) clear weather</td>\n",
       "      <td>9.02</td>\n",
       "      <td>80</td>\n",
       "      <td>0.0</td>\n",
       "      <td>no</td>\n",
       "      <td>spring</td>\n",
       "      <td>32</td>\n",
       "    </tr>\n",
       "    <tr>\n",
       "      <th>3</th>\n",
       "      <td>2011-01-01 03:00:00</td>\n",
       "      <td>0</td>\n",
       "      <td>(1) clear weather</td>\n",
       "      <td>9.84</td>\n",
       "      <td>75</td>\n",
       "      <td>0.0</td>\n",
       "      <td>no</td>\n",
       "      <td>spring</td>\n",
       "      <td>13</td>\n",
       "    </tr>\n",
       "    <tr>\n",
       "      <th>4</th>\n",
       "      <td>2011-01-01 04:00:00</td>\n",
       "      <td>0</td>\n",
       "      <td>(1) clear weather</td>\n",
       "      <td>9.84</td>\n",
       "      <td>75</td>\n",
       "      <td>0.0</td>\n",
       "      <td>no</td>\n",
       "      <td>spring</td>\n",
       "      <td>1</td>\n",
       "    </tr>\n",
       "  </tbody>\n",
       "</table>\n",
       "</div>"
      ],
      "text/plain": [
       "              datetime  business_day weather_conditions  temperature  \\\n",
       "0  2011-01-01 00:00:00             0  (1) clear weather         9.84   \n",
       "1  2011-01-01 01:00:00             0  (1) clear weather         9.02   \n",
       "2  2011-01-01 02:00:00             0  (1) clear weather         9.02   \n",
       "3  2011-01-01 03:00:00             0  (1) clear weather         9.84   \n",
       "4  2011-01-01 04:00:00             0  (1) clear weather         9.84   \n",
       "\n",
       "   humidity  wind_speed holidays  season  no_rentals  \n",
       "0        81         0.0       no  spring          16  \n",
       "1        80         0.0       no  spring          40  \n",
       "2        80         0.0       no  spring          32  \n",
       "3        75         0.0       no  spring          13  \n",
       "4        75         0.0       no  spring           1  "
      ]
     },
     "execution_count": 1,
     "metadata": {},
     "output_type": "execute_result"
    }
   ],
   "source": [
    "import pandas as pd\n",
    "import numpy as np\n",
    "\n",
    "url = \"https://raw.githubusercontent.com/Demosthene-OR/Student-AI-and-Data-Management/main/data/\"\n",
    "df = pd.read_csv(url+\"bike.csv\")\n",
    "df.head()\n"
   ]
  },
  {
   "cell_type": "markdown",
   "metadata": {
    "deletable": false,
    "editable": false,
    "run_control": {
     "frozen": true
    }
   },
   "source": [
    "\n",
    "* **(c)** Afficher le type de chaque variable du jeu de données **`df`** en utilisant l'attribut **`dtypes`** de `pandas.DataFrame`. \n",
    "\n"
   ]
  },
  {
   "cell_type": "code",
   "execution_count": null,
   "metadata": {},
   "outputs": [],
   "source": [
    "\n",
    "\n"
   ]
  },
  {
   "cell_type": "code",
   "execution_count": 2,
   "metadata": {
    "deletable": false,
    "editable": false,
    "function": "solution"
   },
   "outputs": [
    {
     "data": {
      "text/plain": [
       "datetime               object\n",
       "business_day            int64\n",
       "weather_conditions     object\n",
       "temperature           float64\n",
       "humidity                int64\n",
       "wind_speed            float64\n",
       "holidays               object\n",
       "season                 object\n",
       "no_rentals              int64\n",
       "dtype: object"
      ]
     },
     "execution_count": 2,
     "metadata": {},
     "output_type": "execute_result"
    }
   ],
   "source": [
    "df.dtypes\n",
    "\n"
   ]
  },
  {
   "cell_type": "markdown",
   "metadata": {
    "deletable": false,
    "run_control": {
     "frozen": true
    },
    "tags": []
   },
   "source": [
    "\n",
    "<hr style=\"border-width:2px;border-color:#75DFC1\">\n",
    "<h3 style = \"text-align:center\" > 1. Analyse descriptive d'une variable qualitative </h3>  \n",
    "<hr style=\"border-width:2px;border-color:#75DFC1\">\n",
    "\n",
    "* **(d)** Identify the **categorical variables** and store them in a table named **`cat_data`**.\n",
    "\n",
    "<div class=\"alert alert-info\">\n",
    "<i class=\"fa fa-info-circle\"></i> &emsp; \n",
    "    You can use the <code>pandas.DataFrame.select_dtypes()</code> function and the <code>include</code> attribute, which you can populate with a list of the type(s) you want to keep (in this case, “object” or “O”).\n",
    "</div>\n",
    "\n",
    "\n"
   ]
  },
  {
   "cell_type": "code",
   "execution_count": null,
   "metadata": {},
   "outputs": [],
   "source": [
    "\n",
    "\n"
   ]
  },
  {
   "cell_type": "code",
   "execution_count": 3,
   "metadata": {
    "deletable": false,
    "function": "solution",
    "tags": []
   },
   "outputs": [
    {
     "data": {
      "text/html": [
       "<div>\n",
       "<style scoped>\n",
       "    .dataframe tbody tr th:only-of-type {\n",
       "        vertical-align: middle;\n",
       "    }\n",
       "\n",
       "    .dataframe tbody tr th {\n",
       "        vertical-align: top;\n",
       "    }\n",
       "\n",
       "    .dataframe thead th {\n",
       "        text-align: right;\n",
       "    }\n",
       "</style>\n",
       "<table border=\"1\" class=\"dataframe\">\n",
       "  <thead>\n",
       "    <tr style=\"text-align: right;\">\n",
       "      <th></th>\n",
       "      <th>datetime</th>\n",
       "      <th>weather_conditions</th>\n",
       "      <th>holidays</th>\n",
       "      <th>season</th>\n",
       "    </tr>\n",
       "  </thead>\n",
       "  <tbody>\n",
       "    <tr>\n",
       "      <th>0</th>\n",
       "      <td>2011-01-01 00:00:00</td>\n",
       "      <td>(1) clear weather</td>\n",
       "      <td>no</td>\n",
       "      <td>spring</td>\n",
       "    </tr>\n",
       "    <tr>\n",
       "      <th>1</th>\n",
       "      <td>2011-01-01 01:00:00</td>\n",
       "      <td>(1) clear weather</td>\n",
       "      <td>no</td>\n",
       "      <td>spring</td>\n",
       "    </tr>\n",
       "    <tr>\n",
       "      <th>2</th>\n",
       "      <td>2011-01-01 02:00:00</td>\n",
       "      <td>(1) clear weather</td>\n",
       "      <td>no</td>\n",
       "      <td>spring</td>\n",
       "    </tr>\n",
       "    <tr>\n",
       "      <th>3</th>\n",
       "      <td>2011-01-01 03:00:00</td>\n",
       "      <td>(1) clear weather</td>\n",
       "      <td>no</td>\n",
       "      <td>spring</td>\n",
       "    </tr>\n",
       "    <tr>\n",
       "      <th>4</th>\n",
       "      <td>2011-01-01 04:00:00</td>\n",
       "      <td>(1) clear weather</td>\n",
       "      <td>no</td>\n",
       "      <td>spring</td>\n",
       "    </tr>\n",
       "  </tbody>\n",
       "</table>\n",
       "</div>"
      ],
      "text/plain": [
       "              datetime weather_conditions holidays  season\n",
       "0  2011-01-01 00:00:00  (1) clear weather       no  spring\n",
       "1  2011-01-01 01:00:00  (1) clear weather       no  spring\n",
       "2  2011-01-01 02:00:00  (1) clear weather       no  spring\n",
       "3  2011-01-01 03:00:00  (1) clear weather       no  spring\n",
       "4  2011-01-01 04:00:00  (1) clear weather       no  spring"
      ]
     },
     "execution_count": 3,
     "metadata": {},
     "output_type": "execute_result"
    }
   ],
   "source": [
    "cat_data = df.select_dtypes(include='object')\n",
    "cat_data.head()\n",
    "\n"
   ]
  },
  {
   "cell_type": "markdown",
   "metadata": {
    "deletable": false,
    "run_control": {
     "frozen": true
    },
    "tags": []
   },
   "source": [
    "\n",
    "* **(e)** Using the **`value_counts`** method, display the count of different modalities for the variables **`\"weather_conditions\"`**, **`\"holidays\"`**, and **`\"season\"`**.\n",
    "\n",
    "\n"
   ]
  },
  {
   "cell_type": "code",
   "execution_count": null,
   "metadata": {},
   "outputs": [],
   "source": []
  },
  {
   "cell_type": "code",
   "execution_count": 4,
   "metadata": {
    "deletable": false,
    "function": "solution",
    "tags": []
   },
   "outputs": [
    {
     "name": "stdout",
     "output_type": "stream",
     "text": [
      "weather_conditions:\n",
      " (1) clear weather    7192\n",
      "(2) cloudy           2834\n",
      "(3) rain              859\n",
      "(4) storm, snow         1\n",
      "Name: weather_conditions, dtype: int64\n",
      "------------------------------\n",
      "holidays: no     10575\n",
      "yes      311\n",
      "Name: holidays, dtype: int64\n",
      "------------------------------\n",
      "season: hiver     2734\n",
      "summer    2733\n",
      "autumn    2733\n",
      "spring    2686\n",
      "Name: season, dtype: int64\n"
     ]
    }
   ],
   "source": [
    "print('weather_conditions:\\n',cat_data['weather_conditions'].value_counts())\n",
    "print(\"------------------------------\")\n",
    "print('holidays:',cat_data['holidays'].value_counts())\n",
    "print(\"------------------------------\")\n",
    "print('season:',cat_data['season'].value_counts())\n"
   ]
  },
  {
   "cell_type": "markdown",
   "metadata": {
    "deletable": false,
    "run_control": {
     "frozen": true
    },
    "tags": []
   },
   "source": [
    "\n",
    "> **`value_counts`** is commonly used to quickly visualize the modalities of a variable.\n",
    "You can also easily find the most frequent mode of a qualitative variable using the **`mode`** method.\n",
    "\n",
    "* **(f)**  Display **the most frequent mode** of the **`\"season\"`** column and check that it matches the result found previously.\n",
    "\n"
   ]
  },
  {
   "cell_type": "code",
   "execution_count": null,
   "metadata": {},
   "outputs": [],
   "source": [
    "\n",
    "\n",
    "\n"
   ]
  },
  {
   "cell_type": "code",
   "execution_count": 5,
   "metadata": {
    "deletable": false,
    "function": "solution",
    "tags": []
   },
   "outputs": [
    {
     "data": {
      "text/plain": [
       "0    hiver\n",
       "Name: season, dtype: object"
      ]
     },
     "execution_count": 5,
     "metadata": {},
     "output_type": "execute_result"
    }
   ],
   "source": [
    "df['season'].mode()\n",
    "# Indeed, winter is the most frequent mode\n",
    "# (it appears 2,734 times according to the result of .value_counts())\n"
   ]
  },
  {
   "cell_type": "markdown",
   "metadata": {
    "deletable": false,
    "run_control": {
     "frozen": true
    },
    "tags": []
   },
   "source": [
    "\n",
    " > First, it is important to clearly identify and study the **frequency of modalities**. The quickest way to do this is by using **`.value_counts(normalize = True)`**. This parameter allows you to normalize these values and thus calculate the percentages for each modality. \n",
    " \n",
    " * **(g)** Display the frequencies of different modalities of the variables **`\"conditions_meteo\"`**, **`\"vacances\"`**, and **`\"saison\"`**.\n",
    "\n"
   ]
  },
  {
   "cell_type": "code",
   "execution_count": null,
   "metadata": {},
   "outputs": [],
   "source": [
    "\n",
    "\n"
   ]
  },
  {
   "cell_type": "code",
   "execution_count": 6,
   "metadata": {
    "deletable": false,
    "function": "solution",
    "tags": []
   },
   "outputs": [
    {
     "name": "stdout",
     "output_type": "stream",
     "text": [
      "(1) clear weather    0.660665\n",
      "(2) cloudy           0.260334\n",
      "(3) rain             0.078909\n",
      "(4) storm, snow      0.000092\n",
      "Name: weather_conditions, dtype: float64\n",
      "------------------------------\n",
      "no     0.971431\n",
      "yes    0.028569\n",
      "Name: holidays, dtype: float64\n",
      "------------------------------\n",
      "hiver     0.251148\n",
      "summer    0.251056\n",
      "autumn    0.251056\n",
      "spring    0.246739\n",
      "Name: season, dtype: float64\n"
     ]
    }
   ],
   "source": [
    "print(cat_data[\"weather_conditions\"].value_counts(normalize = True))\n",
    "print(\"------------------------------\")\n",
    "print(cat_data[\"holidays\"].value_counts(normalize = True))\n",
    "print(\"------------------------------\")\n",
    "print(cat_data[\"season\"].value_counts(normalize = True))\n"
   ]
  },
  {
   "cell_type": "markdown",
   "metadata": {
    "deletable": false,
    "run_control": {
     "frozen": true
    },
    "tags": []
   },
   "source": [
    "\n",
    "<hr style=\"border-width:2px;border-color:#75DFC1\">\n",
    "<h3 style = \"text-align:center\"> 2. Interaction between a qualitative variable and a quantitative variable </h3> \n",
    "<hr style=\"border-width:2px;border-color:#75DFC1\">\n",
    "\n",
    "> Based on the previous question, we can see that there are far fewer bike rentals during the holidays. \n",
    "As for the seasons, the distribution is uniform.<br>\n",
    ">\n",
    "> To add more context, it would be interesting to create a qualitative variable that categorizes temperatures according to given **labels**.\n",
    "\n",
    "* **(h)** In a new variable **`\"temperature_labels\"`**, divide the values in the column **`\"temperature\"`** into **four distinct classes** with **labels** $0, 1, 2, 3$ based on the quartiles of the variable **`\"temperature\"`**.\n",
    "\n",
    "<div class=\"alert alert-info\">\n",
    "<i class=\"fa fa-info-circle\"></i> &emsp;\n",
    "Use <code>pandas.qcut(column, labels = [...], q = 4)</code>.\n",
    "</div>\n",
    "\n"
   ]
  },
  {
   "cell_type": "code",
   "execution_count": null,
   "metadata": {},
   "outputs": [],
   "source": [
    "\n",
    "\n"
   ]
  },
  {
   "cell_type": "code",
   "execution_count": 8,
   "metadata": {
    "deletable": false,
    "function": "solution",
    "tags": []
   },
   "outputs": [
    {
     "data": {
      "text/html": [
       "<div>\n",
       "<style scoped>\n",
       "    .dataframe tbody tr th:only-of-type {\n",
       "        vertical-align: middle;\n",
       "    }\n",
       "\n",
       "    .dataframe tbody tr th {\n",
       "        vertical-align: top;\n",
       "    }\n",
       "\n",
       "    .dataframe thead th {\n",
       "        text-align: right;\n",
       "    }\n",
       "</style>\n",
       "<table border=\"1\" class=\"dataframe\">\n",
       "  <thead>\n",
       "    <tr style=\"text-align: right;\">\n",
       "      <th></th>\n",
       "      <th>datetime</th>\n",
       "      <th>business_day</th>\n",
       "      <th>weather_conditions</th>\n",
       "      <th>temperature</th>\n",
       "      <th>humidity</th>\n",
       "      <th>wind_speed</th>\n",
       "      <th>holidays</th>\n",
       "      <th>season</th>\n",
       "      <th>no_rentals</th>\n",
       "      <th>temperature_labels</th>\n",
       "    </tr>\n",
       "  </thead>\n",
       "  <tbody>\n",
       "    <tr>\n",
       "      <th>0</th>\n",
       "      <td>2011-01-01 00:00:00</td>\n",
       "      <td>0</td>\n",
       "      <td>(1) clear weather</td>\n",
       "      <td>9.84</td>\n",
       "      <td>81</td>\n",
       "      <td>0.0</td>\n",
       "      <td>no</td>\n",
       "      <td>spring</td>\n",
       "      <td>16</td>\n",
       "      <td>0</td>\n",
       "    </tr>\n",
       "    <tr>\n",
       "      <th>1</th>\n",
       "      <td>2011-01-01 01:00:00</td>\n",
       "      <td>0</td>\n",
       "      <td>(1) clear weather</td>\n",
       "      <td>9.02</td>\n",
       "      <td>80</td>\n",
       "      <td>0.0</td>\n",
       "      <td>no</td>\n",
       "      <td>spring</td>\n",
       "      <td>40</td>\n",
       "      <td>0</td>\n",
       "    </tr>\n",
       "    <tr>\n",
       "      <th>2</th>\n",
       "      <td>2011-01-01 02:00:00</td>\n",
       "      <td>0</td>\n",
       "      <td>(1) clear weather</td>\n",
       "      <td>9.02</td>\n",
       "      <td>80</td>\n",
       "      <td>0.0</td>\n",
       "      <td>no</td>\n",
       "      <td>spring</td>\n",
       "      <td>32</td>\n",
       "      <td>0</td>\n",
       "    </tr>\n",
       "    <tr>\n",
       "      <th>3</th>\n",
       "      <td>2011-01-01 03:00:00</td>\n",
       "      <td>0</td>\n",
       "      <td>(1) clear weather</td>\n",
       "      <td>9.84</td>\n",
       "      <td>75</td>\n",
       "      <td>0.0</td>\n",
       "      <td>no</td>\n",
       "      <td>spring</td>\n",
       "      <td>13</td>\n",
       "      <td>0</td>\n",
       "    </tr>\n",
       "    <tr>\n",
       "      <th>4</th>\n",
       "      <td>2011-01-01 04:00:00</td>\n",
       "      <td>0</td>\n",
       "      <td>(1) clear weather</td>\n",
       "      <td>9.84</td>\n",
       "      <td>75</td>\n",
       "      <td>0.0</td>\n",
       "      <td>no</td>\n",
       "      <td>spring</td>\n",
       "      <td>1</td>\n",
       "      <td>0</td>\n",
       "    </tr>\n",
       "  </tbody>\n",
       "</table>\n",
       "</div>"
      ],
      "text/plain": [
       "              datetime  business_day weather_conditions  temperature  \\\n",
       "0  2011-01-01 00:00:00             0  (1) clear weather         9.84   \n",
       "1  2011-01-01 01:00:00             0  (1) clear weather         9.02   \n",
       "2  2011-01-01 02:00:00             0  (1) clear weather         9.02   \n",
       "3  2011-01-01 03:00:00             0  (1) clear weather         9.84   \n",
       "4  2011-01-01 04:00:00             0  (1) clear weather         9.84   \n",
       "\n",
       "   humidity  wind_speed holidays  season  no_rentals temperature_labels  \n",
       "0        81         0.0       no  spring          16                  0  \n",
       "1        80         0.0       no  spring          40                  0  \n",
       "2        80         0.0       no  spring          32                  0  \n",
       "3        75         0.0       no  spring          13                  0  \n",
       "4        75         0.0       no  spring           1                  0  "
      ]
     },
     "execution_count": 8,
     "metadata": {},
     "output_type": "execute_result"
    }
   ],
   "source": [
    "df['temperature_labels'] = pd.qcut(df['temperature'], labels = [0, 1, 2, 3], q = 4)\n",
    "df.head()\n",
    "\n"
   ]
  },
  {
   "cell_type": "markdown",
   "metadata": {
    "deletable": false,
    "run_control": {
     "frozen": true
    },
    "tags": []
   },
   "source": [
    "\n",
    "* **(i)** Store **the total number of rentals** in a new variable **`group_holidays_labels`** based on the qualitative variables **`\"temperature_labels\"`** and **`\"holidays\"`**. Display this new dataframe.\n",
    "\n",
    "<div class=\"alert alert-info\">\n",
    "<i class=\"fa fa-info-circle\"></i> &emsp;\n",
    "<code>pandas.groupby([column_list]).agg({“column1”:“operation”, ‘column2’:“operation”, ..})</code> <br>\n",
    " \n",
    "allows you to group data based on the <code>[column_list]</code> and aggregate based on <code>column1, column2, ...</code>, applying the specified operation (this can be <code><b>sum, mean, min, max, unique</b></code>, etc.).\n",
    "</div>\n",
    "\n"
   ]
  },
  {
   "cell_type": "code",
   "execution_count": null,
   "metadata": {},
   "outputs": [],
   "source": [
    "\n"
   ]
  },
  {
   "cell_type": "code",
   "execution_count": 9,
   "metadata": {
    "deletable": false,
    "function": "solution",
    "tags": []
   },
   "outputs": [
    {
     "name": "stdout",
     "output_type": "stream",
     "text": [
      "                             no_rentals\n",
      "holidays temperature_labels            \n",
      "no       0                       294042\n",
      "         1                       456152\n",
      "         2                       553940\n",
      "         3                       723534\n",
      "yes      0                         7923\n",
      "         1                        10185\n",
      "         2                        10630\n",
      "         3                        29070\n"
     ]
    }
   ],
   "source": [
    "group_holidays_labels = df.groupby(['holidays', 'temperature_labels'])\\\n",
    "                        .agg({'no_rentals': 'sum'})\n",
    "\n",
    "# Note: the backslash “\\” at the end of the first line of code\n",
    "# allows operations to continue on the second line. \n",
    "# This can be useful if visibility is limited and you don't want to \n",
    "# chain all operations on the same line.\n",
    "\n",
    "# We calculate the sum of the nb_locations column to get the total number \n",
    "# of rentals.\n",
    "print(group_holidays_labels)\n"
   ]
  },
  {
   "cell_type": "markdown",
   "metadata": {
    "deletable": false,
    "run_control": {
     "frozen": true
    },
    "tags": []
   },
   "source": [
    "\n",
    "> We observe that during vacation days and for a temperature label equal to $3$, i.e., when the temperature is above the 3rd quartile (here $26.24°C$ using `df[“temperature”].describe()`), there were a total of $29070$ rentals.\n",
    ">\n",
    "> To add a new column that will also calculate the **average number** of rentals, we can enter a **list of functions** to be executed (in the **`.agg()`** parameter) for the numeric variable **`“nb_locations”`**.\n",
    "\n",
    "* **(j)** Create a new variable **`group_holidays_labels2`** by adding a column to the previous groupby with the average number of rentals based on the columns **`\"temperature_labels\"`** and **`\"holidays\"`**. Display it.\n",
    "\n"
   ]
  },
  {
   "cell_type": "code",
   "execution_count": null,
   "metadata": {},
   "outputs": [],
   "source": [
    "\n",
    "\n",
    "\n"
   ]
  },
  {
   "cell_type": "code",
   "execution_count": 10,
   "metadata": {
    "deletable": false,
    "function": "solution",
    "tags": []
   },
   "outputs": [
    {
     "name": "stdout",
     "output_type": "stream",
     "text": [
      "                            no_rentals            \n",
      "                                   sum        mean\n",
      "holidays temperature_labels                       \n",
      "no       0                      294042  103.865065\n",
      "         1                      456152  172.262840\n",
      "         2                      553940  216.382812\n",
      "         3                      723534  285.305205\n",
      "yes      0                        7923   83.400000\n",
      "         1                       10185  166.967213\n",
      "         2                       10630  216.938776\n",
      "         3                       29070  274.245283\n"
     ]
    }
   ],
   "source": [
    "group_holidays_labels2 = df.groupby(['holidays', 'temperature_labels']).agg({'no_rentals': ['sum', 'mean']})\n",
    "print(group_holidays_labels2)\n",
    "\n"
   ]
  },
  {
   "cell_type": "markdown",
   "metadata": {
    "deletable": false,
    "run_control": {
     "frozen": true
    },
    "tags": []
   },
   "source": [
    "\n",
    "> On days when there are no holidays and the temperature is above 26.24°C (label 3), there are approximately 285 bike rentals on average.\n",
    "> \n",
    "> This type of statistic is often useful, and the data can be easily represented **graphically**.\n",
    "> \n",
    "> To refine our analysis, we will also consider the **temporal** dimension.\n",
    ">\n",
    "<hr style=\"border-width:2px;border-color:#75DFC1\">\n",
    "<h3 style = \"text-align:center\">  3. Analyzing a qualitative and quantitative variable by adding the temporal dimension </h3> \n",
    "<hr style=\"border-width:2px;border-color:#75DFC1\">\n",
    "\n",
    "> To integrate **time** into the analysis of different variables, we will manipulate objects of type **`pandas.Grouper`**.<br>\n",
    ">\n",
    ">**`pandas.groupby (pandas.Grouper()).agg()`** will allow us to group the data by date and aggregate it by the desired variable. <br>\n",
    ">\n",
    "> In order to better understand the results and the value of this object, we will use the **`matplotlib`** library to create some graphs. Later in the training, an entire module will be devoted to DataViz'.\n",
    ">\n",
    "* **(k)** Looking at the types of each variable, we can see that the **`datetime`** column is in *object* format (i.e., a string of characters).  <br>\n",
    "To work with **`pandas.Grouper`** objects, you must first convert the **`datetime`** column to a suitable **format** (*datetime*) using the **`to_datetime`** function in **`pandas`**. <br>\n",
    "\n",
    "\n",
    "* **(l)** Check that this column has been converted to the correct format. <br>\n",
    "\n",
    "**Note**: Be careful not to confuse the column name with its type. In this case, the column is coincidentally called datetime, but it is not in datetime format. \n",
    "\n"
   ]
  },
  {
   "cell_type": "code",
   "execution_count": null,
   "metadata": {},
   "outputs": [],
   "source": [
    "\n",
    "\n"
   ]
  },
  {
   "cell_type": "code",
   "execution_count": 11,
   "metadata": {
    "deletable": false,
    "function": "solution",
    "tags": []
   },
   "outputs": [
    {
     "data": {
      "text/plain": [
       "datetime              datetime64[ns]\n",
       "business_day                   int64\n",
       "weather_conditions            object\n",
       "temperature                  float64\n",
       "humidity                       int64\n",
       "wind_speed                   float64\n",
       "holidays                      object\n",
       "season                        object\n",
       "no_rentals                     int64\n",
       "temperature_labels          category\n",
       "dtype: object"
      ]
     },
     "execution_count": 11,
     "metadata": {},
     "output_type": "execute_result"
    }
   ],
   "source": [
    "df[\"datetime\"] = pd.to_datetime(df[\"datetime\"])\n",
    "\n",
    "# Check the types of columns in the dataframe df:\n",
    "df.dtypes\n",
    "# We can clearly see that the datetime column is now in datetime format.\n",
    "\n"
   ]
  },
  {
   "cell_type": "markdown",
   "metadata": {
    "deletable": false,
    "run_control": {
     "frozen": true
    },
    "tags": []
   },
   "source": [
    "\n",
    "* **(m)** Using **`pd.Grouper()`**, create an object **`grouper_month`** that takes the following arguments: \n",
    ">* `key` the name of the column with the dates\n",
    ">* `freq = m` to indicate that we want to group the data by month, `d` by day, `w` by week, etc.\n",
    "\n",
    "<div class=\"alert alert-info\">\n",
    "<i class=\"fa fa-info-circle\"></i> &emsp;\n",
    "Use <code>pandas.Grouper(key = “column name”, freq = ‘m’)</code>.\n",
    "</div>\n",
    "\n",
    "* **(n)** Display the type of the variable **`grouper_month`**.\n",
    "\n"
   ]
  },
  {
   "cell_type": "code",
   "execution_count": null,
   "metadata": {},
   "outputs": [],
   "source": [
    "\n",
    "\n"
   ]
  },
  {
   "cell_type": "code",
   "execution_count": 12,
   "metadata": {
    "deletable": false,
    "function": "solution",
    "tags": []
   },
   "outputs": [
    {
     "data": {
      "text/plain": [
       "pandas.core.resample.TimeGrouper"
      ]
     },
     "execution_count": 12,
     "metadata": {},
     "output_type": "execute_result"
    }
   ],
   "source": [
    "grouper_month = pd.Grouper(key = 'datetime', freq = 'm')\n",
    "\n",
    "# le type de la variable grouper_mois: \n",
    "type(grouper_month)\n",
    "# on observe que le type est pandas.core.resample.TimeGrouper\n",
    "# pour pouvoir retirer l'information de cette variable\n",
    "# il faut l'utiliser avec la commade .groupby()\n"
   ]
  },
  {
   "cell_type": "markdown",
   "metadata": {
    "deletable": false,
    "run_control": {
     "frozen": true
    },
    "tags": []
   },
   "source": [
    "\n",
    "* **(o)** Create an object named **`groupby_month_weather`** by grouping by the list of variables **`[group_month, df[“weather_conditions”]]`** and calculating the average rentals in the column **`“no_rentals”`**. <br>\n",
    "Apply the **`unstack`** method at the end to put the data in columns. <br>\n",
    "Display the first 5 rows of the dataframe. <br>\n",
    "\n",
    "\n",
    "* **(p)** Comment on the results obtained.\n",
    "\n"
   ]
  },
  {
   "cell_type": "code",
   "execution_count": null,
   "metadata": {},
   "outputs": [],
   "source": [
    "\n"
   ]
  },
  {
   "cell_type": "code",
   "execution_count": 14,
   "metadata": {
    "deletable": false,
    "function": "solution",
    "tags": []
   },
   "outputs": [
    {
     "data": {
      "text/html": [
       "<div>\n",
       "<style scoped>\n",
       "    .dataframe tbody tr th:only-of-type {\n",
       "        vertical-align: middle;\n",
       "    }\n",
       "\n",
       "    .dataframe tbody tr th {\n",
       "        vertical-align: top;\n",
       "    }\n",
       "\n",
       "    .dataframe thead tr th {\n",
       "        text-align: left;\n",
       "    }\n",
       "\n",
       "    .dataframe thead tr:last-of-type th {\n",
       "        text-align: right;\n",
       "    }\n",
       "</style>\n",
       "<table border=\"1\" class=\"dataframe\">\n",
       "  <thead>\n",
       "    <tr>\n",
       "      <th></th>\n",
       "      <th colspan=\"4\" halign=\"left\">no_rentals</th>\n",
       "    </tr>\n",
       "    <tr>\n",
       "      <th>weather_conditions</th>\n",
       "      <th>(1) clear weather</th>\n",
       "      <th>(2) cloudy</th>\n",
       "      <th>(3) rain</th>\n",
       "      <th>(4) storm, snow</th>\n",
       "    </tr>\n",
       "    <tr>\n",
       "      <th>datetime</th>\n",
       "      <th></th>\n",
       "      <th></th>\n",
       "      <th></th>\n",
       "      <th></th>\n",
       "    </tr>\n",
       "  </thead>\n",
       "  <tbody>\n",
       "    <tr>\n",
       "      <th>2011-01-31</th>\n",
       "      <td>59.483146</td>\n",
       "      <td>50.260870</td>\n",
       "      <td>28.230769</td>\n",
       "      <td>NaN</td>\n",
       "    </tr>\n",
       "    <tr>\n",
       "      <th>2011-02-28</th>\n",
       "      <td>77.596154</td>\n",
       "      <td>75.171717</td>\n",
       "      <td>34.057143</td>\n",
       "      <td>NaN</td>\n",
       "    </tr>\n",
       "    <tr>\n",
       "      <th>2011-03-31</th>\n",
       "      <td>95.474638</td>\n",
       "      <td>88.204545</td>\n",
       "      <td>19.500000</td>\n",
       "      <td>NaN</td>\n",
       "    </tr>\n",
       "    <tr>\n",
       "      <th>2011-04-30</th>\n",
       "      <td>128.177489</td>\n",
       "      <td>103.084337</td>\n",
       "      <td>65.448276</td>\n",
       "      <td>NaN</td>\n",
       "    </tr>\n",
       "    <tr>\n",
       "      <th>2011-05-31</th>\n",
       "      <td>192.539326</td>\n",
       "      <td>154.890511</td>\n",
       "      <td>136.250000</td>\n",
       "      <td>NaN</td>\n",
       "    </tr>\n",
       "  </tbody>\n",
       "</table>\n",
       "</div>"
      ],
      "text/plain": [
       "                          no_rentals                                        \n",
       "weather_conditions (1) clear weather  (2) cloudy    (3) rain (4) storm, snow\n",
       "datetime                                                                    \n",
       "2011-01-31                 59.483146   50.260870   28.230769             NaN\n",
       "2011-02-28                 77.596154   75.171717   34.057143             NaN\n",
       "2011-03-31                 95.474638   88.204545   19.500000             NaN\n",
       "2011-04-30                128.177489  103.084337   65.448276             NaN\n",
       "2011-05-31                192.539326  154.890511  136.250000             NaN"
      ]
     },
     "execution_count": 14,
     "metadata": {},
     "output_type": "execute_result"
    }
   ],
   "source": [
    "groupby_month_weather = df.groupby([grouper_month, df['weather_conditions']])\\\n",
    "                       .agg({'no_rentals':'mean'}).unstack()\n",
    "\n",
    "\n",
    "groupby_month_weather.head()\n",
    "# For the month of January 2011 (every day until January 31)\n",
    "# there were an average of 59 bike rentals on days when the weather was clear.\n",
    "\n",
    "# In February 2011, there were an average of 34 bike rentals on days when it rained.\n"
   ]
  },
  {
   "cell_type": "markdown",
   "metadata": {
    "deletable": false,
    "run_control": {
     "frozen": true
    },
    "tags": []
   },
   "source": [
    "\n",
    "* **(q)** It can be seen that the column **`(4) storm, snow`** contains many **missing values** because this condition is very rare in the data. Replace the missing values in the dataframe **`groupby_month_weather`** with the value $0$.\n",
    "\n"
   ]
  },
  {
   "cell_type": "code",
   "execution_count": null,
   "metadata": {},
   "outputs": [],
   "source": [
    "\n"
   ]
  },
  {
   "cell_type": "code",
   "execution_count": 15,
   "metadata": {
    "deletable": false,
    "function": "solution",
    "tags": []
   },
   "outputs": [
    {
     "data": {
      "text/html": [
       "<div>\n",
       "<style scoped>\n",
       "    .dataframe tbody tr th:only-of-type {\n",
       "        vertical-align: middle;\n",
       "    }\n",
       "\n",
       "    .dataframe tbody tr th {\n",
       "        vertical-align: top;\n",
       "    }\n",
       "\n",
       "    .dataframe thead tr th {\n",
       "        text-align: left;\n",
       "    }\n",
       "\n",
       "    .dataframe thead tr:last-of-type th {\n",
       "        text-align: right;\n",
       "    }\n",
       "</style>\n",
       "<table border=\"1\" class=\"dataframe\">\n",
       "  <thead>\n",
       "    <tr>\n",
       "      <th></th>\n",
       "      <th colspan=\"4\" halign=\"left\">no_rentals</th>\n",
       "    </tr>\n",
       "    <tr>\n",
       "      <th>weather_conditions</th>\n",
       "      <th>(1) clear weather</th>\n",
       "      <th>(2) cloudy</th>\n",
       "      <th>(3) rain</th>\n",
       "      <th>(4) storm, snow</th>\n",
       "    </tr>\n",
       "    <tr>\n",
       "      <th>datetime</th>\n",
       "      <th></th>\n",
       "      <th></th>\n",
       "      <th></th>\n",
       "      <th></th>\n",
       "    </tr>\n",
       "  </thead>\n",
       "  <tbody>\n",
       "    <tr>\n",
       "      <th>2011-01-31</th>\n",
       "      <td>59.483146</td>\n",
       "      <td>50.260870</td>\n",
       "      <td>28.230769</td>\n",
       "      <td>0.0</td>\n",
       "    </tr>\n",
       "    <tr>\n",
       "      <th>2011-02-28</th>\n",
       "      <td>77.596154</td>\n",
       "      <td>75.171717</td>\n",
       "      <td>34.057143</td>\n",
       "      <td>0.0</td>\n",
       "    </tr>\n",
       "    <tr>\n",
       "      <th>2011-03-31</th>\n",
       "      <td>95.474638</td>\n",
       "      <td>88.204545</td>\n",
       "      <td>19.500000</td>\n",
       "      <td>0.0</td>\n",
       "    </tr>\n",
       "    <tr>\n",
       "      <th>2011-04-30</th>\n",
       "      <td>128.177489</td>\n",
       "      <td>103.084337</td>\n",
       "      <td>65.448276</td>\n",
       "      <td>0.0</td>\n",
       "    </tr>\n",
       "    <tr>\n",
       "      <th>2011-05-31</th>\n",
       "      <td>192.539326</td>\n",
       "      <td>154.890511</td>\n",
       "      <td>136.250000</td>\n",
       "      <td>0.0</td>\n",
       "    </tr>\n",
       "  </tbody>\n",
       "</table>\n",
       "</div>"
      ],
      "text/plain": [
       "                          no_rentals                                        \n",
       "weather_conditions (1) clear weather  (2) cloudy    (3) rain (4) storm, snow\n",
       "datetime                                                                    \n",
       "2011-01-31                 59.483146   50.260870   28.230769             0.0\n",
       "2011-02-28                 77.596154   75.171717   34.057143             0.0\n",
       "2011-03-31                 95.474638   88.204545   19.500000             0.0\n",
       "2011-04-30                128.177489  103.084337   65.448276             0.0\n",
       "2011-05-31                192.539326  154.890511  136.250000             0.0"
      ]
     },
     "execution_count": 15,
     "metadata": {},
     "output_type": "execute_result"
    }
   ],
   "source": [
    "groupby_month_weather = groupby_month_weather.fillna(0)\n",
    "groupby_month_weather.head()\n"
   ]
  },
  {
   "cell_type": "markdown",
   "metadata": {
    "deletable": false,
    "run_control": {
     "frozen": true
    },
    "tags": []
   },
   "source": [
    "\n",
    "* **(r)** Use **`.plot(figsize = (20, 4.5), style = 'o-');`** to display the results of the previous dataframe in a graph with an appropriate size (**`figsize`** parameter) and points marked on the figure (**`style`** parameter). Interpret this graph.\n",
    "\n"
   ]
  },
  {
   "cell_type": "code",
   "execution_count": null,
   "metadata": {},
   "outputs": [],
   "source": [
    "\n",
    "\n",
    "\n"
   ]
  },
  {
   "cell_type": "code",
   "execution_count": 16,
   "metadata": {
    "deletable": false,
    "function": "solution",
    "tags": []
   },
   "outputs": [
    {
     "data": {
      "image/png": "[encoded data removed]",
      "text/plain": [
       "<Figure size 2000x450 with 1 Axes>"
      ]
     },
     "metadata": {},
     "output_type": "display_data"
    }
   ],
   "source": [
    "groupby_month_weather.plot(figsize = (20, 4.5), style = 'o-');\n",
    "\n"
   ]
  },
  {
   "cell_type": "raw",
   "metadata": {},
   "source": []
  },
  {
   "cell_type": "markdown",
   "metadata": {
    "deletable": false,
    "run_control": {
     "frozen": true
    },
    "tags": []
   },
   "source": [
    "\n",
    "> All these steps have enabled us to represent the evolution over time of the average number of rentals, differentiating according to weather conditions.\n",
    "> We can see that the better the weather conditions, the higher the average number of bike rentals. Indeed, the blue curve, which corresponds to clear weather, is above the others, while the red curve, which corresponds to extreme weather conditions, is above all the other curves.  \n",
    ">\n",
    "> It should also be noted that the variable **`“weather_conditions”`** depends on the weather and that weather conditions change depending on the month. It is entirely possible that in January 2012, bike rentals were higher when weather conditions reached extreme levels (modality `(4) storm, snow` on the red curve), given that there was a lot of missing data for this modality, which we have just replaced with the value $0$, and that the only existing values were in January. <br>\n",
    ">\n",
    "> Finally, we can also see that the blue curve is usually the one above the others. This means that bike rentals are higher when the weather is clear. This is not very surprising, as the weather in Porto is mostly good.\n",
    "\n",
    "\n"
   ]
  },
  {
   "cell_type": "markdown",
   "id": "be2a0419",
   "metadata": {},
   "source": [
    "# Analysis of Qualitative and Temporal Variables"
   ]
  },
  {
   "cell_type": "code",
   "execution_count": null,
   "id": "dbf3972f",
   "metadata": {},
   "outputs": [],
   "source": [
    "\n",
    "import pandas as pd\n",
    "import matplotlib.pyplot as plt\n",
    "import seaborn as sns\n",
    "\n",
    "# Load dataset\n",
    "df = pd.read_csv(\"OilWell_Quali_Temporal.csv\")\n",
    "df.head()\n"
   ]
  },
  {
   "cell_type": "markdown",
   "id": "6f8d1875",
   "metadata": {},
   "source": [
    "## 1. Overview of qualitative variables"
   ]
  },
  {
   "cell_type": "code",
   "execution_count": null,
   "id": "8389de8a",
   "metadata": {},
   "outputs": [],
   "source": [
    "\n",
    "categorical_cols = df.select_dtypes(include='object').columns.tolist()\n",
    "for col in categorical_cols:\n",
    "    print(f\"\\nColumn: {col}\")\n",
    "    print(df[col].value_counts())\n"
   ]
  },
  {
   "cell_type": "markdown",
   "id": "94e81a9f",
   "metadata": {},
   "source": [
    "### Visualization of categorical distributions"
   ]
  },
  {
   "cell_type": "code",
   "execution_count": null,
   "id": "8378d712",
   "metadata": {},
   "outputs": [],
   "source": [
    "\n",
    "plt.figure(figsize=(12, 6))\n",
    "for i, col in enumerate(categorical_cols[:6], 1):\n",
    "    plt.subplot(2, 3, i)\n",
    "    sns.countplot(y=df[col], order=df[col].value_counts().index)\n",
    "    plt.title(f\"{col} distribution\")\n",
    "plt.tight_layout()\n",
    "plt.show()\n"
   ]
  },
  {
   "cell_type": "markdown",
   "id": "5b693ff2",
   "metadata": {},
   "source": [
    "## 2. Temporal analysis"
   ]
  },
  {
   "cell_type": "code",
   "execution_count": null,
   "id": "9b5423f8",
   "metadata": {},
   "outputs": [],
   "source": [
    "\n",
    "df['Production_Date'] = pd.to_datetime(df['Production_Date'])\n",
    "df['Last_Maintenance_Date'] = pd.to_datetime(df['Last_Maintenance_Date'])\n",
    "df = df.sort_values('Production_Date')\n",
    "\n",
    "df['Days_Since_Maintenance'] = (df['Production_Date'] - df['Last_Maintenance_Date']).dt.days\n",
    "df[['Production_Date', 'Last_Maintenance_Date', 'Days_Since_Maintenance']].head()\n"
   ]
  },
  {
   "cell_type": "markdown",
   "id": "55d09cd7",
   "metadata": {},
   "source": [
    "### Visualization of temporal evolution"
   ]
  },
  {
   "cell_type": "code",
   "execution_count": null,
   "id": "37542e48",
   "metadata": {},
   "outputs": [],
   "source": [
    "\n",
    "plt.figure(figsize=(10,5))\n",
    "sns.histplot(df['Days_Since_Maintenance'], bins=30, kde=True)\n",
    "plt.title(\"Distribution of Days Since Last Maintenance\")\n",
    "plt.xlabel(\"Days since maintenance\")\n",
    "plt.ylabel(\"Count\")\n",
    "plt.show()\n"
   ]
  },
  {
   "cell_type": "markdown",
   "id": "68dae1ed",
   "metadata": {},
   "source": [
    "### Time trends by operator"
   ]
  },
  {
   "cell_type": "code",
   "execution_count": null,
   "id": "fe670636",
   "metadata": {},
   "outputs": [],
   "source": [
    "\n",
    "operator_trends = df.groupby(['Operator', pd.Grouper(key='Production_Date', freq='M')])['Days_Since_Maintenance'].mean().reset_index()\n",
    "\n",
    "plt.figure(figsize=(10,6))\n",
    "sns.lineplot(data=operator_trends, x='Production_Date', y='Days_Since_Maintenance', hue='Operator')\n",
    "plt.title(\"Average Time Between Maintenance and Production per Operator\")\n",
    "plt.xlabel(\"Production Date\")\n",
    "plt.ylabel(\"Avg Days Since Maintenance\")\n",
    "plt.show()\n"
   ]
  }
 ],
 "metadata": {
  "kernelspec": {
   "display_name": "Python 3 (ipykernel)",
   "language": "python",
   "name": "python3"
  },
  "language_info": {
   "codemirror_mode": {
    "name": "ipython",
    "version": 3
   },
   "file_extension": ".py",
   "mimetype": "text/x-python",
   "name": "python",
   "nbconvert_exporter": "python",
   "pygments_lexer": "ipython3",
   "version": "3.9.16"
  },
  "latex_envs": {
   "LaTeX_envs_menu_present": true,
   "autoclose": false,
   "autocomplete": true,
   "bibliofile": "biblio.bib",
   "cite_by": "apalike",
   "current_citInitial": 1,
   "eqLabelWithNumbers": true,
   "eqNumInitial": 1,
   "hotkeys": {
    "equation": "Ctrl-E",
    "itemize": "Ctrl-I"
   },
   "labels_anchors": false,
   "latex_user_defs": false,
   "report_style_numbering": false,
   "user_envs_cfg": false
  },
  "owner": "DataScientest",
  "widgets": {
   "application/vnd.jupyter.widget-state+json": {
    "state": {},
    "version_major": 2,
    "version_minor": 0
   }
  }
 },
 "nbformat": 4,
 "nbformat_minor": 4
}
