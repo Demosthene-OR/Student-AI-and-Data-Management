{
 "cells": [
  {
   "cell_type": "markdown",
   "metadata": {
    "deletable": false,
    "run_control": {
     "frozen": true
    },
    "tags": []
   },
   "source": [
    "\n",
    "<img src=\"https://prof.totalenergies.com/wp-content/uploads/2024/09/TotalEnergies_TPA_picto_DegradeRouge_RVB-1024x1024.png\" style=\"height:150px\"> \n",
    "<hr style=\"border-width:2px;border-color:#75DFC1\">\n",
    "<h1 style = \"text-align:center\" >Scikit-Learn: classification models</h1> \n",
    "<h2 style = \"text-align:center\">Classification using logistic regression</h2> \n",
    "<hr style=\"border-width:2px;border-color:#75DFC1\">\n",
    "\n",
    "\n",
    ">In this exercise, we will study an example of using logistics regression under Python.<br>\n",
    "> The packages used will be **pandas**, **scikit-learn** and its sub-packages notably **Linear_model**, **Metrics**, **Preprocessing** and **Model_selection**.\n",
    ">\n",
    ">This exercise relates to the parameters that can influence the admission of a high school candidate.<br>\n",
    "> The data we are going to process contain four variables:\n",
    ">> * `admit`: binary variable, which indicates whether a candidate is admitted (admitted = 1) or not (admitted = 0).\n",
    ">>\n",
    ">>\n",
    ">> * `gre` (Graduate Record Examination): A test in English created and managed by the ETS company.\n",
    ">>\n",
    ">>\n",
    ">> * `gpa` (Grade Point Average): the average of the notes of a student.\n",
    ">>\n",
    ">>\n",
    ">> * `prestige`: Prestige of the candidate, 1 being the best score and 4 weakest.\n",
    ">\n",
    "> The exercise is made up of several questions. You are invited to do them in order and be careful to respect the names of the variables.\n",
    "\n",
    "<hr style=\"border-width:2px;border-color:#75DFC1\">\n",
    "<h3 style = \"text-align:center\">1. Data preparation and modeling</h3> \n",
    "<hr style=\"border-width:2px;border-color:#75DFC1\">\n",
    "\n",
    "* **(a)** Import the sub-models **`Linear_model`** and **` Preprocessing`** from the library **`Sklearn`**.\n",
    "\n",
    "\n",
    "* **(b)** Import the function **`Train_test_Split`** from the submodule **` Sklearn.model_selection`**.\n",
    "\n",
    "\n",
    "* **(c)** Import libraries **`Pandas`** and **` Numpy`** under the alias **`Pd`** and **` NP`**.\n",
    "\n",
    "\n",
    "* **(d)** Read the file **`'admissions.csv'`** in a dataframe named **`Df`**.\n",
    "\n",
    "\n",
    "* **(e)** Show the first lines of `DF` to verify that the import has been going well.\n",
    "\n",
    "<div class=\"alert alert-info\">\n",
    "<i class=\"fa fa-info-circle\"></i> &emsp; \n",
    "Remember that before looking at the solution, you can always access the official Python help by typing <code style = \"background-color: transparent ; color : inherit\"><b>help(name_function)</b></code> in the console.\n",
    "</div>\n",
    "\n"
   ]
  },
  {
   "cell_type": "code",
   "execution_count": 1,
   "metadata": {},
   "outputs": [
    {
     "data": {
      "text/html": [
       "<div>\n",
       "<style scoped>\n",
       "    .dataframe tbody tr th:only-of-type {\n",
       "        vertical-align: middle;\n",
       "    }\n",
       "\n",
       "    .dataframe tbody tr th {\n",
       "        vertical-align: top;\n",
       "    }\n",
       "\n",
       "    .dataframe thead th {\n",
       "        text-align: right;\n",
       "    }\n",
       "</style>\n",
       "<table border=\"1\" class=\"dataframe\">\n",
       "  <thead>\n",
       "    <tr style=\"text-align: right;\">\n",
       "      <th></th>\n",
       "      <th>admit</th>\n",
       "      <th>gre</th>\n",
       "      <th>gpa</th>\n",
       "      <th>prestige</th>\n",
       "    </tr>\n",
       "  </thead>\n",
       "  <tbody>\n",
       "    <tr>\n",
       "      <th>0</th>\n",
       "      <td>0</td>\n",
       "      <td>380.0</td>\n",
       "      <td>3.61</td>\n",
       "      <td>3.0</td>\n",
       "    </tr>\n",
       "    <tr>\n",
       "      <th>1</th>\n",
       "      <td>1</td>\n",
       "      <td>660.0</td>\n",
       "      <td>3.67</td>\n",
       "      <td>3.0</td>\n",
       "    </tr>\n",
       "    <tr>\n",
       "      <th>2</th>\n",
       "      <td>1</td>\n",
       "      <td>800.0</td>\n",
       "      <td>4.00</td>\n",
       "      <td>1.0</td>\n",
       "    </tr>\n",
       "    <tr>\n",
       "      <th>3</th>\n",
       "      <td>1</td>\n",
       "      <td>640.0</td>\n",
       "      <td>3.19</td>\n",
       "      <td>4.0</td>\n",
       "    </tr>\n",
       "    <tr>\n",
       "      <th>4</th>\n",
       "      <td>0</td>\n",
       "      <td>520.0</td>\n",
       "      <td>2.93</td>\n",
       "      <td>4.0</td>\n",
       "    </tr>\n",
       "  </tbody>\n",
       "</table>\n",
       "</div>"
      ],
      "text/plain": [
       "   admit    gre   gpa  prestige\n",
       "0      0  380.0  3.61       3.0\n",
       "1      1  660.0  3.67       3.0\n",
       "2      1  800.0  4.00       1.0\n",
       "3      1  640.0  3.19       4.0\n",
       "4      0  520.0  2.93       4.0"
      ]
     },
     "execution_count": 1,
     "metadata": {},
     "output_type": "execute_result"
    }
   ],
   "source": [
    "from sklearn import linear_model, preprocessing\n",
    "from sklearn.model_selection import train_test_split\n",
    "import pandas as pd\n",
    "import numpy as np\n",
    "\n",
    "url = \"https://github.com/Demosthene-OR/Student-AI-and-Data-Management/\"\n",
    "df = pd.read_csv(url+'admissions.csv')\n",
    "df.head()\n"
   ]
  },
  {
   "cell_type": "raw",
   "metadata": {
    "deletable": false,
    "editable": false,
    "function": "solution"
   },
   "source": [
    "# Import of the necessary libraries\n",
    "from sklearn import linear_model\n",
    "from sklearn import preprocessing\n",
    "from sklearn.model_selection import train_test_split\n",
    "import pandas as pd\n",
    "import numpy as np\n",
    "\n",
    "# Reading the \"Admissions.csv\" file\n",
    "df = pd.read_csv('admissions.csv')\n",
    "\n",
    "# Display of the first lines\n",
    "df.head()\n"
   ]
  },
  {
   "cell_type": "markdown",
   "metadata": {
    "deletable": false,
    "run_control": {
     "frozen": true
    },
    "tags": []
   },
   "source": [
    "\n",
    "> In the real world, the data contains anomalies or missing values ​​that compromise the quality of the dataset.\n",
    "\n",
    "* **(f)** Show information from*DataFrame* **`df`**.\n",
    "\n",
    "<div class=\"alert alert-info\">\n",
    "<i class=\"fa fa-info-circle\"></i> &emsp; \n",
    "Rappel : La méthode <code style=\"background-color:transparent; color:inherit\">info</code> résume les informations du DataFrame. Elle retourne les types de valeurs du DataFrame, le nombre de lignes et de colonnes, le nombre des valeurs non nulles, etc.\n",
    "</div>\n",
    "\n"
   ]
  },
  {
   "cell_type": "code",
   "execution_count": 3,
   "metadata": {},
   "outputs": [
    {
     "name": "stdout",
     "output_type": "stream",
     "text": [
      "<class 'pandas.core.frame.DataFrame'>\n",
      "RangeIndex: 525 entries, 0 to 524\n",
      "Data columns (total 4 columns):\n",
      " #   Column    Non-Null Count  Dtype  \n",
      "---  ------    --------------  -----  \n",
      " 0   admit     525 non-null    int64  \n",
      " 1   gre       523 non-null    float64\n",
      " 2   gpa       523 non-null    float64\n",
      " 3   prestige  524 non-null    float64\n",
      "dtypes: float64(3), int64(1)\n",
      "memory usage: 16.5 KB\n"
     ]
    }
   ],
   "source": [
    "df.info()\n",
    "\n",
    "\n",
    "\n"
   ]
  },
  {
   "cell_type": "code",
   "execution_count": 4,
   "metadata": {
    "deletable": false,
    "editable": false,
    "function": "solution"
   },
   "outputs": [
    {
     "name": "stdout",
     "output_type": "stream",
     "text": [
      "<class 'pandas.core.frame.DataFrame'>\n",
      "RangeIndex: 525 entries, 0 to 524\n",
      "Data columns (total 4 columns):\n",
      " #   Column    Non-Null Count  Dtype  \n",
      "---  ------    --------------  -----  \n",
      " 0   admit     525 non-null    int64  \n",
      " 1   gre       523 non-null    float64\n",
      " 2   gpa       523 non-null    float64\n",
      " 3   prestige  524 non-null    float64\n",
      "dtypes: float64(3), int64(1)\n",
      "memory usage: 16.5 KB\n"
     ]
    }
   ],
   "source": [
    "# Display of data information\n",
    "df.info()\n"
   ]
  },
  {
   "cell_type": "markdown",
   "metadata": {
    "deletable": false,
    "run_control": {
     "frozen": true
    },
    "tags": []
   },
   "source": [
    "\n",
    "> The variable `Gre`, as an example, contains 523 non-zero values, that is to say 2 zero values.\n",
    "\n",
    "* **(g)** Update **`df`** by deleting the samples (lines) containing at least a zero value.\n",
    "\n",
    "<div class=\"alert alert-info\">\n",
    "<i class=\"fa fa-info-circle\"></i> &emsp; \n",
    "Reminder: the <code style=\"background-color:transparent; color:inherit\">dropna</code> method returns, by default, a DataFrame by removing instances that have at least one null value.\n",
    "</div>\n",
    "\n"
   ]
  },
  {
   "cell_type": "code",
   "execution_count": 5,
   "metadata": {},
   "outputs": [],
   "source": [
    "df = df.dropna()\n",
    "\n",
    "\n"
   ]
  },
  {
   "cell_type": "code",
   "execution_count": 6,
   "metadata": {
    "deletable": false,
    "editable": false,
    "function": "solution"
   },
   "outputs": [],
   "source": [
    "# Deletion of instances containing at least zero value.\n",
    "df = df.dropna()\n"
   ]
  },
  {
   "cell_type": "markdown",
   "metadata": {
    "deletable": false,
    "run_control": {
     "frozen": true
    },
    "tags": []
   },
   "source": [
    "\n",
    "* **(h)** Show the **average** of the variable *`gre`* by group of students accepted / not accepted, thanks to the combination of the methods` groupby` and `mean`.\n",
    "\n"
   ]
  },
  {
   "cell_type": "code",
   "execution_count": 7,
   "metadata": {},
   "outputs": [
    {
     "data": {
      "text/html": [
       "<div>\n",
       "<style scoped>\n",
       "    .dataframe tbody tr th:only-of-type {\n",
       "        vertical-align: middle;\n",
       "    }\n",
       "\n",
       "    .dataframe tbody tr th {\n",
       "        vertical-align: top;\n",
       "    }\n",
       "\n",
       "    .dataframe thead th {\n",
       "        text-align: right;\n",
       "    }\n",
       "</style>\n",
       "<table border=\"1\" class=\"dataframe\">\n",
       "  <thead>\n",
       "    <tr style=\"text-align: right;\">\n",
       "      <th></th>\n",
       "      <th>gre</th>\n",
       "    </tr>\n",
       "    <tr>\n",
       "      <th>admit</th>\n",
       "      <th></th>\n",
       "    </tr>\n",
       "  </thead>\n",
       "  <tbody>\n",
       "    <tr>\n",
       "      <th>0</th>\n",
       "      <td>573.955224</td>\n",
       "    </tr>\n",
       "    <tr>\n",
       "      <th>1</th>\n",
       "      <td>634.645669</td>\n",
       "    </tr>\n",
       "  </tbody>\n",
       "</table>\n",
       "</div>"
      ],
      "text/plain": [
       "              gre\n",
       "admit            \n",
       "0      573.955224\n",
       "1      634.645669"
      ]
     },
     "execution_count": 7,
     "metadata": {},
     "output_type": "execute_result"
    }
   ],
   "source": [
    "df[['admit','gre']].groupby('admit').mean()\n",
    "\n",
    "\n",
    "\n"
   ]
  },
  {
   "cell_type": "code",
   "execution_count": 8,
   "metadata": {
    "deletable": false,
    "editable": false,
    "function": "solution"
   },
   "outputs": [
    {
     "data": {
      "text/html": [
       "<div>\n",
       "<style scoped>\n",
       "    .dataframe tbody tr th:only-of-type {\n",
       "        vertical-align: middle;\n",
       "    }\n",
       "\n",
       "    .dataframe tbody tr th {\n",
       "        vertical-align: top;\n",
       "    }\n",
       "\n",
       "    .dataframe thead th {\n",
       "        text-align: right;\n",
       "    }\n",
       "</style>\n",
       "<table border=\"1\" class=\"dataframe\">\n",
       "  <thead>\n",
       "    <tr style=\"text-align: right;\">\n",
       "      <th></th>\n",
       "      <th>gre</th>\n",
       "    </tr>\n",
       "    <tr>\n",
       "      <th>admit</th>\n",
       "      <th></th>\n",
       "    </tr>\n",
       "  </thead>\n",
       "  <tbody>\n",
       "    <tr>\n",
       "      <th>0</th>\n",
       "      <td>573.955224</td>\n",
       "    </tr>\n",
       "    <tr>\n",
       "      <th>1</th>\n",
       "      <td>634.645669</td>\n",
       "    </tr>\n",
       "  </tbody>\n",
       "</table>\n",
       "</div>"
      ],
      "text/plain": [
       "              gre\n",
       "admit            \n",
       "0      573.955224\n",
       "1      634.645669"
      ]
     },
     "execution_count": 8,
     "metadata": {},
     "output_type": "execute_result"
    }
   ],
   "source": [
    "df[['gre', 'admit']].groupby('admit').mean()\n"
   ]
  },
  {
   "cell_type": "markdown",
   "metadata": {
    "deletable": false,
    "run_control": {
     "frozen": true
    },
    "tags": []
   },
   "source": [
    "\n",
    ">In many cases, **discretize** the quantitative variables should be discretched to make machine learning algorithms more effective.<br>\n",
    "> For example, we can discretize the ages of people in several categories (15-18 years, 18-25 years, 25-40 years, etc.). This technique is widely used by statisticians for:\n",
    ">> * harmonize the type of variables.\n",
    ">>\n",
    ">>\n",
    ">> * Correct very asymmetrical distributions.\n",
    ">>\n",
    ">>\n",
    ">> * Athoring the role of extreme values.\n",
    ">>\n",
    ">>\n",
    ">> * Use statistical techniques that only work with qualitative variables.\n",
    ">\n",
    "> The `cut` function (https://pandas.pydata.org/pandas-docs/stable/generated/pandas.cut.html) of` pandas` allows you to cut a quantitative variable in **classes**. It thus makes it possible to discretize continuous variables according to **terminals** defined by the user.\n",
    ">\n",
    "> The function arguments are:\n",
    ">> * **`x`** : a **`Series`** (column of `Dataframe`) to be discreet.\n",
    ">>\n",
    ">>\n",
    ">> * `bins`: a **list** containing the **terminals** that we want to use for discretization.\n",
    ">>\n",
    ">>\n",
    ">> * **`labels`**: A **list** of **strings** which will serve as **`label`** to give to the constructed categories.\n",
    ">\n",
    ">The number of labels must therefore be equal to (number of terminals -1).<br>\n",
    "> This function returns a series containing the discretized column.\n",
    ">\n",
    ">The choice of terminals for cutting in classes can be made by logic.<br>\n",
    "> For example:\n",
    ">> * If the age of a person is **less than 18 years old**, then we put the individual in the class of **minors**.\n",
    ">>\n",
    ">>\n",
    ">> * Conversely, if age is **greater than 18 years**, then we put the individual in the class of **Major**.\n",
    ">\n",
    "> Otherwise, we can use statistical arguments to create our categories.<br>\n",
    "> For example:\n",
    ">> * Create classes of **same workforce**.\n",
    ">>\n",
    ">>\n",
    ">> * Create classes at **equal amplitudes**.\n",
    ">>\n",
    ">>\n",
    ">> * Create classes with the medium nested **method**: a first average divides individuals into two then each group is again divided into 2 by its respective average and so on.\n",
    "\n",
    "* **(i)** Using the function **`cut`** of` pandas`, discretize the variable **`gre`** of **`df`** . The following classes will be considered:\n",
    "> * If the score is between 200 and 450, then the score is **`'bad'`** .\n",
    ">\n",
    ">\n",
    "> * If the score is between 450 and 550, then the score is **`'mids'`** .\n",
    ">\n",
    ">\n",
    "> * If the score is between 550 and 620, then the score is **`'middle+'`** .\n",
    ">\n",
    ">\n",
    "> * If the score is between 620 and 800 (maximum score), then the score is **`'good'`** .\n",
    "\n",
    "\n",
    "* **(j)** Cross the variable **`admit`** of **`df`** with our discretization using the function [**`crosstab`**](https://pandas.pydata.org/pandas-docs/stable/generated/pandas.crosstab.html).\n",
    "\n",
    "\n",
    "* **(k)** What relationship can we observe between the result in the GRE test of a student and his admission?\n",
    "\n"
   ]
  },
  {
   "cell_type": "code",
   "execution_count": 9,
   "metadata": {},
   "outputs": [
    {
     "data": {
      "text/html": [
       "<div>\n",
       "<style scoped>\n",
       "    .dataframe tbody tr th:only-of-type {\n",
       "        vertical-align: middle;\n",
       "    }\n",
       "\n",
       "    .dataframe tbody tr th {\n",
       "        vertical-align: top;\n",
       "    }\n",
       "\n",
       "    .dataframe thead th {\n",
       "        text-align: right;\n",
       "    }\n",
       "</style>\n",
       "<table border=\"1\" class=\"dataframe\">\n",
       "  <thead>\n",
       "    <tr style=\"text-align: right;\">\n",
       "      <th>gre</th>\n",
       "      <th>mauvais</th>\n",
       "      <th>moyen</th>\n",
       "      <th>moyen+</th>\n",
       "      <th>bon</th>\n",
       "    </tr>\n",
       "    <tr>\n",
       "      <th>admit</th>\n",
       "      <th></th>\n",
       "      <th></th>\n",
       "      <th></th>\n",
       "      <th></th>\n",
       "    </tr>\n",
       "  </thead>\n",
       "  <tbody>\n",
       "    <tr>\n",
       "      <th>0</th>\n",
       "      <td>41</td>\n",
       "      <td>72</td>\n",
       "      <td>68</td>\n",
       "      <td>87</td>\n",
       "    </tr>\n",
       "    <tr>\n",
       "      <th>1</th>\n",
       "      <td>6</td>\n",
       "      <td>56</td>\n",
       "      <td>63</td>\n",
       "      <td>129</td>\n",
       "    </tr>\n",
       "  </tbody>\n",
       "</table>\n",
       "</div>"
      ],
      "text/plain": [
       "gre    mauvais  moyen  moyen+  bon\n",
       "admit                             \n",
       "0           41     72      68   87\n",
       "1            6     56      63  129"
      ]
     },
     "metadata": {},
     "output_type": "display_data"
    },
    {
     "name": "stdout",
     "output_type": "stream",
     "text": [
      "12% des elèves ayant un 'mauvais' test sont admis, tandis que 60% des bons élèves le sont.\n"
     ]
    }
   ],
   "source": [
    "label_gre=pd.cut(x=df['gre'],bins=[200,450,550,620,800],labels=['bad','mids','middle++','good'])\n",
    "ct_gre = pd.crosstab(df['admit'],label_gre)\n",
    "display(ct_gre)\n",
    "print(\"12% of students with a 'bad' test are admitted, while 60% of good students are.\")"
   ]
  },
  {
   "cell_type": "code",
   "execution_count": 10,
   "metadata": {
    "deletable": false,
    "editable": false,
    "function": "solution"
   },
   "outputs": [
    {
     "data": {
      "text/html": [
       "<div>\n",
       "<style scoped>\n",
       "    .dataframe tbody tr th:only-of-type {\n",
       "        vertical-align: middle;\n",
       "    }\n",
       "\n",
       "    .dataframe tbody tr th {\n",
       "        vertical-align: top;\n",
       "    }\n",
       "\n",
       "    .dataframe thead th {\n",
       "        text-align: right;\n",
       "    }\n",
       "</style>\n",
       "<table border=\"1\" class=\"dataframe\">\n",
       "  <thead>\n",
       "    <tr style=\"text-align: right;\">\n",
       "      <th>gre</th>\n",
       "      <th>mauvais</th>\n",
       "      <th>moyen</th>\n",
       "      <th>moyen +</th>\n",
       "      <th>bon</th>\n",
       "    </tr>\n",
       "    <tr>\n",
       "      <th>admit</th>\n",
       "      <th></th>\n",
       "      <th></th>\n",
       "      <th></th>\n",
       "      <th></th>\n",
       "    </tr>\n",
       "  </thead>\n",
       "  <tbody>\n",
       "    <tr>\n",
       "      <th>0</th>\n",
       "      <td>41</td>\n",
       "      <td>72</td>\n",
       "      <td>68</td>\n",
       "      <td>87</td>\n",
       "    </tr>\n",
       "    <tr>\n",
       "      <th>1</th>\n",
       "      <td>6</td>\n",
       "      <td>56</td>\n",
       "      <td>63</td>\n",
       "      <td>129</td>\n",
       "    </tr>\n",
       "  </tbody>\n",
       "</table>\n",
       "</div>"
      ],
      "text/plain": [
       "gre    mauvais  moyen  moyen +  bon\n",
       "admit                              \n",
       "0           41     72       68   87\n",
       "1            6     56       63  129"
      ]
     },
     "execution_count": 10,
     "metadata": {},
     "output_type": "execute_result"
    }
   ],
   "source": [
    "test_gre = pd.cut(x = df['gre'],\n",
    "                  bins = [200, 450, 550, 620, 800],\n",
    "                  labels = ['mauvais', 'moyen', 'moyen +', 'bon'])\n",
    "\n",
    "pd.crosstab(df['admit'], test_gre)\n",
    "\n",
    "# The more the result obtained in the GRE is high, the more the candidate ** seems to be likely to be admitted.\n",
    "# Indeed, the dominant admitted classes are \"good\" and \"medium+\"\n"
   ]
  },
  {
   "cell_type": "markdown",
   "metadata": {
    "deletable": false,
    "run_control": {
     "frozen": true
    },
    "tags": []
   },
   "source": [
    "\n",
    "* **(l)** Discretize the variable **`gpa`** of **`df`** . The following classes will be considered:\n",
    ">* If the average is between 2 and 2.8, then the student's level is **`'bad'`** .\n",
    ">\n",
    ">\n",
    ">* If the average is between 2.8 and 3.2, then the student's level is **`'mids'`** .\n",
    ">\n",
    ">\n",
    ">* If the average is between 3.2 and 3.6, then the student's level is **`'middle+'`** .\n",
    ">\n",
    ">\n",
    ">* If the average is between 3.6 and 4, then the student level is **`'good'`** .\n",
    "\n",
    "\n",
    "* **(m)** Cross the variable **`admit`** of **`df`** with our discretization. The argument **`normalize`** will be used from the`Crosstab` function to obtain the **proportions of admissions according to the level of the student** .\n",
    "\n",
    "\n",
    "* **(n)** Knowing that the percentage of students admitted in the dataaframa is around 1/2, what can we say about the influence of the level of a student on his admission? (Compare the proportion of global admitted with the proportion of admitted as a function of levels).\n",
    "\n"
   ]
  },
  {
   "cell_type": "code",
   "execution_count": 11,
   "metadata": {},
   "outputs": [
    {
     "data": {
      "text/html": [
       "<div>\n",
       "<style scoped>\n",
       "    .dataframe tbody tr th:only-of-type {\n",
       "        vertical-align: middle;\n",
       "    }\n",
       "\n",
       "    .dataframe tbody tr th {\n",
       "        vertical-align: top;\n",
       "    }\n",
       "\n",
       "    .dataframe thead th {\n",
       "        text-align: right;\n",
       "    }\n",
       "</style>\n",
       "<table border=\"1\" class=\"dataframe\">\n",
       "  <thead>\n",
       "    <tr style=\"text-align: right;\">\n",
       "      <th>gpa</th>\n",
       "      <th>mauvais</th>\n",
       "      <th>moyen</th>\n",
       "      <th>moyen+</th>\n",
       "      <th>bon</th>\n",
       "    </tr>\n",
       "    <tr>\n",
       "      <th>admit</th>\n",
       "      <th></th>\n",
       "      <th></th>\n",
       "      <th></th>\n",
       "      <th></th>\n",
       "    </tr>\n",
       "  </thead>\n",
       "  <tbody>\n",
       "    <tr>\n",
       "      <th>0</th>\n",
       "      <td>0.826087</td>\n",
       "      <td>0.532374</td>\n",
       "      <td>0.638554</td>\n",
       "      <td>0.35567</td>\n",
       "    </tr>\n",
       "    <tr>\n",
       "      <th>1</th>\n",
       "      <td>0.173913</td>\n",
       "      <td>0.467626</td>\n",
       "      <td>0.361446</td>\n",
       "      <td>0.64433</td>\n",
       "    </tr>\n",
       "  </tbody>\n",
       "</table>\n",
       "</div>"
      ],
      "text/plain": [
       "gpa     mauvais     moyen    moyen+      bon\n",
       "admit                                       \n",
       "0      0.826087  0.532374  0.638554  0.35567\n",
       "1      0.173913  0.467626  0.361446  0.64433"
      ]
     },
     "metadata": {},
     "output_type": "display_data"
    },
    {
     "name": "stdout",
     "output_type": "stream",
     "text": [
      "65% des elèves ayant un 'bon' gpa sont admis, tandis que 17% des mauvais élèves le sont sont.\n"
     ]
    }
   ],
   "source": [
    "label_gpa=pd.cut(x=df['gpa'],bins=[2,2.8,3.2,3.6,4],labels=['bad','mids','middle+','good'])\n",
    "ct_gpa = pd.crosstab(df['admit'],label_gpa, normalize='columns')\n",
    "display(ct_gpa)\n",
    "print(\"65% of students with a 'good' GPA are admitted, while 17% of poor students are.\")\n",
    "\n",
    "\n",
    "\n",
    "\n"
   ]
  },
  {
   "cell_type": "code",
   "execution_count": null,
   "metadata": {
    "deletable": false,
    "function": "solution",
    "tags": []
   },
   "outputs": [],
   "source": [
    "niveaux_notes = pd.cut(x = df['gpa'],\n",
    "                       bins = [2, 2.8, 3.2, 3.6, 4],\n",
    "                       labels= ['bad','mids','middle+','good'])\n",
    "\n",
    "pd.crosstab(df['admit'], niveaux_notes, normalize='columns') # ou normalize = 1\n",
    "\n",
    "# Students with a \"good\" level are more likely to be admitted than average (0.64> 0.5).\n",
    "# On the other hand, having an \"average\" or \"medium+\" level is not very advantageous.\n"
   ]
  },
  {
   "cell_type": "markdown",
   "metadata": {
    "deletable": false,
    "run_control": {
     "frozen": true
    },
    "tags": []
   },
   "source": [
    "\n",
    "> Once the quantitative variables are discretized, it is common to carry out their **dichotomization**.\n",
    ">\n",
    ">\n",
    "> Suppose we have the genre column describing the sex of an individual.\n",
    ">\n",
    "> | Genre |\n",
    "> | ------ |\n",
    "> | Women |\n",
    "> | Man |\n",
    "> | Man |\n",
    "> | Women |\n",
    ">\n",
    ">\n",
    ">Dichotomize a variable amounts to transforming each modality of the variable into a new indicator variable, indicating whether the modality in question corresponds or not to the individual.<br>\n",
    "> Thus, the dichotomization of the column \"gives two **news** columns` gender_man` and `gender_woman`:\n",
    ">\n",
    "> | Gender | Gender_woman | Gender_man |\n",
    "> | ------- | ------------- | ------------ |\n",
    "> | Women |      1 |      0 |\n",
    "> | Man |      0 |      1 |\n",
    "> | Man |      0 |      1 |\n",
    "> | Women |      1 |      0 |\n",
    ">\n",
    "><br>\n",
    ">\n",
    "> Dichotomization is necessary for the models of Linear *type* type *that we will see in the following. Indeed, **These models are unable to interpret qualitative variables**. Thanks to the dichotomization we have transformed this qualitative variable into a \"quantitative\" variable interpreted by a model of machine learning.\n",
    ">\n",
    "> *NB*: You will find the term *One Hot Encoding*, to talk about dichotomization. In addition, the One Hot Encoding is not the only technique for encoding a qualitative variable.\n",
    ">\n",
    ">\n",
    "> The function [`get_dummies`] (https://pandas.pydata.org/pandas-docs/stable/generated/pandas.get_dummies.html) of`pandas` makes it possible to easily transform a qualitative variable into as many indicative variables that it contains of modalities.\n",
    ">\n",
    ">\n",
    "> She takes in argument:\n",
    ">>* **`data`** : a series' or a dataframe` dichotomize.\n",
    ">>\n",
    ">>\n",
    ">>* **`prefix`**: the **prefix** to be added to the names of the variables created. By default, the prefix will be the name of the column to dichotimize.\n",
    "\n",
    "* **(o)** Using the function **`get_dummies`** of` pandas`, dichotimize the discretizations made in the previous questions. We will add to the new columns the prefixes **`'level'`** and **`'gre'`** .\n",
    "\n",
    "\n",
    "* **(p)** Using a joint or concatenation (`merge`,`concat`), merge the new `Dataframes` obtained with **`df`**.\n",
    "\n"
   ]
  },
  {
   "cell_type": "code",
   "execution_count": 13,
   "metadata": {},
   "outputs": [],
   "source": [
    "niveau=pd.get_dummies(data=label_gpa,prefix=\"level\")\n",
    "gre=pd.get_dummies(data=label_gre,prefix=\"gre\")\n",
    "df=pd.concat([df,niveau,gre],axis=1)\n",
    "\n"
   ]
  },
  {
   "cell_type": "code",
   "execution_count": 13,
   "metadata": {
    "deletable": false,
    "function": "solution",
    "tags": []
   },
   "outputs": [],
   "source": [
    "df = df.join(pd.get_dummies(niveaux_notes, prefix='level'))\n",
    "df = df.join(pd.get_dummies(test_gre, prefix='gre'))\n"
   ]
  },
  {
   "cell_type": "markdown",
   "metadata": {
    "deletable": false,
    "run_control": {
     "frozen": true
    },
    "tags": []
   },
   "source": [
    "\n",
    "* **(q)** also apply the dichotomization to the variable **`'prestige'`** of **`df`** , and join the `dataframe` obtained to **`df`** .\n",
    "\n"
   ]
  },
  {
   "cell_type": "code",
   "execution_count": 14,
   "metadata": {},
   "outputs": [
    {
     "data": {
      "text/html": [
       "<div>\n",
       "<style scoped>\n",
       "    .dataframe tbody tr th:only-of-type {\n",
       "        vertical-align: middle;\n",
       "    }\n",
       "\n",
       "    .dataframe tbody tr th {\n",
       "        vertical-align: top;\n",
       "    }\n",
       "\n",
       "    .dataframe thead th {\n",
       "        text-align: right;\n",
       "    }\n",
       "</style>\n",
       "<table border=\"1\" class=\"dataframe\">\n",
       "  <thead>\n",
       "    <tr style=\"text-align: right;\">\n",
       "      <th></th>\n",
       "      <th>admit</th>\n",
       "      <th>gre</th>\n",
       "      <th>gpa</th>\n",
       "      <th>prestige</th>\n",
       "      <th>niveau_mauvais</th>\n",
       "      <th>niveau_moyen</th>\n",
       "      <th>niveau_moyen+</th>\n",
       "      <th>niveau_bon</th>\n",
       "      <th>gre_mauvais</th>\n",
       "      <th>gre_moyen</th>\n",
       "      <th>gre_moyen +</th>\n",
       "      <th>gre_bon</th>\n",
       "      <th>prest_1.0</th>\n",
       "      <th>prest_2.0</th>\n",
       "      <th>prest_3.0</th>\n",
       "      <th>prest_4.0</th>\n",
       "    </tr>\n",
       "  </thead>\n",
       "  <tbody>\n",
       "    <tr>\n",
       "      <th>0</th>\n",
       "      <td>0</td>\n",
       "      <td>380.0</td>\n",
       "      <td>3.61</td>\n",
       "      <td>3.0</td>\n",
       "      <td>0</td>\n",
       "      <td>0</td>\n",
       "      <td>0</td>\n",
       "      <td>1</td>\n",
       "      <td>1</td>\n",
       "      <td>0</td>\n",
       "      <td>0</td>\n",
       "      <td>0</td>\n",
       "      <td>0</td>\n",
       "      <td>0</td>\n",
       "      <td>1</td>\n",
       "      <td>0</td>\n",
       "    </tr>\n",
       "    <tr>\n",
       "      <th>1</th>\n",
       "      <td>1</td>\n",
       "      <td>660.0</td>\n",
       "      <td>3.67</td>\n",
       "      <td>3.0</td>\n",
       "      <td>0</td>\n",
       "      <td>0</td>\n",
       "      <td>0</td>\n",
       "      <td>1</td>\n",
       "      <td>0</td>\n",
       "      <td>0</td>\n",
       "      <td>0</td>\n",
       "      <td>1</td>\n",
       "      <td>0</td>\n",
       "      <td>0</td>\n",
       "      <td>1</td>\n",
       "      <td>0</td>\n",
       "    </tr>\n",
       "    <tr>\n",
       "      <th>2</th>\n",
       "      <td>1</td>\n",
       "      <td>800.0</td>\n",
       "      <td>4.00</td>\n",
       "      <td>1.0</td>\n",
       "      <td>0</td>\n",
       "      <td>0</td>\n",
       "      <td>0</td>\n",
       "      <td>1</td>\n",
       "      <td>0</td>\n",
       "      <td>0</td>\n",
       "      <td>0</td>\n",
       "      <td>1</td>\n",
       "      <td>1</td>\n",
       "      <td>0</td>\n",
       "      <td>0</td>\n",
       "      <td>0</td>\n",
       "    </tr>\n",
       "    <tr>\n",
       "      <th>3</th>\n",
       "      <td>1</td>\n",
       "      <td>640.0</td>\n",
       "      <td>3.19</td>\n",
       "      <td>4.0</td>\n",
       "      <td>0</td>\n",
       "      <td>1</td>\n",
       "      <td>0</td>\n",
       "      <td>0</td>\n",
       "      <td>0</td>\n",
       "      <td>0</td>\n",
       "      <td>0</td>\n",
       "      <td>1</td>\n",
       "      <td>0</td>\n",
       "      <td>0</td>\n",
       "      <td>0</td>\n",
       "      <td>1</td>\n",
       "    </tr>\n",
       "    <tr>\n",
       "      <th>4</th>\n",
       "      <td>0</td>\n",
       "      <td>520.0</td>\n",
       "      <td>2.93</td>\n",
       "      <td>4.0</td>\n",
       "      <td>0</td>\n",
       "      <td>1</td>\n",
       "      <td>0</td>\n",
       "      <td>0</td>\n",
       "      <td>0</td>\n",
       "      <td>1</td>\n",
       "      <td>0</td>\n",
       "      <td>0</td>\n",
       "      <td>0</td>\n",
       "      <td>0</td>\n",
       "      <td>0</td>\n",
       "      <td>1</td>\n",
       "    </tr>\n",
       "  </tbody>\n",
       "</table>\n",
       "</div>"
      ],
      "text/plain": [
       "   admit    gre   gpa  prestige  niveau_mauvais  niveau_moyen  niveau_moyen+  \\\n",
       "0      0  380.0  3.61       3.0               0             0              0   \n",
       "1      1  660.0  3.67       3.0               0             0              0   \n",
       "2      1  800.0  4.00       1.0               0             0              0   \n",
       "3      1  640.0  3.19       4.0               0             1              0   \n",
       "4      0  520.0  2.93       4.0               0             1              0   \n",
       "\n",
       "   niveau_bon  gre_mauvais  gre_moyen  gre_moyen +  gre_bon  prest_1.0  \\\n",
       "0           1            1          0            0        0          0   \n",
       "1           1            0          0            0        1          0   \n",
       "2           1            0          0            0        1          1   \n",
       "3           0            0          0            0        1          0   \n",
       "4           0            0          1            0        0          0   \n",
       "\n",
       "   prest_2.0  prest_3.0  prest_4.0  \n",
       "0          0          1          0  \n",
       "1          0          1          0  \n",
       "2          0          0          0  \n",
       "3          0          0          1  \n",
       "4          0          0          1  "
      ]
     },
     "execution_count": 14,
     "metadata": {},
     "output_type": "execute_result"
    }
   ],
   "source": [
    "df = pd.concat([df,pd.get_dummies(data=df['prestige'],prefix=\"prest\")],axis=1)\n",
    "df.head()\n",
    "\n",
    "\n"
   ]
  },
  {
   "cell_type": "code",
   "execution_count": null,
   "metadata": {
    "deletable": false,
    "editable": false,
    "function": "solution"
   },
   "outputs": [],
   "source": [
    "df = df.join(pd.get_dummies(df.prestige, prefix='prest'))\n"
   ]
  },
  {
   "cell_type": "markdown",
   "metadata": {
    "deletable": false,
    "run_control": {
     "frozen": true
    },
    "tags": []
   },
   "source": [
    "\n",
    "<div class=\"alert alert-info\">\n",
    "<i class=\"fa fa-info-circle\"></i> &emsp; \n",
    "Note: When a DataFrame contains non-numeric categorical variables, applying the get_dummies() function in the entire data will eliminate these variables and replace them with the corresponding indicator variables.</div>\n",
    "* **(r)** Show information from the new `Dataframe` **`df`**.\n",
    "\n"
   ]
  },
  {
   "cell_type": "code",
   "execution_count": 16,
   "metadata": {},
   "outputs": [
    {
     "name": "stdout",
     "output_type": "stream",
     "text": [
      "<class 'pandas.core.frame.DataFrame'>\n",
      "Int64Index: 522 entries, 0 to 524\n",
      "Data columns (total 16 columns):\n",
      " #   Column          Non-Null Count  Dtype  \n",
      "---  ------          --------------  -----  \n",
      " 0   admit           522 non-null    int64  \n",
      " 1   gre             522 non-null    float64\n",
      " 2   gpa             522 non-null    float64\n",
      " 3   prestige        522 non-null    float64\n",
      " 4   niveau_mauvais  522 non-null    uint8  \n",
      " 5   niveau_moyen    522 non-null    uint8  \n",
      " 6   niveau_moyen+   522 non-null    uint8  \n",
      " 7   niveau_bon      522 non-null    uint8  \n",
      " 8   gre_mauvais     522 non-null    uint8  \n",
      " 9   gre_moyen       522 non-null    uint8  \n",
      " 10  gre_moyen +     522 non-null    uint8  \n",
      " 11  gre_bon         522 non-null    uint8  \n",
      " 12  prest_1.0       522 non-null    uint8  \n",
      " 13  prest_2.0       522 non-null    uint8  \n",
      " 14  prest_3.0       522 non-null    uint8  \n",
      " 15  prest_4.0       522 non-null    uint8  \n",
      "dtypes: float64(3), int64(1), uint8(12)\n",
      "memory usage: 42.7 KB\n"
     ]
    }
   ],
   "source": [
    "df.info()\n",
    "\n",
    "\n",
    "\n"
   ]
  },
  {
   "cell_type": "code",
   "execution_count": null,
   "metadata": {
    "deletable": false,
    "editable": false,
    "function": "solution"
   },
   "outputs": [],
   "source": [
    "df.info()\n"
   ]
  },
  {
   "cell_type": "markdown",
   "metadata": {
    "deletable": false,
    "run_control": {
     "frozen": true
    },
    "tags": []
   },
   "source": [
    "\n",
    "> The explanatory variables, in English *features*, of each candidate are represented by the attributes starting with `level`,`gre`, and `prest` *DataFrame*. The variable to be predicted is `admit`.\n",
    "\n",
    "* **(s)** Create a dataframe **`data`** in which you will store the *features* dichotomized starting with **`level`** and **`gre`** as well as **`prest_1.0`** . We choose to use these variables only to train our model.\n",
    "\n",
    "\n",
    "* **(t)** Assign the target data to the variable **`target`** .\n",
    "\n"
   ]
  },
  {
   "cell_type": "code",
   "execution_count": 17,
   "metadata": {},
   "outputs": [],
   "source": [
    "data = df.iloc[:,4:13]\n",
    "target = df['admit']\n",
    "\n",
    "\n",
    "\n",
    "\n"
   ]
  },
  {
   "cell_type": "code",
   "execution_count": null,
   "metadata": {
    "deletable": false,
    "editable": false,
    "function": "solution"
   },
   "outputs": [],
   "source": [
    "# Data and targets separation\n",
    "data = df.iloc[:,4:13]\n",
    "target = df['admit']\n"
   ]
  },
  {
   "cell_type": "code",
   "execution_count": null,
   "metadata": {},
   "outputs": [],
   "source": []
  },
  {
   "cell_type": "markdown",
   "metadata": {
    "deletable": false,
    "run_control": {
     "frozen": true
    },
    "tags": []
   },
   "source": [
    "\n",
    "* **(u)** Show the names of the columns of **`data`** .\n",
    "\n"
   ]
  },
  {
   "cell_type": "code",
   "execution_count": 18,
   "metadata": {},
   "outputs": [
    {
     "data": {
      "text/plain": [
       "Index(['niveau_mauvais', 'niveau_moyen', 'niveau_moyen+', 'niveau_bon',\n",
       "       'gre_mauvais', 'gre_moyen', 'gre_moyen +', 'gre_bon', 'prest_1.0'],\n",
       "      dtype='object')"
      ]
     },
     "metadata": {},
     "output_type": "display_data"
    }
   ],
   "source": [
    "display(data.columns)\n",
    "\n",
    "\n",
    "\n"
   ]
  },
  {
   "cell_type": "code",
   "execution_count": null,
   "metadata": {
    "deletable": false,
    "editable": false,
    "function": "solution"
   },
   "outputs": [],
   "source": [
    "data.columns\n"
   ]
  },
  {
   "cell_type": "markdown",
   "metadata": {
    "deletable": false,
    "run_control": {
     "frozen": true
    },
    "tags": []
   },
   "source": [
    "\n",
    "\n",
    "> In order to test the performance of the classification model, you must select part of the data that we dedicate to the evaluation and which, therefore, is not taken into account in the model training.\n",
    ">\n",
    ">\n",
    "> To do this, you must systematically divide the data into a training set (**`X_train`** and **`y_train`**) and a test set (**`X_test`** and **`y_test`**).\n",
    ">\n",
    "><div class=\"alert alert-info\">\n",
    "<i class=\"fa fa-info-circle\"></i> &emsp; \n",
    "<a href=\"http://scikit-learn.org/stable/modles/generated/sklearn.model_selection.train_test_split.html\">train_test_split</a> is a very useful function of the sub-model <b>model_selection</b> of <b>scikit-learn</b> for the separation of data. The function separates the matrices from <b>features</b> and <b>labels</b> spent in parameter, in a training set and a test set.\n",
    "></div>\n",
    "> \n",
    "><div class=\"alert alert-success\">\n",
    "<i class=\"fa fa-question-circle\"></i> &emsp; \n",
    "    The <b>test_size</b> parameter allows you to choose the proportions in which the data is distributed.<br>\n",
    "    The <b>shuffle</b> parameter allows you to decide whether the samples are chosen randomly (the default option), or whether the separation should be done according to the specified data order. The latter may correspond to use cases where the processed data has an order or a temporal dimension, such as financial prices, a user's browsing history on a website, etc.\n",
    "></div>\n",
    ">\n",
    "><div class=\"alert alert-success\">\n",
    "<i class=\"fa fa-question-circle\"></i> &emsp; \n",
    "Usually, the test size size is between 15% and 30% of the total amount of data. The choice of distribution essentially depends on the quantity and quality of the available data.\n",
    "</div>\n",
    "\n",
    "* **(v)** Randomly divide the matrices into a training set and a test set corresponding to 80% and 20% of the total available data, respectively. Specifically, **`data`** will be divided into **`X_train`** and **`X_test`** and **`target`** will be divided into **`y_train`** and **`y_test`**.<br>\n",
    "Add the argument `random_state = 66 'for a reproductivity of the random.\n",
    "\n"
   ]
  },
  {
   "cell_type": "code",
   "execution_count": null,
   "metadata": {},
   "outputs": [],
   "source": [
    "from sklearn.model_selection import train_test_split \n",
    "X_train, X_test, y_train, y_test = train_test_split(data, target, test_size = 0.2, random_state = 66)\n",
    "\n",
    "\n"
   ]
  },
  {
   "cell_type": "code",
   "execution_count": 19,
   "metadata": {
    "deletable": false,
    "editable": false,
    "function": "solution"
   },
   "outputs": [],
   "source": [
    "# Data decomposition into two training and testing sets\n",
    "# By default the sample is randomly distributed\n",
    "\n",
    "X_train, X_test, y_train, y_test = train_test_split(data, target, test_size=0.2, random_state=66) \n"
   ]
  },
  {
   "cell_type": "markdown",
   "metadata": {
    "deletable": false,
    "run_control": {
     "frozen": true
    },
    "tags": []
   },
   "source": [
    "\n",
    "<hr style=\"border-width:2px;border-color:#75DFC1\">\n",
    "<h3 style = \"text-align:center\">2. Classification by logistics regression</h3> \n",
    "<hr style=\"border-width:2px;border-color:#75DFC1\">\n",
    "\n",
    ">Logistics regression is a linear statistical model to study the relationships between a set of explanatory variables $ x_i $ and a target variable $ y $.<br>\n",
    "> This model uses a logistics function $ h_ \\ theta $ as a link function, which gives a probability ranging from 0 to 1.\n",
    ">\n",
    "> \\begin{equation}\n",
    "\ty =\n",
    "  \\left\\{\n",
    "      \\begin{aligned}\n",
    "        1 && si && h_\\theta(X)  \\geqslant seuil \\\\\n",
    "        0 && si && h_\\theta(X)  < seuil \\\\\n",
    "      \\end{aligned}\n",
    "    \\right.\n",
    "\\end{equation}\n",
    ">\n",
    "> Finding the optimal logistics function amounts to optimizing the following cost function according to the multi-dimensional parameter $ \\theta $:\n",
    ">\n",
    "> \\begin{equation}\n",
    "    J(\\theta) = -\\frac{1}{m}.\\left\\{ \\sum_{i=0}^m \\left\\{ y_i.log(h_{\\theta}(x^{(i)})) + (1 - y_i).log(1 - h_{\\theta}(x^{(i)})) \\right\\}+ \\lambda.\\sum_{j=1}^m \\theta_j^2\\right\\}\\\\\n",
    "    \\lambda = \\frac{1}{C} : \\text{le paramètre de régularisation}\n",
    "   \\end{equation} \n",
    ">   \n",
    "><div class=\"alert alert-success\">\n",
    "<i class=\"fa fa-question-circle\"></i> &emsp; \n",
    "To learn more about logistic regression from a mathematical perspective <a href=\"https://datascientest.fr/train/assets/fiche_logistic_reg.pdf\" target=\"_blank\">Click here</a>.\n",
    "></div>\n",
    ">\n",
    "> In the case of classification using logistics regression under Python, the optimization algorithms used are: L_BFGS (Limit_memory BFGS), SAG (Stochastic Average Gradient), Newton_CG (Newton Conjugate Gradient).\n",
    "\n",
    "* **(a)** Execute the following cell to view the influence of hyperparammeters on a logistic regression model.\n",
    "\n",
    "<div class=\"alert alert-info\">\n",
    "<i class=\"fa fa-info-circle\"></i> &emsp;\n",
    "The datasets contains twpo classes (points rouges/points bleus) with <b>x1</b> and <b>x2</b> as features. The black line represents the decision boundary of our algorithm..\n",
    "The color of the wallpaper represents the probability of belonging to one of the classes. The redder the color, the greater the probability of belonging to class 2. \n",
    "</div>\n",
    "\n"
   ]
  },
  {
   "cell_type": "code",
   "execution_count": 20,
   "metadata": {
    "deletable": false,
    "editable": false
   },
   "outputs": [
    {
     "data": {
      "application/vnd.jupyter.widget-view+json": {
       "model_id": "e4472c6c630c4251b54763f2971153e2",
       "version_major": 2,
       "version_minor": 0
      },
      "text/plain": [
       "HBox(children=(Output(), VBox(children=(VBox(children=(HTML(value='<b>Datasets</b>'), HTML(value=''), Dropdown…"
      ]
     },
     "metadata": {},
     "output_type": "display_data"
    }
   ],
   "source": [
    "%matplotlib inline\n",
    "from interactions import show_log_regression\n",
    "show_log_regression()\n"
   ]
  },
  {
   "cell_type": "markdown",
   "metadata": {
    "deletable": false,
    "run_control": {
     "frozen": true
    },
    "tags": []
   },
   "source": [
    "\n",
    "> To build a classification model, we must train our model on **the training set only** .\n",
    ">\n",
    ">\n",
    "> By specifying the opposite of the parameter of the regularization `c (there are other parameters that it is possible to give, such as the optimization algorithm, see the documentation of **scikit-learn** for more information):\n",
    "\n",
    "* **(b)** Create a classifier **`clf`**, having as parameter` C = 1.0`, using the method `Logisticregression` of the Package **`Linear_Model`**.\n",
    "\n",
    "\n",
    "* **(c)** Build the algorithm on the training set (**`X_train`** and **`y_train`**).\n",
    "\n"
   ]
  },
  {
   "cell_type": "code",
   "execution_count": null,
   "metadata": {},
   "outputs": [],
   "source": [
    "from sklearn.linear_model import LogisticRegression\n",
    "clf= LogisticRegression(C=1.0)\n",
    "clf.fit(X_train,y_train)\n",
    "\n",
    "\n",
    "\n",
    "\n"
   ]
  },
  {
   "cell_type": "code",
   "execution_count": 21,
   "metadata": {
    "deletable": false,
    "editable": false,
    "function": "solution"
   },
   "outputs": [
    {
     "data": {
      "text/html": [
       "<style>#sk-container-id-1 {color: black;background-color: white;}#sk-container-id-1 pre{padding: 0;}#sk-container-id-1 div.sk-toggleable {background-color: white;}#sk-container-id-1 label.sk-toggleable__label {cursor: pointer;display: block;width: 100%;margin-bottom: 0;padding: 0.3em;box-sizing: border-box;text-align: center;}#sk-container-id-1 label.sk-toggleable__label-arrow:before {content: \"▸\";float: left;margin-right: 0.25em;color: #696969;}#sk-container-id-1 label.sk-toggleable__label-arrow:hover:before {color: black;}#sk-container-id-1 div.sk-estimator:hover label.sk-toggleable__label-arrow:before {color: black;}#sk-container-id-1 div.sk-toggleable__content {max-height: 0;max-width: 0;overflow: hidden;text-align: left;background-color: #f0f8ff;}#sk-container-id-1 div.sk-toggleable__content pre {margin: 0.2em;color: black;border-radius: 0.25em;background-color: #f0f8ff;}#sk-container-id-1 input.sk-toggleable__control:checked~div.sk-toggleable__content {max-height: 200px;max-width: 100%;overflow: auto;}#sk-container-id-1 input.sk-toggleable__control:checked~label.sk-toggleable__label-arrow:before {content: \"▾\";}#sk-container-id-1 div.sk-estimator input.sk-toggleable__control:checked~label.sk-toggleable__label {background-color: #d4ebff;}#sk-container-id-1 div.sk-label input.sk-toggleable__control:checked~label.sk-toggleable__label {background-color: #d4ebff;}#sk-container-id-1 input.sk-hidden--visually {border: 0;clip: rect(1px 1px 1px 1px);clip: rect(1px, 1px, 1px, 1px);height: 1px;margin: -1px;overflow: hidden;padding: 0;position: absolute;width: 1px;}#sk-container-id-1 div.sk-estimator {font-family: monospace;background-color: #f0f8ff;border: 1px dotted black;border-radius: 0.25em;box-sizing: border-box;margin-bottom: 0.5em;}#sk-container-id-1 div.sk-estimator:hover {background-color: #d4ebff;}#sk-container-id-1 div.sk-parallel-item::after {content: \"\";width: 100%;border-bottom: 1px solid gray;flex-grow: 1;}#sk-container-id-1 div.sk-label:hover label.sk-toggleable__label {background-color: #d4ebff;}#sk-container-id-1 div.sk-serial::before {content: \"\";position: absolute;border-left: 1px solid gray;box-sizing: border-box;top: 0;bottom: 0;left: 50%;z-index: 0;}#sk-container-id-1 div.sk-serial {display: flex;flex-direction: column;align-items: center;background-color: white;padding-right: 0.2em;padding-left: 0.2em;position: relative;}#sk-container-id-1 div.sk-item {position: relative;z-index: 1;}#sk-container-id-1 div.sk-parallel {display: flex;align-items: stretch;justify-content: center;background-color: white;position: relative;}#sk-container-id-1 div.sk-item::before, #sk-container-id-1 div.sk-parallel-item::before {content: \"\";position: absolute;border-left: 1px solid gray;box-sizing: border-box;top: 0;bottom: 0;left: 50%;z-index: -1;}#sk-container-id-1 div.sk-parallel-item {display: flex;flex-direction: column;z-index: 1;position: relative;background-color: white;}#sk-container-id-1 div.sk-parallel-item:first-child::after {align-self: flex-end;width: 50%;}#sk-container-id-1 div.sk-parallel-item:last-child::after {align-self: flex-start;width: 50%;}#sk-container-id-1 div.sk-parallel-item:only-child::after {width: 0;}#sk-container-id-1 div.sk-dashed-wrapped {border: 1px dashed gray;margin: 0 0.4em 0.5em 0.4em;box-sizing: border-box;padding-bottom: 0.4em;background-color: white;}#sk-container-id-1 div.sk-label label {font-family: monospace;font-weight: bold;display: inline-block;line-height: 1.2em;}#sk-container-id-1 div.sk-label-container {text-align: center;}#sk-container-id-1 div.sk-container {/* jupyter's `normalize.less` sets `[hidden] { display: none; }` but bootstrap.min.css set `[hidden] { display: none !important; }` so we also need the `!important` here to be able to override the default hidden behavior on the sphinx rendered scikit-learn.org. See: https://github.com/scikit-learn/scikit-learn/issues/21755 */display: inline-block !important;position: relative;}#sk-container-id-1 div.sk-text-repr-fallback {display: none;}</style><div id=\"sk-container-id-1\" class=\"sk-top-container\"><div class=\"sk-text-repr-fallback\"><pre>LogisticRegression()</pre><b>In a Jupyter environment, please rerun this cell to show the HTML representation or trust the notebook. <br />On GitHub, the HTML representation is unable to render, please try loading this page with nbviewer.org.</b></div><div class=\"sk-container\" hidden><div class=\"sk-item\"><div class=\"sk-estimator sk-toggleable\"><input class=\"sk-toggleable__control sk-hidden--visually\" id=\"sk-estimator-id-1\" type=\"checkbox\" checked><label for=\"sk-estimator-id-1\" class=\"sk-toggleable__label sk-toggleable__label-arrow\">LogisticRegression</label><div class=\"sk-toggleable__content\"><pre>LogisticRegression()</pre></div></div></div></div></div>"
      ],
      "text/plain": [
       "LogisticRegression()"
      ]
     },
     "execution_count": 21,
     "metadata": {},
     "output_type": "execute_result"
    }
   ],
   "source": [
    "# Creation of the classifier and construction of the model on training data\n",
    "clf = linear_model.LogisticRegression(C=1.0)\n",
    "clf.fit(X_train, y_train)\n"
   ]
  },
  {
   "cell_type": "markdown",
   "metadata": {
    "deletable": false,
    "run_control": {
     "frozen": true
    },
    "tags": []
   },
   "source": [
    "\n",
    "<hr style=\"border-width:2px;border-color:#75DFC1\">\n",
    "<h3 style = \"text-align:center\">3. Evaluation of the classification model</h3> \n",
    "<hr style=\"border-width:2px;border-color:#75DFC1\">\n",
    "\n",
    "> It is then possible to calculate the prediction for the data present in the test set, and build the confusion matrix.\n",
    "\n",
    "* **(a)** Predict the data of the test set and store them in the variable **`y_pred`**.\n",
    "\n",
    "\n",
    "* **(b)** Create and display the confusion matrix **`cm`**.\n",
    "\n"
   ]
  },
  {
   "cell_type": "code",
   "execution_count": null,
   "metadata": {},
   "outputs": [],
   "source": [
    "y_pred = clf.predict(X_test)\n",
    "from sklearn.metrics import confusion_matrix\n",
    "cm = confusion_matrix(y_test,y_pred)\n",
    "print(cm)\n",
    "\n"
   ]
  },
  {
   "cell_type": "code",
   "execution_count": 22,
   "metadata": {
    "deletable": false,
    "function": "solution",
    "tags": []
   },
   "outputs": [
    {
     "name": "stdout",
     "output_type": "stream",
     "text": [
      "[[35 14]\n",
      " [13 43]]\n"
     ]
    },
    {
     "data": {
      "text/html": [
       "<div>\n",
       "<style scoped>\n",
       "    .dataframe tbody tr th:only-of-type {\n",
       "        vertical-align: middle;\n",
       "    }\n",
       "\n",
       "    .dataframe tbody tr th {\n",
       "        vertical-align: top;\n",
       "    }\n",
       "\n",
       "    .dataframe thead th {\n",
       "        text-align: right;\n",
       "    }\n",
       "</style>\n",
       "<table border=\"1\" class=\"dataframe\">\n",
       "  <thead>\n",
       "    <tr style=\"text-align: right;\">\n",
       "      <th>Classe prédite</th>\n",
       "      <th>0</th>\n",
       "      <th>1</th>\n",
       "    </tr>\n",
       "    <tr>\n",
       "      <th>Classe réelle</th>\n",
       "      <th></th>\n",
       "      <th></th>\n",
       "    </tr>\n",
       "  </thead>\n",
       "  <tbody>\n",
       "    <tr>\n",
       "      <th>0</th>\n",
       "      <td>35</td>\n",
       "      <td>14</td>\n",
       "    </tr>\n",
       "    <tr>\n",
       "      <th>1</th>\n",
       "      <td>13</td>\n",
       "      <td>43</td>\n",
       "    </tr>\n",
       "  </tbody>\n",
       "</table>\n",
       "</div>"
      ],
      "text/plain": [
       "Classe prédite   0   1\n",
       "Classe réelle         \n",
       "0               35  14\n",
       "1               13  43"
      ]
     },
     "execution_count": 22,
     "metadata": {},
     "output_type": "execute_result"
    }
   ],
   "source": [
    "y_pred = clf.predict(X_test)\n",
    "\n",
    "# Calculation of the confusion matrix\n",
    "\n",
    "## Method 1: using Sklearn\n",
    "from sklearn.metrics import confusion_matrix \n",
    "cm = confusion_matrix(y_test,y_pred)\n",
    "print(cm)\n",
    "\n",
    "## Method 2: Using Pandas\n",
    "cm = pd.crosstab(y_test, y_pred, rownames=['Actual class'], colnames=['Predicted class'])\n",
    "cm\n"
   ]
  },
  {
   "cell_type": "markdown",
   "metadata": {
    "deletable": false,
    "run_control": {
     "frozen": true
    },
    "tags": []
   },
   "source": [
    "\n",
    "> The confusion matrix, above, illustrates that the number of good classifications (on the diagonal) is greater than the number of bad classifications.\n",
    ">\n",
    ">\n",
    "> The rate of good predictions ('accuracy') of a model is a metric often used in classification and corresponds to the number of well -classified elements on the total number of individuals.\n",
    "It can be calculated 'by hand' where using the classifier's `scoring method` (`clf`).\n",
    "\n",
    "* **(c)** Calculate the model's good prediction rate.\n",
    "\n"
   ]
  },
  {
   "cell_type": "code",
   "execution_count": null,
   "metadata": {},
   "outputs": [],
   "source": [
    "print(\"Hand-calculated correct prediction rate:\",(cm[0,0]+cm[1,1])/cm.sum())\n",
    "\n",
    "print(\"Correct prediction rate calculated with score:\",clf.score(X_test, y_test))\n",
    "\n",
    "\n"
   ]
  },
  {
   "cell_type": "code",
   "execution_count": 23,
   "metadata": {
    "deletable": false,
    "editable": false,
    "function": "solution"
   },
   "outputs": [
    {
     "data": {
      "text/plain": [
       "0.7428571428571429"
      ]
     },
     "execution_count": 23,
     "metadata": {},
     "output_type": "execute_result"
    }
   ],
   "source": [
    "(35+43)/(35+43+14+13)\n",
    "\n",
    "#Or\n",
    "\n",
    "clf.score(X_test, y_test)\n"
   ]
  },
  {
   "cell_type": "markdown",
   "metadata": {
    "deletable": false,
    "run_control": {
     "frozen": true
    },
    "tags": []
   },
   "source": [
    "\n",
    ">However, the* battery* is not the only metric to assess the performance of a model.<br>\n",
    "The confusion matrix also allows us to assess [precision and recall](https://fr.wikipedia.org/wiki/Précision_et_rappel) or even [$f_\\beta$-score ](https://en.wikipedia.org/wiki/F1_Score) recall.\n",
    ">\n",
    "> The recall of the positive class is also called \"**sensitivity**\" (or *rate of real positives*) and the recall of the negative class \"**specificity**\" (or *rate of real negatives*)\n",
    ">\n",
    ">These two measures are to be evaluated cautiously. Indeed, sensitivity and specificity must be examined jointly, a strong value of one of it alone cannot be a sign of the good performance of a model.<br>\n",
    "> A model which, for example, classifies all the elements as positive will have a sensitivity equal to 1 but a zero specificity, and vice versa.\n",
    ">\n",
    "> The function [`classification_report()`](http://scikit-learn.org/stable/modles/generated/sklearn.metrics.classification_report.html) of the Sklearn.metrics Module Module allows you to display some of these additional metrics, with the arguments of the real labels and that of predicted labels.\n",
    "\n",
    "* **(d)** Show the classification report for our predictions.\n",
    "\n"
   ]
  },
  {
   "cell_type": "code",
   "execution_count": null,
   "metadata": {},
   "outputs": [],
   "source": [
    "from sklearn.metrics import classification_report\n",
    "\n",
    "print(classification_report(y_test, y_pred))\n",
    "\n",
    "\n",
    "\n"
   ]
  },
  {
   "cell_type": "code",
   "execution_count": 24,
   "metadata": {
    "deletable": false,
    "editable": false,
    "function": "solution"
   },
   "outputs": [
    {
     "name": "stdout",
     "output_type": "stream",
     "text": [
      "              precision    recall  f1-score   support\n",
      "\n",
      "           0       0.73      0.71      0.72        49\n",
      "           1       0.75      0.77      0.76        56\n",
      "\n",
      "    accuracy                           0.74       105\n",
      "   macro avg       0.74      0.74      0.74       105\n",
      "weighted avg       0.74      0.74      0.74       105\n",
      "\n"
     ]
    }
   ],
   "source": [
    "from sklearn.metrics import classification_report\n",
    "\n",
    "print(classification_report(y_test, y_pred))\n"
   ]
  },
  {
   "cell_type": "markdown",
   "metadata": {
    "deletable": false,
    "run_control": {
     "frozen": true
    },
    "tags": []
   },
   "source": [
    "\n",
    "> By default, the method `predict () of a classifier in the case of a logistical regression classifies individuals as positive when the probability of belonging to the positive class is higher than the threshold of 0.5, and negative otherwise.\n",
    ">\n",
    ">Sometimes we may want to modify this classification threshold.<br>\n",
    "> The `predict_proba` method returns, for given individuals, not class predictions but **probabilities** to belong to each of the two classes.\n",
    ">\n",
    "> Thus, for example, it is possible to classify individuals according to the threshold you want.\n",
    "\n",
    "* **(e)** Create a table **probs** containing the probabilities for individuals of **X_test** to belong to class 0 or class 1.\n",
    "\n",
    "\n",
    "* **(f)** Create a vector **y_preds** which, for each line of **probs** is 1 if the probability of belonging to class 1 is greater than 0.4, and 0 otherwise.\n",
    "\n",
    "\n",
    "* **(g)** Show a confusion matrix between the real labels of **y_test** and **y_preds**.\n",
    "\n"
   ]
  },
  {
   "cell_type": "code",
   "execution_count": null,
   "metadata": {},
   "outputs": [],
   "source": [
    "probs = clf.predict_proba(X_test)\n",
    "#Print (\"PREDICT ():\", Probs)\n",
    "\n",
    "y_preds = np.where(probs[:,1]>0.4,1,0)\n",
    "# print (\"y_preds =\", y_preds)\n",
    "\n",
    "cm = confusion_matrix(y_test,y_preds)\n",
    "print(\"Confusion Matrix :\\n\",cm)\n"
   ]
  },
  {
   "cell_type": "code",
   "execution_count": 25,
   "metadata": {
    "deletable": false,
    "function": "solution",
    "tags": []
   },
   "outputs": [
    {
     "data": {
      "text/html": [
       "<div>\n",
       "<style scoped>\n",
       "    .dataframe tbody tr th:only-of-type {\n",
       "        vertical-align: middle;\n",
       "    }\n",
       "\n",
       "    .dataframe tbody tr th {\n",
       "        vertical-align: top;\n",
       "    }\n",
       "\n",
       "    .dataframe thead th {\n",
       "        text-align: right;\n",
       "    }\n",
       "</style>\n",
       "<table border=\"1\" class=\"dataframe\">\n",
       "  <thead>\n",
       "    <tr style=\"text-align: right;\">\n",
       "      <th>Classe prédite</th>\n",
       "      <th>0</th>\n",
       "      <th>1</th>\n",
       "    </tr>\n",
       "    <tr>\n",
       "      <th>Classe réelle</th>\n",
       "      <th></th>\n",
       "      <th></th>\n",
       "    </tr>\n",
       "  </thead>\n",
       "  <tbody>\n",
       "    <tr>\n",
       "      <th>0</th>\n",
       "      <td>19</td>\n",
       "      <td>30</td>\n",
       "    </tr>\n",
       "    <tr>\n",
       "      <th>1</th>\n",
       "      <td>7</td>\n",
       "      <td>49</td>\n",
       "    </tr>\n",
       "  </tbody>\n",
       "</table>\n",
       "</div>"
      ],
      "text/plain": [
       "Classe prédite   0   1\n",
       "Classe réelle         \n",
       "0               19  30\n",
       "1                7  49"
      ]
     },
     "execution_count": 25,
     "metadata": {},
     "output_type": "execute_result"
    }
   ],
   "source": [
    "probs = clf.predict_proba(X_test)\n",
    "\n",
    "y_preds = np.where(probs[:,1]>0.4,1,0)\n",
    "\n",
    "cm = pd.crosstab(y_test, y_preds, rownames=['Actual class'], colnames=['Predicted class'])\n",
    "cm\n"
   ]
  },
  {
   "cell_type": "markdown",
   "metadata": {
    "deletable": false,
    "run_control": {
     "frozen": true
    },
    "tags": []
   },
   "source": [
    "\n",
    "> We observe obviously that the lower the classification threshold, the more the number of individuals classified as 1 increases, the sensitivity will therefore grow. Conversely, an individual is classified only 0 if the probability he belongs to this class is greater than 0.6, which increases the precision of the zero class but makes specificity decrease.\n",
    ">\n",
    ">\n",
    "> A tool also very effective in assessing the performance of a model is the **Roc** curve.\n",
    "The ROC curve (to receive operating characteristic) is the ideal tool to summarize the performance of a binary classifier according to all possible thresholds.\n",
    "It avoids a long work of classes predictions for different thresholds, and assessing the confusion matrix for each of these thresholds.\n",
    ">\n",
    ">\n",
    "> Graphically, the ROC measurement is represented in the form of a curve which gives the rate of real positives, sensitivity, depending on the rate of false positives, antispecificity (= 1 - specificity). Each classification threshold value will provide a point of the Roc curve, which will go from (0, 0) to (1, 1).\n",
    ">\n",
    ">\n",
    "> The closer the curve gets closer to the point (0.1) (top left), the better the predictions. A model with a sensitivity and specificity equal to 1 is considered perfect.\n",
    ">\n",
    ">\n",
    "> The **area under the curve** (AUC: Area Under the Curve) is very useful. In a single number it summarizes the capacity of the model to distinguish the negative class from the positive class (not accepted / admitted).\n",
    ">\n",
    ">\n",
    "> An AUC score of 0.5 means that the model is not better than a random classification, an AUC score of 1.0 means a perfectly predictive model, and an AUC of 0.0 is perfectly anti-predictive (very rare).\n",
    ">\n",
    ">\n",
    "> The module **sklearn.metrics** contains the function [**`roc_curve()`**](http://scikit-learn.org/stable/modules/generated/sklearn.metrics.roc_curve.html) which allows to return a tables containing the rates of false positives (antispecificity), A table of the rates of real positives (sensitivity), and a table of classification thresholds taking valeures between 0 and 1. it takes in argument the vector of the labels that we wish to predict, a vector of the probabilities of belonging to the positive class and the argument `pos_label`, which allows to choose which label is defined as positive.\n",
    ">\n",
    ">\n",
    "> The function [**`auc()`**](http://scikit-learn.org/stable/Modules/GeNerated/Sklearn.metrics.auc) of the same module calculates the area under the curve when it is given in arguments a vector of false positive and a vector of the same size of real positive.\n",
    "\n",
    "* **(h)** import the functions `roc_curve ()` and `auc ()`.\n",
    "\n",
    "\n",
    "* **(i)** Apply the function `roc_curve ()` à **y_test** and the second column of **probs**, specifying that the positive label in our case is **1**. Store the results returned in the tables **fpr, tpr, thresholds**.\n",
    "\n",
    "\n",
    "* **(j)** Calculate in **roc_auc** the AUC corresponding to the values ​​of **fpr** and **tpr**.\n",
    "\n"
   ]
  },
  {
   "cell_type": "code",
   "execution_count": null,
   "metadata": {},
   "outputs": [],
   "source": [
    "from sklearn.metrics import roc_curve, auc\n",
    "\n",
    "fpr, tpr, thresholds = roc_curve(y_test, probs[:,1], pos_label=1)\n",
    "roc_auc = auc(fpr, tpr)\n",
    "\n",
    "\n",
    "\n"
   ]
  },
  {
   "cell_type": "code",
   "execution_count": 26,
   "metadata": {
    "deletable": false,
    "function": "solution",
    "tags": []
   },
   "outputs": [],
   "source": [
    "from sklearn.metrics import roc_curve, auc\n",
    "\n",
    "fpr, tpr, thresholds = roc_curve(y_test, probs[:,1], pos_label=1)\n",
    "roc_auc = auc(fpr, tpr)\n"
   ]
  },
  {
   "cell_type": "markdown",
   "metadata": {
    "deletable": false,
    "run_control": {
     "frozen": true
    },
    "tags": []
   },
   "source": [
    "\n",
    "* **(k)** From the variables **fpr**, **tpr** and **roc_auc**, Create a reproduction of the graphic below:\n",
    "\n",
    "<img src=\"https://datascientest.fr/train/assets/courbeROC.png\" style = \"height:400px\" />\n",
    "\n"
   ]
  },
  {
   "cell_type": "code",
   "execution_count": null,
   "metadata": {},
   "outputs": [],
   "source": [
    "import matplotlib.pyplot as plt\n",
    "plt.cla()\n",
    "plt.plot(fpr, tpr, color='orange', lw=2, label='clf Model(auc = %0.2f)' % roc_auc)\n",
    "plt.plot([0, 1], [0, 1], color='navy', lw=2, linestyle='--', label='Random (auc = 0.5)')\n",
    "plt.xlim([0.0, 1.0])\n",
    "plt.ylim([0.0, 1.05])\n",
    "plt.xlabel('False positive rate')\n",
    "plt.ylabel('True positive rates')\n",
    "plt.title('ROC curve')\n",
    "plt.legend(loc=\"lower right\")\n",
    "plt.show();\n",
    "\n",
    "\n",
    "\n"
   ]
  },
  {
   "cell_type": "code",
   "execution_count": 27,
   "metadata": {
    "deletable": false,
    "function": "solution",
    "tags": []
   },
   "outputs": [
    {
     "data": {
      "image/png": "[encoded data removed]",
      "text/plain": [
       "<Figure size 640x480 with 1 Axes>"
      ]
     },
     "metadata": {},
     "output_type": "display_data"
    }
   ],
   "source": [
    "import matplotlib.pyplot as plt\n",
    "\n",
    "plt.plot(fpr, tpr, color='orange', lw=2, label='clf Model (auc = %0.2f)' % roc_auc)\n",
    "plt.plot([0, 1], [0, 1], color='navy', lw=2, linestyle='--', label='Random (auc = 0.5)')\n",
    "plt.xlim([0.0, 1.0])\n",
    "plt.ylim([0.0, 1.05])\n",
    "plt.xlabel('False positive rate')\n",
    "plt.ylabel('True positive rates')\n",
    "plt.title('ROC curve')\n",
    "plt.legend(loc=\"lower right\")\n",
    "plt.show();\n"
   ]
  }
 ],
 "metadata": {
  "kernelspec": {
   "display_name": "Python 3 (ipykernel)",
   "language": "python",
   "name": "python3"
  },
  "language_info": {
   "codemirror_mode": {
    "name": "ipython",
    "version": 3
   },
   "file_extension": ".py",
   "mimetype": "text/x-python",
   "name": "python",
   "nbconvert_exporter": "python",
   "pygments_lexer": "ipython3",
   "version": "3.9.16"
  },
  "latex_envs": {
   "LaTeX_envs_menu_present": true,
   "autoclose": false,
   "autocomplete": true,
   "bibliofile": "biblio.bib",
   "cite_by": "apalike",
   "current_citInitial": 1,
   "eqLabelWithNumbers": true,
   "eqNumInitial": 1,
   "hotkeys": {
    "equation": "Ctrl-E",
    "itemize": "Ctrl-I"
   },
   "labels_anchors": false,
   "latex_user_defs": false,
   "report_style_numbering": false,
   "user_envs_cfg": false
  },
  "owner": "DataScientest",
  "widgets": {
   "application/vnd.jupyter.widget-state+json": {
    "state": {
     "00b3fa04f615476eb5579c7da3f5d7cc": {
      "model_module": "@jupyter-widgets/controls",
      "model_module_version": "2.0.0",
      "model_name": "HTMLModel",
      "state": {
       "layout": "IPY_MODEL_c338bfcef74c432892369d659ae24547",
       "style": "IPY_MODEL_120f3fdc759d48d1b7baf9e2845860ac"
      }
     },
     "0134d9ff79ec4d9b95c7d839529b8f99": {
      "model_module": "@jupyter-widgets/controls",
      "model_module_version": "2.0.0",
      "model_name": "HTMLModel",
      "state": {
       "layout": "IPY_MODEL_63b5572847174e95b77f2742a5f7e5f3",
       "style": "IPY_MODEL_241d2965237446b096e65e5d865216c9"
      }
     },
     "05edeaac037b4557afc1e2a1c073d92b": {
      "model_module": "@jupyter-widgets/controls",
      "model_module_version": "2.0.0",
      "model_name": "HTMLStyleModel",
      "state": {
       "description_width": "",
       "font_size": null,
       "text_color": null
      }
     },
     "09285a770ea64120a652c94d8e507955": {
      "model_module": "@jupyter-widgets/controls",
      "model_module_version": "2.0.0",
      "model_name": "DescriptionStyleModel",
      "state": {
       "description_width": ""
      }
     },
     "0b964185386645e0981bcf9fe74e8478": {
      "model_module": "@jupyter-widgets/controls",
      "model_module_version": "2.0.0",
      "model_name": "HTMLStyleModel",
      "state": {
       "description_width": "",
       "font_size": null,
       "text_color": null
      }
     },
     "0d1b8e342702452cb8c5bfeaf6bafe21": {
      "model_module": "@jupyter-widgets/base",
      "model_module_version": "2.0.0",
      "model_name": "LayoutModel",
      "state": {
       "align_items": "center",
       "display": "flex",
       "flex_flow": "column"
      }
     },
     "0e2e7efee5c1458ba6dab81a90965ee9": {
      "model_module": "@jupyter-widgets/controls",
      "model_module_version": "2.0.0",
      "model_name": "HTMLModel",
      "state": {
       "layout": "IPY_MODEL_29b3e61faa434c6595bb364295f05a30",
       "style": "IPY_MODEL_e85cfcc2811d40f0b5a38172da4133a9",
       "value": "<b>Datasets</b>"
      }
     },
     "120f3fdc759d48d1b7baf9e2845860ac": {
      "model_module": "@jupyter-widgets/controls",
      "model_module_version": "2.0.0",
      "model_name": "HTMLStyleModel",
      "state": {
       "description_width": "",
       "font_size": null,
       "text_color": null
      }
     },
     "16a011476ada42f2b31c03f2d2040645": {
      "model_module": "@jupyter-widgets/base",
      "model_module_version": "2.0.0",
      "model_name": "LayoutModel",
      "state": {}
     },
     "19388a26a5974b569b2da0f62026285e": {
      "model_module": "@jupyter-widgets/controls",
      "model_module_version": "2.0.0",
      "model_name": "HTMLModel",
      "state": {
       "layout": "IPY_MODEL_74c77ffe5f9742b2ab2b80613e14d486",
       "style": "IPY_MODEL_f722f6f498364fa49bfda2b7408ba0ab"
      }
     },
     "1973701815ee40dc9b001a366e590cae": {
      "model_module": "@jupyter-widgets/controls",
      "model_module_version": "2.0.0",
      "model_name": "HTMLStyleModel",
      "state": {
       "description_width": "",
       "font_size": null,
       "text_color": null
      }
     },
     "1c71903755ad4e0a84bb773fd78356e9": {
      "model_module": "@jupyter-widgets/controls",
      "model_module_version": "2.0.0",
      "model_name": "DescriptionStyleModel",
      "state": {
       "description_width": ""
      }
     },
     "241d2965237446b096e65e5d865216c9": {
      "model_module": "@jupyter-widgets/controls",
      "model_module_version": "2.0.0",
      "model_name": "HTMLStyleModel",
      "state": {
       "description_width": "",
       "font_size": null,
       "text_color": null
      }
     },
     "29b3e61faa434c6595bb364295f05a30": {
      "model_module": "@jupyter-widgets/base",
      "model_module_version": "2.0.0",
      "model_name": "LayoutModel",
      "state": {}
     },
     "2b36e70694e04971899e95179f04951e": {
      "model_module": "@jupyter-widgets/controls",
      "model_module_version": "2.0.0",
      "model_name": "HTMLStyleModel",
      "state": {
       "description_width": "",
       "font_size": null,
       "text_color": null
      }
     },
     "31412375eea94376adee2ac100154375": {
      "model_module": "@jupyter-widgets/base",
      "model_module_version": "2.0.0",
      "model_name": "LayoutModel",
      "state": {}
     },
     "320b593cb63a4ce5be36898bf64f974d": {
      "model_module": "@jupyter-widgets/base",
      "model_module_version": "2.0.0",
      "model_name": "LayoutModel",
      "state": {}
     },
     "32432b40f2ae45b0b666b6ffc58453ee": {
      "model_module": "@jupyter-widgets/controls",
      "model_module_version": "2.0.0",
      "model_name": "HTMLStyleModel",
      "state": {
       "description_width": "",
       "font_size": null,
       "text_color": null
      }
     },
     "3787fe88a73641b09324cd0f30d2e86c": {
      "model_module": "@jupyter-widgets/base",
      "model_module_version": "2.0.0",
      "model_name": "LayoutModel",
      "state": {
       "align_items": "center"
      }
     },
     "38e3a9e8c30e42b682c61d0d1e6d44ad": {
      "model_module": "@jupyter-widgets/base",
      "model_module_version": "2.0.0",
      "model_name": "LayoutModel",
      "state": {}
     },
     "3a63edd1a426422697ae9bac7e409d17": {
      "model_module": "@jupyter-widgets/base",
      "model_module_version": "2.0.0",
      "model_name": "LayoutModel",
      "state": {}
     },
     "3bb4e4375ef84383a4912434ad0ae2d8": {
      "model_module": "@jupyter-widgets/output",
      "model_module_version": "1.0.0",
      "model_name": "OutputModel",
      "state": {
       "layout": "IPY_MODEL_16a011476ada42f2b31c03f2d2040645",
       "outputs": [
        {
         "data": {
          "image/png": "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",
          "text/plain": "<Figure size 640x480 with 1 Axes>"
         },
         "metadata": {},
         "output_type": "display_data"
        }
       ]
      }
     },
     "3dcb8d86677642c5b91d741f2a1ce1a9": {
      "model_module": "@jupyter-widgets/base",
      "model_module_version": "2.0.0",
      "model_name": "LayoutModel",
      "state": {}
     },
     "4678e937199b49ea922e99752e15c2c2": {
      "model_module": "@jupyter-widgets/base",
      "model_module_version": "2.0.0",
      "model_name": "LayoutModel",
      "state": {}
     },
     "48360ae578e0421d8a84ca70ef5a1730": {
      "model_module": "@jupyter-widgets/base",
      "model_module_version": "2.0.0",
      "model_name": "LayoutModel",
      "state": {}
     },
     "49b6fbc71424437e84e0358a251ebbfe": {
      "model_module": "@jupyter-widgets/controls",
      "model_module_version": "2.0.0",
      "model_name": "ButtonModel",
      "state": {
       "description": "Generate",
       "layout": "IPY_MODEL_adad583b9ff24968a2af2cac51226213",
       "style": "IPY_MODEL_d956cffeb93347b58997b6ea699c16b3",
       "tooltip": null
      }
     },
     "4d4f37febcf44ab58d68251359b49347": {
      "model_module": "@jupyter-widgets/controls",
      "model_module_version": "2.0.0",
      "model_name": "HTMLStyleModel",
      "state": {
       "description_width": "",
       "font_size": null,
       "text_color": null
      }
     },
     "4efe67b2dbf5455aa85618199b144a06": {
      "model_module": "@jupyter-widgets/base",
      "model_module_version": "2.0.0",
      "model_name": "LayoutModel",
      "state": {}
     },
     "5098baa5ff30459d9ea2eebf313fd23c": {
      "model_module": "@jupyter-widgets/controls",
      "model_module_version": "2.0.0",
      "model_name": "HBoxModel",
      "state": {
       "children": [
        "IPY_MODEL_550de06184754775bd69828023636e31",
        "IPY_MODEL_80b348d6a503427e817021dbf533cf45"
       ],
       "layout": "IPY_MODEL_cfc909489b5941b8baf3cc5e7eb1e693"
      }
     },
     "550c873c121b4adba359a580e0472e60": {
      "model_module": "@jupyter-widgets/base",
      "model_module_version": "2.0.0",
      "model_name": "LayoutModel",
      "state": {}
     },
     "550de06184754775bd69828023636e31": {
      "model_module": "@jupyter-widgets/output",
      "model_module_version": "1.0.0",
      "model_name": "OutputModel",
      "state": {
       "layout": "IPY_MODEL_550c873c121b4adba359a580e0472e60",
       "outputs": [
        {
         "data": {
          "image/png": "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",
          "text/plain": "<Figure size 640x480 with 1 Axes>"
         },
         "metadata": {},
         "output_type": "display_data"
        }
       ]
      }
     },
     "55e914cb8ec8400c854843bf932ce831": {
      "model_module": "@jupyter-widgets/base",
      "model_module_version": "2.0.0",
      "model_name": "LayoutModel",
      "state": {}
     },
     "58e211fbb6c047d29b6a4597107883b4": {
      "model_module": "@jupyter-widgets/controls",
      "model_module_version": "2.0.0",
      "model_name": "HBoxModel",
      "state": {
       "children": [
        "IPY_MODEL_3bb4e4375ef84383a4912434ad0ae2d8",
        "IPY_MODEL_f02071a25a2b4789845ea3dcca1730d5"
       ],
       "layout": "IPY_MODEL_7d1bb482a14e46e39ea688637531de47"
      }
     },
     "63b5572847174e95b77f2742a5f7e5f3": {
      "model_module": "@jupyter-widgets/base",
      "model_module_version": "2.0.0",
      "model_name": "LayoutModel",
      "state": {}
     },
     "63c13d09e15f4ad0bf502fbb6c2eb61a": {
      "model_module": "@jupyter-widgets/controls",
      "model_module_version": "2.0.0",
      "model_name": "ButtonStyleModel",
      "state": {
       "font_family": null,
       "font_size": null,
       "font_style": null,
       "font_variant": null,
       "font_weight": null,
       "text_color": null,
       "text_decoration": null
      }
     },
     "63d768de041944a0984629ebc9cd3698": {
      "model_module": "@jupyter-widgets/controls",
      "model_module_version": "2.0.0",
      "model_name": "HTMLStyleModel",
      "state": {
       "description_width": "",
       "font_size": null,
       "text_color": null
      }
     },
     "661a0845daec4db9b756f09f45a2d805": {
      "model_module": "@jupyter-widgets/base",
      "model_module_version": "2.0.0",
      "model_name": "LayoutModel",
      "state": {}
     },
     "6b22eaa535b9457780bb495a6a581292": {
      "model_module": "@jupyter-widgets/controls",
      "model_module_version": "2.0.0",
      "model_name": "DropdownModel",
      "state": {
       "_options_labels": [
        "make_classification",
        "make_moons",
        "make_circles"
       ],
       "description": "Dataset",
       "index": 2,
       "layout": "IPY_MODEL_ab84fedd7720461eb3b7bd2aed6abfe1",
       "style": "IPY_MODEL_09285a770ea64120a652c94d8e507955"
      }
     },
     "6e37e31ca702476e84fa9effd8bf599e": {
      "model_module": "@jupyter-widgets/controls",
      "model_module_version": "2.0.0",
      "model_name": "FloatTextModel",
      "state": {
       "description": "C",
       "layout": "IPY_MODEL_cdf3eedc4cf6405bb036a61bfc947ad6",
       "step": null,
       "style": "IPY_MODEL_1c71903755ad4e0a84bb773fd78356e9",
       "value": 10
      }
     },
     "74c77ffe5f9742b2ab2b80613e14d486": {
      "model_module": "@jupyter-widgets/base",
      "model_module_version": "2.0.0",
      "model_name": "LayoutModel",
      "state": {}
     },
     "7733bb36e1674923a92366ac0ebd03ba": {
      "model_module": "@jupyter-widgets/base",
      "model_module_version": "2.0.0",
      "model_name": "LayoutModel",
      "state": {
       "align_items": "center"
      }
     },
     "792be37a70fe480d8cb00268f161f84d": {
      "model_module": "@jupyter-widgets/controls",
      "model_module_version": "2.0.0",
      "model_name": "DescriptionStyleModel",
      "state": {
       "description_width": ""
      }
     },
     "7937a1bb01a34ebda6298ea3c5ebd474": {
      "model_module": "@jupyter-widgets/controls",
      "model_module_version": "2.0.0",
      "model_name": "ButtonModel",
      "state": {
       "description": "Generate",
       "layout": "IPY_MODEL_0d1b8e342702452cb8c5bfeaf6bafe21",
       "style": "IPY_MODEL_63c13d09e15f4ad0bf502fbb6c2eb61a",
       "tooltip": null
      }
     },
     "79f37963720743d8a26e651d4f74dc03": {
      "model_module": "@jupyter-widgets/controls",
      "model_module_version": "2.0.0",
      "model_name": "HTMLModel",
      "state": {
       "layout": "IPY_MODEL_31412375eea94376adee2ac100154375",
       "style": "IPY_MODEL_da4424b2b4644b0bae3daa84263c92fe"
      }
     },
     "7b1ba4dfa4c647ecb12f5291553d3e88": {
      "model_module": "@jupyter-widgets/controls",
      "model_module_version": "2.0.0",
      "model_name": "VBoxModel",
      "state": {
       "children": [
        "IPY_MODEL_0e2e7efee5c1458ba6dab81a90965ee9",
        "IPY_MODEL_d677241645a945eea8600203ac9d0ca0",
        "IPY_MODEL_fcdb70620f4549c59ce05d316e6451cc",
        "IPY_MODEL_ff9dc35e70dc4be8b5247076849c9515",
        "IPY_MODEL_0134d9ff79ec4d9b95c7d839529b8f99",
        "IPY_MODEL_a4bb2dc364794c15864d27905c101a75",
        "IPY_MODEL_e8c90942bdde4ab68e23253f8883fd46",
        "IPY_MODEL_fc5befc221754fc885a5139d2f4b71b9",
        "IPY_MODEL_6e37e31ca702476e84fa9effd8bf599e",
        "IPY_MODEL_7e651c90338f402bbb5fc03dabd13e11"
       ],
       "layout": "IPY_MODEL_7733bb36e1674923a92366ac0ebd03ba"
      }
     },
     "7c6322f3a1ad4fdc840f2cbcf1b53bca": {
      "model_module": "@jupyter-widgets/base",
      "model_module_version": "2.0.0",
      "model_name": "LayoutModel",
      "state": {}
     },
     "7d1bb482a14e46e39ea688637531de47": {
      "model_module": "@jupyter-widgets/base",
      "model_module_version": "2.0.0",
      "model_name": "LayoutModel",
      "state": {
       "align_items": "center"
      }
     },
     "7e651c90338f402bbb5fc03dabd13e11": {
      "model_module": "@jupyter-widgets/controls",
      "model_module_version": "2.0.0",
      "model_name": "DropdownModel",
      "state": {
       "_options_labels": [
        "newton-cg",
        "lbfgs",
        "liblinear",
        "sag",
        "saga"
       ],
       "description": "Solver",
       "index": 3,
       "layout": "IPY_MODEL_f03a776144e944b7b83ed21c52d5bc25",
       "style": "IPY_MODEL_c64c796d6fb84597849c6152ddff4c02"
      }
     },
     "80b348d6a503427e817021dbf533cf45": {
      "model_module": "@jupyter-widgets/controls",
      "model_module_version": "2.0.0",
      "model_name": "VBoxModel",
      "state": {
       "children": [
        "IPY_MODEL_7b1ba4dfa4c647ecb12f5291553d3e88",
        "IPY_MODEL_87a77f4d98334ca1b109f6282c9c17b0",
        "IPY_MODEL_b376a695535b489dbc00577f10ee91ad",
        "IPY_MODEL_8b55ff10a7cf4c7c8cef65c61f2c3c3c",
        "IPY_MODEL_7937a1bb01a34ebda6298ea3c5ebd474"
       ],
       "layout": "IPY_MODEL_a71e6101148e4821a77f8a19a0abad32"
      }
     },
     "80d0061432f1403285a4d49d20aa7544": {
      "model_module": "@jupyter-widgets/controls",
      "model_module_version": "2.0.0",
      "model_name": "HTMLStyleModel",
      "state": {
       "description_width": "",
       "font_size": null,
       "text_color": null
      }
     },
     "817fc999c28749adbf5580dc6eed11d2": {
      "model_module": "@jupyter-widgets/base",
      "model_module_version": "2.0.0",
      "model_name": "LayoutModel",
      "state": {}
     },
     "87a77f4d98334ca1b109f6282c9c17b0": {
      "model_module": "@jupyter-widgets/controls",
      "model_module_version": "2.0.0",
      "model_name": "HTMLModel",
      "state": {
       "layout": "IPY_MODEL_dab4b1fd83984ed4ac79493150f4706c",
       "style": "IPY_MODEL_96c4c4f50dfb49b0940a3b2b8de6e1da"
      }
     },
     "8b55ff10a7cf4c7c8cef65c61f2c3c3c": {
      "model_module": "@jupyter-widgets/controls",
      "model_module_version": "2.0.0",
      "model_name": "HTMLModel",
      "state": {
       "layout": "IPY_MODEL_817fc999c28749adbf5580dc6eed11d2",
       "style": "IPY_MODEL_8f0d91e9716b49a19c9e6b3600f70273"
      }
     },
     "8f0d91e9716b49a19c9e6b3600f70273": {
      "model_module": "@jupyter-widgets/controls",
      "model_module_version": "2.0.0",
      "model_name": "HTMLStyleModel",
      "state": {
       "description_width": "",
       "font_size": null,
       "text_color": null
      }
     },
     "8f7db7121af8404690225e2291927a34": {
      "model_module": "@jupyter-widgets/base",
      "model_module_version": "2.0.0",
      "model_name": "LayoutModel",
      "state": {}
     },
     "96c4c4f50dfb49b0940a3b2b8de6e1da": {
      "model_module": "@jupyter-widgets/controls",
      "model_module_version": "2.0.0",
      "model_name": "HTMLStyleModel",
      "state": {
       "description_width": "",
       "font_size": null,
       "text_color": null
      }
     },
     "96f635e8b628432da15d5f9c26944e51": {
      "model_module": "@jupyter-widgets/controls",
      "model_module_version": "2.0.0",
      "model_name": "HTMLModel",
      "state": {
       "layout": "IPY_MODEL_c37adb58fd564f1286a610aaabd36c88",
       "style": "IPY_MODEL_0b964185386645e0981bcf9fe74e8478",
       "value": "<b>Hyperparameters</b>"
      }
     },
     "99dd5188c8f44befac7ef15185c84166": {
      "model_module": "@jupyter-widgets/base",
      "model_module_version": "2.0.0",
      "model_name": "LayoutModel",
      "state": {}
     },
     "9f95a659aa1843e79eb274b7b0ab63b4": {
      "model_module": "@jupyter-widgets/controls",
      "model_module_version": "2.0.0",
      "model_name": "HTMLModel",
      "state": {
       "layout": "IPY_MODEL_48360ae578e0421d8a84ca70ef5a1730",
       "style": "IPY_MODEL_a960283e836e414892a85191008f8e08"
      }
     },
     "a4bb2dc364794c15864d27905c101a75": {
      "model_module": "@jupyter-widgets/controls",
      "model_module_version": "2.0.0",
      "model_name": "HTMLModel",
      "state": {
       "layout": "IPY_MODEL_4efe67b2dbf5455aa85618199b144a06",
       "style": "IPY_MODEL_ff133a8a6a0f4892a9d4ffab565edcc0"
      }
     },
     "a71e6101148e4821a77f8a19a0abad32": {
      "model_module": "@jupyter-widgets/base",
      "model_module_version": "2.0.0",
      "model_name": "LayoutModel",
      "state": {
       "align_items": "center"
      }
     },
     "a7fd1f4a5966412a84debdabb584d6ed": {
      "model_module": "@jupyter-widgets/controls",
      "model_module_version": "2.0.0",
      "model_name": "HTMLModel",
      "state": {
       "layout": "IPY_MODEL_55e914cb8ec8400c854843bf932ce831",
       "style": "IPY_MODEL_2b36e70694e04971899e95179f04951e"
      }
     },
     "a960283e836e414892a85191008f8e08": {
      "model_module": "@jupyter-widgets/controls",
      "model_module_version": "2.0.0",
      "model_name": "HTMLStyleModel",
      "state": {
       "description_width": "",
       "font_size": null,
       "text_color": null
      }
     },
     "ab84fedd7720461eb3b7bd2aed6abfe1": {
      "model_module": "@jupyter-widgets/base",
      "model_module_version": "2.0.0",
      "model_name": "LayoutModel",
      "state": {}
     },
     "adad583b9ff24968a2af2cac51226213": {
      "model_module": "@jupyter-widgets/base",
      "model_module_version": "2.0.0",
      "model_name": "LayoutModel",
      "state": {
       "align_items": "center",
       "display": "flex",
       "flex_flow": "column"
      }
     },
     "b0cfdc0606a84644abefcb71a96d8ef1": {
      "model_module": "@jupyter-widgets/controls",
      "model_module_version": "2.0.0",
      "model_name": "DescriptionStyleModel",
      "state": {
       "description_width": ""
      }
     },
     "b376a695535b489dbc00577f10ee91ad": {
      "model_module": "@jupyter-widgets/controls",
      "model_module_version": "2.0.0",
      "model_name": "HTMLModel",
      "state": {
       "layout": "IPY_MODEL_320b593cb63a4ce5be36898bf64f974d",
       "style": "IPY_MODEL_63d768de041944a0984629ebc9cd3698"
      }
     },
     "b6a0c288fce8401abe6e868b74bc4a31": {
      "model_module": "@jupyter-widgets/controls",
      "model_module_version": "2.0.0",
      "model_name": "FloatTextModel",
      "state": {
       "description": "C",
       "layout": "IPY_MODEL_3dcb8d86677642c5b91d741f2a1ce1a9",
       "step": null,
       "style": "IPY_MODEL_792be37a70fe480d8cb00268f161f84d",
       "value": 10
      }
     },
     "b825b5abaf7845718e0591b95eb82920": {
      "model_module": "@jupyter-widgets/controls",
      "model_module_version": "2.0.0",
      "model_name": "HTMLStyleModel",
      "state": {
       "description_width": "",
       "font_size": null,
       "text_color": null
      }
     },
     "bd22599c447848328647c355c5264aac": {
      "model_module": "@jupyter-widgets/base",
      "model_module_version": "2.0.0",
      "model_name": "LayoutModel",
      "state": {
       "align_items": "center"
      }
     },
     "c338bfcef74c432892369d659ae24547": {
      "model_module": "@jupyter-widgets/base",
      "model_module_version": "2.0.0",
      "model_name": "LayoutModel",
      "state": {}
     },
     "c37adb58fd564f1286a610aaabd36c88": {
      "model_module": "@jupyter-widgets/base",
      "model_module_version": "2.0.0",
      "model_name": "LayoutModel",
      "state": {}
     },
     "c64c796d6fb84597849c6152ddff4c02": {
      "model_module": "@jupyter-widgets/controls",
      "model_module_version": "2.0.0",
      "model_name": "DescriptionStyleModel",
      "state": {
       "description_width": ""
      }
     },
     "c9bf5e0fc23d4482b2aa8ac3c54e7247": {
      "model_module": "@jupyter-widgets/controls",
      "model_module_version": "2.0.0",
      "model_name": "HTMLModel",
      "state": {
       "layout": "IPY_MODEL_f07ab47c7860475a97cb2d3232af9db9",
       "style": "IPY_MODEL_05edeaac037b4557afc1e2a1c073d92b",
       "value": "<b>Datasets</b>"
      }
     },
     "cc8fd084d02c43a981ab76c195318101": {
      "model_module": "@jupyter-widgets/controls",
      "model_module_version": "2.0.0",
      "model_name": "VBoxModel",
      "state": {
       "children": [
        "IPY_MODEL_c9bf5e0fc23d4482b2aa8ac3c54e7247",
        "IPY_MODEL_00b3fa04f615476eb5579c7da3f5d7cc",
        "IPY_MODEL_6b22eaa535b9457780bb495a6a581292",
        "IPY_MODEL_79f37963720743d8a26e651d4f74dc03",
        "IPY_MODEL_19388a26a5974b569b2da0f62026285e",
        "IPY_MODEL_a7fd1f4a5966412a84debdabb584d6ed",
        "IPY_MODEL_96f635e8b628432da15d5f9c26944e51",
        "IPY_MODEL_ec491518d30b419ea4c42cd36d09ce36",
        "IPY_MODEL_b6a0c288fce8401abe6e868b74bc4a31",
        "IPY_MODEL_e884330cf7984834bb9b599697be8b08"
       ],
       "layout": "IPY_MODEL_3787fe88a73641b09324cd0f30d2e86c"
      }
     },
     "cdf3eedc4cf6405bb036a61bfc947ad6": {
      "model_module": "@jupyter-widgets/base",
      "model_module_version": "2.0.0",
      "model_name": "LayoutModel",
      "state": {}
     },
     "cfc909489b5941b8baf3cc5e7eb1e693": {
      "model_module": "@jupyter-widgets/base",
      "model_module_version": "2.0.0",
      "model_name": "LayoutModel",
      "state": {
       "align_items": "center"
      }
     },
     "d52d5c501d8944c6b6ee982a4a248b20": {
      "model_module": "@jupyter-widgets/controls",
      "model_module_version": "2.0.0",
      "model_name": "HTMLModel",
      "state": {
       "layout": "IPY_MODEL_8f7db7121af8404690225e2291927a34",
       "style": "IPY_MODEL_eb8ef9c4798341c99213bd4ccc96c6d5"
      }
     },
     "d677241645a945eea8600203ac9d0ca0": {
      "model_module": "@jupyter-widgets/controls",
      "model_module_version": "2.0.0",
      "model_name": "HTMLModel",
      "state": {
       "layout": "IPY_MODEL_38e3a9e8c30e42b682c61d0d1e6d44ad",
       "style": "IPY_MODEL_ed8d61a1222740f9ab4b7c3e82dec06e"
      }
     },
     "d956cffeb93347b58997b6ea699c16b3": {
      "model_module": "@jupyter-widgets/controls",
      "model_module_version": "2.0.0",
      "model_name": "ButtonStyleModel",
      "state": {
       "font_family": null,
       "font_size": null,
       "font_style": null,
       "font_variant": null,
       "font_weight": null,
       "text_color": null,
       "text_decoration": null
      }
     },
     "da4424b2b4644b0bae3daa84263c92fe": {
      "model_module": "@jupyter-widgets/controls",
      "model_module_version": "2.0.0",
      "model_name": "HTMLStyleModel",
      "state": {
       "description_width": "",
       "font_size": null,
       "text_color": null
      }
     },
     "dab4b1fd83984ed4ac79493150f4706c": {
      "model_module": "@jupyter-widgets/base",
      "model_module_version": "2.0.0",
      "model_name": "LayoutModel",
      "state": {}
     },
     "e6a706b95c01474aa8a90d9f8d0f8ba7": {
      "model_module": "@jupyter-widgets/controls",
      "model_module_version": "2.0.0",
      "model_name": "HTMLModel",
      "state": {
       "layout": "IPY_MODEL_3a63edd1a426422697ae9bac7e409d17",
       "style": "IPY_MODEL_4d4f37febcf44ab58d68251359b49347"
      }
     },
     "e85cfcc2811d40f0b5a38172da4133a9": {
      "model_module": "@jupyter-widgets/controls",
      "model_module_version": "2.0.0",
      "model_name": "HTMLStyleModel",
      "state": {
       "description_width": "",
       "font_size": null,
       "text_color": null
      }
     },
     "e884330cf7984834bb9b599697be8b08": {
      "model_module": "@jupyter-widgets/controls",
      "model_module_version": "2.0.0",
      "model_name": "DropdownModel",
      "state": {
       "_options_labels": [
        "newton-cg",
        "lbfgs",
        "liblinear",
        "sag",
        "saga"
       ],
       "description": "Solver",
       "index": 4,
       "layout": "IPY_MODEL_f7eceeaecf0248b089c5a9f086e4d6d5",
       "style": "IPY_MODEL_b0cfdc0606a84644abefcb71a96d8ef1"
      }
     },
     "e8c90942bdde4ab68e23253f8883fd46": {
      "model_module": "@jupyter-widgets/controls",
      "model_module_version": "2.0.0",
      "model_name": "HTMLModel",
      "state": {
       "layout": "IPY_MODEL_99dd5188c8f44befac7ef15185c84166",
       "style": "IPY_MODEL_b825b5abaf7845718e0591b95eb82920",
       "value": "<b>Hyperparameters</b>"
      }
     },
     "eb8ef9c4798341c99213bd4ccc96c6d5": {
      "model_module": "@jupyter-widgets/controls",
      "model_module_version": "2.0.0",
      "model_name": "HTMLStyleModel",
      "state": {
       "description_width": "",
       "font_size": null,
       "text_color": null
      }
     },
     "ec491518d30b419ea4c42cd36d09ce36": {
      "model_module": "@jupyter-widgets/controls",
      "model_module_version": "2.0.0",
      "model_name": "HTMLModel",
      "state": {
       "layout": "IPY_MODEL_7c6322f3a1ad4fdc840f2cbcf1b53bca",
       "style": "IPY_MODEL_32432b40f2ae45b0b666b6ffc58453ee"
      }
     },
     "ed8d61a1222740f9ab4b7c3e82dec06e": {
      "model_module": "@jupyter-widgets/controls",
      "model_module_version": "2.0.0",
      "model_name": "HTMLStyleModel",
      "state": {
       "description_width": "",
       "font_size": null,
       "text_color": null
      }
     },
     "eecbbb1cbe614739a05b6cae780ddfc7": {
      "model_module": "@jupyter-widgets/base",
      "model_module_version": "2.0.0",
      "model_name": "LayoutModel",
      "state": {}
     },
     "ef3e505611fb4f5eb7cef40913652a21": {
      "model_module": "@jupyter-widgets/controls",
      "model_module_version": "2.0.0",
      "model_name": "DescriptionStyleModel",
      "state": {
       "description_width": ""
      }
     },
     "f02071a25a2b4789845ea3dcca1730d5": {
      "model_module": "@jupyter-widgets/controls",
      "model_module_version": "2.0.0",
      "model_name": "VBoxModel",
      "state": {
       "children": [
        "IPY_MODEL_cc8fd084d02c43a981ab76c195318101",
        "IPY_MODEL_9f95a659aa1843e79eb274b7b0ab63b4",
        "IPY_MODEL_d52d5c501d8944c6b6ee982a4a248b20",
        "IPY_MODEL_e6a706b95c01474aa8a90d9f8d0f8ba7",
        "IPY_MODEL_49b6fbc71424437e84e0358a251ebbfe"
       ],
       "layout": "IPY_MODEL_bd22599c447848328647c355c5264aac"
      }
     },
     "f03a776144e944b7b83ed21c52d5bc25": {
      "model_module": "@jupyter-widgets/base",
      "model_module_version": "2.0.0",
      "model_name": "LayoutModel",
      "state": {}
     },
     "f07ab47c7860475a97cb2d3232af9db9": {
      "model_module": "@jupyter-widgets/base",
      "model_module_version": "2.0.0",
      "model_name": "LayoutModel",
      "state": {}
     },
     "f722f6f498364fa49bfda2b7408ba0ab": {
      "model_module": "@jupyter-widgets/controls",
      "model_module_version": "2.0.0",
      "model_name": "HTMLStyleModel",
      "state": {
       "description_width": "",
       "font_size": null,
       "text_color": null
      }
     },
     "f7eceeaecf0248b089c5a9f086e4d6d5": {
      "model_module": "@jupyter-widgets/base",
      "model_module_version": "2.0.0",
      "model_name": "LayoutModel",
      "state": {}
     },
     "fc5befc221754fc885a5139d2f4b71b9": {
      "model_module": "@jupyter-widgets/controls",
      "model_module_version": "2.0.0",
      "model_name": "HTMLModel",
      "state": {
       "layout": "IPY_MODEL_661a0845daec4db9b756f09f45a2d805",
       "style": "IPY_MODEL_1973701815ee40dc9b001a366e590cae"
      }
     },
     "fcdb70620f4549c59ce05d316e6451cc": {
      "model_module": "@jupyter-widgets/controls",
      "model_module_version": "2.0.0",
      "model_name": "DropdownModel",
      "state": {
       "_options_labels": [
        "make_classification",
        "make_moons",
        "make_circles"
       ],
       "description": "Dataset",
       "index": 2,
       "layout": "IPY_MODEL_4678e937199b49ea922e99752e15c2c2",
       "style": "IPY_MODEL_ef3e505611fb4f5eb7cef40913652a21"
      }
     },
     "ff133a8a6a0f4892a9d4ffab565edcc0": {
      "model_module": "@jupyter-widgets/controls",
      "model_module_version": "2.0.0",
      "model_name": "HTMLStyleModel",
      "state": {
       "description_width": "",
       "font_size": null,
       "text_color": null
      }
     },
     "ff9dc35e70dc4be8b5247076849c9515": {
      "model_module": "@jupyter-widgets/controls",
      "model_module_version": "2.0.0",
      "model_name": "HTMLModel",
      "state": {
       "layout": "IPY_MODEL_eecbbb1cbe614739a05b6cae780ddfc7",
       "style": "IPY_MODEL_80d0061432f1403285a4d49d20aa7544"
      }
     }
    },
    "version_major": 2,
    "version_minor": 0
   }
  }
 },
 "nbformat": 4,
 "nbformat_minor": 4
}
