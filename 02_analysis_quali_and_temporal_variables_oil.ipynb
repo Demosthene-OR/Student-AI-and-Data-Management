{
 "cells": [
  {
   "cell_type": "markdown",
   "metadata": {},
   "source": [
    "<a href=\"https://colab.research.google.com/github/Demosthene-OR/Student-AI-and-Data-Management/blob/main/02_analysis_quali_and_temporal_variables.ipynb\" target=\"_parent\"><img src=\"https://colab.research.google.com/assets/colab-badge.svg\" alt=\"Open In Colab\"/></a>"
   ]
  },
  {
   "cell_type": "markdown",
   "metadata": {
    "deletable": false,
    "run_control": {
     "frozen": true
    },
    "tags": []
   },
   "source": [
    "\n",
    "<img src=\"https://prof.totalenergies.com/wp-content/uploads/2024/09/TotalEnergies_TPA_picto_DegradeRouge_RVB-1024x1024.png\" height=\"150\" width=\"150\">\n",
    "<hr style=\"border-width:2px;border-color:#75DFC1\">\n",
    "<h1 style = \"text-align:center\" > Exploratory statistics </h1> \n",
    "<h2 style = \"text-align:center\"> Descriptive analysis of qualitative variables in a dataset </h2> \n",
    "<hr style=\"border-width:2px;border-color:#75DFC1\">\n",
    "\n",
    "### Context and objective\n",
    "\n",
    "> Analyzing qualitative variables is an important step in understanding data, as they often provide valuable information about the interaction between variables in the dataset. <br>\n",
    "> In general, they are more difficult to manipulate than numerical variables, and it is important to observe their relationship with the latter. <br>\n",
    "> \n",
    ">\n",
    "> The objective of this notebook is to **determine the modalities of a qualitative variable** and to see how it **interacts with a quantitative and temporal variable**. <br>\n",
    "> This notebook will also familiarize you with simple methods of data management and date column management, as well as teach you how to graphically display the evolution of a measurement over time and the different modalities of a qualitative variable.\n",
    ">\n",
    "> Let's start by importing the packages.\n",
    "\n",
    "\n",
    "* **(a)** Import the **`pandas`** and **`numpy`** packages under their usual aliases.\n",
    "* **(b)** Load the data from the **`‘OilWell_Quali_Temporal.csv’`** file into a table named **`df`** and display the first 5 rows.\n",
    "\n",
    "> The dataset contains information on bike rentals in Porto during 2011 and 2012. For each row, we have the following information: \n",
    ">\n",
    "> |Variable|Description|\n",
    "> |----------|------------|\n",
    "> |**`'Well_ID'`**| Well identifier|\n",
    "> |**`'Region'`**|Drilling region(North Sea, Quatar,..)|\n",
    "> |**`'Operator'`**|Operating company (BP, TotalEnergies,..)|\n",
    "> |**`'Maintenance_Type'`**|Maintenance type (Emergency, Corective, Routine)|\n",
    "> |**`'Shift’`**|Shift type (Day,Night)|\n",
    "> |**`'Equipment_Status'`**| Active, Failure, Standby|\n",
    "> |**`'Weather_Condition'`**|General state of the weather|\n",
    "> |**`'Alert_Level'`**|Monitoring system alert| \n",
    "> |**`'Production_Date'`**|Date of daily production measurement|\n",
    "> |**`'Last_Maintenance_Date'`**|Date of the most recent maintenance operation|\n",
    "> |**`'No_of_Incidents'`**|Number of small operational incidents recorded that day|\n",
    "> |**`'Production_Barrels'`**|Quantity of oil produced (in barrels)|\n",
    "> |**`'Temperature_C'`**|Average surface temperature at the well|\n",
    "\n",
    "\n",
    "\n"
   ]
  },
  {
   "cell_type": "code",
   "execution_count": null,
   "metadata": {},
   "outputs": [],
   "source": [
    "\n",
    "\n"
   ]
  },
  {
   "cell_type": "code",
   "execution_count": 2,
   "metadata": {
    "deletable": false,
    "function": "solution",
    "tags": []
   },
   "outputs": [
    {
     "data": {
      "text/html": [
       "<div>\n",
       "<style scoped>\n",
       "    .dataframe tbody tr th:only-of-type {\n",
       "        vertical-align: middle;\n",
       "    }\n",
       "\n",
       "    .dataframe tbody tr th {\n",
       "        vertical-align: top;\n",
       "    }\n",
       "\n",
       "    .dataframe thead th {\n",
       "        text-align: right;\n",
       "    }\n",
       "</style>\n",
       "<table border=\"1\" class=\"dataframe\">\n",
       "  <thead>\n",
       "    <tr style=\"text-align: right;\">\n",
       "      <th></th>\n",
       "      <th>Well_ID</th>\n",
       "      <th>Region</th>\n",
       "      <th>Operator</th>\n",
       "      <th>Maintenance_Type</th>\n",
       "      <th>Shift</th>\n",
       "      <th>Equipment_Status</th>\n",
       "      <th>Weather_Condition</th>\n",
       "      <th>Alert_Level</th>\n",
       "      <th>Production_Date</th>\n",
       "      <th>Last_Maintenance_Date</th>\n",
       "      <th>No_of_Incidents</th>\n",
       "      <th>Production_Barrels</th>\n",
       "      <th>Temperature_C</th>\n",
       "    </tr>\n",
       "  </thead>\n",
       "  <tbody>\n",
       "    <tr>\n",
       "      <th>0</th>\n",
       "      <td>W-001</td>\n",
       "      <td>Qatar</td>\n",
       "      <td>BP</td>\n",
       "      <td>Emergency</td>\n",
       "      <td>Night</td>\n",
       "      <td>Standby</td>\n",
       "      <td>Rainy</td>\n",
       "      <td>Low</td>\n",
       "      <td>2024-05-04</td>\n",
       "      <td>2022-10-13</td>\n",
       "      <td>3</td>\n",
       "      <td>462.420386</td>\n",
       "      <td>42.385730</td>\n",
       "    </tr>\n",
       "    <tr>\n",
       "      <th>1</th>\n",
       "      <td>W-002</td>\n",
       "      <td>Algeria</td>\n",
       "      <td>BP</td>\n",
       "      <td>Emergency</td>\n",
       "      <td>Day</td>\n",
       "      <td>Active</td>\n",
       "      <td>Sunny</td>\n",
       "      <td>Critical</td>\n",
       "      <td>2024-06-10</td>\n",
       "      <td>2023-10-28</td>\n",
       "      <td>3</td>\n",
       "      <td>149.505075</td>\n",
       "      <td>38.535202</td>\n",
       "    </tr>\n",
       "    <tr>\n",
       "      <th>2</th>\n",
       "      <td>W-003</td>\n",
       "      <td>North Sea</td>\n",
       "      <td>BP</td>\n",
       "      <td>Corrective</td>\n",
       "      <td>Day</td>\n",
       "      <td>Standby</td>\n",
       "      <td>Windy</td>\n",
       "      <td>Medium</td>\n",
       "      <td>2024-04-08</td>\n",
       "      <td>2023-10-04</td>\n",
       "      <td>2</td>\n",
       "      <td>477.106120</td>\n",
       "      <td>33.122944</td>\n",
       "    </tr>\n",
       "    <tr>\n",
       "      <th>3</th>\n",
       "      <td>W-004</td>\n",
       "      <td>Algeria</td>\n",
       "      <td>BP</td>\n",
       "      <td>Routine</td>\n",
       "      <td>Night</td>\n",
       "      <td>Standby</td>\n",
       "      <td>Sandstorm</td>\n",
       "      <td>Medium</td>\n",
       "      <td>2024-02-07</td>\n",
       "      <td>2023-02-25</td>\n",
       "      <td>5</td>\n",
       "      <td>264.236223</td>\n",
       "      <td>33.715355</td>\n",
       "    </tr>\n",
       "    <tr>\n",
       "      <th>4</th>\n",
       "      <td>W-005</td>\n",
       "      <td>Algeria</td>\n",
       "      <td>Chevron</td>\n",
       "      <td>Corrective</td>\n",
       "      <td>Night</td>\n",
       "      <td>Failure</td>\n",
       "      <td>Rainy</td>\n",
       "      <td>High</td>\n",
       "      <td>2023-01-20</td>\n",
       "      <td>2022-11-11</td>\n",
       "      <td>3</td>\n",
       "      <td>371.516895</td>\n",
       "      <td>36.817187</td>\n",
       "    </tr>\n",
       "  </tbody>\n",
       "</table>\n",
       "</div>"
      ],
      "text/plain": [
       "  Well_ID     Region Operator Maintenance_Type  Shift Equipment_Status  \\\n",
       "0   W-001      Qatar       BP        Emergency  Night          Standby   \n",
       "1   W-002    Algeria       BP        Emergency    Day           Active   \n",
       "2   W-003  North Sea       BP       Corrective    Day          Standby   \n",
       "3   W-004    Algeria       BP          Routine  Night          Standby   \n",
       "4   W-005    Algeria  Chevron       Corrective  Night          Failure   \n",
       "\n",
       "  Weather_Condition Alert_Level Production_Date Last_Maintenance_Date  \\\n",
       "0             Rainy         Low      2024-05-04            2022-10-13   \n",
       "1             Sunny    Critical      2024-06-10            2023-10-28   \n",
       "2             Windy      Medium      2024-04-08            2023-10-04   \n",
       "3         Sandstorm      Medium      2024-02-07            2023-02-25   \n",
       "4             Rainy        High      2023-01-20            2022-11-11   \n",
       "\n",
       "   No_of_Incidents  Production_Barrels  Temperature_C  \n",
       "0                3          462.420386      42.385730  \n",
       "1                3          149.505075      38.535202  \n",
       "2                2          477.106120      33.122944  \n",
       "3                5          264.236223      33.715355  \n",
       "4                3          371.516895      36.817187  "
      ]
     },
     "metadata": {},
     "output_type": "display_data"
    }
   ],
   "source": [
    "import pandas as pd\n",
    "import numpy as np\n",
    "import matplotlib.pyplot as plt\n",
    "import seaborn as sns\n",
    "\n",
    "url = \"https://raw.githubusercontent.com/Demosthene-OR/Student-AI-and-Data-Management/main/data/\"\n",
    "df = pd.read_csv(url+\"OilWell_Quali_Temporal2.csv\")\n",
    "\n",
    "# Quick look\n",
    "display(df.head())\n",
    "\n"
   ]
  },
  {
   "cell_type": "markdown",
   "metadata": {
    "deletable": false,
    "editable": false,
    "run_control": {
     "frozen": true
    }
   },
   "source": [
    "\n",
    "* **(c)** Afficher le type de chaque variable du jeu de données **`df`** en utilisant l'attribut **`dtypes`** de `pandas.DataFrame`. \n",
    "\n"
   ]
  },
  {
   "cell_type": "code",
   "execution_count": null,
   "metadata": {},
   "outputs": [],
   "source": [
    "\n",
    "\n"
   ]
  },
  {
   "cell_type": "code",
   "execution_count": 3,
   "metadata": {
    "deletable": false,
    "function": "solution",
    "tags": []
   },
   "outputs": [
    {
     "data": {
      "text/plain": [
       "Well_ID                   object\n",
       "Region                    object\n",
       "Operator                  object\n",
       "Maintenance_Type          object\n",
       "Shift                     object\n",
       "Equipment_Status          object\n",
       "Weather_Condition         object\n",
       "Alert_Level               object\n",
       "Production_Date           object\n",
       "Last_Maintenance_Date     object\n",
       "No_of_Incidents            int64\n",
       "Production_Barrels       float64\n",
       "Temperature_C            float64\n",
       "dtype: object"
      ]
     },
     "metadata": {},
     "output_type": "display_data"
    }
   ],
   "source": [
    "display(df.dtypes)\n",
    "\n",
    "# display(df.info())\n",
    "#display(df.describe(include='all'))"
   ]
  },
  {
   "cell_type": "markdown",
   "metadata": {
    "deletable": false,
    "run_control": {
     "frozen": true
    },
    "tags": []
   },
   "source": [
    "\n",
    "<hr style=\"border-width:2px;border-color:#75DFC1\">\n",
    "<h3 style = \"text-align:center\" > 1. Descriptive analysis of a qualitative variable </h3>  \n",
    "<hr style=\"border-width:2px;border-color:#75DFC1\">\n",
    "\n",
    "* **(d)** Identify the **categorical variables** and store them in a table named **`cat_data`**.\n",
    "\n",
    "<div class=\"alert alert-info\">\n",
    "<i class=\"fa fa-info-circle\"></i> &emsp; \n",
    "    You can use the <code>pandas.DataFrame.select_dtypes()</code> function and the <code>include</code> attribute, which you can populate with a list of the type(s) you want to keep (in this case, “object” or “O”).\n",
    "</div>\n",
    "\n",
    "\n"
   ]
  },
  {
   "cell_type": "code",
   "execution_count": null,
   "metadata": {},
   "outputs": [],
   "source": [
    "\n",
    "\n"
   ]
  },
  {
   "cell_type": "code",
   "execution_count": 4,
   "metadata": {
    "deletable": false,
    "function": "solution",
    "tags": []
   },
   "outputs": [
    {
     "data": {
      "text/html": [
       "<div>\n",
       "<style scoped>\n",
       "    .dataframe tbody tr th:only-of-type {\n",
       "        vertical-align: middle;\n",
       "    }\n",
       "\n",
       "    .dataframe tbody tr th {\n",
       "        vertical-align: top;\n",
       "    }\n",
       "\n",
       "    .dataframe thead th {\n",
       "        text-align: right;\n",
       "    }\n",
       "</style>\n",
       "<table border=\"1\" class=\"dataframe\">\n",
       "  <thead>\n",
       "    <tr style=\"text-align: right;\">\n",
       "      <th></th>\n",
       "      <th>Well_ID</th>\n",
       "      <th>Region</th>\n",
       "      <th>Operator</th>\n",
       "      <th>Maintenance_Type</th>\n",
       "      <th>Shift</th>\n",
       "      <th>Equipment_Status</th>\n",
       "      <th>Weather_Condition</th>\n",
       "      <th>Alert_Level</th>\n",
       "      <th>Production_Date</th>\n",
       "      <th>Last_Maintenance_Date</th>\n",
       "    </tr>\n",
       "  </thead>\n",
       "  <tbody>\n",
       "    <tr>\n",
       "      <th>0</th>\n",
       "      <td>W-001</td>\n",
       "      <td>Qatar</td>\n",
       "      <td>BP</td>\n",
       "      <td>Emergency</td>\n",
       "      <td>Night</td>\n",
       "      <td>Standby</td>\n",
       "      <td>Rainy</td>\n",
       "      <td>Low</td>\n",
       "      <td>2024-05-04</td>\n",
       "      <td>2022-10-13</td>\n",
       "    </tr>\n",
       "    <tr>\n",
       "      <th>1</th>\n",
       "      <td>W-002</td>\n",
       "      <td>Algeria</td>\n",
       "      <td>BP</td>\n",
       "      <td>Emergency</td>\n",
       "      <td>Day</td>\n",
       "      <td>Active</td>\n",
       "      <td>Sunny</td>\n",
       "      <td>Critical</td>\n",
       "      <td>2024-06-10</td>\n",
       "      <td>2023-10-28</td>\n",
       "    </tr>\n",
       "    <tr>\n",
       "      <th>2</th>\n",
       "      <td>W-003</td>\n",
       "      <td>North Sea</td>\n",
       "      <td>BP</td>\n",
       "      <td>Corrective</td>\n",
       "      <td>Day</td>\n",
       "      <td>Standby</td>\n",
       "      <td>Windy</td>\n",
       "      <td>Medium</td>\n",
       "      <td>2024-04-08</td>\n",
       "      <td>2023-10-04</td>\n",
       "    </tr>\n",
       "    <tr>\n",
       "      <th>3</th>\n",
       "      <td>W-004</td>\n",
       "      <td>Algeria</td>\n",
       "      <td>BP</td>\n",
       "      <td>Routine</td>\n",
       "      <td>Night</td>\n",
       "      <td>Standby</td>\n",
       "      <td>Sandstorm</td>\n",
       "      <td>Medium</td>\n",
       "      <td>2024-02-07</td>\n",
       "      <td>2023-02-25</td>\n",
       "    </tr>\n",
       "    <tr>\n",
       "      <th>4</th>\n",
       "      <td>W-005</td>\n",
       "      <td>Algeria</td>\n",
       "      <td>Chevron</td>\n",
       "      <td>Corrective</td>\n",
       "      <td>Night</td>\n",
       "      <td>Failure</td>\n",
       "      <td>Rainy</td>\n",
       "      <td>High</td>\n",
       "      <td>2023-01-20</td>\n",
       "      <td>2022-11-11</td>\n",
       "    </tr>\n",
       "  </tbody>\n",
       "</table>\n",
       "</div>"
      ],
      "text/plain": [
       "  Well_ID     Region Operator Maintenance_Type  Shift Equipment_Status  \\\n",
       "0   W-001      Qatar       BP        Emergency  Night          Standby   \n",
       "1   W-002    Algeria       BP        Emergency    Day           Active   \n",
       "2   W-003  North Sea       BP       Corrective    Day          Standby   \n",
       "3   W-004    Algeria       BP          Routine  Night          Standby   \n",
       "4   W-005    Algeria  Chevron       Corrective  Night          Failure   \n",
       "\n",
       "  Weather_Condition Alert_Level Production_Date Last_Maintenance_Date  \n",
       "0             Rainy         Low      2024-05-04            2022-10-13  \n",
       "1             Sunny    Critical      2024-06-10            2023-10-28  \n",
       "2             Windy      Medium      2024-04-08            2023-10-04  \n",
       "3         Sandstorm      Medium      2024-02-07            2023-02-25  \n",
       "4             Rainy        High      2023-01-20            2022-11-11  "
      ]
     },
     "execution_count": 4,
     "metadata": {},
     "output_type": "execute_result"
    }
   ],
   "source": [
    "cat_data = df.select_dtypes(include='object')\n",
    "cat_data.head()\n",
    "\n"
   ]
  },
  {
   "cell_type": "markdown",
   "metadata": {
    "deletable": false,
    "run_control": {
     "frozen": true
    },
    "tags": []
   },
   "source": [
    "\n",
    "* **(e)** Using the **`value_counts`** method, display the count of different modalities for the variables **`\"Weather_Condition\"`**, **`\"Alert_Level\"`**, and **`\"Region\"`**.\n",
    "\n",
    "\n"
   ]
  },
  {
   "cell_type": "code",
   "execution_count": null,
   "metadata": {},
   "outputs": [],
   "source": []
  },
  {
   "cell_type": "code",
   "execution_count": 5,
   "metadata": {
    "deletable": false,
    "function": "solution",
    "tags": []
   },
   "outputs": [
    {
     "name": "stdout",
     "output_type": "stream",
     "text": [
      "Windy        218\n",
      "Sandstorm    204\n",
      "Cloudy       203\n",
      "Rainy        194\n",
      "Sunny        181\n",
      "Name: Weather_Condition, dtype: int64\n",
      "------------------------------\n",
      "High        264\n",
      "Low         252\n",
      "Medium      252\n",
      "Critical    232\n",
      "Name: Alert_Level, dtype: int64\n",
      "------------------------------\n",
      "Abu Dhabi    210\n",
      "Qatar        206\n",
      "Algeria      204\n",
      "North Sea    190\n",
      "Texas        190\n",
      "Name: Region, dtype: int64\n"
     ]
    }
   ],
   "source": [
    "print(cat_data[\"Weather_Condition\"].value_counts())\n",
    "print(\"------------------------------\")\n",
    "print(cat_data[\"Alert_Level\"].value_counts())\n",
    "print(\"------------------------------\")\n",
    "print(cat_data[\"Region\"].value_counts())\n"
   ]
  },
  {
   "cell_type": "markdown",
   "metadata": {
    "deletable": false,
    "run_control": {
     "frozen": true
    },
    "tags": []
   },
   "source": [
    "\n",
    "> **`value_counts`** is commonly used to quickly visualize the modalities of a variable.\n",
    "You can also easily find the most frequent mode of a qualitative variable using the **`mode`** method.\n",
    "\n",
    "* **(f)**  Display **the most frequent mode** of the **`\"Region\"`** column and check that it matches the result found previously.\n",
    "\n"
   ]
  },
  {
   "cell_type": "code",
   "execution_count": null,
   "metadata": {},
   "outputs": [],
   "source": [
    "\n",
    "\n",
    "\n"
   ]
  },
  {
   "cell_type": "code",
   "execution_count": 6,
   "metadata": {
    "deletable": false,
    "function": "solution",
    "tags": []
   },
   "outputs": [
    {
     "data": {
      "text/plain": [
       "0    Abu Dhabi\n",
       "Name: Region, dtype: object"
      ]
     },
     "execution_count": 6,
     "metadata": {},
     "output_type": "execute_result"
    }
   ],
   "source": [
    "df['Region'].mode()\n",
    "# Indeed, Abu Dhabi is the most frequent mode\n",
    "# (it appears 210 times according to the result of .value_counts())\n"
   ]
  },
  {
   "cell_type": "markdown",
   "metadata": {
    "deletable": false,
    "run_control": {
     "frozen": true
    },
    "tags": []
   },
   "source": [
    "\n",
    " > First, it is important to clearly identify and study the **frequency of modalities**. The quickest way to do this is by using **`.value_counts(normalize = True)`**. This parameter allows you to normalize these values and thus calculate the percentages for each modality. \n",
    " \n",
    " * **(g)** Display the frequencies of different modalities of the variables **`\"Weather_Condition\"`**, **`\"Alert_Level\"`**, and **`\"Region\"`**.\n",
    "\n"
   ]
  },
  {
   "cell_type": "code",
   "execution_count": null,
   "metadata": {},
   "outputs": [],
   "source": [
    "\n",
    "\n"
   ]
  },
  {
   "cell_type": "code",
   "execution_count": 7,
   "metadata": {
    "deletable": false,
    "function": "solution",
    "tags": []
   },
   "outputs": [
    {
     "name": "stdout",
     "output_type": "stream",
     "text": [
      "Windy        0.218\n",
      "Sandstorm    0.204\n",
      "Cloudy       0.203\n",
      "Rainy        0.194\n",
      "Sunny        0.181\n",
      "Name: Weather_Condition, dtype: float64\n",
      "------------------------------\n",
      "High        0.264\n",
      "Low         0.252\n",
      "Medium      0.252\n",
      "Critical    0.232\n",
      "Name: Alert_Level, dtype: float64\n",
      "------------------------------\n",
      "Abu Dhabi    0.210\n",
      "Qatar        0.206\n",
      "Algeria      0.204\n",
      "North Sea    0.190\n",
      "Texas        0.190\n",
      "Name: Region, dtype: float64\n"
     ]
    }
   ],
   "source": [
    "print(cat_data[\"Weather_Condition\"].value_counts(normalize = True))\n",
    "print(\"------------------------------\")\n",
    "print(cat_data[\"Alert_Level\"].value_counts(normalize = True))\n",
    "print(\"------------------------------\")\n",
    "print(cat_data[\"Region\"].value_counts(normalize = True))\n"
   ]
  },
  {
   "cell_type": "markdown",
   "metadata": {
    "deletable": false,
    "run_control": {
     "frozen": true
    },
    "tags": []
   },
   "source": [
    "\n",
    "<hr style=\"border-width:2px;border-color:#75DFC1\">\n",
    "<h3 style = \"text-align:center\"> 2. Interaction between a qualitative variable and a quantitative variable </h3> \n",
    "<hr style=\"border-width:2px;border-color:#75DFC1\">\n",
    "\n",
    "> Based on the previous question, we can see that there are far fewer bike rentals during the holidays. \n",
    "As for the seasons, the distribution is uniform.<br>\n",
    ">\n",
    "> To add more context, it would be interesting to create a qualitative variable that categorizes temperatures according to given **labels**.\n",
    "\n",
    "* **(h)** In a new variable **`\"production_labels\"`**, divide the values in the column **`\"Production_Barrels\"`** into **four distinct classes** with **labels** $0, 1, 2, 3$ based on the quartiles of the variable **`\"Production_Barrels\"`**. Display also a set of summary statistics with describe() method.\n",
    "\n",
    "<div class=\"alert alert-info\">\n",
    "<i class=\"fa fa-info-circle\"></i> &emsp;\n",
    "Use <code>pandas.qcut(column, labels = [...], q = 4)</code>.\n",
    "</div>\n",
    "\n"
   ]
  },
  {
   "cell_type": "code",
   "execution_count": null,
   "metadata": {},
   "outputs": [],
   "source": [
    "\n",
    "\n"
   ]
  },
  {
   "cell_type": "code",
   "execution_count": 8,
   "metadata": {
    "deletable": false,
    "function": "solution",
    "tags": []
   },
   "outputs": [
    {
     "data": {
      "text/html": [
       "<div>\n",
       "<style scoped>\n",
       "    .dataframe tbody tr th:only-of-type {\n",
       "        vertical-align: middle;\n",
       "    }\n",
       "\n",
       "    .dataframe tbody tr th {\n",
       "        vertical-align: top;\n",
       "    }\n",
       "\n",
       "    .dataframe thead th {\n",
       "        text-align: right;\n",
       "    }\n",
       "</style>\n",
       "<table border=\"1\" class=\"dataframe\">\n",
       "  <thead>\n",
       "    <tr style=\"text-align: right;\">\n",
       "      <th></th>\n",
       "      <th>Production_Barrels</th>\n",
       "      <th>production_labels</th>\n",
       "    </tr>\n",
       "  </thead>\n",
       "  <tbody>\n",
       "    <tr>\n",
       "      <th>0</th>\n",
       "      <td>462.420386</td>\n",
       "      <td>1</td>\n",
       "    </tr>\n",
       "    <tr>\n",
       "      <th>1</th>\n",
       "      <td>149.505075</td>\n",
       "      <td>0</td>\n",
       "    </tr>\n",
       "    <tr>\n",
       "      <th>2</th>\n",
       "      <td>477.106120</td>\n",
       "      <td>1</td>\n",
       "    </tr>\n",
       "    <tr>\n",
       "      <th>3</th>\n",
       "      <td>264.236223</td>\n",
       "      <td>0</td>\n",
       "    </tr>\n",
       "    <tr>\n",
       "      <th>4</th>\n",
       "      <td>371.516895</td>\n",
       "      <td>0</td>\n",
       "    </tr>\n",
       "  </tbody>\n",
       "</table>\n",
       "</div>"
      ],
      "text/plain": [
       "   Production_Barrels production_labels\n",
       "0          462.420386                 1\n",
       "1          149.505075                 0\n",
       "2          477.106120                 1\n",
       "3          264.236223                 0\n",
       "4          371.516895                 0"
      ]
     },
     "metadata": {},
     "output_type": "display_data"
    },
    {
     "data": {
      "text/plain": [
       "count    1000.000000\n",
       "mean      501.011287\n",
       "std       118.232677\n",
       "min       113.914533\n",
       "25%       419.082378\n",
       "50%       502.286422\n",
       "75%       582.581318\n",
       "max       828.149229\n",
       "Name: Production_Barrels, dtype: float64"
      ]
     },
     "metadata": {},
     "output_type": "display_data"
    }
   ],
   "source": [
    "df['production_labels'] = pd.qcut(df['Production_Barrels'], labels = [0, 1, 2, 3], q = 4)\n",
    "display(df[['Production_Barrels','production_labels']].head())\n",
    "display(df[\"Production_Barrels\"].describe())\n"
   ]
  },
  {
   "cell_type": "markdown",
   "metadata": {
    "deletable": false,
    "run_control": {
     "frozen": true
    },
    "tags": []
   },
   "source": [
    "\n",
    "* **(i)** Store **the total number of incidents** in a new variable **`group_incident_labels`** based on the qualitative variables **`\"production_labels\"`** and **`\"Alert_Level\"`**. Display this new dataframe.\n",
    "\n",
    "<div class=\"alert alert-info\">\n",
    "<i class=\"fa fa-info-circle\"></i> &emsp;\n",
    "<code>pandas.groupby([column_list]).agg({“column1”:“operation”, ‘column2’:“operation”, ..})</code> <br>\n",
    " \n",
    "allows you to group data based on the <code>[column_list]</code> and aggregate based on <code>column1, column2, ...</code>, applying the specified operation (this can be <code><b>sum, mean, min, max, unique</b></code>, etc.).\n",
    "</div>\n",
    "\n"
   ]
  },
  {
   "cell_type": "code",
   "execution_count": null,
   "metadata": {
    "tags": []
   },
   "outputs": [],
   "source": []
  },
  {
   "cell_type": "code",
   "execution_count": 9,
   "metadata": {
    "deletable": false,
    "function": "solution",
    "tags": []
   },
   "outputs": [
    {
     "name": "stdout",
     "output_type": "stream",
     "text": [
      "                               No_of_Incidents\n",
      "production_labels Alert_Level                 \n",
      "0                 Critical                 166\n",
      "                  High                     184\n",
      "                  Low                      150\n",
      "                  Medium                   266\n",
      "1                 Critical                 197\n",
      "                  High                     212\n",
      "                  Low                      195\n",
      "                  Medium                   173\n",
      "2                 Critical                 199\n",
      "                  High                     208\n",
      "                  Low                      190\n",
      "                  Medium                   168\n",
      "3                 Critical                 151\n",
      "                  High                     217\n",
      "                  Low                      187\n",
      "                  Medium                   163\n"
     ]
    }
   ],
   "source": [
    "group_incident_labels = df.groupby(['production_labels','Alert_Level'])\\\n",
    "                        .agg({'No_of_Incidents': 'sum'})\n",
    "\n",
    "# Note: the backslash “\\” at the end of the first line of code\n",
    "# allows operations to continue on the second line. \n",
    "# This can be useful if visibility is limited and you don't want to \n",
    "# chain all operations on the same line.\n",
    "\n",
    "# We calculate the sum of the No_Incidents column to get the total number \n",
    "# of rentals.\n",
    "print(group_incident_labels)\n"
   ]
  },
  {
   "cell_type": "markdown",
   "metadata": {
    "deletable": false,
    "run_control": {
     "frozen": true
    },
    "tags": []
   },
   "source": [
    "\n",
    "> We observe that with a critical alert and for a production label equal to $3$, i.e., when the daily production is above the 3rd quartile (here $582.58$ barrels using `df[\"Production_Barrels\"].describe()`), there were a total of $151$ incidents recorded.\n",
    ">\n",
    "> To add a new column that will also calculate the **average number** of rentals, we can enter a **list of functions** to be executed (in the **`.agg()`** parameter) for the numeric variable **`“No_of_Incidents”`**.\n",
    "\n",
    "* **(j)** Create a new variable **`group_incident_labels2`** by adding a column to the previous groupby with the average number of incidents based on the columns **`\"production_labels\"`** and **`\"Alert_Level\"`**. Display it.\n",
    "\n"
   ]
  },
  {
   "cell_type": "code",
   "execution_count": null,
   "metadata": {},
   "outputs": [],
   "source": [
    "\n",
    "\n",
    "\n"
   ]
  },
  {
   "cell_type": "code",
   "execution_count": 10,
   "metadata": {
    "deletable": false,
    "function": "solution",
    "tags": []
   },
   "outputs": [
    {
     "name": "stdout",
     "output_type": "stream",
     "text": [
      "                              No_of_Incidents          \n",
      "                                          sum      mean\n",
      "production_labels Alert_Level                          \n",
      "0                 Critical                166  3.018182\n",
      "                  High                    184  2.967742\n",
      "                  Low                     150  2.941176\n",
      "                  Medium                  266  3.243902\n",
      "1                 Critical                197  3.030769\n",
      "                  High                    212  3.419355\n",
      "                  Low                     195  2.746479\n",
      "                  Medium                  173  3.326923\n",
      "2                 Critical                199  3.372881\n",
      "                  High                    208  3.250000\n",
      "                  Low                     190  2.714286\n",
      "                  Medium                  168  2.947368\n",
      "3                 Critical                151  2.849057\n",
      "                  High                    217  2.855263\n",
      "                  Low                     187  3.116667\n",
      "                  Medium                  163  2.672131\n"
     ]
    }
   ],
   "source": [
    "group_incident_labels2 = df.groupby(['production_labels','Alert_Level']).agg({'No_of_Incidents': ['sum', 'mean']})\n",
    "print(group_incident_labels2)\n",
    "\n"
   ]
  },
  {
   "cell_type": "markdown",
   "metadata": {
    "deletable": false,
    "run_control": {
     "frozen": true
    },
    "tags": []
   },
   "source": [
    "\n",
    "> On days when alert level is critical and the daily production is above 582.58 barrels (label 3), there are approximately 2.84 incidents on average.\n",
    "> \n",
    "> This type of statistic is often useful, and the data can be easily represented **graphically**.\n",
    "> \n",
    "> To refine our analysis, we will also consider the **temporal** dimension.\n",
    ">\n",
    "<hr style=\"border-width:2px;border-color:#75DFC1\">\n",
    "<h3 style = \"text-align:center\">  3. Analyzing a qualitative and quantitative variable by adding the temporal dimension </h3> \n",
    "<hr style=\"border-width:2px;border-color:#75DFC1\">\n",
    "\n",
    "> To integrate **time** into the analysis of different variables, we will manipulate objects of type **`pandas.Grouper`**.<br>\n",
    ">\n",
    ">**`pandas.groupby (pandas.Grouper()).agg()`** will allow us to group the data by date and aggregate it by the desired variable. <br>\n",
    ">\n",
    "> In order to better understand the results and the value of this object, we will use the **`matplotlib`** library to create some graphs. Later in the training, an entire module will be devoted to DataViz'.\n",
    ">\n",
    "* **(k)** Looking at the types of each variable, we can see that the **`datetime`** column is in *object* format (i.e., a string of characters).  <br>\n",
    "To work with **`pandas.Grouper`** objects, you must first convert the **`datetime`** column to a suitable **format** (*datetime*) using the **`to_datetime`** function in **`pandas`**. <br>\n",
    "\n",
    "\n",
    "* **(l)** Check that this column has been converted to the correct format. <br>\n",
    "\n",
    "**Note**: Be careful not to confuse the column name with its type. In this case, the column is coincidentally called datetime, but it is not in datetime format. \n",
    "\n"
   ]
  },
  {
   "cell_type": "code",
   "execution_count": null,
   "metadata": {},
   "outputs": [],
   "source": [
    "\n",
    "\n"
   ]
  },
  {
   "cell_type": "code",
   "execution_count": 11,
   "metadata": {
    "deletable": false,
    "function": "solution",
    "tags": []
   },
   "outputs": [
    {
     "data": {
      "text/plain": [
       "Well_ID                          object\n",
       "Region                           object\n",
       "Operator                         object\n",
       "Maintenance_Type                 object\n",
       "Shift                            object\n",
       "Equipment_Status                 object\n",
       "Weather_Condition                object\n",
       "Alert_Level                      object\n",
       "Production_Date          datetime64[ns]\n",
       "Last_Maintenance_Date    datetime64[ns]\n",
       "No_of_Incidents                   int64\n",
       "Production_Barrels              float64\n",
       "Temperature_C                   float64\n",
       "production_labels              category\n",
       "dtype: object"
      ]
     },
     "execution_count": 11,
     "metadata": {},
     "output_type": "execute_result"
    }
   ],
   "source": [
    "df[\"Production_Date\"] = pd.to_datetime(df[\"Production_Date\"])\n",
    "df[\"Last_Maintenance_Date\"] = pd.to_datetime(df[\"Last_Maintenance_Date\"])\n",
    "\n",
    "# Check the types of columns in the dataframe df:\n",
    "df.dtypes\n",
    "# We can clearly see that the datetime column is now in datetime format.\n",
    "\n"
   ]
  },
  {
   "cell_type": "markdown",
   "metadata": {
    "deletable": false,
    "run_control": {
     "frozen": true
    },
    "tags": []
   },
   "source": [
    "\n",
    "* **(m)** Using **`pd.Grouper()`**, create an object **`grouper_month`** that takes the following arguments: \n",
    ">* `key` the name of the column with the dates\n",
    ">* `freq = m` to indicate that we want to group the data by month, `d` by day, `w` by week, etc.\n",
    "\n",
    "<div class=\"alert alert-info\">\n",
    "<i class=\"fa fa-info-circle\"></i> &emsp;\n",
    "Use <code>pandas.Grouper(key = “column name”, freq = ‘m’)</code>.\n",
    "</div>\n",
    "\n",
    "* **(n)** Display the type of the variable **`grouper_month`**.\n",
    "\n"
   ]
  },
  {
   "cell_type": "code",
   "execution_count": null,
   "metadata": {},
   "outputs": [],
   "source": [
    "\n",
    "\n"
   ]
  },
  {
   "cell_type": "code",
   "execution_count": 12,
   "metadata": {
    "deletable": false,
    "function": "solution",
    "tags": []
   },
   "outputs": [
    {
     "data": {
      "text/plain": [
       "pandas.core.resample.TimeGrouper"
      ]
     },
     "execution_count": 12,
     "metadata": {},
     "output_type": "execute_result"
    }
   ],
   "source": [
    "grouper_month = pd.Grouper(key = 'Production_Date', freq = 'm')\n",
    "\n",
    "# le type de la variable grouper_mois: \n",
    "type(grouper_month)\n",
    "# on observe que le type est pandas.core.resample.TimeGrouper\n",
    "# pour pouvoir retirer l'information de cette variable\n",
    "# il faut l'utiliser avec la commade .groupby()\n"
   ]
  },
  {
   "cell_type": "markdown",
   "metadata": {
    "deletable": false,
    "run_control": {
     "frozen": true
    },
    "tags": []
   },
   "source": [
    "\n",
    "* **(o)** Create an object named **`groupby_month_region`** by grouping by the list of variables **`[group_month, df[“Region”]]`** and calculating the average rentals in the column **`“No_of_Incidents”`**. <br>\n",
    "Apply the **`unstack`** method at the end to put the data in columns. <br>\n",
    "Display the first 5 rows of the dataframe. <br>\n",
    "\n",
    "\n",
    "* **(p)** Comment on the results obtained.\n",
    "\n"
   ]
  },
  {
   "cell_type": "code",
   "execution_count": null,
   "metadata": {},
   "outputs": [],
   "source": [
    "\n"
   ]
  },
  {
   "cell_type": "code",
   "execution_count": 13,
   "metadata": {
    "deletable": false,
    "function": "solution",
    "tags": []
   },
   "outputs": [
    {
     "data": {
      "text/html": [
       "<div>\n",
       "<style scoped>\n",
       "    .dataframe tbody tr th:only-of-type {\n",
       "        vertical-align: middle;\n",
       "    }\n",
       "\n",
       "    .dataframe tbody tr th {\n",
       "        vertical-align: top;\n",
       "    }\n",
       "\n",
       "    .dataframe thead tr th {\n",
       "        text-align: left;\n",
       "    }\n",
       "\n",
       "    .dataframe thead tr:last-of-type th {\n",
       "        text-align: right;\n",
       "    }\n",
       "</style>\n",
       "<table border=\"1\" class=\"dataframe\">\n",
       "  <thead>\n",
       "    <tr>\n",
       "      <th></th>\n",
       "      <th colspan=\"5\" halign=\"left\">No_of_Incidents</th>\n",
       "    </tr>\n",
       "    <tr>\n",
       "      <th>Region</th>\n",
       "      <th>Abu Dhabi</th>\n",
       "      <th>Algeria</th>\n",
       "      <th>North Sea</th>\n",
       "      <th>Qatar</th>\n",
       "      <th>Texas</th>\n",
       "    </tr>\n",
       "    <tr>\n",
       "      <th>Production_Date</th>\n",
       "      <th></th>\n",
       "      <th></th>\n",
       "      <th></th>\n",
       "      <th></th>\n",
       "      <th></th>\n",
       "    </tr>\n",
       "  </thead>\n",
       "  <tbody>\n",
       "    <tr>\n",
       "      <th>2023-01-31</th>\n",
       "      <td>2.666667</td>\n",
       "      <td>3.100000</td>\n",
       "      <td>2.416667</td>\n",
       "      <td>3.111111</td>\n",
       "      <td>3.307692</td>\n",
       "    </tr>\n",
       "    <tr>\n",
       "      <th>2023-02-28</th>\n",
       "      <td>2.600000</td>\n",
       "      <td>3.666667</td>\n",
       "      <td>2.800000</td>\n",
       "      <td>3.100000</td>\n",
       "      <td>3.181818</td>\n",
       "    </tr>\n",
       "    <tr>\n",
       "      <th>2023-03-31</th>\n",
       "      <td>2.583333</td>\n",
       "      <td>3.500000</td>\n",
       "      <td>2.600000</td>\n",
       "      <td>3.750000</td>\n",
       "      <td>2.466667</td>\n",
       "    </tr>\n",
       "    <tr>\n",
       "      <th>2023-04-30</th>\n",
       "      <td>2.800000</td>\n",
       "      <td>2.714286</td>\n",
       "      <td>2.900000</td>\n",
       "      <td>3.375000</td>\n",
       "      <td>3.800000</td>\n",
       "    </tr>\n",
       "    <tr>\n",
       "      <th>2023-05-31</th>\n",
       "      <td>3.400000</td>\n",
       "      <td>3.500000</td>\n",
       "      <td>2.000000</td>\n",
       "      <td>3.000000</td>\n",
       "      <td>3.333333</td>\n",
       "    </tr>\n",
       "  </tbody>\n",
       "</table>\n",
       "</div>"
      ],
      "text/plain": [
       "                No_of_Incidents                                        \n",
       "Region                Abu Dhabi   Algeria North Sea     Qatar     Texas\n",
       "Production_Date                                                        \n",
       "2023-01-31             2.666667  3.100000  2.416667  3.111111  3.307692\n",
       "2023-02-28             2.600000  3.666667  2.800000  3.100000  3.181818\n",
       "2023-03-31             2.583333  3.500000  2.600000  3.750000  2.466667\n",
       "2023-04-30             2.800000  2.714286  2.900000  3.375000  3.800000\n",
       "2023-05-31             3.400000  3.500000  2.000000  3.000000  3.333333"
      ]
     },
     "execution_count": 13,
     "metadata": {},
     "output_type": "execute_result"
    }
   ],
   "source": [
    "groupby_month_region = df.groupby([grouper_month, df['Region']])\\\n",
    "                       .agg({'No_of_Incidents':'mean'}).unstack()\n",
    "\n",
    "\n",
    "groupby_month_region.head()\n",
    "# For the month of January 2011 (every day until January 31)\n",
    "# there were an average of 59 bike rentals on days when the weather was clear.\n",
    "\n",
    "# In February 2023, there were an average of 2.6 incidents in Abu Dhabi.\n"
   ]
  },
  {
   "cell_type": "markdown",
   "metadata": {
    "deletable": false,
    "run_control": {
     "frozen": true
    },
    "tags": []
   },
   "source": [
    "\n",
    "* **(q)** The result might contains many **missing values** because one Production_Date or Region is missing in the data. Replace the missing values in the dataframe **`groupby_month_region`** with the value $0$.\n",
    "\n"
   ]
  },
  {
   "cell_type": "code",
   "execution_count": null,
   "metadata": {},
   "outputs": [],
   "source": [
    "\n"
   ]
  },
  {
   "cell_type": "code",
   "execution_count": 16,
   "metadata": {
    "deletable": false,
    "function": "solution",
    "tags": []
   },
   "outputs": [
    {
     "data": {
      "text/html": [
       "<div>\n",
       "<style scoped>\n",
       "    .dataframe tbody tr th:only-of-type {\n",
       "        vertical-align: middle;\n",
       "    }\n",
       "\n",
       "    .dataframe tbody tr th {\n",
       "        vertical-align: top;\n",
       "    }\n",
       "\n",
       "    .dataframe thead tr th {\n",
       "        text-align: left;\n",
       "    }\n",
       "\n",
       "    .dataframe thead tr:last-of-type th {\n",
       "        text-align: right;\n",
       "    }\n",
       "</style>\n",
       "<table border=\"1\" class=\"dataframe\">\n",
       "  <thead>\n",
       "    <tr>\n",
       "      <th></th>\n",
       "      <th colspan=\"5\" halign=\"left\">No_of_Incidents</th>\n",
       "    </tr>\n",
       "    <tr>\n",
       "      <th>Region</th>\n",
       "      <th>Abu Dhabi</th>\n",
       "      <th>Algeria</th>\n",
       "      <th>North Sea</th>\n",
       "      <th>Qatar</th>\n",
       "      <th>Texas</th>\n",
       "    </tr>\n",
       "    <tr>\n",
       "      <th>Production_Date</th>\n",
       "      <th></th>\n",
       "      <th></th>\n",
       "      <th></th>\n",
       "      <th></th>\n",
       "      <th></th>\n",
       "    </tr>\n",
       "  </thead>\n",
       "  <tbody>\n",
       "    <tr>\n",
       "      <th>2023-01-31</th>\n",
       "      <td>2.666667</td>\n",
       "      <td>3.100000</td>\n",
       "      <td>2.416667</td>\n",
       "      <td>3.111111</td>\n",
       "      <td>3.307692</td>\n",
       "    </tr>\n",
       "    <tr>\n",
       "      <th>2023-02-28</th>\n",
       "      <td>2.600000</td>\n",
       "      <td>3.666667</td>\n",
       "      <td>2.800000</td>\n",
       "      <td>3.100000</td>\n",
       "      <td>3.181818</td>\n",
       "    </tr>\n",
       "    <tr>\n",
       "      <th>2023-03-31</th>\n",
       "      <td>2.583333</td>\n",
       "      <td>3.500000</td>\n",
       "      <td>2.600000</td>\n",
       "      <td>3.750000</td>\n",
       "      <td>2.466667</td>\n",
       "    </tr>\n",
       "    <tr>\n",
       "      <th>2023-04-30</th>\n",
       "      <td>2.800000</td>\n",
       "      <td>2.714286</td>\n",
       "      <td>2.900000</td>\n",
       "      <td>3.375000</td>\n",
       "      <td>3.800000</td>\n",
       "    </tr>\n",
       "    <tr>\n",
       "      <th>2023-05-31</th>\n",
       "      <td>3.400000</td>\n",
       "      <td>3.500000</td>\n",
       "      <td>2.000000</td>\n",
       "      <td>3.000000</td>\n",
       "      <td>3.333333</td>\n",
       "    </tr>\n",
       "  </tbody>\n",
       "</table>\n",
       "</div>"
      ],
      "text/plain": [
       "                No_of_Incidents                                        \n",
       "Region                Abu Dhabi   Algeria North Sea     Qatar     Texas\n",
       "Production_Date                                                        \n",
       "2023-01-31             2.666667  3.100000  2.416667  3.111111  3.307692\n",
       "2023-02-28             2.600000  3.666667  2.800000  3.100000  3.181818\n",
       "2023-03-31             2.583333  3.500000  2.600000  3.750000  2.466667\n",
       "2023-04-30             2.800000  2.714286  2.900000  3.375000  3.800000\n",
       "2023-05-31             3.400000  3.500000  2.000000  3.000000  3.333333"
      ]
     },
     "execution_count": 16,
     "metadata": {},
     "output_type": "execute_result"
    }
   ],
   "source": [
    "groupby_month_region = groupby_month_region.fillna(0)\n",
    "groupby_month_region.head()\n"
   ]
  },
  {
   "cell_type": "markdown",
   "metadata": {
    "deletable": false,
    "run_control": {
     "frozen": true
    },
    "tags": []
   },
   "source": [
    "\n",
    "* **(r)** Use **`.plot(figsize = (20, 4.5), style = 'o-');`** to display the results of the previous dataframe in a graph with an appropriate size (**`figsize`** parameter) and points marked on the figure (**`style`** parameter). Interpret this graph.\n",
    "\n"
   ]
  },
  {
   "cell_type": "code",
   "execution_count": null,
   "metadata": {},
   "outputs": [],
   "source": [
    "\n",
    "\n",
    "\n"
   ]
  },
  {
   "cell_type": "code",
   "execution_count": 18,
   "metadata": {
    "deletable": false,
    "function": "solution",
    "tags": []
   },
   "outputs": [
    {
     "data": {
      "image/png": "[encoded data removed]",
      "text/plain": [
       "<Figure size 2000x450 with 1 Axes>"
      ]
     },
     "metadata": {},
     "output_type": "display_data"
    }
   ],
   "source": [
    "groupby_month_region.plot(figsize = (20, 4.5), style = 'o-');\n",
    "\n"
   ]
  },
  {
   "cell_type": "raw",
   "metadata": {},
   "source": []
  },
  {
   "cell_type": "markdown",
   "metadata": {
    "deletable": false,
    "run_control": {
     "frozen": true
    },
    "tags": []
   },
   "source": [
    "\n",
    "> All these steps have enabled us to represent the evolution over time of the average number of incidents, differentiating according to region.\n",
    "\n",
    "\n",
    "\n",
    "\n"
   ]
  }
 ],
 "metadata": {
  "kernelspec": {
   "display_name": "Python 3 (ipykernel)",
   "language": "python",
   "name": "python3"
  },
  "language_info": {
   "codemirror_mode": {
    "name": "ipython",
    "version": 3
   },
   "file_extension": ".py",
   "mimetype": "text/x-python",
   "name": "python",
   "nbconvert_exporter": "python",
   "pygments_lexer": "ipython3",
   "version": "3.9.16"
  },
  "latex_envs": {
   "LaTeX_envs_menu_present": true,
   "autoclose": false,
   "autocomplete": true,
   "bibliofile": "biblio.bib",
   "cite_by": "apalike",
   "current_citInitial": 1,
   "eqLabelWithNumbers": true,
   "eqNumInitial": 1,
   "hotkeys": {
    "equation": "Ctrl-E",
    "itemize": "Ctrl-I"
   },
   "labels_anchors": false,
   "latex_user_defs": false,
   "report_style_numbering": false,
   "user_envs_cfg": false
  },
  "owner": "DataScientest",
  "widgets": {
   "application/vnd.jupyter.widget-state+json": {
    "state": {},
    "version_major": 2,
    "version_minor": 0
   }
  }
 },
 "nbformat": 4,
 "nbformat_minor": 4
}
